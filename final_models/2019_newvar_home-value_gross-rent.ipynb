{
 "cells": [
  {
   "cell_type": "markdown",
   "metadata": {},
   "source": [
    "# Run Models on 2019 Data Joined with Median Home Value and Gross Rent\n",
    "#### 10/23/2020\n",
    "---"
   ]
  },
  {
   "cell_type": "markdown",
   "metadata": {},
   "source": [
    "## Load and Process Dataset\n",
    "### Import Libraries"
   ]
  },
  {
   "cell_type": "code",
   "execution_count": 14,
   "metadata": {},
   "outputs": [],
   "source": [
    "import pandas as pd\n",
    "import numpy as np\n",
    "from sklearn.neighbors import KNeighborsClassifier\n",
    "from sklearn import preprocessing\n",
    "from sklearn.linear_model import LinearRegression, LogisticRegression\n",
    "from sklearn.model_selection import train_test_split\n",
    "from sklearn.ensemble import RandomForestClassifier\n",
    "from sklearn.metrics import classification_report\n",
    "import matplotlib.pyplot as plt\n",
    "import wandb\n",
    "import warnings\n",
    "warnings.filterwarnings('ignore')"
   ]
  },
  {
   "cell_type": "code",
   "execution_count": 2,
   "metadata": {},
   "outputs": [
    {
     "name": "stderr",
     "output_type": "stream",
     "text": [
      "wandb: Currently logged in as: apraturu (use `wandb login --relogin` to force relogin)\n"
     ]
    },
    {
     "data": {
      "text/html": [
       "\n",
       "                Tracking run with wandb version 0.10.8<br/>\n",
       "                Syncing run <strong style=\"color:#cdcd00\">curious-breeze-3</strong> to <a href=\"https://wandb.ai\" target=\"_blank\">Weights & Biases</a> <a href=\"https://docs.wandb.com/integrations/jupyter.html\" target=\"_blank\">(Documentation)</a>.<br/>\n",
       "                Project page: <a href=\"https://wandb.ai/apraturu/2019_newvar_home-value_gross-rent\" target=\"_blank\">https://wandb.ai/apraturu/2019_newvar_home-value_gross-rent</a><br/>\n",
       "                Run page: <a href=\"https://wandb.ai/apraturu/2019_newvar_home-value_gross-rent/runs/3lyyh8s3\" target=\"_blank\">https://wandb.ai/apraturu/2019_newvar_home-value_gross-rent/runs/3lyyh8s3</a><br/>\n",
       "                Run data is saved locally in <code>wandb/run-20201025_152010-3lyyh8s3</code><br/><br/>\n",
       "            "
      ],
      "text/plain": [
       "<IPython.core.display.HTML object>"
      ]
     },
     "metadata": {},
     "output_type": "display_data"
    },
    {
     "data": {
      "text/html": [
       "<h1>Run(3lyyh8s3)</h1><p></p><iframe src=\"https://wandb.ai/apraturu/2019_newvar_home-value_gross-rent/runs/3lyyh8s3\" style=\"border:none;width:100%;height:400px\"></iframe>"
      ],
      "text/plain": [
       "<wandb.sdk.wandb_run.Run at 0x7f9c09347150>"
      ]
     },
     "execution_count": 2,
     "metadata": {},
     "output_type": "execute_result"
    }
   ],
   "source": [
    "wandb.init(project=\"2019_newvar_home-value_gross-rent\")"
   ]
  },
  {
   "cell_type": "markdown",
   "metadata": {},
   "source": [
    "### Read in `adult.csv` data"
   ]
  },
  {
   "cell_type": "code",
   "execution_count": 3,
   "metadata": {},
   "outputs": [
    {
     "data": {
      "text/html": [
       "<div>\n",
       "<style scoped>\n",
       "    .dataframe tbody tr th:only-of-type {\n",
       "        vertical-align: middle;\n",
       "    }\n",
       "\n",
       "    .dataframe tbody tr th {\n",
       "        vertical-align: top;\n",
       "    }\n",
       "\n",
       "    .dataframe thead th {\n",
       "        text-align: right;\n",
       "    }\n",
       "</style>\n",
       "<table border=\"1\" class=\"dataframe\">\n",
       "  <thead>\n",
       "    <tr style=\"text-align: right;\">\n",
       "      <th></th>\n",
       "      <th>Geographic-division</th>\n",
       "      <th>region</th>\n",
       "      <th>state</th>\n",
       "      <th>RT</th>\n",
       "      <th>person-weight</th>\n",
       "      <th>age</th>\n",
       "      <th>citizenship-status</th>\n",
       "      <th>class-worker</th>\n",
       "      <th>education</th>\n",
       "      <th>marital-status</th>\n",
       "      <th>...</th>\n",
       "      <th>sex</th>\n",
       "      <th>extra-income</th>\n",
       "      <th>hours-per-week</th>\n",
       "      <th>field-of-degree</th>\n",
       "      <th>place-of-birth</th>\n",
       "      <th>income</th>\n",
       "      <th>stem-degree</th>\n",
       "      <th>full PUMA</th>\n",
       "      <th>med_home_value</th>\n",
       "      <th>med_gross_rent</th>\n",
       "    </tr>\n",
       "  </thead>\n",
       "  <tbody>\n",
       "    <tr>\n",
       "      <th>486839</th>\n",
       "      <td>Pacific</td>\n",
       "      <td>West</td>\n",
       "      <td>15</td>\n",
       "      <td>P</td>\n",
       "      <td>31</td>\n",
       "      <td>53</td>\n",
       "      <td>Born-US</td>\n",
       "      <td>Private-prof</td>\n",
       "      <td>HSgrad</td>\n",
       "      <td>Divorced</td>\n",
       "      <td>...</td>\n",
       "      <td>female</td>\n",
       "      <td>0.0</td>\n",
       "      <td>40.0</td>\n",
       "      <td>NaN</td>\n",
       "      <td>Hawaii/HI</td>\n",
       "      <td>35000.0</td>\n",
       "      <td>NaN</td>\n",
       "      <td>1500306</td>\n",
       "      <td>712700</td>\n",
       "      <td>2281.0</td>\n",
       "    </tr>\n",
       "    <tr>\n",
       "      <th>1179312</th>\n",
       "      <td>East North Central</td>\n",
       "      <td>Midwest</td>\n",
       "      <td>39</td>\n",
       "      <td>P</td>\n",
       "      <td>56</td>\n",
       "      <td>57</td>\n",
       "      <td>Born-US</td>\n",
       "      <td>Private-prof</td>\n",
       "      <td>bachelor</td>\n",
       "      <td>Married</td>\n",
       "      <td>...</td>\n",
       "      <td>male</td>\n",
       "      <td>0.0</td>\n",
       "      <td>40.0</td>\n",
       "      <td>Accounting</td>\n",
       "      <td>Ohio/OH</td>\n",
       "      <td>100000.0</td>\n",
       "      <td>No</td>\n",
       "      <td>3902200</td>\n",
       "      <td>118600</td>\n",
       "      <td>705.0</td>\n",
       "    </tr>\n",
       "    <tr>\n",
       "      <th>446622</th>\n",
       "      <td>South Atlantic</td>\n",
       "      <td>South</td>\n",
       "      <td>13</td>\n",
       "      <td>P</td>\n",
       "      <td>197</td>\n",
       "      <td>19</td>\n",
       "      <td>not-US-citizen</td>\n",
       "      <td>Private-prof</td>\n",
       "      <td>grade10</td>\n",
       "      <td>Never-married</td>\n",
       "      <td>...</td>\n",
       "      <td>female</td>\n",
       "      <td>0.0</td>\n",
       "      <td>20.0</td>\n",
       "      <td>NaN</td>\n",
       "      <td>Mexico</td>\n",
       "      <td>9000.0</td>\n",
       "      <td>NaN</td>\n",
       "      <td>1304001</td>\n",
       "      <td>328000</td>\n",
       "      <td>1366.0</td>\n",
       "    </tr>\n",
       "    <tr>\n",
       "      <th>604322</th>\n",
       "      <td>West North Central</td>\n",
       "      <td>Midwest</td>\n",
       "      <td>19</td>\n",
       "      <td>P</td>\n",
       "      <td>204</td>\n",
       "      <td>28</td>\n",
       "      <td>Born-US</td>\n",
       "      <td>Private-prof</td>\n",
       "      <td>bachelor</td>\n",
       "      <td>Never-married</td>\n",
       "      <td>...</td>\n",
       "      <td>female</td>\n",
       "      <td>0.0</td>\n",
       "      <td>40.0</td>\n",
       "      <td>Criminal Justice And Fire Protection</td>\n",
       "      <td>Iowa/IA</td>\n",
       "      <td>41500.0</td>\n",
       "      <td>No</td>\n",
       "      <td>1901500</td>\n",
       "      <td>260600</td>\n",
       "      <td>1075.0</td>\n",
       "    </tr>\n",
       "    <tr>\n",
       "      <th>968388</th>\n",
       "      <td>Middle Atlantic</td>\n",
       "      <td>Northeast</td>\n",
       "      <td>34</td>\n",
       "      <td>P</td>\n",
       "      <td>31</td>\n",
       "      <td>37</td>\n",
       "      <td>not-US-citizen</td>\n",
       "      <td>Private-prof</td>\n",
       "      <td>master</td>\n",
       "      <td>Married</td>\n",
       "      <td>...</td>\n",
       "      <td>female</td>\n",
       "      <td>0.0</td>\n",
       "      <td>40.0</td>\n",
       "      <td>Computer And Information Systems</td>\n",
       "      <td>Myanmar</td>\n",
       "      <td>160000.0</td>\n",
       "      <td>Yes</td>\n",
       "      <td>3400701</td>\n",
       "      <td>414400</td>\n",
       "      <td>1377.0</td>\n",
       "    </tr>\n",
       "  </tbody>\n",
       "</table>\n",
       "<p>5 rows × 23 columns</p>\n",
       "</div>"
      ],
      "text/plain": [
       "        Geographic-division     region  state RT  person-weight  age  \\\n",
       "486839              Pacific       West     15  P             31   53   \n",
       "1179312  East North Central    Midwest     39  P             56   57   \n",
       "446622       South Atlantic      South     13  P            197   19   \n",
       "604322   West North Central    Midwest     19  P            204   28   \n",
       "968388      Middle Atlantic  Northeast     34  P             31   37   \n",
       "\n",
       "        citizenship-status  class-worker education marital-status  ...  \\\n",
       "486839             Born-US  Private-prof    HSgrad       Divorced  ...   \n",
       "1179312            Born-US  Private-prof  bachelor        Married  ...   \n",
       "446622      not-US-citizen  Private-prof   grade10  Never-married  ...   \n",
       "604322             Born-US  Private-prof  bachelor  Never-married  ...   \n",
       "968388      not-US-citizen  Private-prof    master        Married  ...   \n",
       "\n",
       "            sex  extra-income hours-per-week  \\\n",
       "486839   female           0.0           40.0   \n",
       "1179312    male           0.0           40.0   \n",
       "446622   female           0.0           20.0   \n",
       "604322   female           0.0           40.0   \n",
       "968388   female           0.0           40.0   \n",
       "\n",
       "                              field-of-degree  place-of-birth    income  \\\n",
       "486839                                    NaN       Hawaii/HI   35000.0   \n",
       "1179312                            Accounting         Ohio/OH  100000.0   \n",
       "446622                                    NaN          Mexico    9000.0   \n",
       "604322   Criminal Justice And Fire Protection         Iowa/IA   41500.0   \n",
       "968388       Computer And Information Systems         Myanmar  160000.0   \n",
       "\n",
       "        stem-degree full PUMA  med_home_value med_gross_rent  \n",
       "486839          NaN   1500306          712700         2281.0  \n",
       "1179312          No   3902200          118600          705.0  \n",
       "446622          NaN   1304001          328000         1366.0  \n",
       "604322           No   1901500          260600         1075.0  \n",
       "968388          Yes   3400701          414400         1377.0  \n",
       "\n",
       "[5 rows x 23 columns]"
      ]
     },
     "execution_count": 3,
     "metadata": {},
     "output_type": "execute_result"
    }
   ],
   "source": [
    "df = pd.read_csv('../final_data/2019_new-var_home-value_gross-rent.csv').sample(frac=1)\n",
    "df.head()"
   ]
  },
  {
   "cell_type": "code",
   "execution_count": 4,
   "metadata": {},
   "outputs": [
    {
     "data": {
      "text/html": [
       "<div>\n",
       "<style scoped>\n",
       "    .dataframe tbody tr th:only-of-type {\n",
       "        vertical-align: middle;\n",
       "    }\n",
       "\n",
       "    .dataframe tbody tr th {\n",
       "        vertical-align: top;\n",
       "    }\n",
       "\n",
       "    .dataframe thead th {\n",
       "        text-align: right;\n",
       "    }\n",
       "</style>\n",
       "<table border=\"1\" class=\"dataframe\">\n",
       "  <thead>\n",
       "    <tr style=\"text-align: right;\">\n",
       "      <th></th>\n",
       "      <th>Geographic-division</th>\n",
       "      <th>region</th>\n",
       "      <th>state</th>\n",
       "      <th>RT</th>\n",
       "      <th>person-weight</th>\n",
       "      <th>age</th>\n",
       "      <th>citizenship-status</th>\n",
       "      <th>class-worker</th>\n",
       "      <th>education</th>\n",
       "      <th>marital-status</th>\n",
       "      <th>...</th>\n",
       "      <th>sex</th>\n",
       "      <th>extra-income</th>\n",
       "      <th>hours-per-week</th>\n",
       "      <th>field-of-degree</th>\n",
       "      <th>place-of-birth</th>\n",
       "      <th>stem-degree</th>\n",
       "      <th>full PUMA</th>\n",
       "      <th>med_home_value</th>\n",
       "      <th>med_gross_rent</th>\n",
       "      <th>income</th>\n",
       "    </tr>\n",
       "  </thead>\n",
       "  <tbody>\n",
       "    <tr>\n",
       "      <th>486839</th>\n",
       "      <td>Pacific</td>\n",
       "      <td>West</td>\n",
       "      <td>15</td>\n",
       "      <td>P</td>\n",
       "      <td>31</td>\n",
       "      <td>53</td>\n",
       "      <td>Born-US</td>\n",
       "      <td>Private-prof</td>\n",
       "      <td>HSgrad</td>\n",
       "      <td>Divorced</td>\n",
       "      <td>...</td>\n",
       "      <td>female</td>\n",
       "      <td>0.0</td>\n",
       "      <td>40.0</td>\n",
       "      <td>Unknown</td>\n",
       "      <td>Hawaii/HI</td>\n",
       "      <td>Unknown</td>\n",
       "      <td>1500306</td>\n",
       "      <td>712700.0</td>\n",
       "      <td>2281.0</td>\n",
       "      <td>&lt;=50K</td>\n",
       "    </tr>\n",
       "    <tr>\n",
       "      <th>1179312</th>\n",
       "      <td>East North Central</td>\n",
       "      <td>Midwest</td>\n",
       "      <td>39</td>\n",
       "      <td>P</td>\n",
       "      <td>56</td>\n",
       "      <td>57</td>\n",
       "      <td>Born-US</td>\n",
       "      <td>Private-prof</td>\n",
       "      <td>bachelor</td>\n",
       "      <td>Married</td>\n",
       "      <td>...</td>\n",
       "      <td>male</td>\n",
       "      <td>0.0</td>\n",
       "      <td>40.0</td>\n",
       "      <td>Accounting</td>\n",
       "      <td>Ohio/OH</td>\n",
       "      <td>No</td>\n",
       "      <td>3902200</td>\n",
       "      <td>118600.0</td>\n",
       "      <td>705.0</td>\n",
       "      <td>&gt;50K</td>\n",
       "    </tr>\n",
       "    <tr>\n",
       "      <th>446622</th>\n",
       "      <td>South Atlantic</td>\n",
       "      <td>South</td>\n",
       "      <td>13</td>\n",
       "      <td>P</td>\n",
       "      <td>197</td>\n",
       "      <td>19</td>\n",
       "      <td>not-US-citizen</td>\n",
       "      <td>Private-prof</td>\n",
       "      <td>grade10</td>\n",
       "      <td>Never-married</td>\n",
       "      <td>...</td>\n",
       "      <td>female</td>\n",
       "      <td>0.0</td>\n",
       "      <td>20.0</td>\n",
       "      <td>Unknown</td>\n",
       "      <td>Mexico</td>\n",
       "      <td>Unknown</td>\n",
       "      <td>1304001</td>\n",
       "      <td>328000.0</td>\n",
       "      <td>1366.0</td>\n",
       "      <td>&lt;=50K</td>\n",
       "    </tr>\n",
       "    <tr>\n",
       "      <th>604322</th>\n",
       "      <td>West North Central</td>\n",
       "      <td>Midwest</td>\n",
       "      <td>19</td>\n",
       "      <td>P</td>\n",
       "      <td>204</td>\n",
       "      <td>28</td>\n",
       "      <td>Born-US</td>\n",
       "      <td>Private-prof</td>\n",
       "      <td>bachelor</td>\n",
       "      <td>Never-married</td>\n",
       "      <td>...</td>\n",
       "      <td>female</td>\n",
       "      <td>0.0</td>\n",
       "      <td>40.0</td>\n",
       "      <td>Criminal Justice And Fire Protection</td>\n",
       "      <td>Iowa/IA</td>\n",
       "      <td>No</td>\n",
       "      <td>1901500</td>\n",
       "      <td>260600.0</td>\n",
       "      <td>1075.0</td>\n",
       "      <td>&lt;=50K</td>\n",
       "    </tr>\n",
       "    <tr>\n",
       "      <th>968388</th>\n",
       "      <td>Middle Atlantic</td>\n",
       "      <td>Northeast</td>\n",
       "      <td>34</td>\n",
       "      <td>P</td>\n",
       "      <td>31</td>\n",
       "      <td>37</td>\n",
       "      <td>not-US-citizen</td>\n",
       "      <td>Private-prof</td>\n",
       "      <td>master</td>\n",
       "      <td>Married</td>\n",
       "      <td>...</td>\n",
       "      <td>female</td>\n",
       "      <td>0.0</td>\n",
       "      <td>40.0</td>\n",
       "      <td>Computer And Information Systems</td>\n",
       "      <td>Myanmar</td>\n",
       "      <td>Yes</td>\n",
       "      <td>3400701</td>\n",
       "      <td>414400.0</td>\n",
       "      <td>1377.0</td>\n",
       "      <td>&gt;50K</td>\n",
       "    </tr>\n",
       "  </tbody>\n",
       "</table>\n",
       "<p>5 rows × 23 columns</p>\n",
       "</div>"
      ],
      "text/plain": [
       "        Geographic-division     region  state RT  person-weight  age  \\\n",
       "486839              Pacific       West     15  P             31   53   \n",
       "1179312  East North Central    Midwest     39  P             56   57   \n",
       "446622       South Atlantic      South     13  P            197   19   \n",
       "604322   West North Central    Midwest     19  P            204   28   \n",
       "968388      Middle Atlantic  Northeast     34  P             31   37   \n",
       "\n",
       "        citizenship-status  class-worker education marital-status  ...  \\\n",
       "486839             Born-US  Private-prof    HSgrad       Divorced  ...   \n",
       "1179312            Born-US  Private-prof  bachelor        Married  ...   \n",
       "446622      not-US-citizen  Private-prof   grade10  Never-married  ...   \n",
       "604322             Born-US  Private-prof  bachelor  Never-married  ...   \n",
       "968388      not-US-citizen  Private-prof    master        Married  ...   \n",
       "\n",
       "            sex  extra-income hours-per-week  \\\n",
       "486839   female           0.0           40.0   \n",
       "1179312    male           0.0           40.0   \n",
       "446622   female           0.0           20.0   \n",
       "604322   female           0.0           40.0   \n",
       "968388   female           0.0           40.0   \n",
       "\n",
       "                              field-of-degree  place-of-birth  stem-degree  \\\n",
       "486839                                Unknown       Hawaii/HI      Unknown   \n",
       "1179312                            Accounting         Ohio/OH           No   \n",
       "446622                                Unknown          Mexico      Unknown   \n",
       "604322   Criminal Justice And Fire Protection         Iowa/IA           No   \n",
       "968388       Computer And Information Systems         Myanmar          Yes   \n",
       "\n",
       "        full PUMA med_home_value med_gross_rent  income  \n",
       "486839    1500306       712700.0         2281.0   <=50K  \n",
       "1179312   3902200       118600.0          705.0    >50K  \n",
       "446622    1304001       328000.0         1366.0   <=50K  \n",
       "604322    1901500       260600.0         1075.0   <=50K  \n",
       "968388    3400701       414400.0         1377.0    >50K  \n",
       "\n",
       "[5 rows x 23 columns]"
      ]
     },
     "execution_count": 4,
     "metadata": {},
     "output_type": "execute_result"
    }
   ],
   "source": [
    "df.loc[df['income'] <= 50000, 'income_adjusted'] = '<=50K'\n",
    "df.loc[df['income'] > 50000, 'income_adjusted'] = '>50K' \n",
    "\n",
    "df = df.drop(columns=['income']).rename(columns={'income_adjusted': 'income'})#.dropna()\n",
    "\n",
    "df['med_home_value'] = pd.to_numeric(df['med_home_value'],errors='coerce')\n",
    "\n",
    "df['field-of-degree'] = df['field-of-degree'].fillna('Unknown')\n",
    "df['stem-degree'] = df['stem-degree'].fillna('Unknown')\n",
    "\n",
    "# df = df.dropna()\n",
    "\n",
    "df.head()"
   ]
  },
  {
   "cell_type": "code",
   "execution_count": 5,
   "metadata": {},
   "outputs": [
    {
     "data": {
      "text/plain": [
       "Geographic-division    0\n",
       "region                 0\n",
       "state                  0\n",
       "RT                     0\n",
       "person-weight          0\n",
       "age                    0\n",
       "citizenship-status     0\n",
       "class-worker           0\n",
       "education              0\n",
       "marital-status         0\n",
       "occupation             0\n",
       "relationship           0\n",
       "race                   0\n",
       "sex                    0\n",
       "extra-income           0\n",
       "hours-per-week         0\n",
       "field-of-degree        0\n",
       "place-of-birth         0\n",
       "stem-degree            0\n",
       "full PUMA              0\n",
       "med_home_value         0\n",
       "med_gross_rent         0\n",
       "income                 0\n",
       "dtype: int64"
      ]
     },
     "execution_count": 5,
     "metadata": {},
     "output_type": "execute_result"
    }
   ],
   "source": [
    "df = df.dropna()\n",
    "\n",
    "df.isnull().sum()"
   ]
  },
  {
   "cell_type": "code",
   "execution_count": 6,
   "metadata": {},
   "outputs": [],
   "source": [
    "X = df.drop(columns=['income'], axis = 1)\n",
    "y = df[['income']].to_numpy()"
   ]
  },
  {
   "cell_type": "code",
   "execution_count": 7,
   "metadata": {},
   "outputs": [],
   "source": [
    "labels = np.unique(y)\n",
    "features = list(X.columns)"
   ]
  },
  {
   "cell_type": "markdown",
   "metadata": {},
   "source": [
    "### Pre-process categorical variables"
   ]
  },
  {
   "cell_type": "code",
   "execution_count": 8,
   "metadata": {},
   "outputs": [],
   "source": [
    "cat_var = ['Geographic-division', 'region', 'state', 'RT', 'citizenship-status', 'class-worker', 'education', 'marital-status', 'occupation', 'relationship', 'race', 'sex', 'field-of-degree', 'place-of-birth', 'stem-degree']\n",
    "for f in cat_var:\n",
    "    enc = preprocessing.LabelEncoder()\n",
    "    X[f] = enc.fit_transform(X[f])\n",
    "\n",
    "scaler = preprocessing.StandardScaler()\n",
    "X = pd.DataFrame(scaler.fit_transform(X), columns = X.columns)"
   ]
  },
  {
   "cell_type": "markdown",
   "metadata": {},
   "source": [
    "### Split data into test and training"
   ]
  },
  {
   "cell_type": "code",
   "execution_count": 9,
   "metadata": {},
   "outputs": [],
   "source": [
    "X_train, X_test, y_train, y_test = train_test_split(X, y, test_size=0.2)"
   ]
  },
  {
   "cell_type": "code",
   "execution_count": 10,
   "metadata": {},
   "outputs": [
    {
     "data": {
      "text/plain": [
       "305980"
      ]
     },
     "execution_count": 10,
     "metadata": {},
     "output_type": "execute_result"
    }
   ],
   "source": [
    "len(X_test)"
   ]
  },
  {
   "cell_type": "markdown",
   "metadata": {},
   "source": [
    "## Train Models and Establish Baseline Scores"
   ]
  },
  {
   "cell_type": "markdown",
   "metadata": {},
   "source": [
    "### Logistic Regression"
   ]
  },
  {
   "cell_type": "code",
   "execution_count": 11,
   "metadata": {},
   "outputs": [],
   "source": [
    "# Train model, get predictions\n",
    "model = LogisticRegression()\n",
    "model.fit(X, y)\n",
    "y_pred = model.predict(X_test)\n",
    "y_probas = model.predict_proba(X_test)\n",
    "importances = model.coef_\n",
    "indices = np.argsort(importances)[::-1]"
   ]
  },
  {
   "cell_type": "code",
   "execution_count": 12,
   "metadata": {},
   "outputs": [
    {
     "name": "stdout",
     "output_type": "stream",
     "text": [
      "<class 'pandas.core.frame.DataFrame'>\n",
      "Int64Index: 1223916 entries, 87437 to 1380640\n",
      "Data columns (total 22 columns):\n",
      " #   Column               Non-Null Count    Dtype  \n",
      "---  ------               --------------    -----  \n",
      " 0   Geographic-division  1223916 non-null  float64\n",
      " 1   region               1223916 non-null  float64\n",
      " 2   state                1223916 non-null  float64\n",
      " 3   RT                   1223916 non-null  float64\n",
      " 4   person-weight        1223916 non-null  float64\n",
      " 5   age                  1223916 non-null  float64\n",
      " 6   citizenship-status   1223916 non-null  float64\n",
      " 7   class-worker         1223916 non-null  float64\n",
      " 8   education            1223916 non-null  float64\n",
      " 9   marital-status       1223916 non-null  float64\n",
      " 10  occupation           1223916 non-null  float64\n",
      " 11  relationship         1223916 non-null  float64\n",
      " 12  race                 1223916 non-null  float64\n",
      " 13  sex                  1223916 non-null  float64\n",
      " 14  extra-income         1223916 non-null  float64\n",
      " 15  hours-per-week       1223916 non-null  float64\n",
      " 16  field-of-degree      1223916 non-null  float64\n",
      " 17  place-of-birth       1223916 non-null  float64\n",
      " 18  stem-degree          1223916 non-null  float64\n",
      " 19  full PUMA            1223916 non-null  float64\n",
      " 20  med_home_value       1223916 non-null  float64\n",
      " 21  med_gross_rent       1223916 non-null  float64\n",
      "dtypes: float64(22)\n",
      "memory usage: 214.8 MB\n",
      "None\n"
     ]
    }
   ],
   "source": [
    "print(X_train.info())"
   ]
  },
  {
   "cell_type": "code",
   "execution_count": 13,
   "metadata": {},
   "outputs": [
    {
     "name": "stderr",
     "output_type": "stream",
     "text": [
      "wandb: \n",
      "wandb: Plotting LogisticRegression.\n",
      "wandb: Logged feature importances.\n",
      "wandb: Logged learning curve.\n",
      "wandb: Logged confusion matrix.\n",
      "wandb: Logged summary metrics.\n",
      "wandb: Logged class proportions.\n",
      "wandb: Logged calibration curve.\n",
      "wandb: WARNING wandb uses only the first 10000 datapoints to create the plots.\n",
      "wandb: WARNING wandb uses only the first 10000 datapoints to create the plots.\n",
      "WARNING:root:Truncating wandb.Table object to 10000 rows.\n",
      "wandb: Logged roc curve.\n",
      "wandb: Logged precision recall curve.\n"
     ]
    }
   ],
   "source": [
    "# Visualize model performance\n",
    "wandb.sklearn.plot_classifier(\n",
    "    model, X_train, X_test, y_train, y_test, y_pred, y_probas, labels,\n",
    "    is_binary=True, model_name='LogisticRegression', feature_names=features)"
   ]
  },
  {
   "cell_type": "code",
   "execution_count": 15,
   "metadata": {},
   "outputs": [
    {
     "name": "stdout",
     "output_type": "stream",
     "text": [
      "              precision    recall  f1-score   support\n",
      "\n",
      "       <=50K       0.78      0.85      0.81    185113\n",
      "        >50K       0.73      0.63      0.68    120867\n",
      "\n",
      "    accuracy                           0.76    305980\n",
      "   macro avg       0.76      0.74      0.75    305980\n",
      "weighted avg       0.76      0.76      0.76    305980\n",
      "\n"
     ]
    }
   ],
   "source": [
    "print(classification_report(y_test, y_pred, target_names=labels))"
   ]
  },
  {
   "cell_type": "code",
   "execution_count": null,
   "metadata": {},
   "outputs": [],
   "source": []
  }
 ],
 "metadata": {
  "kernelspec": {
   "display_name": "Python 3",
   "language": "python",
   "name": "python3"
  },
  "language_info": {
   "codemirror_mode": {
    "name": "ipython",
    "version": 3
   },
   "file_extension": ".py",
   "mimetype": "text/x-python",
   "name": "python",
   "nbconvert_exporter": "python",
   "pygments_lexer": "ipython3",
   "version": "3.7.6"
  }
 },
 "nbformat": 4,
 "nbformat_minor": 4
}
