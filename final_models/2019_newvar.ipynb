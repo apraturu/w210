{
 "cells": [
  {
   "cell_type": "markdown",
   "metadata": {},
   "source": [
    "# Run Models on 2019 Data with Additional Variables\n",
    "#### 10/23/2020\n",
    "---"
   ]
  },
  {
   "cell_type": "markdown",
   "metadata": {},
   "source": [
    "## Load and Process Dataset\n",
    "### Import Libraries"
   ]
  },
  {
   "cell_type": "code",
   "execution_count": 15,
   "metadata": {},
   "outputs": [],
   "source": [
    "import pandas as pd\n",
    "import numpy as np\n",
    "from sklearn.neighbors import KNeighborsClassifier\n",
    "from sklearn import preprocessing\n",
    "from sklearn.linear_model import LinearRegression, LogisticRegression\n",
    "from sklearn.model_selection import train_test_split\n",
    "from sklearn.ensemble import RandomForestClassifier\n",
    "from sklearn.metrics import classification_report\n",
    "import matplotlib.pyplot as plt\n",
    "import wandb\n",
    "import warnings\n",
    "warnings.filterwarnings('ignore')"
   ]
  },
  {
   "cell_type": "code",
   "execution_count": 2,
   "metadata": {},
   "outputs": [
    {
     "name": "stderr",
     "output_type": "stream",
     "text": [
      "wandb: Currently logged in as: apraturu (use `wandb login --relogin` to force relogin)\n"
     ]
    },
    {
     "data": {
      "text/html": [
       "\n",
       "                Tracking run with wandb version 0.10.8<br/>\n",
       "                Syncing run <strong style=\"color:#cdcd00\">quiet-wave-9</strong> to <a href=\"https://wandb.ai\" target=\"_blank\">Weights & Biases</a> <a href=\"https://docs.wandb.com/integrations/jupyter.html\" target=\"_blank\">(Documentation)</a>.<br/>\n",
       "                Project page: <a href=\"https://wandb.ai/apraturu/2019_newvar\" target=\"_blank\">https://wandb.ai/apraturu/2019_newvar</a><br/>\n",
       "                Run page: <a href=\"https://wandb.ai/apraturu/2019_newvar/runs/3szhacq8\" target=\"_blank\">https://wandb.ai/apraturu/2019_newvar/runs/3szhacq8</a><br/>\n",
       "                Run data is saved locally in <code>wandb/run-20201025_151659-3szhacq8</code><br/><br/>\n",
       "            "
      ],
      "text/plain": [
       "<IPython.core.display.HTML object>"
      ]
     },
     "metadata": {},
     "output_type": "display_data"
    },
    {
     "data": {
      "text/html": [
       "<h1>Run(3szhacq8)</h1><p></p><iframe src=\"https://wandb.ai/apraturu/2019_newvar/runs/3szhacq8\" style=\"border:none;width:100%;height:400px\"></iframe>"
      ],
      "text/plain": [
       "<wandb.sdk.wandb_run.Run at 0x7fb2cfa48890>"
      ]
     },
     "execution_count": 2,
     "metadata": {},
     "output_type": "execute_result"
    }
   ],
   "source": [
    "wandb.init(project=\"2019_newvar\")"
   ]
  },
  {
   "cell_type": "markdown",
   "metadata": {},
   "source": [
    "### Read in `adult.csv` data"
   ]
  },
  {
   "cell_type": "code",
   "execution_count": 3,
   "metadata": {},
   "outputs": [
    {
     "data": {
      "text/html": [
       "<div>\n",
       "<style scoped>\n",
       "    .dataframe tbody tr th:only-of-type {\n",
       "        vertical-align: middle;\n",
       "    }\n",
       "\n",
       "    .dataframe tbody tr th {\n",
       "        vertical-align: top;\n",
       "    }\n",
       "\n",
       "    .dataframe thead th {\n",
       "        text-align: right;\n",
       "    }\n",
       "</style>\n",
       "<table border=\"1\" class=\"dataframe\">\n",
       "  <thead>\n",
       "    <tr style=\"text-align: right;\">\n",
       "      <th></th>\n",
       "      <th>Geographic-division</th>\n",
       "      <th>area-code</th>\n",
       "      <th>region</th>\n",
       "      <th>state</th>\n",
       "      <th>RT</th>\n",
       "      <th>person-weight</th>\n",
       "      <th>age</th>\n",
       "      <th>citizenship-status</th>\n",
       "      <th>class-worker</th>\n",
       "      <th>education</th>\n",
       "      <th>...</th>\n",
       "      <th>occupation</th>\n",
       "      <th>relationship</th>\n",
       "      <th>race</th>\n",
       "      <th>sex</th>\n",
       "      <th>extra-income</th>\n",
       "      <th>hours-per-week</th>\n",
       "      <th>field-of-degree</th>\n",
       "      <th>place-of-birth</th>\n",
       "      <th>income</th>\n",
       "      <th>stem-degree</th>\n",
       "    </tr>\n",
       "  </thead>\n",
       "  <tbody>\n",
       "    <tr>\n",
       "      <th>1225619</th>\n",
       "      <td>Pacific</td>\n",
       "      <td>1316</td>\n",
       "      <td>West</td>\n",
       "      <td>OR</td>\n",
       "      <td>P</td>\n",
       "      <td>72</td>\n",
       "      <td>41</td>\n",
       "      <td>Born-US</td>\n",
       "      <td>Private-prof</td>\n",
       "      <td>HSgrad</td>\n",
       "      <td>...</td>\n",
       "      <td>PRD-Sewing Machine Operators</td>\n",
       "      <td>20</td>\n",
       "      <td>white-alone</td>\n",
       "      <td>female</td>\n",
       "      <td>4900.0</td>\n",
       "      <td>40.0</td>\n",
       "      <td>NaN</td>\n",
       "      <td>Oregon/OR</td>\n",
       "      <td>50900.0</td>\n",
       "      <td>NaN</td>\n",
       "    </tr>\n",
       "    <tr>\n",
       "      <th>97505</th>\n",
       "      <td>Pacific</td>\n",
       "      <td>8302</td>\n",
       "      <td>West</td>\n",
       "      <td>CA</td>\n",
       "      <td>P</td>\n",
       "      <td>122</td>\n",
       "      <td>59</td>\n",
       "      <td>naturalized-citizen</td>\n",
       "      <td>State-gov</td>\n",
       "      <td>bachelor</td>\n",
       "      <td>...</td>\n",
       "      <td>MED-Licensed Practical And Licensed Vocational...</td>\n",
       "      <td>20</td>\n",
       "      <td>asian-alone</td>\n",
       "      <td>male</td>\n",
       "      <td>0.0</td>\n",
       "      <td>40.0</td>\n",
       "      <td>Nursing</td>\n",
       "      <td>Philippines</td>\n",
       "      <td>65000.0</td>\n",
       "      <td>No</td>\n",
       "    </tr>\n",
       "    <tr>\n",
       "      <th>120849</th>\n",
       "      <td>Pacific</td>\n",
       "      <td>3765</td>\n",
       "      <td>West</td>\n",
       "      <td>CA</td>\n",
       "      <td>P</td>\n",
       "      <td>56</td>\n",
       "      <td>45</td>\n",
       "      <td>Born-US</td>\n",
       "      <td>Local-gov</td>\n",
       "      <td>master</td>\n",
       "      <td>...</td>\n",
       "      <td>EDU-Secondary School Teachers</td>\n",
       "      <td>20</td>\n",
       "      <td>white-alone</td>\n",
       "      <td>female</td>\n",
       "      <td>50.0</td>\n",
       "      <td>40.0</td>\n",
       "      <td>English Language And Literature</td>\n",
       "      <td>Maryland/MD</td>\n",
       "      <td>100050.0</td>\n",
       "      <td>No</td>\n",
       "    </tr>\n",
       "    <tr>\n",
       "      <th>1107845</th>\n",
       "      <td>South Atlantic</td>\n",
       "      <td>1208</td>\n",
       "      <td>South</td>\n",
       "      <td>NC</td>\n",
       "      <td>P</td>\n",
       "      <td>85</td>\n",
       "      <td>23</td>\n",
       "      <td>Born-US</td>\n",
       "      <td>Private-prof</td>\n",
       "      <td>HSgrad</td>\n",
       "      <td>...</td>\n",
       "      <td>CON-Roofers</td>\n",
       "      <td>30</td>\n",
       "      <td>black-aa-alone</td>\n",
       "      <td>male</td>\n",
       "      <td>0.0</td>\n",
       "      <td>40.0</td>\n",
       "      <td>NaN</td>\n",
       "      <td>North Carolina/NC</td>\n",
       "      <td>40000.0</td>\n",
       "      <td>NaN</td>\n",
       "    </tr>\n",
       "    <tr>\n",
       "      <th>1146847</th>\n",
       "      <td>East North Central</td>\n",
       "      <td>4603</td>\n",
       "      <td>Midwest</td>\n",
       "      <td>OH</td>\n",
       "      <td>P</td>\n",
       "      <td>98</td>\n",
       "      <td>19</td>\n",
       "      <td>Born-US</td>\n",
       "      <td>Private-prof</td>\n",
       "      <td>HSgrad</td>\n",
       "      <td>...</td>\n",
       "      <td>SAL-Cashiers</td>\n",
       "      <td>33</td>\n",
       "      <td>black-aa-alone</td>\n",
       "      <td>female</td>\n",
       "      <td>0.0</td>\n",
       "      <td>25.0</td>\n",
       "      <td>NaN</td>\n",
       "      <td>Ohio/OH</td>\n",
       "      <td>2800.0</td>\n",
       "      <td>NaN</td>\n",
       "    </tr>\n",
       "  </tbody>\n",
       "</table>\n",
       "<p>5 rows × 21 columns</p>\n",
       "</div>"
      ],
      "text/plain": [
       "        Geographic-division  area-code   region state RT  person-weight  age  \\\n",
       "1225619             Pacific       1316     West    OR  P             72   41   \n",
       "97505               Pacific       8302     West    CA  P            122   59   \n",
       "120849              Pacific       3765     West    CA  P             56   45   \n",
       "1107845      South Atlantic       1208    South    NC  P             85   23   \n",
       "1146847  East North Central       4603  Midwest    OH  P             98   19   \n",
       "\n",
       "          citizenship-status  class-worker education  ...  \\\n",
       "1225619              Born-US  Private-prof    HSgrad  ...   \n",
       "97505    naturalized-citizen     State-gov  bachelor  ...   \n",
       "120849               Born-US     Local-gov    master  ...   \n",
       "1107845              Born-US  Private-prof    HSgrad  ...   \n",
       "1146847              Born-US  Private-prof    HSgrad  ...   \n",
       "\n",
       "                                                occupation relationship  \\\n",
       "1225619                       PRD-Sewing Machine Operators           20   \n",
       "97505    MED-Licensed Practical And Licensed Vocational...           20   \n",
       "120849                       EDU-Secondary School Teachers           20   \n",
       "1107845                                        CON-Roofers           30   \n",
       "1146847                                       SAL-Cashiers           33   \n",
       "\n",
       "                   race     sex extra-income  hours-per-week  \\\n",
       "1225619     white-alone  female       4900.0            40.0   \n",
       "97505       asian-alone    male          0.0            40.0   \n",
       "120849      white-alone  female         50.0            40.0   \n",
       "1107845  black-aa-alone    male          0.0            40.0   \n",
       "1146847  black-aa-alone  female          0.0            25.0   \n",
       "\n",
       "                         field-of-degree     place-of-birth    income  \\\n",
       "1225619                              NaN          Oregon/OR   50900.0   \n",
       "97505                            Nursing        Philippines   65000.0   \n",
       "120849   English Language And Literature        Maryland/MD  100050.0   \n",
       "1107845                              NaN  North Carolina/NC   40000.0   \n",
       "1146847                              NaN            Ohio/OH    2800.0   \n",
       "\n",
       "         stem-degree  \n",
       "1225619          NaN  \n",
       "97505             No  \n",
       "120849            No  \n",
       "1107845          NaN  \n",
       "1146847          NaN  \n",
       "\n",
       "[5 rows x 21 columns]"
      ]
     },
     "execution_count": 3,
     "metadata": {},
     "output_type": "execute_result"
    }
   ],
   "source": [
    "df = pd.read_csv('../final_data/2019_new-var_mapped_processed.csv').sample(frac=1)\n",
    "df.head()"
   ]
  },
  {
   "cell_type": "code",
   "execution_count": 4,
   "metadata": {},
   "outputs": [
    {
     "data": {
      "text/html": [
       "<div>\n",
       "<style scoped>\n",
       "    .dataframe tbody tr th:only-of-type {\n",
       "        vertical-align: middle;\n",
       "    }\n",
       "\n",
       "    .dataframe tbody tr th {\n",
       "        vertical-align: top;\n",
       "    }\n",
       "\n",
       "    .dataframe thead th {\n",
       "        text-align: right;\n",
       "    }\n",
       "</style>\n",
       "<table border=\"1\" class=\"dataframe\">\n",
       "  <thead>\n",
       "    <tr style=\"text-align: right;\">\n",
       "      <th></th>\n",
       "      <th>Geographic-division</th>\n",
       "      <th>area-code</th>\n",
       "      <th>region</th>\n",
       "      <th>state</th>\n",
       "      <th>RT</th>\n",
       "      <th>person-weight</th>\n",
       "      <th>age</th>\n",
       "      <th>citizenship-status</th>\n",
       "      <th>class-worker</th>\n",
       "      <th>education</th>\n",
       "      <th>...</th>\n",
       "      <th>occupation</th>\n",
       "      <th>relationship</th>\n",
       "      <th>race</th>\n",
       "      <th>sex</th>\n",
       "      <th>extra-income</th>\n",
       "      <th>hours-per-week</th>\n",
       "      <th>field-of-degree</th>\n",
       "      <th>place-of-birth</th>\n",
       "      <th>stem-degree</th>\n",
       "      <th>income</th>\n",
       "    </tr>\n",
       "  </thead>\n",
       "  <tbody>\n",
       "    <tr>\n",
       "      <th>1225619</th>\n",
       "      <td>Pacific</td>\n",
       "      <td>1316</td>\n",
       "      <td>West</td>\n",
       "      <td>OR</td>\n",
       "      <td>P</td>\n",
       "      <td>72</td>\n",
       "      <td>41</td>\n",
       "      <td>Born-US</td>\n",
       "      <td>Private-prof</td>\n",
       "      <td>HSgrad</td>\n",
       "      <td>...</td>\n",
       "      <td>PRD-Sewing Machine Operators</td>\n",
       "      <td>20</td>\n",
       "      <td>white-alone</td>\n",
       "      <td>female</td>\n",
       "      <td>4900.0</td>\n",
       "      <td>40.0</td>\n",
       "      <td>Unknown</td>\n",
       "      <td>Oregon/OR</td>\n",
       "      <td>Unknown</td>\n",
       "      <td>&gt;50K</td>\n",
       "    </tr>\n",
       "    <tr>\n",
       "      <th>97505</th>\n",
       "      <td>Pacific</td>\n",
       "      <td>8302</td>\n",
       "      <td>West</td>\n",
       "      <td>CA</td>\n",
       "      <td>P</td>\n",
       "      <td>122</td>\n",
       "      <td>59</td>\n",
       "      <td>naturalized-citizen</td>\n",
       "      <td>State-gov</td>\n",
       "      <td>bachelor</td>\n",
       "      <td>...</td>\n",
       "      <td>MED-Licensed Practical And Licensed Vocational...</td>\n",
       "      <td>20</td>\n",
       "      <td>asian-alone</td>\n",
       "      <td>male</td>\n",
       "      <td>0.0</td>\n",
       "      <td>40.0</td>\n",
       "      <td>Nursing</td>\n",
       "      <td>Philippines</td>\n",
       "      <td>No</td>\n",
       "      <td>&gt;50K</td>\n",
       "    </tr>\n",
       "    <tr>\n",
       "      <th>120849</th>\n",
       "      <td>Pacific</td>\n",
       "      <td>3765</td>\n",
       "      <td>West</td>\n",
       "      <td>CA</td>\n",
       "      <td>P</td>\n",
       "      <td>56</td>\n",
       "      <td>45</td>\n",
       "      <td>Born-US</td>\n",
       "      <td>Local-gov</td>\n",
       "      <td>master</td>\n",
       "      <td>...</td>\n",
       "      <td>EDU-Secondary School Teachers</td>\n",
       "      <td>20</td>\n",
       "      <td>white-alone</td>\n",
       "      <td>female</td>\n",
       "      <td>50.0</td>\n",
       "      <td>40.0</td>\n",
       "      <td>English Language And Literature</td>\n",
       "      <td>Maryland/MD</td>\n",
       "      <td>No</td>\n",
       "      <td>&gt;50K</td>\n",
       "    </tr>\n",
       "    <tr>\n",
       "      <th>1107845</th>\n",
       "      <td>South Atlantic</td>\n",
       "      <td>1208</td>\n",
       "      <td>South</td>\n",
       "      <td>NC</td>\n",
       "      <td>P</td>\n",
       "      <td>85</td>\n",
       "      <td>23</td>\n",
       "      <td>Born-US</td>\n",
       "      <td>Private-prof</td>\n",
       "      <td>HSgrad</td>\n",
       "      <td>...</td>\n",
       "      <td>CON-Roofers</td>\n",
       "      <td>30</td>\n",
       "      <td>black-aa-alone</td>\n",
       "      <td>male</td>\n",
       "      <td>0.0</td>\n",
       "      <td>40.0</td>\n",
       "      <td>Unknown</td>\n",
       "      <td>North Carolina/NC</td>\n",
       "      <td>Unknown</td>\n",
       "      <td>&lt;=50K</td>\n",
       "    </tr>\n",
       "    <tr>\n",
       "      <th>1146847</th>\n",
       "      <td>East North Central</td>\n",
       "      <td>4603</td>\n",
       "      <td>Midwest</td>\n",
       "      <td>OH</td>\n",
       "      <td>P</td>\n",
       "      <td>98</td>\n",
       "      <td>19</td>\n",
       "      <td>Born-US</td>\n",
       "      <td>Private-prof</td>\n",
       "      <td>HSgrad</td>\n",
       "      <td>...</td>\n",
       "      <td>SAL-Cashiers</td>\n",
       "      <td>33</td>\n",
       "      <td>black-aa-alone</td>\n",
       "      <td>female</td>\n",
       "      <td>0.0</td>\n",
       "      <td>25.0</td>\n",
       "      <td>Unknown</td>\n",
       "      <td>Ohio/OH</td>\n",
       "      <td>Unknown</td>\n",
       "      <td>&lt;=50K</td>\n",
       "    </tr>\n",
       "  </tbody>\n",
       "</table>\n",
       "<p>5 rows × 21 columns</p>\n",
       "</div>"
      ],
      "text/plain": [
       "        Geographic-division  area-code   region state RT  person-weight  age  \\\n",
       "1225619             Pacific       1316     West    OR  P             72   41   \n",
       "97505               Pacific       8302     West    CA  P            122   59   \n",
       "120849              Pacific       3765     West    CA  P             56   45   \n",
       "1107845      South Atlantic       1208    South    NC  P             85   23   \n",
       "1146847  East North Central       4603  Midwest    OH  P             98   19   \n",
       "\n",
       "          citizenship-status  class-worker education  ...  \\\n",
       "1225619              Born-US  Private-prof    HSgrad  ...   \n",
       "97505    naturalized-citizen     State-gov  bachelor  ...   \n",
       "120849               Born-US     Local-gov    master  ...   \n",
       "1107845              Born-US  Private-prof    HSgrad  ...   \n",
       "1146847              Born-US  Private-prof    HSgrad  ...   \n",
       "\n",
       "                                                occupation relationship  \\\n",
       "1225619                       PRD-Sewing Machine Operators           20   \n",
       "97505    MED-Licensed Practical And Licensed Vocational...           20   \n",
       "120849                       EDU-Secondary School Teachers           20   \n",
       "1107845                                        CON-Roofers           30   \n",
       "1146847                                       SAL-Cashiers           33   \n",
       "\n",
       "                   race     sex extra-income  hours-per-week  \\\n",
       "1225619     white-alone  female       4900.0            40.0   \n",
       "97505       asian-alone    male          0.0            40.0   \n",
       "120849      white-alone  female         50.0            40.0   \n",
       "1107845  black-aa-alone    male          0.0            40.0   \n",
       "1146847  black-aa-alone  female          0.0            25.0   \n",
       "\n",
       "                         field-of-degree     place-of-birth stem-degree income  \n",
       "1225619                          Unknown          Oregon/OR     Unknown   >50K  \n",
       "97505                            Nursing        Philippines          No   >50K  \n",
       "120849   English Language And Literature        Maryland/MD          No   >50K  \n",
       "1107845                          Unknown  North Carolina/NC     Unknown  <=50K  \n",
       "1146847                          Unknown            Ohio/OH     Unknown  <=50K  \n",
       "\n",
       "[5 rows x 21 columns]"
      ]
     },
     "execution_count": 4,
     "metadata": {},
     "output_type": "execute_result"
    }
   ],
   "source": [
    "df.loc[df['income'] <= 50000, 'income_adjusted'] = '<=50K'\n",
    "df.loc[df['income'] > 50000, 'income_adjusted'] = '>50K' \n",
    "\n",
    "df = df.drop(columns=['income']).rename(columns={'income_adjusted': 'income'})#.dropna()\n",
    "\n",
    "df = df.fillna('Unknown') \n",
    "\n",
    "df.head()"
   ]
  },
  {
   "cell_type": "code",
   "execution_count": 5,
   "metadata": {},
   "outputs": [
    {
     "data": {
      "text/plain": [
       "Geographic-division    0\n",
       "area-code              0\n",
       "region                 0\n",
       "state                  0\n",
       "RT                     0\n",
       "person-weight          0\n",
       "age                    0\n",
       "citizenship-status     0\n",
       "class-worker           0\n",
       "education              0\n",
       "marital-status         0\n",
       "occupation             0\n",
       "relationship           0\n",
       "race                   0\n",
       "sex                    0\n",
       "extra-income           0\n",
       "hours-per-week         0\n",
       "field-of-degree        0\n",
       "place-of-birth         0\n",
       "stem-degree            0\n",
       "income                 0\n",
       "dtype: int64"
      ]
     },
     "execution_count": 5,
     "metadata": {},
     "output_type": "execute_result"
    }
   ],
   "source": [
    "df.isnull().sum()"
   ]
  },
  {
   "cell_type": "code",
   "execution_count": 6,
   "metadata": {},
   "outputs": [],
   "source": [
    "X = df.drop(columns=['income'], axis = 1)\n",
    "y = df[['income']].to_numpy()"
   ]
  },
  {
   "cell_type": "code",
   "execution_count": 7,
   "metadata": {},
   "outputs": [],
   "source": [
    "labels = np.unique(y)\n",
    "features = list(X.columns)"
   ]
  },
  {
   "cell_type": "markdown",
   "metadata": {},
   "source": [
    "### Pre-process categorical variables"
   ]
  },
  {
   "cell_type": "code",
   "execution_count": 8,
   "metadata": {},
   "outputs": [],
   "source": [
    "cat_var = ['Geographic-division', 'area-code', 'region', 'state', 'RT', 'citizenship-status', 'class-worker', 'education', 'marital-status', 'occupation', 'relationship', 'race', 'sex', 'field-of-degree', 'place-of-birth', 'stem-degree']\n",
    "for f in cat_var:\n",
    "    enc = preprocessing.LabelEncoder()\n",
    "    X[f] = enc.fit_transform(X[f])\n",
    "\n",
    "scaler = preprocessing.StandardScaler()\n",
    "X = pd.DataFrame(scaler.fit_transform(X), columns = X.columns)"
   ]
  },
  {
   "cell_type": "markdown",
   "metadata": {},
   "source": [
    "### Split data into test and training"
   ]
  },
  {
   "cell_type": "code",
   "execution_count": 9,
   "metadata": {},
   "outputs": [],
   "source": [
    "X_train, X_test, y_train, y_test = train_test_split(X, y, test_size=0.2)"
   ]
  },
  {
   "cell_type": "code",
   "execution_count": 10,
   "metadata": {},
   "outputs": [
    {
     "data": {
      "text/plain": [
       "334460"
      ]
     },
     "execution_count": 10,
     "metadata": {},
     "output_type": "execute_result"
    }
   ],
   "source": [
    "len(X_test)"
   ]
  },
  {
   "cell_type": "markdown",
   "metadata": {},
   "source": [
    "## Train Models and Establish Baseline Scores"
   ]
  },
  {
   "cell_type": "markdown",
   "metadata": {},
   "source": [
    "### Logistic Regression"
   ]
  },
  {
   "cell_type": "code",
   "execution_count": 11,
   "metadata": {},
   "outputs": [],
   "source": [
    "# Train model, get predictions\n",
    "model = LogisticRegression()\n",
    "model.fit(X, y)\n",
    "y_pred = model.predict(X_test)\n",
    "y_probas = model.predict_proba(X_test)\n",
    "importances = model.coef_\n",
    "indices = np.argsort(importances)[::-1]"
   ]
  },
  {
   "cell_type": "code",
   "execution_count": 12,
   "metadata": {},
   "outputs": [
    {
     "data": {
      "text/plain": [
       "array([[-0.05479919,  0.08587449,  0.0568646 , -0.01906436,  0.        ,\n",
       "        -0.0201033 ,  0.4745447 , -0.13005679, -0.15901108,  0.13087329,\n",
       "        -0.12714358, -0.13297093, -0.53083999,  0.03172119,  0.31119723,\n",
       "         1.62583974,  0.81150639, -0.64839353, -0.01693457,  0.08221367]])"
      ]
     },
     "execution_count": 12,
     "metadata": {},
     "output_type": "execute_result"
    }
   ],
   "source": [
    "importances"
   ]
  },
  {
   "cell_type": "code",
   "execution_count": 13,
   "metadata": {
    "scrolled": true
   },
   "outputs": [
    {
     "name": "stdout",
     "output_type": "stream",
     "text": [
      "<class 'pandas.core.frame.DataFrame'>\n",
      "Int64Index: 1337840 entries, 348592 to 194782\n",
      "Data columns (total 20 columns):\n",
      " #   Column               Non-Null Count    Dtype  \n",
      "---  ------               --------------    -----  \n",
      " 0   Geographic-division  1337840 non-null  float64\n",
      " 1   area-code            1337840 non-null  float64\n",
      " 2   region               1337840 non-null  float64\n",
      " 3   state                1337840 non-null  float64\n",
      " 4   RT                   1337840 non-null  float64\n",
      " 5   person-weight        1337840 non-null  float64\n",
      " 6   age                  1337840 non-null  float64\n",
      " 7   citizenship-status   1337840 non-null  float64\n",
      " 8   class-worker         1337840 non-null  float64\n",
      " 9   education            1337840 non-null  float64\n",
      " 10  marital-status       1337840 non-null  float64\n",
      " 11  occupation           1337840 non-null  float64\n",
      " 12  relationship         1337840 non-null  float64\n",
      " 13  race                 1337840 non-null  float64\n",
      " 14  sex                  1337840 non-null  float64\n",
      " 15  extra-income         1337840 non-null  float64\n",
      " 16  hours-per-week       1337840 non-null  float64\n",
      " 17  field-of-degree      1337840 non-null  float64\n",
      " 18  place-of-birth       1337840 non-null  float64\n",
      " 19  stem-degree          1337840 non-null  float64\n",
      "dtypes: float64(20)\n",
      "memory usage: 214.3 MB\n",
      "None\n"
     ]
    }
   ],
   "source": [
    "print(X_train.info())"
   ]
  },
  {
   "cell_type": "code",
   "execution_count": 14,
   "metadata": {},
   "outputs": [
    {
     "name": "stderr",
     "output_type": "stream",
     "text": [
      "wandb: \n",
      "wandb: Plotting LogisticRegression.\n",
      "wandb: Logged feature importances.\n",
      "wandb: Logged learning curve.\n",
      "wandb: Logged confusion matrix.\n",
      "wandb: Logged summary metrics.\n",
      "wandb: Logged class proportions.\n",
      "wandb: Logged calibration curve.\n",
      "wandb: WARNING wandb uses only the first 10000 datapoints to create the plots.\n",
      "wandb: WARNING wandb uses only the first 10000 datapoints to create the plots.\n",
      "WARNING:root:Truncating wandb.Table object to 10000 rows.\n",
      "wandb: Logged roc curve.\n",
      "wandb: Logged precision recall curve.\n"
     ]
    }
   ],
   "source": [
    "# Visualize model performance\n",
    "wandb.sklearn.plot_classifier(\n",
    "    model, X_train, X_test, y_train, y_test, y_pred, y_probas, labels,\n",
    "    is_binary=True, model_name='LogisticRegression', feature_names=features)"
   ]
  },
  {
   "cell_type": "code",
   "execution_count": 16,
   "metadata": {},
   "outputs": [
    {
     "name": "stdout",
     "output_type": "stream",
     "text": [
      "              precision    recall  f1-score   support\n",
      "\n",
      "       <=50K       0.77      0.84      0.80    201977\n",
      "        >50K       0.72      0.62      0.66    132483\n",
      "\n",
      "    accuracy                           0.75    334460\n",
      "   macro avg       0.74      0.73      0.73    334460\n",
      "weighted avg       0.75      0.75      0.75    334460\n",
      "\n"
     ]
    }
   ],
   "source": [
    "print(classification_report(y_test, y_pred, target_names=labels))"
   ]
  },
  {
   "cell_type": "code",
   "execution_count": null,
   "metadata": {},
   "outputs": [],
   "source": []
  }
 ],
 "metadata": {
  "kernelspec": {
   "display_name": "Python 3",
   "language": "python",
   "name": "python3"
  },
  "language_info": {
   "codemirror_mode": {
    "name": "ipython",
    "version": 3
   },
   "file_extension": ".py",
   "mimetype": "text/x-python",
   "name": "python",
   "nbconvert_exporter": "python",
   "pygments_lexer": "ipython3",
   "version": "3.7.6"
  }
 },
 "nbformat": 4,
 "nbformat_minor": 4
}
