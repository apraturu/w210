{
 "cells": [
  {
   "cell_type": "markdown",
   "metadata": {},
   "source": [
    "# Run Models on 2019 Data with Additional Variables\n",
    "#### 10/23/2020\n",
    "---"
   ]
  },
  {
   "cell_type": "markdown",
   "metadata": {},
   "source": [
    "## Load and Process Dataset\n",
    "### Import Libraries"
   ]
  },
  {
   "cell_type": "code",
   "execution_count": 1,
   "metadata": {},
   "outputs": [],
   "source": [
    "import pandas as pd\n",
    "import numpy as np\n",
    "from sklearn.neighbors import KNeighborsClassifier\n",
    "from sklearn import preprocessing\n",
    "from sklearn.naive_bayes import MultinomialNB, BernoulliNB\n",
    "from sklearn.linear_model import LinearRegression, LogisticRegression\n",
    "from sklearn.decomposition import PCA\n",
    "from sklearn.model_selection import train_test_split\n",
    "from sklearn.ensemble import RandomForestClassifier\n",
    "from sklearn.svm import SVC\n",
    "from sklearn.linear_model import Ridge\n",
    "from sklearn.tree import DecisionTreeClassifier\n",
    "import matplotlib.pyplot as plt\n",
    "import wandb\n",
    "import warnings\n",
    "warnings.filterwarnings('ignore')"
   ]
  },
  {
   "cell_type": "code",
   "execution_count": 2,
   "metadata": {},
   "outputs": [
    {
     "name": "stderr",
     "output_type": "stream",
     "text": [
      "wandb: Currently logged in as: apraturu (use `wandb login --relogin` to force relogin)\n"
     ]
    },
    {
     "data": {
      "text/html": [
       "\n",
       "                Tracking run with wandb version 0.10.8<br/>\n",
       "                Syncing run <strong style=\"color:#cdcd00\">restful-elevator-1</strong> to <a href=\"https://wandb.ai\" target=\"_blank\">Weights & Biases</a> <a href=\"https://docs.wandb.com/integrations/jupyter.html\" target=\"_blank\">(Documentation)</a>.<br/>\n",
       "                Project page: <a href=\"https://wandb.ai/apraturu/2019_newvar\" target=\"_blank\">https://wandb.ai/apraturu/2019_newvar</a><br/>\n",
       "                Run page: <a href=\"https://wandb.ai/apraturu/2019_newvar/runs/bobul0sx\" target=\"_blank\">https://wandb.ai/apraturu/2019_newvar/runs/bobul0sx</a><br/>\n",
       "                Run data is saved locally in <code>wandb/run-20201024_203018-bobul0sx</code><br/><br/>\n",
       "            "
      ],
      "text/plain": [
       "<IPython.core.display.HTML object>"
      ]
     },
     "metadata": {},
     "output_type": "display_data"
    },
    {
     "data": {
      "text/html": [
       "<h1>Run(bobul0sx)</h1><p></p><iframe src=\"https://wandb.ai/apraturu/2019_newvar/runs/bobul0sx\" style=\"border:none;width:100%;height:400px\"></iframe>"
      ],
      "text/plain": [
       "<wandb.sdk.wandb_run.Run at 0x7f8e4d255fd0>"
      ]
     },
     "execution_count": 2,
     "metadata": {},
     "output_type": "execute_result"
    }
   ],
   "source": [
    "wandb.init(project=\"2019_newvar\")"
   ]
  },
  {
   "cell_type": "markdown",
   "metadata": {},
   "source": [
    "### Read in `adult.csv` data"
   ]
  },
  {
   "cell_type": "code",
   "execution_count": 8,
   "metadata": {},
   "outputs": [
    {
     "data": {
      "text/html": [
       "<div>\n",
       "<style scoped>\n",
       "    .dataframe tbody tr th:only-of-type {\n",
       "        vertical-align: middle;\n",
       "    }\n",
       "\n",
       "    .dataframe tbody tr th {\n",
       "        vertical-align: top;\n",
       "    }\n",
       "\n",
       "    .dataframe thead th {\n",
       "        text-align: right;\n",
       "    }\n",
       "</style>\n",
       "<table border=\"1\" class=\"dataframe\">\n",
       "  <thead>\n",
       "    <tr style=\"text-align: right;\">\n",
       "      <th></th>\n",
       "      <th>Geographic-division</th>\n",
       "      <th>area-code</th>\n",
       "      <th>region</th>\n",
       "      <th>state</th>\n",
       "      <th>RT</th>\n",
       "      <th>person-weight</th>\n",
       "      <th>age</th>\n",
       "      <th>citizenship-status</th>\n",
       "      <th>class-worker</th>\n",
       "      <th>education</th>\n",
       "      <th>...</th>\n",
       "      <th>occupation</th>\n",
       "      <th>relationship</th>\n",
       "      <th>race</th>\n",
       "      <th>sex</th>\n",
       "      <th>extra-income</th>\n",
       "      <th>hours-per-week</th>\n",
       "      <th>field-of-degree</th>\n",
       "      <th>place-of-birth</th>\n",
       "      <th>income</th>\n",
       "      <th>stem-degree</th>\n",
       "    </tr>\n",
       "  </thead>\n",
       "  <tbody>\n",
       "    <tr>\n",
       "      <th>1483269</th>\n",
       "      <td>West South Central</td>\n",
       "      <td>4608</td>\n",
       "      <td>South</td>\n",
       "      <td>TX</td>\n",
       "      <td>P</td>\n",
       "      <td>41</td>\n",
       "      <td>18</td>\n",
       "      <td>Born-US</td>\n",
       "      <td>Private-prof</td>\n",
       "      <td>grade11</td>\n",
       "      <td>...</td>\n",
       "      <td>SAL-Cashiers</td>\n",
       "      <td>25</td>\n",
       "      <td>white-alone</td>\n",
       "      <td>male</td>\n",
       "      <td>0.0</td>\n",
       "      <td>25.0</td>\n",
       "      <td>NaN</td>\n",
       "      <td>Texas/TX</td>\n",
       "      <td>320.0</td>\n",
       "      <td>NaN</td>\n",
       "    </tr>\n",
       "    <tr>\n",
       "      <th>477914</th>\n",
       "      <td>South Atlantic</td>\n",
       "      <td>3005</td>\n",
       "      <td>South</td>\n",
       "      <td>GA</td>\n",
       "      <td>P</td>\n",
       "      <td>57</td>\n",
       "      <td>19</td>\n",
       "      <td>Born-US</td>\n",
       "      <td>Private-prof</td>\n",
       "      <td>HSgrad</td>\n",
       "      <td>...</td>\n",
       "      <td>EAT-Fast Food And Counter Workers</td>\n",
       "      <td>25</td>\n",
       "      <td>white-alone</td>\n",
       "      <td>male</td>\n",
       "      <td>0.0</td>\n",
       "      <td>11.0</td>\n",
       "      <td>NaN</td>\n",
       "      <td>Georgia/GA</td>\n",
       "      <td>4600.0</td>\n",
       "      <td>NaN</td>\n",
       "    </tr>\n",
       "    <tr>\n",
       "      <th>887788</th>\n",
       "      <td>Mountain</td>\n",
       "      <td>100</td>\n",
       "      <td>West</td>\n",
       "      <td>MT</td>\n",
       "      <td>P</td>\n",
       "      <td>37</td>\n",
       "      <td>48</td>\n",
       "      <td>Born-US</td>\n",
       "      <td>Private-prof</td>\n",
       "      <td>associate</td>\n",
       "      <td>...</td>\n",
       "      <td>LGL-Paralegals And Legal Assistants</td>\n",
       "      <td>21</td>\n",
       "      <td>white-alone</td>\n",
       "      <td>female</td>\n",
       "      <td>0.0</td>\n",
       "      <td>41.0</td>\n",
       "      <td>NaN</td>\n",
       "      <td>Colorado/CO</td>\n",
       "      <td>40000.0</td>\n",
       "      <td>NaN</td>\n",
       "    </tr>\n",
       "    <tr>\n",
       "      <th>406542</th>\n",
       "      <td>South Atlantic</td>\n",
       "      <td>11704</td>\n",
       "      <td>South</td>\n",
       "      <td>FL</td>\n",
       "      <td>P</td>\n",
       "      <td>115</td>\n",
       "      <td>29</td>\n",
       "      <td>Born-US</td>\n",
       "      <td>Self-emp-not-inc</td>\n",
       "      <td>associate</td>\n",
       "      <td>...</td>\n",
       "      <td>MGR-Other Managers</td>\n",
       "      <td>20</td>\n",
       "      <td>white-alone</td>\n",
       "      <td>male</td>\n",
       "      <td>80.0</td>\n",
       "      <td>42.0</td>\n",
       "      <td>NaN</td>\n",
       "      <td>Texas/TX</td>\n",
       "      <td>341080.0</td>\n",
       "      <td>NaN</td>\n",
       "    </tr>\n",
       "    <tr>\n",
       "      <th>983759</th>\n",
       "      <td>Middle Atlantic</td>\n",
       "      <td>1600</td>\n",
       "      <td>Northeast</td>\n",
       "      <td>NY</td>\n",
       "      <td>P</td>\n",
       "      <td>27</td>\n",
       "      <td>51</td>\n",
       "      <td>Born-US</td>\n",
       "      <td>Private-nonprof</td>\n",
       "      <td>no-school</td>\n",
       "      <td>...</td>\n",
       "      <td>PRD-Miscellaneous Production Workers, Includin...</td>\n",
       "      <td>38</td>\n",
       "      <td>white-alone</td>\n",
       "      <td>female</td>\n",
       "      <td>0.0</td>\n",
       "      <td>25.0</td>\n",
       "      <td>NaN</td>\n",
       "      <td>New York/NY</td>\n",
       "      <td>9900.0</td>\n",
       "      <td>NaN</td>\n",
       "    </tr>\n",
       "  </tbody>\n",
       "</table>\n",
       "<p>5 rows × 21 columns</p>\n",
       "</div>"
      ],
      "text/plain": [
       "        Geographic-division  area-code     region state RT  person-weight  \\\n",
       "1483269  West South Central       4608      South    TX  P             41   \n",
       "477914       South Atlantic       3005      South    GA  P             57   \n",
       "887788             Mountain        100       West    MT  P             37   \n",
       "406542       South Atlantic      11704      South    FL  P            115   \n",
       "983759      Middle Atlantic       1600  Northeast    NY  P             27   \n",
       "\n",
       "         age citizenship-status      class-worker  education  ...  \\\n",
       "1483269   18            Born-US      Private-prof    grade11  ...   \n",
       "477914    19            Born-US      Private-prof     HSgrad  ...   \n",
       "887788    48            Born-US      Private-prof  associate  ...   \n",
       "406542    29            Born-US  Self-emp-not-inc  associate  ...   \n",
       "983759    51            Born-US   Private-nonprof  no-school  ...   \n",
       "\n",
       "                                                occupation relationship  \\\n",
       "1483269                                       SAL-Cashiers           25   \n",
       "477914                   EAT-Fast Food And Counter Workers           25   \n",
       "887788                 LGL-Paralegals And Legal Assistants           21   \n",
       "406542                                  MGR-Other Managers           20   \n",
       "983759   PRD-Miscellaneous Production Workers, Includin...           38   \n",
       "\n",
       "                race     sex extra-income  hours-per-week  field-of-degree  \\\n",
       "1483269  white-alone    male          0.0            25.0              NaN   \n",
       "477914   white-alone    male          0.0            11.0              NaN   \n",
       "887788   white-alone  female          0.0            41.0              NaN   \n",
       "406542   white-alone    male         80.0            42.0              NaN   \n",
       "983759   white-alone  female          0.0            25.0              NaN   \n",
       "\n",
       "        place-of-birth    income  stem-degree  \n",
       "1483269       Texas/TX     320.0          NaN  \n",
       "477914      Georgia/GA    4600.0          NaN  \n",
       "887788     Colorado/CO   40000.0          NaN  \n",
       "406542        Texas/TX  341080.0          NaN  \n",
       "983759     New York/NY    9900.0          NaN  \n",
       "\n",
       "[5 rows x 21 columns]"
      ]
     },
     "execution_count": 8,
     "metadata": {},
     "output_type": "execute_result"
    }
   ],
   "source": [
    "df = pd.read_csv('../final_data/2019_new-var_mapped_processed.csv').sample(frac=0.5)\n",
    "df.head()"
   ]
  },
  {
   "cell_type": "code",
   "execution_count": 9,
   "metadata": {},
   "outputs": [
    {
     "data": {
      "text/html": [
       "<div>\n",
       "<style scoped>\n",
       "    .dataframe tbody tr th:only-of-type {\n",
       "        vertical-align: middle;\n",
       "    }\n",
       "\n",
       "    .dataframe tbody tr th {\n",
       "        vertical-align: top;\n",
       "    }\n",
       "\n",
       "    .dataframe thead th {\n",
       "        text-align: right;\n",
       "    }\n",
       "</style>\n",
       "<table border=\"1\" class=\"dataframe\">\n",
       "  <thead>\n",
       "    <tr style=\"text-align: right;\">\n",
       "      <th></th>\n",
       "      <th>Geographic-division</th>\n",
       "      <th>area-code</th>\n",
       "      <th>region</th>\n",
       "      <th>state</th>\n",
       "      <th>RT</th>\n",
       "      <th>person-weight</th>\n",
       "      <th>age</th>\n",
       "      <th>citizenship-status</th>\n",
       "      <th>class-worker</th>\n",
       "      <th>education</th>\n",
       "      <th>...</th>\n",
       "      <th>occupation</th>\n",
       "      <th>relationship</th>\n",
       "      <th>race</th>\n",
       "      <th>sex</th>\n",
       "      <th>extra-income</th>\n",
       "      <th>hours-per-week</th>\n",
       "      <th>field-of-degree</th>\n",
       "      <th>place-of-birth</th>\n",
       "      <th>stem-degree</th>\n",
       "      <th>income</th>\n",
       "    </tr>\n",
       "  </thead>\n",
       "  <tbody>\n",
       "    <tr>\n",
       "      <th>1303390</th>\n",
       "      <td>Middle Atlantic</td>\n",
       "      <td>3900</td>\n",
       "      <td>Northeast</td>\n",
       "      <td>PA</td>\n",
       "      <td>P</td>\n",
       "      <td>90</td>\n",
       "      <td>58</td>\n",
       "      <td>Born-US</td>\n",
       "      <td>Private-prof</td>\n",
       "      <td>bachelor</td>\n",
       "      <td>...</td>\n",
       "      <td>BUS-Management Analysts</td>\n",
       "      <td>20</td>\n",
       "      <td>white-alone</td>\n",
       "      <td>male</td>\n",
       "      <td>20.0</td>\n",
       "      <td>55.0</td>\n",
       "      <td>Business Management And Administration</td>\n",
       "      <td>Pennsylvania/PA</td>\n",
       "      <td>No</td>\n",
       "      <td>&gt;50K</td>\n",
       "    </tr>\n",
       "    <tr>\n",
       "      <th>1429061</th>\n",
       "      <td>West South Central</td>\n",
       "      <td>4801</td>\n",
       "      <td>South</td>\n",
       "      <td>TX</td>\n",
       "      <td>P</td>\n",
       "      <td>126</td>\n",
       "      <td>71</td>\n",
       "      <td>Born-US</td>\n",
       "      <td>Fed-gov</td>\n",
       "      <td>master</td>\n",
       "      <td>...</td>\n",
       "      <td>FIN-Credit Counselors And Loan Officers</td>\n",
       "      <td>20</td>\n",
       "      <td>black-aa-alone</td>\n",
       "      <td>male</td>\n",
       "      <td>0.0</td>\n",
       "      <td>40.0</td>\n",
       "      <td>Psychology</td>\n",
       "      <td>New York/NY</td>\n",
       "      <td>Yes</td>\n",
       "      <td>&lt;=50K</td>\n",
       "    </tr>\n",
       "    <tr>\n",
       "      <th>42215</th>\n",
       "      <td>Mountain</td>\n",
       "      <td>109</td>\n",
       "      <td>West</td>\n",
       "      <td>AZ</td>\n",
       "      <td>P</td>\n",
       "      <td>64</td>\n",
       "      <td>26</td>\n",
       "      <td>Born-US</td>\n",
       "      <td>Fed-gov</td>\n",
       "      <td>bachelor</td>\n",
       "      <td>...</td>\n",
       "      <td>MGR-Marketing Managers</td>\n",
       "      <td>20</td>\n",
       "      <td>white-alone</td>\n",
       "      <td>male</td>\n",
       "      <td>0.0</td>\n",
       "      <td>75.0</td>\n",
       "      <td>Applied Mathematics</td>\n",
       "      <td>Arizona/AZ</td>\n",
       "      <td>Yes</td>\n",
       "      <td>&lt;=50K</td>\n",
       "    </tr>\n",
       "    <tr>\n",
       "      <th>703724</th>\n",
       "      <td>South Atlantic</td>\n",
       "      <td>1006</td>\n",
       "      <td>South</td>\n",
       "      <td>MD</td>\n",
       "      <td>P</td>\n",
       "      <td>52</td>\n",
       "      <td>37</td>\n",
       "      <td>Born-US</td>\n",
       "      <td>State-gov</td>\n",
       "      <td>prof-school</td>\n",
       "      <td>...</td>\n",
       "      <td>MED-Physicians</td>\n",
       "      <td>20</td>\n",
       "      <td>white-alone</td>\n",
       "      <td>female</td>\n",
       "      <td>300.0</td>\n",
       "      <td>50.0</td>\n",
       "      <td>Multi-Disciplinary Or General Science</td>\n",
       "      <td>Delaware/DE</td>\n",
       "      <td>Yes</td>\n",
       "      <td>&gt;50K</td>\n",
       "    </tr>\n",
       "    <tr>\n",
       "      <th>1643752</th>\n",
       "      <td>East North Central</td>\n",
       "      <td>20000</td>\n",
       "      <td>Midwest</td>\n",
       "      <td>WI</td>\n",
       "      <td>P</td>\n",
       "      <td>186</td>\n",
       "      <td>35</td>\n",
       "      <td>Born-US</td>\n",
       "      <td>Private-prof</td>\n",
       "      <td>bachelor</td>\n",
       "      <td>...</td>\n",
       "      <td>MGR-Computer And Information Systems Managers</td>\n",
       "      <td>20</td>\n",
       "      <td>white-alone</td>\n",
       "      <td>female</td>\n",
       "      <td>0.0</td>\n",
       "      <td>30.0</td>\n",
       "      <td>French German Latin And Other Common Foreign L...</td>\n",
       "      <td>Wisconsin/WI</td>\n",
       "      <td>No</td>\n",
       "      <td>&lt;=50K</td>\n",
       "    </tr>\n",
       "  </tbody>\n",
       "</table>\n",
       "<p>5 rows × 21 columns</p>\n",
       "</div>"
      ],
      "text/plain": [
       "        Geographic-division  area-code     region state RT  person-weight  \\\n",
       "1303390     Middle Atlantic       3900  Northeast    PA  P             90   \n",
       "1429061  West South Central       4801      South    TX  P            126   \n",
       "42215              Mountain        109       West    AZ  P             64   \n",
       "703724       South Atlantic       1006      South    MD  P             52   \n",
       "1643752  East North Central      20000    Midwest    WI  P            186   \n",
       "\n",
       "         age citizenship-status  class-worker    education  ...  \\\n",
       "1303390   58            Born-US  Private-prof     bachelor  ...   \n",
       "1429061   71            Born-US       Fed-gov       master  ...   \n",
       "42215     26            Born-US       Fed-gov     bachelor  ...   \n",
       "703724    37            Born-US     State-gov  prof-school  ...   \n",
       "1643752   35            Born-US  Private-prof     bachelor  ...   \n",
       "\n",
       "                                            occupation relationship  \\\n",
       "1303390                        BUS-Management Analysts           20   \n",
       "1429061        FIN-Credit Counselors And Loan Officers           20   \n",
       "42215                           MGR-Marketing Managers           20   \n",
       "703724                                  MED-Physicians           20   \n",
       "1643752  MGR-Computer And Information Systems Managers           20   \n",
       "\n",
       "                   race     sex extra-income  hours-per-week  \\\n",
       "1303390     white-alone    male         20.0            55.0   \n",
       "1429061  black-aa-alone    male          0.0            40.0   \n",
       "42215       white-alone    male          0.0            75.0   \n",
       "703724      white-alone  female        300.0            50.0   \n",
       "1643752     white-alone  female          0.0            30.0   \n",
       "\n",
       "                                           field-of-degree   place-of-birth  \\\n",
       "1303390             Business Management And Administration  Pennsylvania/PA   \n",
       "1429061                                         Psychology      New York/NY   \n",
       "42215                                  Applied Mathematics       Arizona/AZ   \n",
       "703724               Multi-Disciplinary Or General Science      Delaware/DE   \n",
       "1643752  French German Latin And Other Common Foreign L...     Wisconsin/WI   \n",
       "\n",
       "        stem-degree income  \n",
       "1303390          No   >50K  \n",
       "1429061         Yes  <=50K  \n",
       "42215           Yes  <=50K  \n",
       "703724          Yes   >50K  \n",
       "1643752          No  <=50K  \n",
       "\n",
       "[5 rows x 21 columns]"
      ]
     },
     "execution_count": 9,
     "metadata": {},
     "output_type": "execute_result"
    }
   ],
   "source": [
    "df.loc[df['income'] <= 50000, 'income_adjusted'] = '<=50K'\n",
    "df.loc[df['income'] > 50000, 'income_adjusted'] = '>50K' \n",
    "\n",
    "df = df.drop(columns=['income']).rename(columns={'income_adjusted': 'income'}).dropna()\n",
    "\n",
    "df.head()"
   ]
  },
  {
   "cell_type": "code",
   "execution_count": 10,
   "metadata": {},
   "outputs": [
    {
     "data": {
      "text/plain": [
       "Geographic-division    0\n",
       "area-code              0\n",
       "region                 0\n",
       "state                  0\n",
       "RT                     0\n",
       "person-weight          0\n",
       "age                    0\n",
       "citizenship-status     0\n",
       "class-worker           0\n",
       "education              0\n",
       "marital-status         0\n",
       "occupation             0\n",
       "relationship           0\n",
       "race                   0\n",
       "sex                    0\n",
       "extra-income           0\n",
       "hours-per-week         0\n",
       "field-of-degree        0\n",
       "place-of-birth         0\n",
       "stem-degree            0\n",
       "income                 0\n",
       "dtype: int64"
      ]
     },
     "execution_count": 10,
     "metadata": {},
     "output_type": "execute_result"
    }
   ],
   "source": [
    "df.isnull().sum()"
   ]
  },
  {
   "cell_type": "code",
   "execution_count": 14,
   "metadata": {},
   "outputs": [],
   "source": [
    "X = df.drop(columns=['income'], axis = 1)\n",
    "y = df[['income']].to_numpy()"
   ]
  },
  {
   "cell_type": "code",
   "execution_count": 15,
   "metadata": {},
   "outputs": [],
   "source": [
    "labels = np.unique(y)\n",
    "features = list(X.columns)"
   ]
  },
  {
   "cell_type": "markdown",
   "metadata": {},
   "source": [
    "### Pre-process categorical variables"
   ]
  },
  {
   "cell_type": "code",
   "execution_count": 17,
   "metadata": {},
   "outputs": [],
   "source": [
    "cat_var = ['Geographic-division', 'area-code', 'region', 'state', 'RT', 'citizenship-status', 'class-worker', 'education', 'marital-status', 'occupation', 'relationship', 'race', 'sex', 'field-of-degree', 'place-of-birth', 'stem-degree']\n",
    "for f in cat_var:\n",
    "    enc = preprocessing.LabelEncoder()\n",
    "    X[f] = enc.fit_transform(X[f])\n",
    "\n",
    "scaler = preprocessing.StandardScaler()\n",
    "X = pd.DataFrame(scaler.fit_transform(X), columns = X.columns)"
   ]
  },
  {
   "cell_type": "markdown",
   "metadata": {},
   "source": [
    "### Split data into test and training"
   ]
  },
  {
   "cell_type": "code",
   "execution_count": 18,
   "metadata": {},
   "outputs": [],
   "source": [
    "X_train, X_test, y_train, y_test = train_test_split(X, y, test_size=0.2)"
   ]
  },
  {
   "cell_type": "code",
   "execution_count": 19,
   "metadata": {},
   "outputs": [
    {
     "data": {
      "text/plain": [
       "61555"
      ]
     },
     "execution_count": 19,
     "metadata": {},
     "output_type": "execute_result"
    }
   ],
   "source": [
    "len(X_test)"
   ]
  },
  {
   "cell_type": "markdown",
   "metadata": {},
   "source": [
    "## Train Models and Establish Baseline Scores"
   ]
  },
  {
   "cell_type": "markdown",
   "metadata": {},
   "source": [
    "### Random Forest"
   ]
  },
  {
   "cell_type": "code",
   "execution_count": 20,
   "metadata": {},
   "outputs": [],
   "source": [
    "# Train model, get predictions\n",
    "model = RandomForestClassifier()\n",
    "model.fit(X, y)\n",
    "y_pred = model.predict(X_test)\n",
    "y_probas = model.predict_proba(X_test)\n",
    "importances = model.feature_importances_\n",
    "indices = np.argsort(importances)[::-1]"
   ]
  },
  {
   "cell_type": "code",
   "execution_count": 21,
   "metadata": {},
   "outputs": [
    {
     "name": "stdout",
     "output_type": "stream",
     "text": [
      "<class 'pandas.core.frame.DataFrame'>\n",
      "Int64Index: 246216 entries, 98796 to 193821\n",
      "Data columns (total 20 columns):\n",
      " #   Column               Non-Null Count   Dtype  \n",
      "---  ------               --------------   -----  \n",
      " 0   Geographic-division  246216 non-null  float64\n",
      " 1   area-code            246216 non-null  float64\n",
      " 2   region               246216 non-null  float64\n",
      " 3   state                246216 non-null  float64\n",
      " 4   RT                   246216 non-null  float64\n",
      " 5   person-weight        246216 non-null  float64\n",
      " 6   age                  246216 non-null  float64\n",
      " 7   citizenship-status   246216 non-null  float64\n",
      " 8   class-worker         246216 non-null  float64\n",
      " 9   education            246216 non-null  float64\n",
      " 10  marital-status       246216 non-null  float64\n",
      " 11  occupation           246216 non-null  float64\n",
      " 12  relationship         246216 non-null  float64\n",
      " 13  race                 246216 non-null  float64\n",
      " 14  sex                  246216 non-null  float64\n",
      " 15  extra-income         246216 non-null  float64\n",
      " 16  hours-per-week       246216 non-null  float64\n",
      " 17  field-of-degree      246216 non-null  float64\n",
      " 18  place-of-birth       246216 non-null  float64\n",
      " 19  stem-degree          246216 non-null  float64\n",
      "dtypes: float64(20)\n",
      "memory usage: 39.4 MB\n",
      "None\n"
     ]
    }
   ],
   "source": [
    "print(X_train.info())"
   ]
  },
  {
   "cell_type": "code",
   "execution_count": 22,
   "metadata": {},
   "outputs": [
    {
     "name": "stderr",
     "output_type": "stream",
     "text": [
      "wandb: \n",
      "wandb: Plotting RandomForest.\n",
      "wandb: Logged feature importances.\n",
      "wandb: Logged learning curve.\n",
      "wandb: Logged confusion matrix.\n",
      "wandb: Logged summary metrics.\n",
      "wandb: Logged class proportions.\n",
      "wandb: Logged calibration curve.\n",
      "wandb: Logged roc curve.\n",
      "wandb: Logged precision recall curve.\n"
     ]
    }
   ],
   "source": [
    "# Visualize model performance\n",
    "wandb.sklearn.plot_classifier(\n",
    "    model, X_train, X_test, y_train, y_test, y_pred, y_probas, labels,\n",
    "    is_binary=True, model_name='RandomForest', feature_names=features)"
   ]
  },
  {
   "cell_type": "code",
   "execution_count": null,
   "metadata": {},
   "outputs": [],
   "source": []
  }
 ],
 "metadata": {
  "kernelspec": {
   "display_name": "Python 3",
   "language": "python",
   "name": "python3"
  },
  "language_info": {
   "codemirror_mode": {
    "name": "ipython",
    "version": 3
   },
   "file_extension": ".py",
   "mimetype": "text/x-python",
   "name": "python",
   "nbconvert_exporter": "python",
   "pygments_lexer": "ipython3",
   "version": "3.7.6"
  }
 },
 "nbformat": 4,
 "nbformat_minor": 4
}
