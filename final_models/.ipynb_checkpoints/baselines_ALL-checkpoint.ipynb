{
 "cells": [
  {
   "cell_type": "markdown",
   "metadata": {},
   "source": [
    "# Establish Baseline Model Scores\n",
    "#### 10/23/2020\n",
    "---"
   ]
  },
  {
   "cell_type": "markdown",
   "metadata": {},
   "source": [
    "## Load and Process Dataset\n",
    "### Import Libraries"
   ]
  },
  {
   "cell_type": "code",
   "execution_count": 1,
   "metadata": {},
   "outputs": [],
   "source": [
    "import pandas as pd\n",
    "import numpy as np\n",
    "from sklearn.neighbors import KNeighborsClassifier\n",
    "from sklearn import preprocessing\n",
    "from sklearn.linear_model import LinearRegression, LogisticRegression\n",
    "from sklearn.model_selection import train_test_split\n",
    "from sklearn.ensemble import RandomForestClassifier\n",
    "from sklearn.metrics import classification_report\n",
    "import matplotlib.pyplot as plt\n",
    "import wandb\n",
    "import warnings\n",
    "warnings.filterwarnings('ignore')"
   ]
  },
  {
   "cell_type": "code",
   "execution_count": 2,
   "metadata": {},
   "outputs": [
    {
     "name": "stderr",
     "output_type": "stream",
     "text": [
      "wandb: Currently logged in as: apraturu (use `wandb login --relogin` to force relogin)\n",
      "wandb: wandb version 0.10.10 is available!  To upgrade, please run:\n",
      "wandb:  $ pip install wandb --upgrade\n"
     ]
    },
    {
     "data": {
      "text/html": [
       "\n",
       "                Tracking run with wandb version 0.10.8<br/>\n",
       "                Syncing run <strong style=\"color:#cdcd00\">fallen-glade-2</strong> to <a href=\"https://wandb.ai\" target=\"_blank\">Weights & Biases</a> <a href=\"https://docs.wandb.com/integrations/jupyter.html\" target=\"_blank\">(Documentation)</a>.<br/>\n",
       "                Project page: <a href=\"https://wandb.ai/apraturu/baseline_ALL\" target=\"_blank\">https://wandb.ai/apraturu/baseline_ALL</a><br/>\n",
       "                Run page: <a href=\"https://wandb.ai/apraturu/baseline_ALL/runs/25vhfp28\" target=\"_blank\">https://wandb.ai/apraturu/baseline_ALL/runs/25vhfp28</a><br/>\n",
       "                Run data is saved locally in <code>wandb/run-20201114_182052-25vhfp28</code><br/><br/>\n",
       "            "
      ],
      "text/plain": [
       "<IPython.core.display.HTML object>"
      ]
     },
     "metadata": {},
     "output_type": "display_data"
    },
    {
     "data": {
      "text/html": [
       "<h1>Run(25vhfp28)</h1><p></p><iframe src=\"https://wandb.ai/apraturu/baseline_ALL/runs/25vhfp28\" style=\"border:none;width:100%;height:400px\"></iframe>"
      ],
      "text/plain": [
       "<wandb.sdk.wandb_run.Run at 0x7fd3c7b48e90>"
      ]
     },
     "execution_count": 2,
     "metadata": {},
     "output_type": "execute_result"
    }
   ],
   "source": [
    "wandb.init(project=\"baseline_ALL\")"
   ]
  },
  {
   "cell_type": "markdown",
   "metadata": {},
   "source": [
    "### Read in `adult.csv` data"
   ]
  },
  {
   "cell_type": "code",
   "execution_count": 19,
   "metadata": {},
   "outputs": [
    {
     "data": {
      "text/html": [
       "<div>\n",
       "<style scoped>\n",
       "    .dataframe tbody tr th:only-of-type {\n",
       "        vertical-align: middle;\n",
       "    }\n",
       "\n",
       "    .dataframe tbody tr th {\n",
       "        vertical-align: top;\n",
       "    }\n",
       "\n",
       "    .dataframe thead th {\n",
       "        text-align: right;\n",
       "    }\n",
       "</style>\n",
       "<table border=\"1\" class=\"dataframe\">\n",
       "  <thead>\n",
       "    <tr style=\"text-align: right;\">\n",
       "      <th></th>\n",
       "      <th>state</th>\n",
       "      <th>person-weight</th>\n",
       "      <th>age</th>\n",
       "      <th>citizenship-status</th>\n",
       "      <th>class-worker</th>\n",
       "      <th>education</th>\n",
       "      <th>marital-status</th>\n",
       "      <th>occupation</th>\n",
       "      <th>race</th>\n",
       "      <th>sex</th>\n",
       "      <th>...</th>\n",
       "      <th>med_gross_rent</th>\n",
       "      <th>unemployment_rate</th>\n",
       "      <th>insured_rate</th>\n",
       "      <th>less_than_9th</th>\n",
       "      <th>hs_grad</th>\n",
       "      <th>associates_degree</th>\n",
       "      <th>bach_degree</th>\n",
       "      <th>grad_or_prof_degree</th>\n",
       "      <th>bach_degree_or_higher</th>\n",
       "      <th>Incarceration rate per 100000</th>\n",
       "    </tr>\n",
       "  </thead>\n",
       "  <tbody>\n",
       "    <tr>\n",
       "      <th>542280</th>\n",
       "      <td>HI</td>\n",
       "      <td>87</td>\n",
       "      <td>28</td>\n",
       "      <td>Born-US</td>\n",
       "      <td>Fed-gov</td>\n",
       "      <td>some-college-great1</td>\n",
       "      <td>Married</td>\n",
       "      <td>MIL-Military, Rank Not Specified</td>\n",
       "      <td>white-alone</td>\n",
       "      <td>female</td>\n",
       "      <td>...</td>\n",
       "      <td>2281</td>\n",
       "      <td>2.5</td>\n",
       "      <td>97.4</td>\n",
       "      <td>2.7</td>\n",
       "      <td>23.7</td>\n",
       "      <td>13.5</td>\n",
       "      <td>22.4</td>\n",
       "      <td>10.8</td>\n",
       "      <td>33.2</td>\n",
       "      <td>417.040052</td>\n",
       "    </tr>\n",
       "    <tr>\n",
       "      <th>185424</th>\n",
       "      <td>NY</td>\n",
       "      <td>176</td>\n",
       "      <td>70</td>\n",
       "      <td>naturalized-citizen</td>\n",
       "      <td>Local-gov</td>\n",
       "      <td>HSgrad</td>\n",
       "      <td>Married</td>\n",
       "      <td>MGR-Other Managers</td>\n",
       "      <td>white-alone</td>\n",
       "      <td>male</td>\n",
       "      <td>...</td>\n",
       "      <td>1507</td>\n",
       "      <td>3.4</td>\n",
       "      <td>88.7</td>\n",
       "      <td>12.3</td>\n",
       "      <td>33.6</td>\n",
       "      <td>7.6</td>\n",
       "      <td>12.8</td>\n",
       "      <td>8.1</td>\n",
       "      <td>20.9</td>\n",
       "      <td>491.823193</td>\n",
       "    </tr>\n",
       "    <tr>\n",
       "      <th>1075329</th>\n",
       "      <td>VA</td>\n",
       "      <td>28</td>\n",
       "      <td>29</td>\n",
       "      <td>Born-US</td>\n",
       "      <td>Private-prof</td>\n",
       "      <td>associate</td>\n",
       "      <td>Never-married</td>\n",
       "      <td>HLS-Home Health Aides</td>\n",
       "      <td>white-alone</td>\n",
       "      <td>female</td>\n",
       "      <td>...</td>\n",
       "      <td>992</td>\n",
       "      <td>3.4</td>\n",
       "      <td>92.5</td>\n",
       "      <td>5.1</td>\n",
       "      <td>37.3</td>\n",
       "      <td>7.6</td>\n",
       "      <td>13.1</td>\n",
       "      <td>7.5</td>\n",
       "      <td>20.6</td>\n",
       "      <td>815.395629</td>\n",
       "    </tr>\n",
       "    <tr>\n",
       "      <th>374519</th>\n",
       "      <td>TX</td>\n",
       "      <td>271</td>\n",
       "      <td>60</td>\n",
       "      <td>Born-US</td>\n",
       "      <td>Self-emp-inc</td>\n",
       "      <td>bachelor</td>\n",
       "      <td>Married</td>\n",
       "      <td>MGR-Other Managers</td>\n",
       "      <td>white-alone</td>\n",
       "      <td>male</td>\n",
       "      <td>...</td>\n",
       "      <td>1327</td>\n",
       "      <td>3.2</td>\n",
       "      <td>92.1</td>\n",
       "      <td>0.5</td>\n",
       "      <td>11.0</td>\n",
       "      <td>6.2</td>\n",
       "      <td>36.2</td>\n",
       "      <td>22.3</td>\n",
       "      <td>58.5</td>\n",
       "      <td>1063.428253</td>\n",
       "    </tr>\n",
       "    <tr>\n",
       "      <th>920201</th>\n",
       "      <td>NY</td>\n",
       "      <td>298</td>\n",
       "      <td>55</td>\n",
       "      <td>not-US-citizen</td>\n",
       "      <td>Private-prof</td>\n",
       "      <td>HSgrad</td>\n",
       "      <td>Married</td>\n",
       "      <td>TRN-Driver/Sales Workers And Truck Drivers</td>\n",
       "      <td>black-aa-alone</td>\n",
       "      <td>male</td>\n",
       "      <td>...</td>\n",
       "      <td>1507</td>\n",
       "      <td>3.4</td>\n",
       "      <td>88.7</td>\n",
       "      <td>12.3</td>\n",
       "      <td>33.6</td>\n",
       "      <td>7.6</td>\n",
       "      <td>12.8</td>\n",
       "      <td>8.1</td>\n",
       "      <td>20.9</td>\n",
       "      <td>491.823193</td>\n",
       "    </tr>\n",
       "  </tbody>\n",
       "</table>\n",
       "<p>5 rows × 28 columns</p>\n",
       "</div>"
      ],
      "text/plain": [
       "        state  person-weight  age   citizenship-status  class-worker  \\\n",
       "542280     HI             87   28              Born-US       Fed-gov   \n",
       "185424     NY            176   70  naturalized-citizen     Local-gov   \n",
       "1075329    VA             28   29              Born-US  Private-prof   \n",
       "374519     TX            271   60              Born-US  Self-emp-inc   \n",
       "920201     NY            298   55       not-US-citizen  Private-prof   \n",
       "\n",
       "                   education marital-status  \\\n",
       "542280   some-college-great1        Married   \n",
       "185424                HSgrad        Married   \n",
       "1075329            associate  Never-married   \n",
       "374519              bachelor        Married   \n",
       "920201                HSgrad        Married   \n",
       "\n",
       "                                         occupation            race     sex  \\\n",
       "542280             MIL-Military, Rank Not Specified     white-alone  female   \n",
       "185424                           MGR-Other Managers     white-alone    male   \n",
       "1075329                       HLS-Home Health Aides     white-alone  female   \n",
       "374519                           MGR-Other Managers     white-alone    male   \n",
       "920201   TRN-Driver/Sales Workers And Truck Drivers  black-aa-alone    male   \n",
       "\n",
       "         ...  med_gross_rent  unemployment_rate insured_rate less_than_9th  \\\n",
       "542280   ...            2281                2.5         97.4           2.7   \n",
       "185424   ...            1507                3.4         88.7          12.3   \n",
       "1075329  ...             992                3.4         92.5           5.1   \n",
       "374519   ...            1327                3.2         92.1           0.5   \n",
       "920201   ...            1507                3.4         88.7          12.3   \n",
       "\n",
       "         hs_grad associates_degree  bach_degree  grad_or_prof_degree  \\\n",
       "542280      23.7              13.5         22.4                 10.8   \n",
       "185424      33.6               7.6         12.8                  8.1   \n",
       "1075329     37.3               7.6         13.1                  7.5   \n",
       "374519      11.0               6.2         36.2                 22.3   \n",
       "920201      33.6               7.6         12.8                  8.1   \n",
       "\n",
       "         bach_degree_or_higher  Incarceration rate per 100000  \n",
       "542280                    33.2                     417.040052  \n",
       "185424                    20.9                     491.823193  \n",
       "1075329                   20.6                     815.395629  \n",
       "374519                    58.5                    1063.428253  \n",
       "920201                    20.9                     491.823193  \n",
       "\n",
       "[5 rows x 28 columns]"
      ]
     },
     "execution_count": 19,
     "metadata": {},
     "output_type": "execute_result"
    }
   ],
   "source": [
    "df = pd.read_csv('../final_data/2019_ALL_joins_reduced.csv').sample(frac=1)\n",
    "df.head()"
   ]
  },
  {
   "cell_type": "code",
   "execution_count": 4,
   "metadata": {},
   "outputs": [
    {
     "data": {
      "text/html": [
       "<div>\n",
       "<style scoped>\n",
       "    .dataframe tbody tr th:only-of-type {\n",
       "        vertical-align: middle;\n",
       "    }\n",
       "\n",
       "    .dataframe tbody tr th {\n",
       "        vertical-align: top;\n",
       "    }\n",
       "\n",
       "    .dataframe thead th {\n",
       "        text-align: right;\n",
       "    }\n",
       "</style>\n",
       "<table border=\"1\" class=\"dataframe\">\n",
       "  <thead>\n",
       "    <tr style=\"text-align: right;\">\n",
       "      <th></th>\n",
       "      <th>Geographic-division</th>\n",
       "      <th>region</th>\n",
       "      <th>state</th>\n",
       "      <th>RT</th>\n",
       "      <th>person-weight</th>\n",
       "      <th>age</th>\n",
       "      <th>citizenship-status</th>\n",
       "      <th>class-worker</th>\n",
       "      <th>education</th>\n",
       "      <th>marital-status</th>\n",
       "      <th>...</th>\n",
       "      <th>Incarceration rate: White alone</th>\n",
       "      <th>Incarceration rate: Black or African American alone</th>\n",
       "      <th>Incarceration rate: American Indian and Alaska Native alone</th>\n",
       "      <th>Incarceration rate: Asian alone</th>\n",
       "      <th>Incarceration rate: Native Hawaiian and other Pacific Islander alone</th>\n",
       "      <th>Incarceration rate: Some other race alone</th>\n",
       "      <th>Incarceration rate: Two or more races</th>\n",
       "      <th>Incarceration rate: Hispanic or Latino</th>\n",
       "      <th>Incarceration rate: White alone, not Hispanic or Latino</th>\n",
       "      <th>income</th>\n",
       "    </tr>\n",
       "  </thead>\n",
       "  <tbody>\n",
       "    <tr>\n",
       "      <th>106168</th>\n",
       "      <td>Pacific</td>\n",
       "      <td>West</td>\n",
       "      <td>CA</td>\n",
       "      <td>P</td>\n",
       "      <td>114</td>\n",
       "      <td>23</td>\n",
       "      <td>Born-US</td>\n",
       "      <td>Private-prof</td>\n",
       "      <td>HSgrad</td>\n",
       "      <td>Never-married</td>\n",
       "      <td>...</td>\n",
       "      <td>605.996084</td>\n",
       "      <td>3036.268547</td>\n",
       "      <td>996.414012</td>\n",
       "      <td>94.424879</td>\n",
       "      <td>617.788428</td>\n",
       "      <td>703.884463</td>\n",
       "      <td>188.775488</td>\n",
       "      <td>756.679936</td>\n",
       "      <td>453.449136</td>\n",
       "      <td>&lt;=50K</td>\n",
       "    </tr>\n",
       "    <tr>\n",
       "      <th>1445032</th>\n",
       "      <td>West South Central</td>\n",
       "      <td>South</td>\n",
       "      <td>TX</td>\n",
       "      <td>P</td>\n",
       "      <td>70</td>\n",
       "      <td>68</td>\n",
       "      <td>naturalized-citizen</td>\n",
       "      <td>Self-emp-not-inc</td>\n",
       "      <td>bachelor</td>\n",
       "      <td>Married</td>\n",
       "      <td>...</td>\n",
       "      <td>843.762174</td>\n",
       "      <td>2854.646835</td>\n",
       "      <td>584.891093</td>\n",
       "      <td>172.611124</td>\n",
       "      <td>323.236055</td>\n",
       "      <td>1079.147366</td>\n",
       "      <td>278.644656</td>\n",
       "      <td>971.734147</td>\n",
       "      <td>768.328062</td>\n",
       "      <td>&gt;50K</td>\n",
       "    </tr>\n",
       "    <tr>\n",
       "      <th>750930</th>\n",
       "      <td>New England</td>\n",
       "      <td>Northeast</td>\n",
       "      <td>MA</td>\n",
       "      <td>P</td>\n",
       "      <td>59</td>\n",
       "      <td>49</td>\n",
       "      <td>Born-US</td>\n",
       "      <td>Private-nonprof</td>\n",
       "      <td>master</td>\n",
       "      <td>Never-married</td>\n",
       "      <td>...</td>\n",
       "      <td>310.660339</td>\n",
       "      <td>1502.308942</td>\n",
       "      <td>981.432361</td>\n",
       "      <td>64.328355</td>\n",
       "      <td>719.748088</td>\n",
       "      <td>387.349214</td>\n",
       "      <td>111.625960</td>\n",
       "      <td>927.581119</td>\n",
       "      <td>241.032739</td>\n",
       "      <td>&gt;50K</td>\n",
       "    </tr>\n",
       "    <tr>\n",
       "      <th>794855</th>\n",
       "      <td>East North Central</td>\n",
       "      <td>Midwest</td>\n",
       "      <td>MI</td>\n",
       "      <td>P</td>\n",
       "      <td>30</td>\n",
       "      <td>46</td>\n",
       "      <td>Born-US</td>\n",
       "      <td>Private-prof</td>\n",
       "      <td>HSgrad</td>\n",
       "      <td>Divorced</td>\n",
       "      <td>...</td>\n",
       "      <td>388.319031</td>\n",
       "      <td>2168.510714</td>\n",
       "      <td>924.089216</td>\n",
       "      <td>89.421030</td>\n",
       "      <td>268.817204</td>\n",
       "      <td>170.714621</td>\n",
       "      <td>161.080936</td>\n",
       "      <td>588.278432</td>\n",
       "      <td>373.754663</td>\n",
       "      <td>&lt;=50K</td>\n",
       "    </tr>\n",
       "    <tr>\n",
       "      <th>956655</th>\n",
       "      <td>Middle Atlantic</td>\n",
       "      <td>Northeast</td>\n",
       "      <td>NJ</td>\n",
       "      <td>P</td>\n",
       "      <td>69</td>\n",
       "      <td>39</td>\n",
       "      <td>Born-US</td>\n",
       "      <td>Self-emp-not-inc</td>\n",
       "      <td>master</td>\n",
       "      <td>Married</td>\n",
       "      <td>...</td>\n",
       "      <td>274.710876</td>\n",
       "      <td>1991.905885</td>\n",
       "      <td>726.934472</td>\n",
       "      <td>50.983429</td>\n",
       "      <td>1577.390733</td>\n",
       "      <td>451.295464</td>\n",
       "      <td>312.522108</td>\n",
       "      <td>608.946824</td>\n",
       "      <td>218.298491</td>\n",
       "      <td>&lt;=50K</td>\n",
       "    </tr>\n",
       "  </tbody>\n",
       "</table>\n",
       "<p>5 rows × 45 columns</p>\n",
       "</div>"
      ],
      "text/plain": [
       "        Geographic-division     region state RT  person-weight  age  \\\n",
       "106168              Pacific       West    CA  P            114   23   \n",
       "1445032  West South Central      South    TX  P             70   68   \n",
       "750930          New England  Northeast    MA  P             59   49   \n",
       "794855   East North Central    Midwest    MI  P             30   46   \n",
       "956655      Middle Atlantic  Northeast    NJ  P             69   39   \n",
       "\n",
       "          citizenship-status      class-worker education marital-status  ...  \\\n",
       "106168               Born-US      Private-prof    HSgrad  Never-married  ...   \n",
       "1445032  naturalized-citizen  Self-emp-not-inc  bachelor        Married  ...   \n",
       "750930               Born-US   Private-nonprof    master  Never-married  ...   \n",
       "794855               Born-US      Private-prof    HSgrad       Divorced  ...   \n",
       "956655               Born-US  Self-emp-not-inc    master        Married  ...   \n",
       "\n",
       "        Incarceration rate: White alone  \\\n",
       "106168                       605.996084   \n",
       "1445032                      843.762174   \n",
       "750930                       310.660339   \n",
       "794855                       388.319031   \n",
       "956655                       274.710876   \n",
       "\n",
       "         Incarceration rate: Black or African American alone  \\\n",
       "106168                                         3036.268547     \n",
       "1445032                                        2854.646835     \n",
       "750930                                         1502.308942     \n",
       "794855                                         2168.510714     \n",
       "956655                                         1991.905885     \n",
       "\n",
       "        Incarceration rate: American Indian and Alaska Native alone  \\\n",
       "106168                                          996.414012            \n",
       "1445032                                         584.891093            \n",
       "750930                                          981.432361            \n",
       "794855                                          924.089216            \n",
       "956655                                          726.934472            \n",
       "\n",
       "        Incarceration rate: Asian alone  \\\n",
       "106168                        94.424879   \n",
       "1445032                      172.611124   \n",
       "750930                        64.328355   \n",
       "794855                        89.421030   \n",
       "956655                        50.983429   \n",
       "\n",
       "         Incarceration rate: Native Hawaiian and other Pacific Islander alone  \\\n",
       "106168                                          617.788428                      \n",
       "1445032                                         323.236055                      \n",
       "750930                                          719.748088                      \n",
       "794855                                          268.817204                      \n",
       "956655                                         1577.390733                      \n",
       "\n",
       "         Incarceration rate: Some other race alone  \\\n",
       "106168                                  703.884463   \n",
       "1445032                                1079.147366   \n",
       "750930                                  387.349214   \n",
       "794855                                  170.714621   \n",
       "956655                                  451.295464   \n",
       "\n",
       "        Incarceration rate: Two or more races  \\\n",
       "106168                             188.775488   \n",
       "1445032                            278.644656   \n",
       "750930                             111.625960   \n",
       "794855                             161.080936   \n",
       "956655                             312.522108   \n",
       "\n",
       "        Incarceration rate: Hispanic or Latino  \\\n",
       "106168                              756.679936   \n",
       "1445032                             971.734147   \n",
       "750930                              927.581119   \n",
       "794855                              588.278432   \n",
       "956655                              608.946824   \n",
       "\n",
       "        Incarceration rate: White alone, not Hispanic or Latino  income  \n",
       "106168                                          453.449136        <=50K  \n",
       "1445032                                         768.328062         >50K  \n",
       "750930                                          241.032739         >50K  \n",
       "794855                                          373.754663        <=50K  \n",
       "956655                                          218.298491        <=50K  \n",
       "\n",
       "[5 rows x 45 columns]"
      ]
     },
     "execution_count": 4,
     "metadata": {},
     "output_type": "execute_result"
    }
   ],
   "source": [
    "df.loc[df['income'] <= 50000, 'income_adjusted'] = '<=50K'\n",
    "df.loc[df['income'] > 50000, 'income_adjusted'] = '>50K' \n",
    "\n",
    "df = df.drop(columns=['income']).rename(columns={'income_adjusted': 'income'})#.dropna()\n",
    "\n",
    "df['field-of-degree'] = df['field-of-degree'].fillna('Unknown')\n",
    "df['stem-degree'] = df['stem-degree'].fillna('Unknown')\n",
    "# df['less_than_9th'] = df['less_than_9th'].fillna(-1.0)\n",
    "# df['9th_to_12th'] = df['9th_to_12th'].fillna(-1.0)\n",
    "# df['hs_grad'] = df['hs_grad'].fillna(-1.0)\n",
    "# df['some_college'] = df['some_college'].fillna(-1.0)\n",
    "# df['associates_degree'] = df['associates_degree'].fillna(-1.0)\n",
    "# df['bach_degree'] = df['bach_degree'].fillna(-1.0)\n",
    "# df['grad_or_prof_degree'] = df['grad_or_prof_degree'].fillna(-1.0)\n",
    "# df['hs_or_higher'] = df['hs_or_higher'].fillna(-1.0)\n",
    "# df['bach_degree_or_higher'] = df['bach_degree_or_higher'].fillna(-1.0)\n",
    "\n",
    "# df = df.dropna()\n",
    "\n",
    "df.head()"
   ]
  },
  {
   "cell_type": "code",
   "execution_count": 5,
   "metadata": {},
   "outputs": [
    {
     "data": {
      "text/plain": [
       "Geographic-division                                                     0\n",
       "region                                                                  0\n",
       "state                                                                   0\n",
       "RT                                                                      0\n",
       "person-weight                                                           0\n",
       "age                                                                     0\n",
       "citizenship-status                                                      0\n",
       "class-worker                                                            0\n",
       "education                                                               0\n",
       "marital-status                                                          0\n",
       "occupation                                                              0\n",
       "relationship                                                            0\n",
       "race                                                                    0\n",
       "sex                                                                     0\n",
       "extra-income                                                            0\n",
       "hours-per-week                                                          0\n",
       "field-of-degree                                                         0\n",
       "place-of-birth                                                          0\n",
       "stem-degree                                                             0\n",
       "full PUMA                                                               0\n",
       "med_home_value                                                          0\n",
       "med_gross_rent                                                          0\n",
       "unemployment_rate                                                       0\n",
       "insured_rate                                                            0\n",
       "uninsured_rate                                                          0\n",
       "less_than_9th                                                           0\n",
       "9th_to_12th                                                             0\n",
       "hs_grad                                                                 0\n",
       "some_college                                                            0\n",
       "associates_degree                                                       0\n",
       "bach_degree                                                             0\n",
       "grad_or_prof_degree                                                     0\n",
       "hs_or_higher                                                            0\n",
       "bach_degree_or_higher                                                   0\n",
       "Incarceration rate per 100000                                           0\n",
       "Incarceration rate: White alone                                         0\n",
       "Incarceration rate: Black or African American alone                     0\n",
       "Incarceration rate: American Indian and Alaska Native alone             0\n",
       "Incarceration rate: Asian alone                                         0\n",
       "Incarceration rate: Native Hawaiian and other Pacific Islander alone    0\n",
       "Incarceration rate: Some other race alone                               0\n",
       "Incarceration rate: Two or more races                                   0\n",
       "Incarceration rate: Hispanic or Latino                                  0\n",
       "Incarceration rate: White alone, not Hispanic or Latino                 0\n",
       "income                                                                  0\n",
       "dtype: int64"
      ]
     },
     "execution_count": 5,
     "metadata": {},
     "output_type": "execute_result"
    }
   ],
   "source": [
    "df.isnull().sum()"
   ]
  },
  {
   "cell_type": "code",
   "execution_count": 6,
   "metadata": {},
   "outputs": [],
   "source": [
    "# df[\"income\"].replace({'<=50K': 0, '>50K': 1}, inplace=True)\n",
    "# df.head()"
   ]
  },
  {
   "cell_type": "code",
   "execution_count": 7,
   "metadata": {},
   "outputs": [],
   "source": [
    "X = df.drop(columns=['income'], axis = 1)\n",
    "y = df[['income']].to_numpy()"
   ]
  },
  {
   "cell_type": "code",
   "execution_count": 8,
   "metadata": {},
   "outputs": [],
   "source": [
    "labels = np.unique(y)\n",
    "features = list(X.columns)"
   ]
  },
  {
   "cell_type": "markdown",
   "metadata": {},
   "source": [
    "### Pre-process categorical variables"
   ]
  },
  {
   "cell_type": "code",
   "execution_count": 9,
   "metadata": {},
   "outputs": [],
   "source": [
    "cat_var = ['Geographic-division', 'region', 'state', 'RT', 'citizenship-status', 'class-worker', 'education', 'marital-status', 'occupation', 'relationship', 'race', 'sex', 'field-of-degree', 'place-of-birth', 'stem-degree']\n",
    "for f in cat_var:\n",
    "    enc = preprocessing.LabelEncoder()\n",
    "    X[f] = enc.fit_transform(X[f])\n",
    "\n",
    "scaler = preprocessing.StandardScaler()\n",
    "X = pd.DataFrame(scaler.fit_transform(X), columns = X.columns)"
   ]
  },
  {
   "cell_type": "markdown",
   "metadata": {},
   "source": [
    "### Split data into test and training"
   ]
  },
  {
   "cell_type": "code",
   "execution_count": 10,
   "metadata": {},
   "outputs": [],
   "source": [
    "X_train, X_test, y_train, y_test = train_test_split(X, y, test_size=0.2)"
   ]
  },
  {
   "cell_type": "code",
   "execution_count": 11,
   "metadata": {},
   "outputs": [
    {
     "data": {
      "text/plain": [
       "334460"
      ]
     },
     "execution_count": 11,
     "metadata": {},
     "output_type": "execute_result"
    }
   ],
   "source": [
    "len(X_test)"
   ]
  },
  {
   "cell_type": "markdown",
   "metadata": {},
   "source": [
    "## Train Models and Establish Baseline Scores"
   ]
  },
  {
   "cell_type": "markdown",
   "metadata": {},
   "source": [
    "### Random Forest"
   ]
  },
  {
   "cell_type": "code",
   "execution_count": 12,
   "metadata": {},
   "outputs": [],
   "source": [
    "# Train model, get predictions\n",
    "model = RandomForestClassifier()\n",
    "model.fit(X, y)\n",
    "y_pred = model.predict(X_test)\n",
    "y_probas = model.predict_proba(X_test)\n",
    "importances = model.feature_importances_\n",
    "indices = np.argsort(importances)[::-1]"
   ]
  },
  {
   "cell_type": "code",
   "execution_count": 13,
   "metadata": {},
   "outputs": [
    {
     "name": "stdout",
     "output_type": "stream",
     "text": [
      "<class 'pandas.core.frame.DataFrame'>\n",
      "Int64Index: 1337840 entries, 233994 to 1122761\n",
      "Data columns (total 44 columns):\n",
      " #   Column                                                                Non-Null Count    Dtype  \n",
      "---  ------                                                                --------------    -----  \n",
      " 0   Geographic-division                                                   1337840 non-null  float64\n",
      " 1   region                                                                1337840 non-null  float64\n",
      " 2   state                                                                 1337840 non-null  float64\n",
      " 3   RT                                                                    1337840 non-null  float64\n",
      " 4   person-weight                                                         1337840 non-null  float64\n",
      " 5   age                                                                   1337840 non-null  float64\n",
      " 6   citizenship-status                                                    1337840 non-null  float64\n",
      " 7   class-worker                                                          1337840 non-null  float64\n",
      " 8   education                                                             1337840 non-null  float64\n",
      " 9   marital-status                                                        1337840 non-null  float64\n",
      " 10  occupation                                                            1337840 non-null  float64\n",
      " 11  relationship                                                          1337840 non-null  float64\n",
      " 12  race                                                                  1337840 non-null  float64\n",
      " 13  sex                                                                   1337840 non-null  float64\n",
      " 14  extra-income                                                          1337840 non-null  float64\n",
      " 15  hours-per-week                                                        1337840 non-null  float64\n",
      " 16  field-of-degree                                                       1337840 non-null  float64\n",
      " 17  place-of-birth                                                        1337840 non-null  float64\n",
      " 18  stem-degree                                                           1337840 non-null  float64\n",
      " 19  full PUMA                                                             1337840 non-null  float64\n",
      " 20  med_home_value                                                        1337840 non-null  float64\n",
      " 21  med_gross_rent                                                        1337840 non-null  float64\n",
      " 22  unemployment_rate                                                     1337840 non-null  float64\n",
      " 23  insured_rate                                                          1337840 non-null  float64\n",
      " 24  uninsured_rate                                                        1337840 non-null  float64\n",
      " 25  less_than_9th                                                         1337840 non-null  float64\n",
      " 26  9th_to_12th                                                           1337840 non-null  float64\n",
      " 27  hs_grad                                                               1337840 non-null  float64\n",
      " 28  some_college                                                          1337840 non-null  float64\n",
      " 29  associates_degree                                                     1337840 non-null  float64\n",
      " 30  bach_degree                                                           1337840 non-null  float64\n",
      " 31  grad_or_prof_degree                                                   1337840 non-null  float64\n",
      " 32  hs_or_higher                                                          1337840 non-null  float64\n",
      " 33  bach_degree_or_higher                                                 1337840 non-null  float64\n",
      " 34  Incarceration rate per 100000                                         1337840 non-null  float64\n",
      " 35  Incarceration rate: White alone                                       1337840 non-null  float64\n",
      " 36  Incarceration rate: Black or African American alone                   1337840 non-null  float64\n",
      " 37  Incarceration rate: American Indian and Alaska Native alone           1337840 non-null  float64\n",
      " 38  Incarceration rate: Asian alone                                       1337840 non-null  float64\n",
      " 39  Incarceration rate: Native Hawaiian and other Pacific Islander alone  1337840 non-null  float64\n",
      " 40  Incarceration rate: Some other race alone                             1337840 non-null  float64\n",
      " 41  Incarceration rate: Two or more races                                 1337840 non-null  float64\n",
      " 42  Incarceration rate: Hispanic or Latino                                1337840 non-null  float64\n",
      " 43  Incarceration rate: White alone, not Hispanic or Latino               1337840 non-null  float64\n",
      "dtypes: float64(44)\n",
      "memory usage: 459.3 MB\n",
      "None\n"
     ]
    }
   ],
   "source": [
    "print(X_train.info())"
   ]
  },
  {
   "cell_type": "code",
   "execution_count": 14,
   "metadata": {},
   "outputs": [
    {
     "name": "stderr",
     "output_type": "stream",
     "text": [
      "wandb: \n",
      "wandb: Plotting RandomForest.\n",
      "wandb: Logged feature importances.\n",
      "wandb: Logged learning curve.\n",
      "wandb: Logged confusion matrix.\n",
      "wandb: Logged summary metrics.\n",
      "wandb: Logged class proportions.\n",
      "wandb: Logged calibration curve.\n",
      "wandb: Logged roc curve.\n",
      "wandb: Logged precision recall curve.\n"
     ]
    }
   ],
   "source": [
    "# Visualize model performance\n",
    "wandb.sklearn.plot_classifier(\n",
    "    model, X_train, X_test, y_train, y_test, y_pred, y_probas, labels,\n",
    "    is_binary=True, model_name='RandomForest', feature_names=features)"
   ]
  },
  {
   "cell_type": "markdown",
   "metadata": {},
   "source": [
    "### K-Nearest Neighbors"
   ]
  },
  {
   "cell_type": "code",
   "execution_count": 110,
   "metadata": {},
   "outputs": [],
   "source": [
    "# Train model, get predictions\n",
    "model = KNeighborsClassifier(n_neighbors=9)\n",
    "model.fit(X, y)\n",
    "y_pred = model.predict(X_test)\n",
    "y_probas = model.predict_proba(X_test)\n",
    "# importances = model.feature_importances_\n",
    "# indices = np.argsort(importances)[::-1]"
   ]
  },
  {
   "cell_type": "code",
   "execution_count": 111,
   "metadata": {},
   "outputs": [
    {
     "name": "stderr",
     "output_type": "stream",
     "text": [
      "wandb: \n",
      "wandb: Plotting KNN.\n",
      "wandb: WARNING feature_importances_ or coef_ attribute not in classifier. Cannot plot feature importances.\n",
      "wandb: Logged feature importances.\n",
      "wandb: Logged learning curve.\n",
      "wandb: Logged confusion matrix.\n",
      "wandb: Logged summary metrics.\n",
      "wandb: Logged class proportions.\n",
      "wandb: Logged calibration curve.\n",
      "wandb: Logged roc curve.\n",
      "wandb: Logged precision recall curve.\n"
     ]
    }
   ],
   "source": [
    "# visualize model\n",
    "wandb.sklearn.plot_classifier(model, X_train, X_test, y_train, y_test, y_pred, y_probas, labels, True, 'KNN', features)\n",
    "wandb.log({'roc': wandb.plots.ROC(y_test, y_probas, labels)})\n",
    "wandb.log({'pr': wandb.plots.precision_recall(y_test, y_probas, labels)})"
   ]
  },
  {
   "cell_type": "markdown",
   "metadata": {},
   "source": [
    "### Logistic Regression"
   ]
  },
  {
   "cell_type": "code",
   "execution_count": 10,
   "metadata": {},
   "outputs": [],
   "source": [
    "# Train model, get predictions\n",
    "model = LogisticRegression()\n",
    "model.fit(X, y)\n",
    "y_pred = model.predict(X_test)\n",
    "y_probas = model.predict_proba(X_test)\n",
    "importances = model.coef_\n",
    "indices = np.argsort(importances)[::-1]"
   ]
  },
  {
   "cell_type": "code",
   "execution_count": 11,
   "metadata": {},
   "outputs": [
    {
     "name": "stderr",
     "output_type": "stream",
     "text": [
      "wandb: \n",
      "wandb: Plotting LogisticRegression.\n",
      "wandb: Logged feature importances.\n",
      "wandb: Logged learning curve.\n",
      "wandb: Logged confusion matrix.\n",
      "wandb: Logged summary metrics.\n",
      "wandb: Logged class proportions.\n",
      "wandb: Logged calibration curve.\n",
      "wandb: Logged roc curve.\n",
      "wandb: Logged precision recall curve.\n"
     ]
    }
   ],
   "source": [
    "# Visualize model performance\n",
    "wandb.sklearn.plot_classifier(\n",
    "    model, X_train, X_test, y_train, y_test, y_pred, y_probas, labels,\n",
    "    is_binary=True, model_name='LogisticRegression', feature_names=features)"
   ]
  },
  {
   "cell_type": "code",
   "execution_count": 15,
   "metadata": {},
   "outputs": [
    {
     "name": "stdout",
     "output_type": "stream",
     "text": [
      "              precision    recall  f1-score   support\n",
      "\n",
      "       <=50K       0.85      0.94      0.89      4965\n",
      "        >50K       0.72      0.46      0.56      1548\n",
      "\n",
      "    accuracy                           0.83      6513\n",
      "   macro avg       0.78      0.70      0.73      6513\n",
      "weighted avg       0.82      0.83      0.81      6513\n",
      "\n"
     ]
    }
   ],
   "source": [
    "print(classification_report(y_test, y_pred, target_names=labels))"
   ]
  },
  {
   "cell_type": "code",
   "execution_count": null,
   "metadata": {},
   "outputs": [],
   "source": []
  }
 ],
 "metadata": {
  "kernelspec": {
   "display_name": "Python 3",
   "language": "python",
   "name": "python3"
  },
  "language_info": {
   "codemirror_mode": {
    "name": "ipython",
    "version": 3
   },
   "file_extension": ".py",
   "mimetype": "text/x-python",
   "name": "python",
   "nbconvert_exporter": "python",
   "pygments_lexer": "ipython3",
   "version": "3.7.6"
  }
 },
 "nbformat": 4,
 "nbformat_minor": 4
}
