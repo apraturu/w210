{
 "cells": [
  {
   "cell_type": "markdown",
   "metadata": {},
   "source": [
    "# Run Models on 2019 Data Joined with Unemployment\n",
    "#### 10/30/2020\n",
    "---"
   ]
  },
  {
   "cell_type": "markdown",
   "metadata": {},
   "source": [
    "## Load and Process Dataset\n",
    "### Import Libraries"
   ]
  },
  {
   "cell_type": "code",
   "execution_count": 1,
   "metadata": {},
   "outputs": [],
   "source": [
    "import pandas as pd\n",
    "import numpy as np\n",
    "from sklearn.neighbors import KNeighborsClassifier\n",
    "from sklearn import preprocessing\n",
    "from sklearn.linear_model import LinearRegression, LogisticRegression\n",
    "from sklearn.model_selection import train_test_split\n",
    "from sklearn.ensemble import RandomForestClassifier\n",
    "from sklearn.metrics import classification_report\n",
    "import matplotlib.pyplot as plt\n",
    "import wandb\n",
    "import warnings\n",
    "warnings.filterwarnings('ignore')"
   ]
  },
  {
   "cell_type": "code",
   "execution_count": 2,
   "metadata": {},
   "outputs": [
    {
     "name": "stderr",
     "output_type": "stream",
     "text": [
      "wandb: Currently logged in as: apraturu (use `wandb login --relogin` to force relogin)\n"
     ]
    },
    {
     "data": {
      "text/html": [
       "\n",
       "                Tracking run with wandb version 0.10.8<br/>\n",
       "                Syncing run <strong style=\"color:#cdcd00\">evil-wendigo-1</strong> to <a href=\"https://wandb.ai\" target=\"_blank\">Weights & Biases</a> <a href=\"https://docs.wandb.com/integrations/jupyter.html\" target=\"_blank\">(Documentation)</a>.<br/>\n",
       "                Project page: <a href=\"https://wandb.ai/apraturu/2019_newvar_unemployment\" target=\"_blank\">https://wandb.ai/apraturu/2019_newvar_unemployment</a><br/>\n",
       "                Run page: <a href=\"https://wandb.ai/apraturu/2019_newvar_unemployment/runs/17sb8dvz\" target=\"_blank\">https://wandb.ai/apraturu/2019_newvar_unemployment/runs/17sb8dvz</a><br/>\n",
       "                Run data is saved locally in <code>wandb/run-20201030_161418-17sb8dvz</code><br/><br/>\n",
       "            "
      ],
      "text/plain": [
       "<IPython.core.display.HTML object>"
      ]
     },
     "metadata": {},
     "output_type": "display_data"
    },
    {
     "data": {
      "text/html": [
       "<h1>Run(17sb8dvz)</h1><p></p><iframe src=\"https://wandb.ai/apraturu/2019_newvar_unemployment/runs/17sb8dvz\" style=\"border:none;width:100%;height:400px\"></iframe>"
      ],
      "text/plain": [
       "<wandb.sdk.wandb_run.Run at 0x7ff5ccb47410>"
      ]
     },
     "execution_count": 2,
     "metadata": {},
     "output_type": "execute_result"
    }
   ],
   "source": [
    "wandb.init(project=\"2019_newvar_unemployment\")"
   ]
  },
  {
   "cell_type": "markdown",
   "metadata": {},
   "source": [
    "### Read in `adult.csv` data"
   ]
  },
  {
   "cell_type": "code",
   "execution_count": 15,
   "metadata": {},
   "outputs": [
    {
     "data": {
      "text/html": [
       "<div>\n",
       "<style scoped>\n",
       "    .dataframe tbody tr th:only-of-type {\n",
       "        vertical-align: middle;\n",
       "    }\n",
       "\n",
       "    .dataframe tbody tr th {\n",
       "        vertical-align: top;\n",
       "    }\n",
       "\n",
       "    .dataframe thead th {\n",
       "        text-align: right;\n",
       "    }\n",
       "</style>\n",
       "<table border=\"1\" class=\"dataframe\">\n",
       "  <thead>\n",
       "    <tr style=\"text-align: right;\">\n",
       "      <th></th>\n",
       "      <th>Geographic-division</th>\n",
       "      <th>region</th>\n",
       "      <th>state</th>\n",
       "      <th>RT</th>\n",
       "      <th>person-weight</th>\n",
       "      <th>age</th>\n",
       "      <th>citizenship-status</th>\n",
       "      <th>class-worker</th>\n",
       "      <th>education</th>\n",
       "      <th>marital-status</th>\n",
       "      <th>...</th>\n",
       "      <th>race</th>\n",
       "      <th>sex</th>\n",
       "      <th>extra-income</th>\n",
       "      <th>hours-per-week</th>\n",
       "      <th>field-of-degree</th>\n",
       "      <th>place-of-birth</th>\n",
       "      <th>income</th>\n",
       "      <th>stem-degree</th>\n",
       "      <th>full PUMA</th>\n",
       "      <th>unemployment_rate</th>\n",
       "    </tr>\n",
       "  </thead>\n",
       "  <tbody>\n",
       "    <tr>\n",
       "      <th>749803</th>\n",
       "      <td>East North Central</td>\n",
       "      <td>Midwest</td>\n",
       "      <td>18</td>\n",
       "      <td>P</td>\n",
       "      <td>48</td>\n",
       "      <td>35</td>\n",
       "      <td>Born-US</td>\n",
       "      <td>Private-prof</td>\n",
       "      <td>associate</td>\n",
       "      <td>Married</td>\n",
       "      <td>...</td>\n",
       "      <td>black-aa-alone</td>\n",
       "      <td>female</td>\n",
       "      <td>0.0</td>\n",
       "      <td>40.0</td>\n",
       "      <td>NaN</td>\n",
       "      <td>Indiana/IN</td>\n",
       "      <td>21100.0</td>\n",
       "      <td>NaN</td>\n",
       "      <td>1802305</td>\n",
       "      <td>NaN</td>\n",
       "    </tr>\n",
       "    <tr>\n",
       "      <th>330259</th>\n",
       "      <td>Pacific</td>\n",
       "      <td>West</td>\n",
       "      <td>6</td>\n",
       "      <td>P</td>\n",
       "      <td>45</td>\n",
       "      <td>62</td>\n",
       "      <td>Born-US</td>\n",
       "      <td>Private-prof</td>\n",
       "      <td>HSgrad</td>\n",
       "      <td>Married</td>\n",
       "      <td>...</td>\n",
       "      <td>white-alone</td>\n",
       "      <td>female</td>\n",
       "      <td>0.0</td>\n",
       "      <td>35.0</td>\n",
       "      <td>NaN</td>\n",
       "      <td>Arizona/AZ</td>\n",
       "      <td>20000.0</td>\n",
       "      <td>NaN</td>\n",
       "      <td>607106</td>\n",
       "      <td>4.7</td>\n",
       "    </tr>\n",
       "    <tr>\n",
       "      <th>501054</th>\n",
       "      <td>South Atlantic</td>\n",
       "      <td>South</td>\n",
       "      <td>12</td>\n",
       "      <td>P</td>\n",
       "      <td>54</td>\n",
       "      <td>46</td>\n",
       "      <td>Born-US</td>\n",
       "      <td>Private-prof</td>\n",
       "      <td>grade11</td>\n",
       "      <td>Never-married</td>\n",
       "      <td>...</td>\n",
       "      <td>white-alone</td>\n",
       "      <td>male</td>\n",
       "      <td>0.0</td>\n",
       "      <td>48.0</td>\n",
       "      <td>NaN</td>\n",
       "      <td>Florida/FL</td>\n",
       "      <td>15000.0</td>\n",
       "      <td>NaN</td>\n",
       "      <td>1201701</td>\n",
       "      <td>NaN</td>\n",
       "    </tr>\n",
       "    <tr>\n",
       "      <th>107359</th>\n",
       "      <td>Mountain</td>\n",
       "      <td>West</td>\n",
       "      <td>4</td>\n",
       "      <td>P</td>\n",
       "      <td>57</td>\n",
       "      <td>46</td>\n",
       "      <td>Born-US</td>\n",
       "      <td>Self-emp-inc</td>\n",
       "      <td>prof-school</td>\n",
       "      <td>Married</td>\n",
       "      <td>...</td>\n",
       "      <td>white-alone</td>\n",
       "      <td>female</td>\n",
       "      <td>0.0</td>\n",
       "      <td>50.0</td>\n",
       "      <td>Chemistry</td>\n",
       "      <td>Hawaii/HI</td>\n",
       "      <td>100000.0</td>\n",
       "      <td>Yes</td>\n",
       "      <td>400102</td>\n",
       "      <td>4.0</td>\n",
       "    </tr>\n",
       "    <tr>\n",
       "      <th>173105</th>\n",
       "      <td>Pacific</td>\n",
       "      <td>West</td>\n",
       "      <td>6</td>\n",
       "      <td>P</td>\n",
       "      <td>30</td>\n",
       "      <td>36</td>\n",
       "      <td>Born-US</td>\n",
       "      <td>Private-prof</td>\n",
       "      <td>grade12-nograd</td>\n",
       "      <td>Married</td>\n",
       "      <td>...</td>\n",
       "      <td>white-alone</td>\n",
       "      <td>female</td>\n",
       "      <td>0.0</td>\n",
       "      <td>25.0</td>\n",
       "      <td>NaN</td>\n",
       "      <td>Kentucky/KY</td>\n",
       "      <td>14000.0</td>\n",
       "      <td>NaN</td>\n",
       "      <td>603742</td>\n",
       "      <td>8.2</td>\n",
       "    </tr>\n",
       "  </tbody>\n",
       "</table>\n",
       "<p>5 rows × 22 columns</p>\n",
       "</div>"
      ],
      "text/plain": [
       "       Geographic-division   region  state RT  person-weight  age  \\\n",
       "749803  East North Central  Midwest     18  P             48   35   \n",
       "330259             Pacific     West      6  P             45   62   \n",
       "501054      South Atlantic    South     12  P             54   46   \n",
       "107359            Mountain     West      4  P             57   46   \n",
       "173105             Pacific     West      6  P             30   36   \n",
       "\n",
       "       citizenship-status  class-worker       education marital-status  ...  \\\n",
       "749803            Born-US  Private-prof       associate        Married  ...   \n",
       "330259            Born-US  Private-prof          HSgrad        Married  ...   \n",
       "501054            Born-US  Private-prof         grade11  Never-married  ...   \n",
       "107359            Born-US  Self-emp-inc     prof-school        Married  ...   \n",
       "173105            Born-US  Private-prof  grade12-nograd        Married  ...   \n",
       "\n",
       "                  race     sex extra-income hours-per-week  field-of-degree  \\\n",
       "749803  black-aa-alone  female          0.0           40.0              NaN   \n",
       "330259     white-alone  female          0.0           35.0              NaN   \n",
       "501054     white-alone    male          0.0           48.0              NaN   \n",
       "107359     white-alone  female          0.0           50.0        Chemistry   \n",
       "173105     white-alone  female          0.0           25.0              NaN   \n",
       "\n",
       "        place-of-birth    income stem-degree  full PUMA unemployment_rate  \n",
       "749803      Indiana/IN   21100.0         NaN    1802305               NaN  \n",
       "330259      Arizona/AZ   20000.0         NaN     607106               4.7  \n",
       "501054      Florida/FL   15000.0         NaN    1201701               NaN  \n",
       "107359       Hawaii/HI  100000.0         Yes     400102               4.0  \n",
       "173105     Kentucky/KY   14000.0         NaN     603742               8.2  \n",
       "\n",
       "[5 rows x 22 columns]"
      ]
     },
     "execution_count": 15,
     "metadata": {},
     "output_type": "execute_result"
    }
   ],
   "source": [
    "df = pd.read_csv('../final_data/2019_new-var_unemployment.csv').sample(frac=1)\n",
    "df.head()"
   ]
  },
  {
   "cell_type": "code",
   "execution_count": 16,
   "metadata": {},
   "outputs": [
    {
     "data": {
      "text/html": [
       "<div>\n",
       "<style scoped>\n",
       "    .dataframe tbody tr th:only-of-type {\n",
       "        vertical-align: middle;\n",
       "    }\n",
       "\n",
       "    .dataframe tbody tr th {\n",
       "        vertical-align: top;\n",
       "    }\n",
       "\n",
       "    .dataframe thead th {\n",
       "        text-align: right;\n",
       "    }\n",
       "</style>\n",
       "<table border=\"1\" class=\"dataframe\">\n",
       "  <thead>\n",
       "    <tr style=\"text-align: right;\">\n",
       "      <th></th>\n",
       "      <th>Geographic-division</th>\n",
       "      <th>region</th>\n",
       "      <th>state</th>\n",
       "      <th>RT</th>\n",
       "      <th>person-weight</th>\n",
       "      <th>age</th>\n",
       "      <th>citizenship-status</th>\n",
       "      <th>class-worker</th>\n",
       "      <th>education</th>\n",
       "      <th>marital-status</th>\n",
       "      <th>...</th>\n",
       "      <th>race</th>\n",
       "      <th>sex</th>\n",
       "      <th>extra-income</th>\n",
       "      <th>hours-per-week</th>\n",
       "      <th>field-of-degree</th>\n",
       "      <th>place-of-birth</th>\n",
       "      <th>stem-degree</th>\n",
       "      <th>full PUMA</th>\n",
       "      <th>unemployment_rate</th>\n",
       "      <th>income</th>\n",
       "    </tr>\n",
       "  </thead>\n",
       "  <tbody>\n",
       "    <tr>\n",
       "      <th>749803</th>\n",
       "      <td>East North Central</td>\n",
       "      <td>Midwest</td>\n",
       "      <td>18</td>\n",
       "      <td>P</td>\n",
       "      <td>48</td>\n",
       "      <td>35</td>\n",
       "      <td>Born-US</td>\n",
       "      <td>Private-prof</td>\n",
       "      <td>associate</td>\n",
       "      <td>Married</td>\n",
       "      <td>...</td>\n",
       "      <td>black-aa-alone</td>\n",
       "      <td>female</td>\n",
       "      <td>0.0</td>\n",
       "      <td>40.0</td>\n",
       "      <td>Unknown</td>\n",
       "      <td>Indiana/IN</td>\n",
       "      <td>Unknown</td>\n",
       "      <td>1802305</td>\n",
       "      <td>-1.0</td>\n",
       "      <td>&lt;=50K</td>\n",
       "    </tr>\n",
       "    <tr>\n",
       "      <th>330259</th>\n",
       "      <td>Pacific</td>\n",
       "      <td>West</td>\n",
       "      <td>6</td>\n",
       "      <td>P</td>\n",
       "      <td>45</td>\n",
       "      <td>62</td>\n",
       "      <td>Born-US</td>\n",
       "      <td>Private-prof</td>\n",
       "      <td>HSgrad</td>\n",
       "      <td>Married</td>\n",
       "      <td>...</td>\n",
       "      <td>white-alone</td>\n",
       "      <td>female</td>\n",
       "      <td>0.0</td>\n",
       "      <td>35.0</td>\n",
       "      <td>Unknown</td>\n",
       "      <td>Arizona/AZ</td>\n",
       "      <td>Unknown</td>\n",
       "      <td>607106</td>\n",
       "      <td>4.7</td>\n",
       "      <td>&lt;=50K</td>\n",
       "    </tr>\n",
       "    <tr>\n",
       "      <th>501054</th>\n",
       "      <td>South Atlantic</td>\n",
       "      <td>South</td>\n",
       "      <td>12</td>\n",
       "      <td>P</td>\n",
       "      <td>54</td>\n",
       "      <td>46</td>\n",
       "      <td>Born-US</td>\n",
       "      <td>Private-prof</td>\n",
       "      <td>grade11</td>\n",
       "      <td>Never-married</td>\n",
       "      <td>...</td>\n",
       "      <td>white-alone</td>\n",
       "      <td>male</td>\n",
       "      <td>0.0</td>\n",
       "      <td>48.0</td>\n",
       "      <td>Unknown</td>\n",
       "      <td>Florida/FL</td>\n",
       "      <td>Unknown</td>\n",
       "      <td>1201701</td>\n",
       "      <td>-1.0</td>\n",
       "      <td>&lt;=50K</td>\n",
       "    </tr>\n",
       "    <tr>\n",
       "      <th>107359</th>\n",
       "      <td>Mountain</td>\n",
       "      <td>West</td>\n",
       "      <td>4</td>\n",
       "      <td>P</td>\n",
       "      <td>57</td>\n",
       "      <td>46</td>\n",
       "      <td>Born-US</td>\n",
       "      <td>Self-emp-inc</td>\n",
       "      <td>prof-school</td>\n",
       "      <td>Married</td>\n",
       "      <td>...</td>\n",
       "      <td>white-alone</td>\n",
       "      <td>female</td>\n",
       "      <td>0.0</td>\n",
       "      <td>50.0</td>\n",
       "      <td>Chemistry</td>\n",
       "      <td>Hawaii/HI</td>\n",
       "      <td>Yes</td>\n",
       "      <td>400102</td>\n",
       "      <td>4.0</td>\n",
       "      <td>&gt;50K</td>\n",
       "    </tr>\n",
       "    <tr>\n",
       "      <th>173105</th>\n",
       "      <td>Pacific</td>\n",
       "      <td>West</td>\n",
       "      <td>6</td>\n",
       "      <td>P</td>\n",
       "      <td>30</td>\n",
       "      <td>36</td>\n",
       "      <td>Born-US</td>\n",
       "      <td>Private-prof</td>\n",
       "      <td>grade12-nograd</td>\n",
       "      <td>Married</td>\n",
       "      <td>...</td>\n",
       "      <td>white-alone</td>\n",
       "      <td>female</td>\n",
       "      <td>0.0</td>\n",
       "      <td>25.0</td>\n",
       "      <td>Unknown</td>\n",
       "      <td>Kentucky/KY</td>\n",
       "      <td>Unknown</td>\n",
       "      <td>603742</td>\n",
       "      <td>8.2</td>\n",
       "      <td>&lt;=50K</td>\n",
       "    </tr>\n",
       "  </tbody>\n",
       "</table>\n",
       "<p>5 rows × 22 columns</p>\n",
       "</div>"
      ],
      "text/plain": [
       "       Geographic-division   region  state RT  person-weight  age  \\\n",
       "749803  East North Central  Midwest     18  P             48   35   \n",
       "330259             Pacific     West      6  P             45   62   \n",
       "501054      South Atlantic    South     12  P             54   46   \n",
       "107359            Mountain     West      4  P             57   46   \n",
       "173105             Pacific     West      6  P             30   36   \n",
       "\n",
       "       citizenship-status  class-worker       education marital-status  ...  \\\n",
       "749803            Born-US  Private-prof       associate        Married  ...   \n",
       "330259            Born-US  Private-prof          HSgrad        Married  ...   \n",
       "501054            Born-US  Private-prof         grade11  Never-married  ...   \n",
       "107359            Born-US  Self-emp-inc     prof-school        Married  ...   \n",
       "173105            Born-US  Private-prof  grade12-nograd        Married  ...   \n",
       "\n",
       "                  race     sex extra-income hours-per-week  field-of-degree  \\\n",
       "749803  black-aa-alone  female          0.0           40.0          Unknown   \n",
       "330259     white-alone  female          0.0           35.0          Unknown   \n",
       "501054     white-alone    male          0.0           48.0          Unknown   \n",
       "107359     white-alone  female          0.0           50.0        Chemistry   \n",
       "173105     white-alone  female          0.0           25.0          Unknown   \n",
       "\n",
       "        place-of-birth stem-degree full PUMA unemployment_rate  income  \n",
       "749803      Indiana/IN     Unknown   1802305              -1.0   <=50K  \n",
       "330259      Arizona/AZ     Unknown    607106               4.7   <=50K  \n",
       "501054      Florida/FL     Unknown   1201701              -1.0   <=50K  \n",
       "107359       Hawaii/HI         Yes    400102               4.0    >50K  \n",
       "173105     Kentucky/KY     Unknown    603742               8.2   <=50K  \n",
       "\n",
       "[5 rows x 22 columns]"
      ]
     },
     "execution_count": 16,
     "metadata": {},
     "output_type": "execute_result"
    }
   ],
   "source": [
    "df.loc[df['income'] <= 50000, 'income_adjusted'] = '<=50K'\n",
    "df.loc[df['income'] > 50000, 'income_adjusted'] = '>50K' \n",
    "\n",
    "df = df.drop(columns=['income']).rename(columns={'income_adjusted': 'income'})#.dropna()\n",
    "\n",
    "# df['med_home_value'] = pd.to_numeric(df['med_home_value'],errors='coerce')\n",
    "\n",
    "df['field-of-degree'] = df['field-of-degree'].fillna('Unknown')\n",
    "df['stem-degree'] = df['stem-degree'].fillna('Unknown')\n",
    "df['unemployment_rate'] = df['unemployment_rate'].fillna(-1.0)\n",
    "\n",
    "# df = df.dropna()\n",
    "\n",
    "df.head()"
   ]
  },
  {
   "cell_type": "code",
   "execution_count": 17,
   "metadata": {},
   "outputs": [
    {
     "data": {
      "text/plain": [
       "Geographic-division    0\n",
       "region                 0\n",
       "state                  0\n",
       "RT                     0\n",
       "person-weight          0\n",
       "age                    0\n",
       "citizenship-status     0\n",
       "class-worker           0\n",
       "education              0\n",
       "marital-status         0\n",
       "occupation             0\n",
       "relationship           0\n",
       "race                   0\n",
       "sex                    0\n",
       "extra-income           0\n",
       "hours-per-week         0\n",
       "field-of-degree        0\n",
       "place-of-birth         0\n",
       "stem-degree            0\n",
       "full PUMA              0\n",
       "unemployment_rate      0\n",
       "income                 0\n",
       "dtype: int64"
      ]
     },
     "execution_count": 17,
     "metadata": {},
     "output_type": "execute_result"
    }
   ],
   "source": [
    "# df = df.dropna()\n",
    "\n",
    "df.isnull().sum()"
   ]
  },
  {
   "cell_type": "code",
   "execution_count": 18,
   "metadata": {},
   "outputs": [],
   "source": [
    "X = df.drop(columns=['income'], axis = 1)\n",
    "y = df[['income']].to_numpy()"
   ]
  },
  {
   "cell_type": "code",
   "execution_count": 19,
   "metadata": {},
   "outputs": [],
   "source": [
    "labels = np.unique(y)\n",
    "features = list(X.columns)"
   ]
  },
  {
   "cell_type": "markdown",
   "metadata": {},
   "source": [
    "### Pre-process categorical variables"
   ]
  },
  {
   "cell_type": "code",
   "execution_count": 20,
   "metadata": {},
   "outputs": [],
   "source": [
    "cat_var = ['Geographic-division', 'region', 'state', 'RT', 'citizenship-status', 'class-worker', 'education', 'marital-status', 'occupation', 'relationship', 'race', 'sex', 'field-of-degree', 'place-of-birth', 'stem-degree']\n",
    "for f in cat_var:\n",
    "    enc = preprocessing.LabelEncoder()\n",
    "    X[f] = enc.fit_transform(X[f])\n",
    "\n",
    "scaler = preprocessing.StandardScaler()\n",
    "X = pd.DataFrame(scaler.fit_transform(X), columns = X.columns)"
   ]
  },
  {
   "cell_type": "markdown",
   "metadata": {},
   "source": [
    "### Split data into test and training"
   ]
  },
  {
   "cell_type": "code",
   "execution_count": 21,
   "metadata": {},
   "outputs": [],
   "source": [
    "X_train, X_test, y_train, y_test = train_test_split(X, y, test_size=0.2)"
   ]
  },
  {
   "cell_type": "code",
   "execution_count": 22,
   "metadata": {},
   "outputs": [
    {
     "data": {
      "text/plain": [
       "367859"
      ]
     },
     "execution_count": 22,
     "metadata": {},
     "output_type": "execute_result"
    }
   ],
   "source": [
    "len(X_test)"
   ]
  },
  {
   "cell_type": "markdown",
   "metadata": {},
   "source": [
    "## Train Models and Establish Baseline Scores"
   ]
  },
  {
   "cell_type": "markdown",
   "metadata": {},
   "source": [
    "### Logistic Regression"
   ]
  },
  {
   "cell_type": "code",
   "execution_count": 23,
   "metadata": {},
   "outputs": [],
   "source": [
    "# Train model, get predictions\n",
    "model = LogisticRegression()\n",
    "model.fit(X, y)\n",
    "y_pred = model.predict(X_test)\n",
    "y_probas = model.predict_proba(X_test)\n",
    "importances = model.coef_\n",
    "indices = np.argsort(importances)[::-1]"
   ]
  },
  {
   "cell_type": "code",
   "execution_count": 24,
   "metadata": {},
   "outputs": [
    {
     "name": "stdout",
     "output_type": "stream",
     "text": [
      "<class 'pandas.core.frame.DataFrame'>\n",
      "Int64Index: 1471436 entries, 432054 to 1385412\n",
      "Data columns (total 21 columns):\n",
      " #   Column               Non-Null Count    Dtype  \n",
      "---  ------               --------------    -----  \n",
      " 0   Geographic-division  1471436 non-null  float64\n",
      " 1   region               1471436 non-null  float64\n",
      " 2   state                1471436 non-null  float64\n",
      " 3   RT                   1471436 non-null  float64\n",
      " 4   person-weight        1471436 non-null  float64\n",
      " 5   age                  1471436 non-null  float64\n",
      " 6   citizenship-status   1471436 non-null  float64\n",
      " 7   class-worker         1471436 non-null  float64\n",
      " 8   education            1471436 non-null  float64\n",
      " 9   marital-status       1471436 non-null  float64\n",
      " 10  occupation           1471436 non-null  float64\n",
      " 11  relationship         1471436 non-null  float64\n",
      " 12  race                 1471436 non-null  float64\n",
      " 13  sex                  1471436 non-null  float64\n",
      " 14  extra-income         1471436 non-null  float64\n",
      " 15  hours-per-week       1471436 non-null  float64\n",
      " 16  field-of-degree      1471436 non-null  float64\n",
      " 17  place-of-birth       1471436 non-null  float64\n",
      " 18  stem-degree          1471436 non-null  float64\n",
      " 19  full PUMA            1471436 non-null  float64\n",
      " 20  unemployment_rate    1471436 non-null  float64\n",
      "dtypes: float64(21)\n",
      "memory usage: 247.0 MB\n",
      "None\n"
     ]
    }
   ],
   "source": [
    "print(X_train.info())"
   ]
  },
  {
   "cell_type": "code",
   "execution_count": 25,
   "metadata": {},
   "outputs": [
    {
     "name": "stderr",
     "output_type": "stream",
     "text": [
      "wandb: \n",
      "wandb: Plotting LogisticRegression.\n",
      "wandb: Logged feature importances.\n",
      "wandb: Logged learning curve.\n",
      "wandb: Logged confusion matrix.\n",
      "wandb: Logged summary metrics.\n",
      "wandb: Logged class proportions.\n",
      "wandb: Logged calibration curve.\n",
      "wandb: WARNING wandb uses only the first 10000 datapoints to create the plots.\n",
      "wandb: WARNING wandb uses only the first 10000 datapoints to create the plots.\n",
      "WARNING:root:Truncating wandb.Table object to 10000 rows.\n",
      "wandb: Logged roc curve.\n",
      "wandb: Logged precision recall curve.\n"
     ]
    }
   ],
   "source": [
    "# Visualize model performance\n",
    "wandb.sklearn.plot_classifier(\n",
    "    model, X_train, X_test, y_train, y_test, y_pred, y_probas, labels,\n",
    "    is_binary=True, model_name='LogisticRegression', feature_names=features)"
   ]
  },
  {
   "cell_type": "code",
   "execution_count": 26,
   "metadata": {},
   "outputs": [
    {
     "name": "stdout",
     "output_type": "stream",
     "text": [
      "              precision    recall  f1-score   support\n",
      "\n",
      "       <=50K       0.77      0.84      0.80    223379\n",
      "        >50K       0.71      0.61      0.66    144480\n",
      "\n",
      "    accuracy                           0.75    367859\n",
      "   macro avg       0.74      0.73      0.73    367859\n",
      "weighted avg       0.75      0.75      0.75    367859\n",
      "\n"
     ]
    }
   ],
   "source": [
    "print(classification_report(y_test, y_pred, target_names=labels))"
   ]
  },
  {
   "cell_type": "code",
   "execution_count": null,
   "metadata": {},
   "outputs": [],
   "source": []
  }
 ],
 "metadata": {
  "kernelspec": {
   "display_name": "Python 3",
   "language": "python",
   "name": "python3"
  },
  "language_info": {
   "codemirror_mode": {
    "name": "ipython",
    "version": 3
   },
   "file_extension": ".py",
   "mimetype": "text/x-python",
   "name": "python",
   "nbconvert_exporter": "python",
   "pygments_lexer": "ipython3",
   "version": "3.7.6"
  }
 },
 "nbformat": 4,
 "nbformat_minor": 4
}
