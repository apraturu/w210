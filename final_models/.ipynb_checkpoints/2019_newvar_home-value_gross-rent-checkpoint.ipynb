{
 "cells": [
  {
   "cell_type": "markdown",
   "metadata": {},
   "source": [
    "# Run Models on 2019 Data Joined with Median Home Value and Gross Rent\n",
    "#### 10/23/2020\n",
    "---"
   ]
  },
  {
   "cell_type": "markdown",
   "metadata": {},
   "source": [
    "## Load and Process Dataset\n",
    "### Import Libraries"
   ]
  },
  {
   "cell_type": "code",
   "execution_count": 1,
   "metadata": {},
   "outputs": [],
   "source": [
    "import pandas as pd\n",
    "import numpy as np\n",
    "from sklearn.neighbors import KNeighborsClassifier\n",
    "from sklearn import preprocessing\n",
    "from sklearn.naive_bayes import MultinomialNB, BernoulliNB\n",
    "from sklearn.linear_model import LinearRegression, LogisticRegression\n",
    "from sklearn.decomposition import PCA\n",
    "from sklearn.model_selection import train_test_split\n",
    "from sklearn.ensemble import RandomForestClassifier\n",
    "from sklearn.svm import SVC\n",
    "from sklearn.linear_model import Ridge\n",
    "from sklearn.tree import DecisionTreeClassifier\n",
    "import matplotlib.pyplot as plt\n",
    "import wandb\n",
    "import warnings\n",
    "warnings.filterwarnings('ignore')"
   ]
  },
  {
   "cell_type": "code",
   "execution_count": 2,
   "metadata": {},
   "outputs": [
    {
     "name": "stderr",
     "output_type": "stream",
     "text": [
      "wandb: Currently logged in as: apraturu (use `wandb login --relogin` to force relogin)\n"
     ]
    },
    {
     "data": {
      "text/html": [
       "\n",
       "                Tracking run with wandb version 0.10.8<br/>\n",
       "                Syncing run <strong style=\"color:#cdcd00\">ancient-bird-1</strong> to <a href=\"https://wandb.ai\" target=\"_blank\">Weights & Biases</a> <a href=\"https://docs.wandb.com/integrations/jupyter.html\" target=\"_blank\">(Documentation)</a>.<br/>\n",
       "                Project page: <a href=\"https://wandb.ai/apraturu/2019_newvar_home-value_gross-rent\" target=\"_blank\">https://wandb.ai/apraturu/2019_newvar_home-value_gross-rent</a><br/>\n",
       "                Run page: <a href=\"https://wandb.ai/apraturu/2019_newvar_home-value_gross-rent/runs/nv4vwv0i\" target=\"_blank\">https://wandb.ai/apraturu/2019_newvar_home-value_gross-rent/runs/nv4vwv0i</a><br/>\n",
       "                Run data is saved locally in <code>wandb/run-20201024_204746-nv4vwv0i</code><br/><br/>\n",
       "            "
      ],
      "text/plain": [
       "<IPython.core.display.HTML object>"
      ]
     },
     "metadata": {},
     "output_type": "display_data"
    },
    {
     "data": {
      "text/html": [
       "<h1>Run(nv4vwv0i)</h1><p></p><iframe src=\"https://wandb.ai/apraturu/2019_newvar_home-value_gross-rent/runs/nv4vwv0i\" style=\"border:none;width:100%;height:400px\"></iframe>"
      ],
      "text/plain": [
       "<wandb.sdk.wandb_run.Run at 0x7fceac256290>"
      ]
     },
     "execution_count": 2,
     "metadata": {},
     "output_type": "execute_result"
    }
   ],
   "source": [
    "wandb.init(project=\"2019_newvar_home-value_gross-rent\")"
   ]
  },
  {
   "cell_type": "markdown",
   "metadata": {},
   "source": [
    "### Read in `adult.csv` data"
   ]
  },
  {
   "cell_type": "code",
   "execution_count": 22,
   "metadata": {},
   "outputs": [
    {
     "data": {
      "text/html": [
       "<div>\n",
       "<style scoped>\n",
       "    .dataframe tbody tr th:only-of-type {\n",
       "        vertical-align: middle;\n",
       "    }\n",
       "\n",
       "    .dataframe tbody tr th {\n",
       "        vertical-align: top;\n",
       "    }\n",
       "\n",
       "    .dataframe thead th {\n",
       "        text-align: right;\n",
       "    }\n",
       "</style>\n",
       "<table border=\"1\" class=\"dataframe\">\n",
       "  <thead>\n",
       "    <tr style=\"text-align: right;\">\n",
       "      <th></th>\n",
       "      <th>Geographic-division</th>\n",
       "      <th>region</th>\n",
       "      <th>state</th>\n",
       "      <th>RT</th>\n",
       "      <th>person-weight</th>\n",
       "      <th>age</th>\n",
       "      <th>citizenship-status</th>\n",
       "      <th>class-worker</th>\n",
       "      <th>education</th>\n",
       "      <th>marital-status</th>\n",
       "      <th>...</th>\n",
       "      <th>sex</th>\n",
       "      <th>extra-income</th>\n",
       "      <th>hours-per-week</th>\n",
       "      <th>field-of-degree</th>\n",
       "      <th>place-of-birth</th>\n",
       "      <th>income</th>\n",
       "      <th>stem-degree</th>\n",
       "      <th>full PUMA</th>\n",
       "      <th>med_home_value</th>\n",
       "      <th>med_gross_rent</th>\n",
       "    </tr>\n",
       "  </thead>\n",
       "  <tbody>\n",
       "    <tr>\n",
       "      <th>997315</th>\n",
       "      <td>Middle Atlantic</td>\n",
       "      <td>Northeast</td>\n",
       "      <td>36</td>\n",
       "      <td>P</td>\n",
       "      <td>74</td>\n",
       "      <td>50</td>\n",
       "      <td>Born-US</td>\n",
       "      <td>Private-prof</td>\n",
       "      <td>some-college-great1</td>\n",
       "      <td>Divorced</td>\n",
       "      <td>...</td>\n",
       "      <td>female</td>\n",
       "      <td>0.0</td>\n",
       "      <td>50.0</td>\n",
       "      <td>NaN</td>\n",
       "      <td>Massachusetts/MA</td>\n",
       "      <td>56000.0</td>\n",
       "      <td>NaN</td>\n",
       "      <td>3604005</td>\n",
       "      <td>1822200</td>\n",
       "      <td>2332.0</td>\n",
       "    </tr>\n",
       "    <tr>\n",
       "      <th>1270198</th>\n",
       "      <td>Middle Atlantic</td>\n",
       "      <td>Northeast</td>\n",
       "      <td>42</td>\n",
       "      <td>P</td>\n",
       "      <td>63</td>\n",
       "      <td>76</td>\n",
       "      <td>Born-US</td>\n",
       "      <td>Private-prof</td>\n",
       "      <td>HSgrad</td>\n",
       "      <td>Married</td>\n",
       "      <td>...</td>\n",
       "      <td>male</td>\n",
       "      <td>0.0</td>\n",
       "      <td>30.0</td>\n",
       "      <td>NaN</td>\n",
       "      <td>Pennsylvania/PA</td>\n",
       "      <td>63000.0</td>\n",
       "      <td>NaN</td>\n",
       "      <td>4201805</td>\n",
       "      <td>90700</td>\n",
       "      <td>691.0</td>\n",
       "    </tr>\n",
       "    <tr>\n",
       "      <th>1366849</th>\n",
       "      <td>East South Central</td>\n",
       "      <td>South</td>\n",
       "      <td>47</td>\n",
       "      <td>P</td>\n",
       "      <td>99</td>\n",
       "      <td>62</td>\n",
       "      <td>Born-US</td>\n",
       "      <td>Private-prof</td>\n",
       "      <td>grade8</td>\n",
       "      <td>Never-married</td>\n",
       "      <td>...</td>\n",
       "      <td>male</td>\n",
       "      <td>0.0</td>\n",
       "      <td>32.0</td>\n",
       "      <td>NaN</td>\n",
       "      <td>Tennessee/TN</td>\n",
       "      <td>28000.0</td>\n",
       "      <td>NaN</td>\n",
       "      <td>4700700</td>\n",
       "      <td>162600</td>\n",
       "      <td>741.0</td>\n",
       "    </tr>\n",
       "    <tr>\n",
       "      <th>1484936</th>\n",
       "      <td>West South Central</td>\n",
       "      <td>South</td>\n",
       "      <td>48</td>\n",
       "      <td>P</td>\n",
       "      <td>60</td>\n",
       "      <td>40</td>\n",
       "      <td>Born-US</td>\n",
       "      <td>State-gov</td>\n",
       "      <td>bachelor</td>\n",
       "      <td>Never-married</td>\n",
       "      <td>...</td>\n",
       "      <td>female</td>\n",
       "      <td>0.0</td>\n",
       "      <td>40.0</td>\n",
       "      <td>Accounting</td>\n",
       "      <td>Texas/TX</td>\n",
       "      <td>45000.0</td>\n",
       "      <td>No</td>\n",
       "      <td>4800501</td>\n",
       "      <td>126100</td>\n",
       "      <td>882.0</td>\n",
       "    </tr>\n",
       "    <tr>\n",
       "      <th>78115</th>\n",
       "      <td>Pacific</td>\n",
       "      <td>West</td>\n",
       "      <td>6</td>\n",
       "      <td>P</td>\n",
       "      <td>24</td>\n",
       "      <td>20</td>\n",
       "      <td>Born-US</td>\n",
       "      <td>Private-prof</td>\n",
       "      <td>some-college-great1</td>\n",
       "      <td>Never-married</td>\n",
       "      <td>...</td>\n",
       "      <td>female</td>\n",
       "      <td>0.0</td>\n",
       "      <td>27.0</td>\n",
       "      <td>NaN</td>\n",
       "      <td>California/CA</td>\n",
       "      <td>6500.0</td>\n",
       "      <td>NaN</td>\n",
       "      <td>603711</td>\n",
       "      <td>647300</td>\n",
       "      <td>1711.0</td>\n",
       "    </tr>\n",
       "  </tbody>\n",
       "</table>\n",
       "<p>5 rows × 23 columns</p>\n",
       "</div>"
      ],
      "text/plain": [
       "        Geographic-division     region  state RT  person-weight  age  \\\n",
       "997315      Middle Atlantic  Northeast     36  P             74   50   \n",
       "1270198     Middle Atlantic  Northeast     42  P             63   76   \n",
       "1366849  East South Central      South     47  P             99   62   \n",
       "1484936  West South Central      South     48  P             60   40   \n",
       "78115               Pacific       West      6  P             24   20   \n",
       "\n",
       "        citizenship-status  class-worker            education marital-status  \\\n",
       "997315             Born-US  Private-prof  some-college-great1       Divorced   \n",
       "1270198            Born-US  Private-prof               HSgrad        Married   \n",
       "1366849            Born-US  Private-prof               grade8  Never-married   \n",
       "1484936            Born-US     State-gov             bachelor  Never-married   \n",
       "78115              Born-US  Private-prof  some-college-great1  Never-married   \n",
       "\n",
       "         ...     sex  extra-income hours-per-week field-of-degree  \\\n",
       "997315   ...  female           0.0           50.0             NaN   \n",
       "1270198  ...    male           0.0           30.0             NaN   \n",
       "1366849  ...    male           0.0           32.0             NaN   \n",
       "1484936  ...  female           0.0           40.0      Accounting   \n",
       "78115    ...  female           0.0           27.0             NaN   \n",
       "\n",
       "           place-of-birth   income stem-degree full PUMA  med_home_value  \\\n",
       "997315   Massachusetts/MA  56000.0         NaN   3604005         1822200   \n",
       "1270198   Pennsylvania/PA  63000.0         NaN   4201805           90700   \n",
       "1366849      Tennessee/TN  28000.0         NaN   4700700          162600   \n",
       "1484936          Texas/TX  45000.0          No   4800501          126100   \n",
       "78115       California/CA   6500.0         NaN    603711          647300   \n",
       "\n",
       "        med_gross_rent  \n",
       "997315          2332.0  \n",
       "1270198          691.0  \n",
       "1366849          741.0  \n",
       "1484936          882.0  \n",
       "78115           1711.0  \n",
       "\n",
       "[5 rows x 23 columns]"
      ]
     },
     "execution_count": 22,
     "metadata": {},
     "output_type": "execute_result"
    }
   ],
   "source": [
    "df = pd.read_csv('../final_data/2019_new-var_home-value_gross-rent.csv').sample(frac=0.5)\n",
    "df.head()"
   ]
  },
  {
   "cell_type": "code",
   "execution_count": 23,
   "metadata": {},
   "outputs": [
    {
     "data": {
      "text/html": [
       "<div>\n",
       "<style scoped>\n",
       "    .dataframe tbody tr th:only-of-type {\n",
       "        vertical-align: middle;\n",
       "    }\n",
       "\n",
       "    .dataframe tbody tr th {\n",
       "        vertical-align: top;\n",
       "    }\n",
       "\n",
       "    .dataframe thead th {\n",
       "        text-align: right;\n",
       "    }\n",
       "</style>\n",
       "<table border=\"1\" class=\"dataframe\">\n",
       "  <thead>\n",
       "    <tr style=\"text-align: right;\">\n",
       "      <th></th>\n",
       "      <th>Geographic-division</th>\n",
       "      <th>region</th>\n",
       "      <th>state</th>\n",
       "      <th>RT</th>\n",
       "      <th>person-weight</th>\n",
       "      <th>age</th>\n",
       "      <th>citizenship-status</th>\n",
       "      <th>class-worker</th>\n",
       "      <th>education</th>\n",
       "      <th>marital-status</th>\n",
       "      <th>...</th>\n",
       "      <th>sex</th>\n",
       "      <th>extra-income</th>\n",
       "      <th>hours-per-week</th>\n",
       "      <th>field-of-degree</th>\n",
       "      <th>place-of-birth</th>\n",
       "      <th>stem-degree</th>\n",
       "      <th>full PUMA</th>\n",
       "      <th>med_home_value</th>\n",
       "      <th>med_gross_rent</th>\n",
       "      <th>income</th>\n",
       "    </tr>\n",
       "  </thead>\n",
       "  <tbody>\n",
       "    <tr>\n",
       "      <th>1484936</th>\n",
       "      <td>West South Central</td>\n",
       "      <td>South</td>\n",
       "      <td>48</td>\n",
       "      <td>P</td>\n",
       "      <td>60</td>\n",
       "      <td>40</td>\n",
       "      <td>Born-US</td>\n",
       "      <td>State-gov</td>\n",
       "      <td>bachelor</td>\n",
       "      <td>Never-married</td>\n",
       "      <td>...</td>\n",
       "      <td>female</td>\n",
       "      <td>0.0</td>\n",
       "      <td>40.0</td>\n",
       "      <td>Accounting</td>\n",
       "      <td>Texas/TX</td>\n",
       "      <td>No</td>\n",
       "      <td>4800501</td>\n",
       "      <td>126100.0</td>\n",
       "      <td>882.0</td>\n",
       "      <td>&lt;=50K</td>\n",
       "    </tr>\n",
       "    <tr>\n",
       "      <th>1502141</th>\n",
       "      <td>West South Central</td>\n",
       "      <td>South</td>\n",
       "      <td>48</td>\n",
       "      <td>P</td>\n",
       "      <td>72</td>\n",
       "      <td>51</td>\n",
       "      <td>Born-US</td>\n",
       "      <td>Private-nonprof</td>\n",
       "      <td>bachelor</td>\n",
       "      <td>Married</td>\n",
       "      <td>...</td>\n",
       "      <td>female</td>\n",
       "      <td>0.0</td>\n",
       "      <td>40.0</td>\n",
       "      <td>Anthropology And Archeology</td>\n",
       "      <td>Texas/TX</td>\n",
       "      <td>Yes</td>\n",
       "      <td>4805305</td>\n",
       "      <td>579300.0</td>\n",
       "      <td>1386.0</td>\n",
       "      <td>&gt;50K</td>\n",
       "    </tr>\n",
       "    <tr>\n",
       "      <th>1462128</th>\n",
       "      <td>West South Central</td>\n",
       "      <td>South</td>\n",
       "      <td>48</td>\n",
       "      <td>P</td>\n",
       "      <td>46</td>\n",
       "      <td>30</td>\n",
       "      <td>Born-US</td>\n",
       "      <td>Private-nonprof</td>\n",
       "      <td>master</td>\n",
       "      <td>Married</td>\n",
       "      <td>...</td>\n",
       "      <td>female</td>\n",
       "      <td>0.0</td>\n",
       "      <td>40.0</td>\n",
       "      <td>Psychology</td>\n",
       "      <td>Nevada/NV</td>\n",
       "      <td>Yes</td>\n",
       "      <td>4804612</td>\n",
       "      <td>343700.0</td>\n",
       "      <td>1158.0</td>\n",
       "      <td>&lt;=50K</td>\n",
       "    </tr>\n",
       "    <tr>\n",
       "      <th>1184622</th>\n",
       "      <td>East North Central</td>\n",
       "      <td>Midwest</td>\n",
       "      <td>39</td>\n",
       "      <td>P</td>\n",
       "      <td>293</td>\n",
       "      <td>28</td>\n",
       "      <td>Born-US</td>\n",
       "      <td>Private-nonprof</td>\n",
       "      <td>bachelor</td>\n",
       "      <td>Never-married</td>\n",
       "      <td>...</td>\n",
       "      <td>male</td>\n",
       "      <td>0.0</td>\n",
       "      <td>28.0</td>\n",
       "      <td>Biology</td>\n",
       "      <td>Michigan/MI</td>\n",
       "      <td>Yes</td>\n",
       "      <td>3904104</td>\n",
       "      <td>328700.0</td>\n",
       "      <td>1133.0</td>\n",
       "      <td>&lt;=50K</td>\n",
       "    </tr>\n",
       "    <tr>\n",
       "      <th>243777</th>\n",
       "      <td>Pacific</td>\n",
       "      <td>West</td>\n",
       "      <td>6</td>\n",
       "      <td>P</td>\n",
       "      <td>138</td>\n",
       "      <td>54</td>\n",
       "      <td>Born-US</td>\n",
       "      <td>Private-prof</td>\n",
       "      <td>bachelor</td>\n",
       "      <td>Married</td>\n",
       "      <td>...</td>\n",
       "      <td>male</td>\n",
       "      <td>5000.0</td>\n",
       "      <td>40.0</td>\n",
       "      <td>Mechanical Engineering</td>\n",
       "      <td>Texas/TX</td>\n",
       "      <td>Yes</td>\n",
       "      <td>608702</td>\n",
       "      <td>908000.0</td>\n",
       "      <td>1885.0</td>\n",
       "      <td>&gt;50K</td>\n",
       "    </tr>\n",
       "  </tbody>\n",
       "</table>\n",
       "<p>5 rows × 23 columns</p>\n",
       "</div>"
      ],
      "text/plain": [
       "        Geographic-division   region  state RT  person-weight  age  \\\n",
       "1484936  West South Central    South     48  P             60   40   \n",
       "1502141  West South Central    South     48  P             72   51   \n",
       "1462128  West South Central    South     48  P             46   30   \n",
       "1184622  East North Central  Midwest     39  P            293   28   \n",
       "243777              Pacific     West      6  P            138   54   \n",
       "\n",
       "        citizenship-status     class-worker education marital-status  ...  \\\n",
       "1484936            Born-US        State-gov  bachelor  Never-married  ...   \n",
       "1502141            Born-US  Private-nonprof  bachelor        Married  ...   \n",
       "1462128            Born-US  Private-nonprof    master        Married  ...   \n",
       "1184622            Born-US  Private-nonprof  bachelor  Never-married  ...   \n",
       "243777             Born-US     Private-prof  bachelor        Married  ...   \n",
       "\n",
       "            sex  extra-income hours-per-week              field-of-degree  \\\n",
       "1484936  female           0.0           40.0                   Accounting   \n",
       "1502141  female           0.0           40.0  Anthropology And Archeology   \n",
       "1462128  female           0.0           40.0                   Psychology   \n",
       "1184622    male           0.0           28.0                      Biology   \n",
       "243777     male        5000.0           40.0       Mechanical Engineering   \n",
       "\n",
       "         place-of-birth  stem-degree full PUMA med_home_value med_gross_rent  \\\n",
       "1484936        Texas/TX           No   4800501       126100.0          882.0   \n",
       "1502141        Texas/TX          Yes   4805305       579300.0         1386.0   \n",
       "1462128       Nevada/NV          Yes   4804612       343700.0         1158.0   \n",
       "1184622     Michigan/MI          Yes   3904104       328700.0         1133.0   \n",
       "243777         Texas/TX          Yes    608702       908000.0         1885.0   \n",
       "\n",
       "         income  \n",
       "1484936   <=50K  \n",
       "1502141    >50K  \n",
       "1462128   <=50K  \n",
       "1184622   <=50K  \n",
       "243777     >50K  \n",
       "\n",
       "[5 rows x 23 columns]"
      ]
     },
     "execution_count": 23,
     "metadata": {},
     "output_type": "execute_result"
    }
   ],
   "source": [
    "df.loc[df['income'] <= 50000, 'income_adjusted'] = '<=50K'\n",
    "df.loc[df['income'] > 50000, 'income_adjusted'] = '>50K' \n",
    "\n",
    "df['med_home_value'] = pd.to_numeric(df['med_home_value'],errors='coerce')\n",
    "\n",
    "\n",
    "df = df.drop(columns=['income']).rename(columns={'income_adjusted': 'income'}).dropna()\n",
    "\n",
    "df.head()"
   ]
  },
  {
   "cell_type": "code",
   "execution_count": 24,
   "metadata": {},
   "outputs": [
    {
     "data": {
      "text/plain": [
       "Geographic-division    0\n",
       "region                 0\n",
       "state                  0\n",
       "RT                     0\n",
       "person-weight          0\n",
       "age                    0\n",
       "citizenship-status     0\n",
       "class-worker           0\n",
       "education              0\n",
       "marital-status         0\n",
       "occupation             0\n",
       "relationship           0\n",
       "race                   0\n",
       "sex                    0\n",
       "extra-income           0\n",
       "hours-per-week         0\n",
       "field-of-degree        0\n",
       "place-of-birth         0\n",
       "stem-degree            0\n",
       "full PUMA              0\n",
       "med_home_value         0\n",
       "med_gross_rent         0\n",
       "income                 0\n",
       "dtype: int64"
      ]
     },
     "execution_count": 24,
     "metadata": {},
     "output_type": "execute_result"
    }
   ],
   "source": [
    "df.isnull().sum()"
   ]
  },
  {
   "cell_type": "code",
   "execution_count": 25,
   "metadata": {},
   "outputs": [],
   "source": [
    "X = df.drop(columns=['income'], axis = 1)\n",
    "y = df[['income']].to_numpy()"
   ]
  },
  {
   "cell_type": "code",
   "execution_count": 26,
   "metadata": {},
   "outputs": [],
   "source": [
    "labels = np.unique(y)\n",
    "features = list(X.columns)"
   ]
  },
  {
   "cell_type": "markdown",
   "metadata": {},
   "source": [
    "### Pre-process categorical variables"
   ]
  },
  {
   "cell_type": "code",
   "execution_count": 27,
   "metadata": {},
   "outputs": [],
   "source": [
    "cat_var = ['Geographic-division', 'region', 'state', 'RT', 'citizenship-status', 'class-worker', 'education', 'marital-status', 'occupation', 'relationship', 'race', 'sex', 'field-of-degree', 'place-of-birth', 'stem-degree']\n",
    "for f in cat_var:\n",
    "    enc = preprocessing.LabelEncoder()\n",
    "    X[f] = enc.fit_transform(X[f])\n",
    "\n",
    "scaler = preprocessing.StandardScaler()\n",
    "X = pd.DataFrame(scaler.fit_transform(X), columns = X.columns)"
   ]
  },
  {
   "cell_type": "markdown",
   "metadata": {},
   "source": [
    "### Split data into test and training"
   ]
  },
  {
   "cell_type": "code",
   "execution_count": 28,
   "metadata": {},
   "outputs": [],
   "source": [
    "X_train, X_test, y_train, y_test = train_test_split(X, y, test_size=0.2)"
   ]
  },
  {
   "cell_type": "code",
   "execution_count": 29,
   "metadata": {},
   "outputs": [
    {
     "data": {
      "text/plain": [
       "55969"
      ]
     },
     "execution_count": 29,
     "metadata": {},
     "output_type": "execute_result"
    }
   ],
   "source": [
    "len(X_test)"
   ]
  },
  {
   "cell_type": "markdown",
   "metadata": {},
   "source": [
    "## Train Models and Establish Baseline Scores"
   ]
  },
  {
   "cell_type": "markdown",
   "metadata": {},
   "source": [
    "### Random Forest"
   ]
  },
  {
   "cell_type": "code",
   "execution_count": 30,
   "metadata": {},
   "outputs": [],
   "source": [
    "# Train model, get predictions\n",
    "model = RandomForestClassifier()\n",
    "model.fit(X, y)\n",
    "y_pred = model.predict(X_test)\n",
    "y_probas = model.predict_proba(X_test)\n",
    "importances = model.feature_importances_\n",
    "indices = np.argsort(importances)[::-1]"
   ]
  },
  {
   "cell_type": "code",
   "execution_count": 31,
   "metadata": {},
   "outputs": [
    {
     "name": "stdout",
     "output_type": "stream",
     "text": [
      "<class 'pandas.core.frame.DataFrame'>\n",
      "Int64Index: 223876 entries, 212808 to 15119\n",
      "Data columns (total 22 columns):\n",
      " #   Column               Non-Null Count   Dtype  \n",
      "---  ------               --------------   -----  \n",
      " 0   Geographic-division  223876 non-null  float64\n",
      " 1   region               223876 non-null  float64\n",
      " 2   state                223876 non-null  float64\n",
      " 3   RT                   223876 non-null  float64\n",
      " 4   person-weight        223876 non-null  float64\n",
      " 5   age                  223876 non-null  float64\n",
      " 6   citizenship-status   223876 non-null  float64\n",
      " 7   class-worker         223876 non-null  float64\n",
      " 8   education            223876 non-null  float64\n",
      " 9   marital-status       223876 non-null  float64\n",
      " 10  occupation           223876 non-null  float64\n",
      " 11  relationship         223876 non-null  float64\n",
      " 12  race                 223876 non-null  float64\n",
      " 13  sex                  223876 non-null  float64\n",
      " 14  extra-income         223876 non-null  float64\n",
      " 15  hours-per-week       223876 non-null  float64\n",
      " 16  field-of-degree      223876 non-null  float64\n",
      " 17  place-of-birth       223876 non-null  float64\n",
      " 18  stem-degree          223876 non-null  float64\n",
      " 19  full PUMA            223876 non-null  float64\n",
      " 20  med_home_value       223876 non-null  float64\n",
      " 21  med_gross_rent       223876 non-null  float64\n",
      "dtypes: float64(22)\n",
      "memory usage: 39.3 MB\n",
      "None\n"
     ]
    }
   ],
   "source": [
    "print(X_train.info())"
   ]
  },
  {
   "cell_type": "code",
   "execution_count": 32,
   "metadata": {},
   "outputs": [
    {
     "name": "stderr",
     "output_type": "stream",
     "text": [
      "wandb: \n",
      "wandb: Plotting RandomForest.\n",
      "wandb: Logged feature importances.\n",
      "wandb: Logged learning curve.\n",
      "wandb: Logged confusion matrix.\n",
      "wandb: Logged summary metrics.\n",
      "wandb: Logged class proportions.\n",
      "wandb: Logged calibration curve.\n",
      "wandb: Logged roc curve.\n",
      "wandb: Logged precision recall curve.\n"
     ]
    }
   ],
   "source": [
    "# Visualize model performance\n",
    "wandb.sklearn.plot_classifier(\n",
    "    model, X_train, X_test, y_train, y_test, y_pred, y_probas, labels,\n",
    "    is_binary=True, model_name='RandomForest', feature_names=features)"
   ]
  },
  {
   "cell_type": "code",
   "execution_count": null,
   "metadata": {},
   "outputs": [],
   "source": []
  }
 ],
 "metadata": {
  "kernelspec": {
   "display_name": "Python 3",
   "language": "python",
   "name": "python3"
  },
  "language_info": {
   "codemirror_mode": {
    "name": "ipython",
    "version": 3
   },
   "file_extension": ".py",
   "mimetype": "text/x-python",
   "name": "python",
   "nbconvert_exporter": "python",
   "pygments_lexer": "ipython3",
   "version": "3.7.6"
  }
 },
 "nbformat": 4,
 "nbformat_minor": 4
}
