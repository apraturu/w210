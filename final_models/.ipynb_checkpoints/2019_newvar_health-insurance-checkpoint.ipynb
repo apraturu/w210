{
 "cells": [
  {
   "cell_type": "markdown",
   "metadata": {},
   "source": [
    "# Run Models on 2019 Data Joined with Health Insurance Coverage\n",
    "#### 10/30/2020\n",
    "---"
   ]
  },
  {
   "cell_type": "markdown",
   "metadata": {},
   "source": [
    "## Load and Process Dataset\n",
    "### Import Libraries"
   ]
  },
  {
   "cell_type": "code",
   "execution_count": 1,
   "metadata": {},
   "outputs": [],
   "source": [
    "import pandas as pd\n",
    "import numpy as np\n",
    "from sklearn.neighbors import KNeighborsClassifier\n",
    "from sklearn import preprocessing\n",
    "from sklearn.linear_model import LinearRegression, LogisticRegression\n",
    "from sklearn.model_selection import train_test_split\n",
    "from sklearn.ensemble import RandomForestClassifier\n",
    "from sklearn.metrics import classification_report\n",
    "import matplotlib.pyplot as plt\n",
    "import wandb\n",
    "import warnings\n",
    "warnings.filterwarnings('ignore')"
   ]
  },
  {
   "cell_type": "code",
   "execution_count": 2,
   "metadata": {},
   "outputs": [
    {
     "name": "stderr",
     "output_type": "stream",
     "text": [
      "wandb: Currently logged in as: apraturu (use `wandb login --relogin` to force relogin)\n"
     ]
    },
    {
     "data": {
      "text/html": [
       "\n",
       "                Tracking run with wandb version 0.10.8<br/>\n",
       "                Syncing run <strong style=\"color:#cdcd00\">dulcet-sunset-2</strong> to <a href=\"https://wandb.ai\" target=\"_blank\">Weights & Biases</a> <a href=\"https://docs.wandb.com/integrations/jupyter.html\" target=\"_blank\">(Documentation)</a>.<br/>\n",
       "                Project page: <a href=\"https://wandb.ai/apraturu/2019_newvar_health-insurance\" target=\"_blank\">https://wandb.ai/apraturu/2019_newvar_health-insurance</a><br/>\n",
       "                Run page: <a href=\"https://wandb.ai/apraturu/2019_newvar_health-insurance/runs/1u33hmly\" target=\"_blank\">https://wandb.ai/apraturu/2019_newvar_health-insurance/runs/1u33hmly</a><br/>\n",
       "                Run data is saved locally in <code>wandb/run-20201101_194033-1u33hmly</code><br/><br/>\n",
       "            "
      ],
      "text/plain": [
       "<IPython.core.display.HTML object>"
      ]
     },
     "metadata": {},
     "output_type": "display_data"
    },
    {
     "data": {
      "text/html": [
       "<h1>Run(1u33hmly)</h1><p></p><iframe src=\"https://wandb.ai/apraturu/2019_newvar_health-insurance/runs/1u33hmly\" style=\"border:none;width:100%;height:400px\"></iframe>"
      ],
      "text/plain": [
       "<wandb.sdk.wandb_run.Run at 0x7fed74240ad0>"
      ]
     },
     "execution_count": 2,
     "metadata": {},
     "output_type": "execute_result"
    }
   ],
   "source": [
    "wandb.init(project=\"2019_newvar_health-insurance\")"
   ]
  },
  {
   "cell_type": "markdown",
   "metadata": {},
   "source": [
    "### Read in `adult.csv` data"
   ]
  },
  {
   "cell_type": "code",
   "execution_count": 3,
   "metadata": {},
   "outputs": [
    {
     "data": {
      "text/html": [
       "<div>\n",
       "<style scoped>\n",
       "    .dataframe tbody tr th:only-of-type {\n",
       "        vertical-align: middle;\n",
       "    }\n",
       "\n",
       "    .dataframe tbody tr th {\n",
       "        vertical-align: top;\n",
       "    }\n",
       "\n",
       "    .dataframe thead th {\n",
       "        text-align: right;\n",
       "    }\n",
       "</style>\n",
       "<table border=\"1\" class=\"dataframe\">\n",
       "  <thead>\n",
       "    <tr style=\"text-align: right;\">\n",
       "      <th></th>\n",
       "      <th>Geographic-division</th>\n",
       "      <th>region</th>\n",
       "      <th>state</th>\n",
       "      <th>RT</th>\n",
       "      <th>person-weight</th>\n",
       "      <th>age</th>\n",
       "      <th>citizenship-status</th>\n",
       "      <th>class-worker</th>\n",
       "      <th>education</th>\n",
       "      <th>marital-status</th>\n",
       "      <th>...</th>\n",
       "      <th>sex</th>\n",
       "      <th>extra-income</th>\n",
       "      <th>hours-per-week</th>\n",
       "      <th>field-of-degree</th>\n",
       "      <th>place-of-birth</th>\n",
       "      <th>income</th>\n",
       "      <th>stem-degree</th>\n",
       "      <th>full PUMA</th>\n",
       "      <th>insured_rate</th>\n",
       "      <th>uninsured_rate</th>\n",
       "    </tr>\n",
       "  </thead>\n",
       "  <tbody>\n",
       "    <tr>\n",
       "      <th>329937</th>\n",
       "      <td>South Atlantic</td>\n",
       "      <td>South</td>\n",
       "      <td>11</td>\n",
       "      <td>P</td>\n",
       "      <td>70</td>\n",
       "      <td>57</td>\n",
       "      <td>Born-US</td>\n",
       "      <td>Fed-gov</td>\n",
       "      <td>some-college-less1</td>\n",
       "      <td>Never-married</td>\n",
       "      <td>...</td>\n",
       "      <td>male</td>\n",
       "      <td>0.0</td>\n",
       "      <td>40.0</td>\n",
       "      <td>NaN</td>\n",
       "      <td>District of Columbia/DC</td>\n",
       "      <td>45000.0</td>\n",
       "      <td>NaN</td>\n",
       "      <td>1100103</td>\n",
       "      <td>96.2</td>\n",
       "      <td>3.8</td>\n",
       "    </tr>\n",
       "    <tr>\n",
       "      <th>121545</th>\n",
       "      <td>Pacific</td>\n",
       "      <td>West</td>\n",
       "      <td>6</td>\n",
       "      <td>P</td>\n",
       "      <td>62</td>\n",
       "      <td>55</td>\n",
       "      <td>Born-US</td>\n",
       "      <td>Private-nonprof</td>\n",
       "      <td>bachelor</td>\n",
       "      <td>Married</td>\n",
       "      <td>...</td>\n",
       "      <td>male</td>\n",
       "      <td>9700.0</td>\n",
       "      <td>38.0</td>\n",
       "      <td>Nursing</td>\n",
       "      <td>Rhode Island/RI</td>\n",
       "      <td>155700.0</td>\n",
       "      <td>No</td>\n",
       "      <td>603706</td>\n",
       "      <td>89.8</td>\n",
       "      <td>10.2</td>\n",
       "    </tr>\n",
       "    <tr>\n",
       "      <th>365896</th>\n",
       "      <td>South Atlantic</td>\n",
       "      <td>South</td>\n",
       "      <td>12</td>\n",
       "      <td>P</td>\n",
       "      <td>102</td>\n",
       "      <td>54</td>\n",
       "      <td>Born-US</td>\n",
       "      <td>Private-prof</td>\n",
       "      <td>grade12-nograd</td>\n",
       "      <td>Married</td>\n",
       "      <td>...</td>\n",
       "      <td>female</td>\n",
       "      <td>0.0</td>\n",
       "      <td>40.0</td>\n",
       "      <td>NaN</td>\n",
       "      <td>Florida/FL</td>\n",
       "      <td>19000.0</td>\n",
       "      <td>NaN</td>\n",
       "      <td>1208606</td>\n",
       "      <td>80.3</td>\n",
       "      <td>19.7</td>\n",
       "    </tr>\n",
       "    <tr>\n",
       "      <th>771805</th>\n",
       "      <td>East North Central</td>\n",
       "      <td>Midwest</td>\n",
       "      <td>26</td>\n",
       "      <td>P</td>\n",
       "      <td>82</td>\n",
       "      <td>65</td>\n",
       "      <td>Born-US</td>\n",
       "      <td>Private-prof</td>\n",
       "      <td>grade9</td>\n",
       "      <td>Married</td>\n",
       "      <td>...</td>\n",
       "      <td>male</td>\n",
       "      <td>0.0</td>\n",
       "      <td>25.0</td>\n",
       "      <td>NaN</td>\n",
       "      <td>Michigan/MI</td>\n",
       "      <td>159890.0</td>\n",
       "      <td>NaN</td>\n",
       "      <td>2602901</td>\n",
       "      <td>96.7</td>\n",
       "      <td>3.3</td>\n",
       "    </tr>\n",
       "    <tr>\n",
       "      <th>854994</th>\n",
       "      <td>West North Central</td>\n",
       "      <td>Midwest</td>\n",
       "      <td>29</td>\n",
       "      <td>P</td>\n",
       "      <td>19</td>\n",
       "      <td>34</td>\n",
       "      <td>Born-US</td>\n",
       "      <td>Self-emp-inc</td>\n",
       "      <td>some-college-less1</td>\n",
       "      <td>Married</td>\n",
       "      <td>...</td>\n",
       "      <td>female</td>\n",
       "      <td>0.0</td>\n",
       "      <td>40.0</td>\n",
       "      <td>NaN</td>\n",
       "      <td>Missouri/MO</td>\n",
       "      <td>30000.0</td>\n",
       "      <td>NaN</td>\n",
       "      <td>2901500</td>\n",
       "      <td>89.0</td>\n",
       "      <td>11.0</td>\n",
       "    </tr>\n",
       "  </tbody>\n",
       "</table>\n",
       "<p>5 rows × 23 columns</p>\n",
       "</div>"
      ],
      "text/plain": [
       "       Geographic-division   region  state RT  person-weight  age  \\\n",
       "329937      South Atlantic    South     11  P             70   57   \n",
       "121545             Pacific     West      6  P             62   55   \n",
       "365896      South Atlantic    South     12  P            102   54   \n",
       "771805  East North Central  Midwest     26  P             82   65   \n",
       "854994  West North Central  Midwest     29  P             19   34   \n",
       "\n",
       "       citizenship-status     class-worker           education marital-status  \\\n",
       "329937            Born-US          Fed-gov  some-college-less1  Never-married   \n",
       "121545            Born-US  Private-nonprof            bachelor        Married   \n",
       "365896            Born-US     Private-prof      grade12-nograd        Married   \n",
       "771805            Born-US     Private-prof              grade9        Married   \n",
       "854994            Born-US     Self-emp-inc  some-college-less1        Married   \n",
       "\n",
       "        ...     sex  extra-income hours-per-week field-of-degree  \\\n",
       "329937  ...    male           0.0           40.0             NaN   \n",
       "121545  ...    male        9700.0           38.0         Nursing   \n",
       "365896  ...  female           0.0           40.0             NaN   \n",
       "771805  ...    male           0.0           25.0             NaN   \n",
       "854994  ...  female           0.0           40.0             NaN   \n",
       "\n",
       "                 place-of-birth    income stem-degree full PUMA  insured_rate  \\\n",
       "329937  District of Columbia/DC   45000.0         NaN   1100103          96.2   \n",
       "121545          Rhode Island/RI  155700.0          No    603706          89.8   \n",
       "365896               Florida/FL   19000.0         NaN   1208606          80.3   \n",
       "771805              Michigan/MI  159890.0         NaN   2602901          96.7   \n",
       "854994              Missouri/MO   30000.0         NaN   2901500          89.0   \n",
       "\n",
       "       uninsured_rate  \n",
       "329937            3.8  \n",
       "121545           10.2  \n",
       "365896           19.7  \n",
       "771805            3.3  \n",
       "854994           11.0  \n",
       "\n",
       "[5 rows x 23 columns]"
      ]
     },
     "execution_count": 3,
     "metadata": {},
     "output_type": "execute_result"
    }
   ],
   "source": [
    "df = pd.read_csv('../final_data/2019_new-var_health-insurance-coverage.csv').sample(frac=1)\n",
    "df.head()"
   ]
  },
  {
   "cell_type": "code",
   "execution_count": 4,
   "metadata": {},
   "outputs": [
    {
     "data": {
      "text/html": [
       "<div>\n",
       "<style scoped>\n",
       "    .dataframe tbody tr th:only-of-type {\n",
       "        vertical-align: middle;\n",
       "    }\n",
       "\n",
       "    .dataframe tbody tr th {\n",
       "        vertical-align: top;\n",
       "    }\n",
       "\n",
       "    .dataframe thead th {\n",
       "        text-align: right;\n",
       "    }\n",
       "</style>\n",
       "<table border=\"1\" class=\"dataframe\">\n",
       "  <thead>\n",
       "    <tr style=\"text-align: right;\">\n",
       "      <th></th>\n",
       "      <th>Geographic-division</th>\n",
       "      <th>region</th>\n",
       "      <th>state</th>\n",
       "      <th>RT</th>\n",
       "      <th>person-weight</th>\n",
       "      <th>age</th>\n",
       "      <th>citizenship-status</th>\n",
       "      <th>class-worker</th>\n",
       "      <th>education</th>\n",
       "      <th>marital-status</th>\n",
       "      <th>...</th>\n",
       "      <th>sex</th>\n",
       "      <th>extra-income</th>\n",
       "      <th>hours-per-week</th>\n",
       "      <th>field-of-degree</th>\n",
       "      <th>place-of-birth</th>\n",
       "      <th>stem-degree</th>\n",
       "      <th>full PUMA</th>\n",
       "      <th>insured_rate</th>\n",
       "      <th>uninsured_rate</th>\n",
       "      <th>income</th>\n",
       "    </tr>\n",
       "  </thead>\n",
       "  <tbody>\n",
       "    <tr>\n",
       "      <th>329937</th>\n",
       "      <td>South Atlantic</td>\n",
       "      <td>South</td>\n",
       "      <td>11</td>\n",
       "      <td>P</td>\n",
       "      <td>70</td>\n",
       "      <td>57</td>\n",
       "      <td>Born-US</td>\n",
       "      <td>Fed-gov</td>\n",
       "      <td>some-college-less1</td>\n",
       "      <td>Never-married</td>\n",
       "      <td>...</td>\n",
       "      <td>male</td>\n",
       "      <td>0.0</td>\n",
       "      <td>40.0</td>\n",
       "      <td>Unknown</td>\n",
       "      <td>District of Columbia/DC</td>\n",
       "      <td>Unknown</td>\n",
       "      <td>1100103</td>\n",
       "      <td>96.2</td>\n",
       "      <td>3.8</td>\n",
       "      <td>&lt;=50K</td>\n",
       "    </tr>\n",
       "    <tr>\n",
       "      <th>121545</th>\n",
       "      <td>Pacific</td>\n",
       "      <td>West</td>\n",
       "      <td>6</td>\n",
       "      <td>P</td>\n",
       "      <td>62</td>\n",
       "      <td>55</td>\n",
       "      <td>Born-US</td>\n",
       "      <td>Private-nonprof</td>\n",
       "      <td>bachelor</td>\n",
       "      <td>Married</td>\n",
       "      <td>...</td>\n",
       "      <td>male</td>\n",
       "      <td>9700.0</td>\n",
       "      <td>38.0</td>\n",
       "      <td>Nursing</td>\n",
       "      <td>Rhode Island/RI</td>\n",
       "      <td>No</td>\n",
       "      <td>603706</td>\n",
       "      <td>89.8</td>\n",
       "      <td>10.2</td>\n",
       "      <td>&gt;50K</td>\n",
       "    </tr>\n",
       "    <tr>\n",
       "      <th>365896</th>\n",
       "      <td>South Atlantic</td>\n",
       "      <td>South</td>\n",
       "      <td>12</td>\n",
       "      <td>P</td>\n",
       "      <td>102</td>\n",
       "      <td>54</td>\n",
       "      <td>Born-US</td>\n",
       "      <td>Private-prof</td>\n",
       "      <td>grade12-nograd</td>\n",
       "      <td>Married</td>\n",
       "      <td>...</td>\n",
       "      <td>female</td>\n",
       "      <td>0.0</td>\n",
       "      <td>40.0</td>\n",
       "      <td>Unknown</td>\n",
       "      <td>Florida/FL</td>\n",
       "      <td>Unknown</td>\n",
       "      <td>1208606</td>\n",
       "      <td>80.3</td>\n",
       "      <td>19.7</td>\n",
       "      <td>&lt;=50K</td>\n",
       "    </tr>\n",
       "    <tr>\n",
       "      <th>771805</th>\n",
       "      <td>East North Central</td>\n",
       "      <td>Midwest</td>\n",
       "      <td>26</td>\n",
       "      <td>P</td>\n",
       "      <td>82</td>\n",
       "      <td>65</td>\n",
       "      <td>Born-US</td>\n",
       "      <td>Private-prof</td>\n",
       "      <td>grade9</td>\n",
       "      <td>Married</td>\n",
       "      <td>...</td>\n",
       "      <td>male</td>\n",
       "      <td>0.0</td>\n",
       "      <td>25.0</td>\n",
       "      <td>Unknown</td>\n",
       "      <td>Michigan/MI</td>\n",
       "      <td>Unknown</td>\n",
       "      <td>2602901</td>\n",
       "      <td>96.7</td>\n",
       "      <td>3.3</td>\n",
       "      <td>&gt;50K</td>\n",
       "    </tr>\n",
       "    <tr>\n",
       "      <th>854994</th>\n",
       "      <td>West North Central</td>\n",
       "      <td>Midwest</td>\n",
       "      <td>29</td>\n",
       "      <td>P</td>\n",
       "      <td>19</td>\n",
       "      <td>34</td>\n",
       "      <td>Born-US</td>\n",
       "      <td>Self-emp-inc</td>\n",
       "      <td>some-college-less1</td>\n",
       "      <td>Married</td>\n",
       "      <td>...</td>\n",
       "      <td>female</td>\n",
       "      <td>0.0</td>\n",
       "      <td>40.0</td>\n",
       "      <td>Unknown</td>\n",
       "      <td>Missouri/MO</td>\n",
       "      <td>Unknown</td>\n",
       "      <td>2901500</td>\n",
       "      <td>89.0</td>\n",
       "      <td>11.0</td>\n",
       "      <td>&lt;=50K</td>\n",
       "    </tr>\n",
       "  </tbody>\n",
       "</table>\n",
       "<p>5 rows × 23 columns</p>\n",
       "</div>"
      ],
      "text/plain": [
       "       Geographic-division   region  state RT  person-weight  age  \\\n",
       "329937      South Atlantic    South     11  P             70   57   \n",
       "121545             Pacific     West      6  P             62   55   \n",
       "365896      South Atlantic    South     12  P            102   54   \n",
       "771805  East North Central  Midwest     26  P             82   65   \n",
       "854994  West North Central  Midwest     29  P             19   34   \n",
       "\n",
       "       citizenship-status     class-worker           education marital-status  \\\n",
       "329937            Born-US          Fed-gov  some-college-less1  Never-married   \n",
       "121545            Born-US  Private-nonprof            bachelor        Married   \n",
       "365896            Born-US     Private-prof      grade12-nograd        Married   \n",
       "771805            Born-US     Private-prof              grade9        Married   \n",
       "854994            Born-US     Self-emp-inc  some-college-less1        Married   \n",
       "\n",
       "        ...     sex  extra-income hours-per-week field-of-degree  \\\n",
       "329937  ...    male           0.0           40.0         Unknown   \n",
       "121545  ...    male        9700.0           38.0         Nursing   \n",
       "365896  ...  female           0.0           40.0         Unknown   \n",
       "771805  ...    male           0.0           25.0         Unknown   \n",
       "854994  ...  female           0.0           40.0         Unknown   \n",
       "\n",
       "                 place-of-birth  stem-degree full PUMA insured_rate  \\\n",
       "329937  District of Columbia/DC      Unknown   1100103         96.2   \n",
       "121545          Rhode Island/RI           No    603706         89.8   \n",
       "365896               Florida/FL      Unknown   1208606         80.3   \n",
       "771805              Michigan/MI      Unknown   2602901         96.7   \n",
       "854994              Missouri/MO      Unknown   2901500         89.0   \n",
       "\n",
       "       uninsured_rate  income  \n",
       "329937            3.8   <=50K  \n",
       "121545           10.2    >50K  \n",
       "365896           19.7   <=50K  \n",
       "771805            3.3    >50K  \n",
       "854994           11.0   <=50K  \n",
       "\n",
       "[5 rows x 23 columns]"
      ]
     },
     "execution_count": 4,
     "metadata": {},
     "output_type": "execute_result"
    }
   ],
   "source": [
    "df.loc[df['income'] <= 50000, 'income_adjusted'] = '<=50K'\n",
    "df.loc[df['income'] > 50000, 'income_adjusted'] = '>50K' \n",
    "\n",
    "df = df.drop(columns=['income']).rename(columns={'income_adjusted': 'income'})#.dropna()\n",
    "\n",
    "df['field-of-degree'] = df['field-of-degree'].fillna('Unknown')\n",
    "df['stem-degree'] = df['stem-degree'].fillna('Unknown')\n",
    "# df['insured_rate'] = df['insured_rate'].fillna(-1.0)\n",
    "# df['uninsured_rate'] = df['uninsured_rate'].fillna(-1.0)\n",
    "\n",
    "# df = df.dropna()\n",
    "\n",
    "df.head()"
   ]
  },
  {
   "cell_type": "code",
   "execution_count": 5,
   "metadata": {},
   "outputs": [
    {
     "data": {
      "text/plain": [
       "Geographic-division    0\n",
       "region                 0\n",
       "state                  0\n",
       "RT                     0\n",
       "person-weight          0\n",
       "age                    0\n",
       "citizenship-status     0\n",
       "class-worker           0\n",
       "education              0\n",
       "marital-status         0\n",
       "occupation             0\n",
       "relationship           0\n",
       "race                   0\n",
       "sex                    0\n",
       "extra-income           0\n",
       "hours-per-week         0\n",
       "field-of-degree        0\n",
       "place-of-birth         0\n",
       "stem-degree            0\n",
       "full PUMA              0\n",
       "insured_rate           0\n",
       "uninsured_rate         0\n",
       "income                 0\n",
       "dtype: int64"
      ]
     },
     "execution_count": 5,
     "metadata": {},
     "output_type": "execute_result"
    }
   ],
   "source": [
    "# df = df.dropna()\n",
    "\n",
    "df.isnull().sum()"
   ]
  },
  {
   "cell_type": "code",
   "execution_count": 6,
   "metadata": {},
   "outputs": [],
   "source": [
    "X = df.drop(columns=['income'], axis = 1)\n",
    "y = df[['income']].to_numpy()"
   ]
  },
  {
   "cell_type": "code",
   "execution_count": 7,
   "metadata": {},
   "outputs": [],
   "source": [
    "labels = np.unique(y)\n",
    "features = list(X.columns)"
   ]
  },
  {
   "cell_type": "markdown",
   "metadata": {},
   "source": [
    "### Pre-process categorical variables"
   ]
  },
  {
   "cell_type": "code",
   "execution_count": 8,
   "metadata": {},
   "outputs": [],
   "source": [
    "cat_var = ['Geographic-division', 'region', 'state', 'RT', 'citizenship-status', 'class-worker', 'education', 'marital-status', 'occupation', 'relationship', 'race', 'sex', 'field-of-degree', 'place-of-birth', 'stem-degree']\n",
    "for f in cat_var:\n",
    "    enc = preprocessing.LabelEncoder()\n",
    "    X[f] = enc.fit_transform(X[f])\n",
    "\n",
    "scaler = preprocessing.StandardScaler()\n",
    "X = pd.DataFrame(scaler.fit_transform(X), columns = X.columns)"
   ]
  },
  {
   "cell_type": "markdown",
   "metadata": {},
   "source": [
    "### Split data into test and training"
   ]
  },
  {
   "cell_type": "code",
   "execution_count": 9,
   "metadata": {},
   "outputs": [],
   "source": [
    "X_train, X_test, y_train, y_test = train_test_split(X, y, test_size=0.2)"
   ]
  },
  {
   "cell_type": "code",
   "execution_count": 10,
   "metadata": {},
   "outputs": [
    {
     "data": {
      "text/plain": [
       "334460"
      ]
     },
     "execution_count": 10,
     "metadata": {},
     "output_type": "execute_result"
    }
   ],
   "source": [
    "len(X_test)"
   ]
  },
  {
   "cell_type": "markdown",
   "metadata": {},
   "source": [
    "## Train Models and Establish Baseline Scores"
   ]
  },
  {
   "cell_type": "markdown",
   "metadata": {},
   "source": [
    "### Logistic Regression"
   ]
  },
  {
   "cell_type": "code",
   "execution_count": 11,
   "metadata": {},
   "outputs": [],
   "source": [
    "# Train model, get predictions\n",
    "model = LogisticRegression()\n",
    "model.fit(X, y)\n",
    "y_pred = model.predict(X_test)\n",
    "y_probas = model.predict_proba(X_test)\n",
    "importances = model.coef_\n",
    "indices = np.argsort(importances)[::-1]"
   ]
  },
  {
   "cell_type": "code",
   "execution_count": 12,
   "metadata": {},
   "outputs": [
    {
     "name": "stdout",
     "output_type": "stream",
     "text": [
      "<class 'pandas.core.frame.DataFrame'>\n",
      "Int64Index: 1337840 entries, 1376908 to 884360\n",
      "Data columns (total 22 columns):\n",
      " #   Column               Non-Null Count    Dtype  \n",
      "---  ------               --------------    -----  \n",
      " 0   Geographic-division  1337840 non-null  float64\n",
      " 1   region               1337840 non-null  float64\n",
      " 2   state                1337840 non-null  float64\n",
      " 3   RT                   1337840 non-null  float64\n",
      " 4   person-weight        1337840 non-null  float64\n",
      " 5   age                  1337840 non-null  float64\n",
      " 6   citizenship-status   1337840 non-null  float64\n",
      " 7   class-worker         1337840 non-null  float64\n",
      " 8   education            1337840 non-null  float64\n",
      " 9   marital-status       1337840 non-null  float64\n",
      " 10  occupation           1337840 non-null  float64\n",
      " 11  relationship         1337840 non-null  float64\n",
      " 12  race                 1337840 non-null  float64\n",
      " 13  sex                  1337840 non-null  float64\n",
      " 14  extra-income         1337840 non-null  float64\n",
      " 15  hours-per-week       1337840 non-null  float64\n",
      " 16  field-of-degree      1337840 non-null  float64\n",
      " 17  place-of-birth       1337840 non-null  float64\n",
      " 18  stem-degree          1337840 non-null  float64\n",
      " 19  full PUMA            1337840 non-null  float64\n",
      " 20  insured_rate         1337840 non-null  float64\n",
      " 21  uninsured_rate       1337840 non-null  float64\n",
      "dtypes: float64(22)\n",
      "memory usage: 234.8 MB\n",
      "None\n"
     ]
    }
   ],
   "source": [
    "print(X_train.info())"
   ]
  },
  {
   "cell_type": "code",
   "execution_count": 13,
   "metadata": {},
   "outputs": [
    {
     "name": "stderr",
     "output_type": "stream",
     "text": [
      "wandb: \n",
      "wandb: Plotting LogisticRegression.\n",
      "wandb: Logged feature importances.\n",
      "wandb: Logged learning curve.\n",
      "wandb: Logged confusion matrix.\n",
      "wandb: Logged summary metrics.\n",
      "wandb: Logged class proportions.\n",
      "wandb: Logged calibration curve.\n",
      "wandb: WARNING wandb uses only the first 10000 datapoints to create the plots.\n",
      "wandb: WARNING wandb uses only the first 10000 datapoints to create the plots.\n",
      "WARNING:root:Truncating wandb.Table object to 10000 rows.\n",
      "wandb: Logged roc curve.\n",
      "wandb: Logged precision recall curve.\n"
     ]
    }
   ],
   "source": [
    "# Visualize model performance\n",
    "wandb.sklearn.plot_classifier(\n",
    "    model, X_train, X_test, y_train, y_test, y_pred, y_probas, labels,\n",
    "    is_binary=True, model_name='LogisticRegression', feature_names=features)"
   ]
  },
  {
   "cell_type": "code",
   "execution_count": 14,
   "metadata": {},
   "outputs": [
    {
     "name": "stdout",
     "output_type": "stream",
     "text": [
      "              precision    recall  f1-score   support\n",
      "\n",
      "       <=50K       0.77      0.84      0.81    201731\n",
      "        >50K       0.72      0.63      0.67    132729\n",
      "\n",
      "    accuracy                           0.76    334460\n",
      "   macro avg       0.75      0.73      0.74    334460\n",
      "weighted avg       0.75      0.76      0.75    334460\n",
      "\n"
     ]
    }
   ],
   "source": [
    "print(classification_report(y_test, y_pred, target_names=labels))"
   ]
  },
  {
   "cell_type": "code",
   "execution_count": null,
   "metadata": {},
   "outputs": [],
   "source": []
  }
 ],
 "metadata": {
  "kernelspec": {
   "display_name": "Python 3",
   "language": "python",
   "name": "python3"
  },
  "language_info": {
   "codemirror_mode": {
    "name": "ipython",
    "version": 3
   },
   "file_extension": ".py",
   "mimetype": "text/x-python",
   "name": "python",
   "nbconvert_exporter": "python",
   "pygments_lexer": "ipython3",
   "version": "3.7.6"
  }
 },
 "nbformat": 4,
 "nbformat_minor": 4
}
