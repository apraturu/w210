{
 "cells": [
  {
   "cell_type": "markdown",
   "metadata": {},
   "source": [
    "# Run Models on 2019 Data Joined with Health Insurance Coverage\n",
    "#### 10/30/2020\n",
    "---"
   ]
  },
  {
   "cell_type": "markdown",
   "metadata": {},
   "source": [
    "## Load and Process Dataset\n",
    "### Import Libraries"
   ]
  },
  {
   "cell_type": "code",
   "execution_count": 1,
   "metadata": {},
   "outputs": [],
   "source": [
    "import pandas as pd\n",
    "import numpy as np\n",
    "from sklearn.neighbors import KNeighborsClassifier\n",
    "from sklearn import preprocessing\n",
    "from sklearn.linear_model import LinearRegression, LogisticRegression\n",
    "from sklearn.model_selection import train_test_split\n",
    "from sklearn.ensemble import RandomForestClassifier\n",
    "from sklearn.metrics import classification_report\n",
    "import matplotlib.pyplot as plt\n",
    "import wandb\n",
    "import warnings\n",
    "warnings.filterwarnings('ignore')"
   ]
  },
  {
   "cell_type": "code",
   "execution_count": 2,
   "metadata": {},
   "outputs": [
    {
     "name": "stderr",
     "output_type": "stream",
     "text": [
      "wandb: Currently logged in as: apraturu (use `wandb login --relogin` to force relogin)\n"
     ]
    },
    {
     "data": {
      "text/html": [
       "\n",
       "                Tracking run with wandb version 0.10.8<br/>\n",
       "                Syncing run <strong style=\"color:#cdcd00\">headless-clown-1</strong> to <a href=\"https://wandb.ai\" target=\"_blank\">Weights & Biases</a> <a href=\"https://docs.wandb.com/integrations/jupyter.html\" target=\"_blank\">(Documentation)</a>.<br/>\n",
       "                Project page: <a href=\"https://wandb.ai/apraturu/2019_newvar_health-insurance\" target=\"_blank\">https://wandb.ai/apraturu/2019_newvar_health-insurance</a><br/>\n",
       "                Run page: <a href=\"https://wandb.ai/apraturu/2019_newvar_health-insurance/runs/2dl51d1o\" target=\"_blank\">https://wandb.ai/apraturu/2019_newvar_health-insurance/runs/2dl51d1o</a><br/>\n",
       "                Run data is saved locally in <code>wandb/run-20201030_162806-2dl51d1o</code><br/><br/>\n",
       "            "
      ],
      "text/plain": [
       "<IPython.core.display.HTML object>"
      ]
     },
     "metadata": {},
     "output_type": "display_data"
    },
    {
     "data": {
      "text/html": [
       "<h1>Run(2dl51d1o)</h1><p></p><iframe src=\"https://wandb.ai/apraturu/2019_newvar_health-insurance/runs/2dl51d1o\" style=\"border:none;width:100%;height:400px\"></iframe>"
      ],
      "text/plain": [
       "<wandb.sdk.wandb_run.Run at 0x7fc425b47250>"
      ]
     },
     "execution_count": 2,
     "metadata": {},
     "output_type": "execute_result"
    }
   ],
   "source": [
    "wandb.init(project=\"2019_newvar_health-insurance\")"
   ]
  },
  {
   "cell_type": "markdown",
   "metadata": {},
   "source": [
    "### Read in `adult.csv` data"
   ]
  },
  {
   "cell_type": "code",
   "execution_count": 6,
   "metadata": {},
   "outputs": [
    {
     "data": {
      "text/html": [
       "<div>\n",
       "<style scoped>\n",
       "    .dataframe tbody tr th:only-of-type {\n",
       "        vertical-align: middle;\n",
       "    }\n",
       "\n",
       "    .dataframe tbody tr th {\n",
       "        vertical-align: top;\n",
       "    }\n",
       "\n",
       "    .dataframe thead th {\n",
       "        text-align: right;\n",
       "    }\n",
       "</style>\n",
       "<table border=\"1\" class=\"dataframe\">\n",
       "  <thead>\n",
       "    <tr style=\"text-align: right;\">\n",
       "      <th></th>\n",
       "      <th>Geographic-division</th>\n",
       "      <th>region</th>\n",
       "      <th>state</th>\n",
       "      <th>RT</th>\n",
       "      <th>person-weight</th>\n",
       "      <th>age</th>\n",
       "      <th>citizenship-status</th>\n",
       "      <th>class-worker</th>\n",
       "      <th>education</th>\n",
       "      <th>marital-status</th>\n",
       "      <th>...</th>\n",
       "      <th>sex</th>\n",
       "      <th>extra-income</th>\n",
       "      <th>hours-per-week</th>\n",
       "      <th>field-of-degree</th>\n",
       "      <th>place-of-birth</th>\n",
       "      <th>income</th>\n",
       "      <th>stem-degree</th>\n",
       "      <th>full PUMA</th>\n",
       "      <th>insured_rate</th>\n",
       "      <th>uninsured_rate</th>\n",
       "    </tr>\n",
       "  </thead>\n",
       "  <tbody>\n",
       "    <tr>\n",
       "      <th>1111658</th>\n",
       "      <td>Middle Atlantic</td>\n",
       "      <td>Northeast</td>\n",
       "      <td>34</td>\n",
       "      <td>P</td>\n",
       "      <td>44</td>\n",
       "      <td>45</td>\n",
       "      <td>Born-US</td>\n",
       "      <td>Local-gov</td>\n",
       "      <td>master</td>\n",
       "      <td>Married</td>\n",
       "      <td>...</td>\n",
       "      <td>male</td>\n",
       "      <td>0.0</td>\n",
       "      <td>40.0</td>\n",
       "      <td>Criminal Justice And Fire Protection</td>\n",
       "      <td>New Jersey/NJ</td>\n",
       "      <td>140000.0</td>\n",
       "      <td>No</td>\n",
       "      <td>3400904</td>\n",
       "      <td>NaN</td>\n",
       "      <td>NaN</td>\n",
       "    </tr>\n",
       "    <tr>\n",
       "      <th>886313</th>\n",
       "      <td>New England</td>\n",
       "      <td>Northeast</td>\n",
       "      <td>25</td>\n",
       "      <td>P</td>\n",
       "      <td>5</td>\n",
       "      <td>34</td>\n",
       "      <td>Born-US</td>\n",
       "      <td>Private-nonprof</td>\n",
       "      <td>master</td>\n",
       "      <td>Married</td>\n",
       "      <td>...</td>\n",
       "      <td>male</td>\n",
       "      <td>0.0</td>\n",
       "      <td>45.0</td>\n",
       "      <td>Social Work</td>\n",
       "      <td>Massachusetts/MA</td>\n",
       "      <td>45000.0</td>\n",
       "      <td>Yes</td>\n",
       "      <td>2500302</td>\n",
       "      <td>NaN</td>\n",
       "      <td>NaN</td>\n",
       "    </tr>\n",
       "    <tr>\n",
       "      <th>1008057</th>\n",
       "      <td>East South Central</td>\n",
       "      <td>South</td>\n",
       "      <td>28</td>\n",
       "      <td>P</td>\n",
       "      <td>259</td>\n",
       "      <td>41</td>\n",
       "      <td>Born-US</td>\n",
       "      <td>Private-nonprof</td>\n",
       "      <td>some-college-great1</td>\n",
       "      <td>Divorced</td>\n",
       "      <td>...</td>\n",
       "      <td>female</td>\n",
       "      <td>0.0</td>\n",
       "      <td>40.0</td>\n",
       "      <td>NaN</td>\n",
       "      <td>Mississippi/MS</td>\n",
       "      <td>36000.0</td>\n",
       "      <td>NaN</td>\n",
       "      <td>2800400</td>\n",
       "      <td>NaN</td>\n",
       "      <td>NaN</td>\n",
       "    </tr>\n",
       "    <tr>\n",
       "      <th>1541966</th>\n",
       "      <td>East South Central</td>\n",
       "      <td>South</td>\n",
       "      <td>47</td>\n",
       "      <td>P</td>\n",
       "      <td>39</td>\n",
       "      <td>47</td>\n",
       "      <td>Born-US</td>\n",
       "      <td>Private-prof</td>\n",
       "      <td>HSgrad</td>\n",
       "      <td>Divorced</td>\n",
       "      <td>...</td>\n",
       "      <td>female</td>\n",
       "      <td>0.0</td>\n",
       "      <td>18.0</td>\n",
       "      <td>NaN</td>\n",
       "      <td>Tennessee/TN</td>\n",
       "      <td>8000.0</td>\n",
       "      <td>NaN</td>\n",
       "      <td>4700800</td>\n",
       "      <td>NaN</td>\n",
       "      <td>NaN</td>\n",
       "    </tr>\n",
       "    <tr>\n",
       "      <th>158389</th>\n",
       "      <td>West South Central</td>\n",
       "      <td>South</td>\n",
       "      <td>5</td>\n",
       "      <td>P</td>\n",
       "      <td>85</td>\n",
       "      <td>33</td>\n",
       "      <td>Born-US</td>\n",
       "      <td>Private-prof</td>\n",
       "      <td>associate</td>\n",
       "      <td>Never-married</td>\n",
       "      <td>...</td>\n",
       "      <td>female</td>\n",
       "      <td>0.0</td>\n",
       "      <td>40.0</td>\n",
       "      <td>NaN</td>\n",
       "      <td>Arkansas/AR</td>\n",
       "      <td>50000.0</td>\n",
       "      <td>NaN</td>\n",
       "      <td>500900</td>\n",
       "      <td>94.0</td>\n",
       "      <td>6.0</td>\n",
       "    </tr>\n",
       "  </tbody>\n",
       "</table>\n",
       "<p>5 rows × 23 columns</p>\n",
       "</div>"
      ],
      "text/plain": [
       "        Geographic-division     region  state RT  person-weight  age  \\\n",
       "1111658     Middle Atlantic  Northeast     34  P             44   45   \n",
       "886313          New England  Northeast     25  P              5   34   \n",
       "1008057  East South Central      South     28  P            259   41   \n",
       "1541966  East South Central      South     47  P             39   47   \n",
       "158389   West South Central      South      5  P             85   33   \n",
       "\n",
       "        citizenship-status     class-worker            education  \\\n",
       "1111658            Born-US        Local-gov               master   \n",
       "886313             Born-US  Private-nonprof               master   \n",
       "1008057            Born-US  Private-nonprof  some-college-great1   \n",
       "1541966            Born-US     Private-prof               HSgrad   \n",
       "158389             Born-US     Private-prof            associate   \n",
       "\n",
       "        marital-status  ...     sex  extra-income hours-per-week  \\\n",
       "1111658        Married  ...    male           0.0           40.0   \n",
       "886313         Married  ...    male           0.0           45.0   \n",
       "1008057       Divorced  ...  female           0.0           40.0   \n",
       "1541966       Divorced  ...  female           0.0           18.0   \n",
       "158389   Never-married  ...  female           0.0           40.0   \n",
       "\n",
       "                              field-of-degree    place-of-birth    income  \\\n",
       "1111658  Criminal Justice And Fire Protection     New Jersey/NJ  140000.0   \n",
       "886313                            Social Work  Massachusetts/MA   45000.0   \n",
       "1008057                                   NaN    Mississippi/MS   36000.0   \n",
       "1541966                                   NaN      Tennessee/TN    8000.0   \n",
       "158389                                    NaN       Arkansas/AR   50000.0   \n",
       "\n",
       "        stem-degree full PUMA  insured_rate uninsured_rate  \n",
       "1111658          No   3400904           NaN            NaN  \n",
       "886313          Yes   2500302           NaN            NaN  \n",
       "1008057         NaN   2800400           NaN            NaN  \n",
       "1541966         NaN   4700800           NaN            NaN  \n",
       "158389          NaN    500900          94.0            6.0  \n",
       "\n",
       "[5 rows x 23 columns]"
      ]
     },
     "execution_count": 6,
     "metadata": {},
     "output_type": "execute_result"
    }
   ],
   "source": [
    "df = pd.read_csv('../final_data/2019_new-var_health-insurance-coverage.csv').sample(frac=1)\n",
    "df.head()"
   ]
  },
  {
   "cell_type": "code",
   "execution_count": 7,
   "metadata": {},
   "outputs": [
    {
     "data": {
      "text/html": [
       "<div>\n",
       "<style scoped>\n",
       "    .dataframe tbody tr th:only-of-type {\n",
       "        vertical-align: middle;\n",
       "    }\n",
       "\n",
       "    .dataframe tbody tr th {\n",
       "        vertical-align: top;\n",
       "    }\n",
       "\n",
       "    .dataframe thead th {\n",
       "        text-align: right;\n",
       "    }\n",
       "</style>\n",
       "<table border=\"1\" class=\"dataframe\">\n",
       "  <thead>\n",
       "    <tr style=\"text-align: right;\">\n",
       "      <th></th>\n",
       "      <th>Geographic-division</th>\n",
       "      <th>region</th>\n",
       "      <th>state</th>\n",
       "      <th>RT</th>\n",
       "      <th>person-weight</th>\n",
       "      <th>age</th>\n",
       "      <th>citizenship-status</th>\n",
       "      <th>class-worker</th>\n",
       "      <th>education</th>\n",
       "      <th>marital-status</th>\n",
       "      <th>...</th>\n",
       "      <th>sex</th>\n",
       "      <th>extra-income</th>\n",
       "      <th>hours-per-week</th>\n",
       "      <th>field-of-degree</th>\n",
       "      <th>place-of-birth</th>\n",
       "      <th>stem-degree</th>\n",
       "      <th>full PUMA</th>\n",
       "      <th>insured_rate</th>\n",
       "      <th>uninsured_rate</th>\n",
       "      <th>income</th>\n",
       "    </tr>\n",
       "  </thead>\n",
       "  <tbody>\n",
       "    <tr>\n",
       "      <th>1111658</th>\n",
       "      <td>Middle Atlantic</td>\n",
       "      <td>Northeast</td>\n",
       "      <td>34</td>\n",
       "      <td>P</td>\n",
       "      <td>44</td>\n",
       "      <td>45</td>\n",
       "      <td>Born-US</td>\n",
       "      <td>Local-gov</td>\n",
       "      <td>master</td>\n",
       "      <td>Married</td>\n",
       "      <td>...</td>\n",
       "      <td>male</td>\n",
       "      <td>0.0</td>\n",
       "      <td>40.0</td>\n",
       "      <td>Criminal Justice And Fire Protection</td>\n",
       "      <td>New Jersey/NJ</td>\n",
       "      <td>No</td>\n",
       "      <td>3400904</td>\n",
       "      <td>-1.0</td>\n",
       "      <td>-1.0</td>\n",
       "      <td>&gt;50K</td>\n",
       "    </tr>\n",
       "    <tr>\n",
       "      <th>886313</th>\n",
       "      <td>New England</td>\n",
       "      <td>Northeast</td>\n",
       "      <td>25</td>\n",
       "      <td>P</td>\n",
       "      <td>5</td>\n",
       "      <td>34</td>\n",
       "      <td>Born-US</td>\n",
       "      <td>Private-nonprof</td>\n",
       "      <td>master</td>\n",
       "      <td>Married</td>\n",
       "      <td>...</td>\n",
       "      <td>male</td>\n",
       "      <td>0.0</td>\n",
       "      <td>45.0</td>\n",
       "      <td>Social Work</td>\n",
       "      <td>Massachusetts/MA</td>\n",
       "      <td>Yes</td>\n",
       "      <td>2500302</td>\n",
       "      <td>-1.0</td>\n",
       "      <td>-1.0</td>\n",
       "      <td>&lt;=50K</td>\n",
       "    </tr>\n",
       "    <tr>\n",
       "      <th>1008057</th>\n",
       "      <td>East South Central</td>\n",
       "      <td>South</td>\n",
       "      <td>28</td>\n",
       "      <td>P</td>\n",
       "      <td>259</td>\n",
       "      <td>41</td>\n",
       "      <td>Born-US</td>\n",
       "      <td>Private-nonprof</td>\n",
       "      <td>some-college-great1</td>\n",
       "      <td>Divorced</td>\n",
       "      <td>...</td>\n",
       "      <td>female</td>\n",
       "      <td>0.0</td>\n",
       "      <td>40.0</td>\n",
       "      <td>Unknown</td>\n",
       "      <td>Mississippi/MS</td>\n",
       "      <td>Unknown</td>\n",
       "      <td>2800400</td>\n",
       "      <td>-1.0</td>\n",
       "      <td>-1.0</td>\n",
       "      <td>&lt;=50K</td>\n",
       "    </tr>\n",
       "    <tr>\n",
       "      <th>1541966</th>\n",
       "      <td>East South Central</td>\n",
       "      <td>South</td>\n",
       "      <td>47</td>\n",
       "      <td>P</td>\n",
       "      <td>39</td>\n",
       "      <td>47</td>\n",
       "      <td>Born-US</td>\n",
       "      <td>Private-prof</td>\n",
       "      <td>HSgrad</td>\n",
       "      <td>Divorced</td>\n",
       "      <td>...</td>\n",
       "      <td>female</td>\n",
       "      <td>0.0</td>\n",
       "      <td>18.0</td>\n",
       "      <td>Unknown</td>\n",
       "      <td>Tennessee/TN</td>\n",
       "      <td>Unknown</td>\n",
       "      <td>4700800</td>\n",
       "      <td>-1.0</td>\n",
       "      <td>-1.0</td>\n",
       "      <td>&lt;=50K</td>\n",
       "    </tr>\n",
       "    <tr>\n",
       "      <th>158389</th>\n",
       "      <td>West South Central</td>\n",
       "      <td>South</td>\n",
       "      <td>5</td>\n",
       "      <td>P</td>\n",
       "      <td>85</td>\n",
       "      <td>33</td>\n",
       "      <td>Born-US</td>\n",
       "      <td>Private-prof</td>\n",
       "      <td>associate</td>\n",
       "      <td>Never-married</td>\n",
       "      <td>...</td>\n",
       "      <td>female</td>\n",
       "      <td>0.0</td>\n",
       "      <td>40.0</td>\n",
       "      <td>Unknown</td>\n",
       "      <td>Arkansas/AR</td>\n",
       "      <td>Unknown</td>\n",
       "      <td>500900</td>\n",
       "      <td>94.0</td>\n",
       "      <td>6.0</td>\n",
       "      <td>&lt;=50K</td>\n",
       "    </tr>\n",
       "  </tbody>\n",
       "</table>\n",
       "<p>5 rows × 23 columns</p>\n",
       "</div>"
      ],
      "text/plain": [
       "        Geographic-division     region  state RT  person-weight  age  \\\n",
       "1111658     Middle Atlantic  Northeast     34  P             44   45   \n",
       "886313          New England  Northeast     25  P              5   34   \n",
       "1008057  East South Central      South     28  P            259   41   \n",
       "1541966  East South Central      South     47  P             39   47   \n",
       "158389   West South Central      South      5  P             85   33   \n",
       "\n",
       "        citizenship-status     class-worker            education  \\\n",
       "1111658            Born-US        Local-gov               master   \n",
       "886313             Born-US  Private-nonprof               master   \n",
       "1008057            Born-US  Private-nonprof  some-college-great1   \n",
       "1541966            Born-US     Private-prof               HSgrad   \n",
       "158389             Born-US     Private-prof            associate   \n",
       "\n",
       "        marital-status  ...     sex  extra-income hours-per-week  \\\n",
       "1111658        Married  ...    male           0.0           40.0   \n",
       "886313         Married  ...    male           0.0           45.0   \n",
       "1008057       Divorced  ...  female           0.0           40.0   \n",
       "1541966       Divorced  ...  female           0.0           18.0   \n",
       "158389   Never-married  ...  female           0.0           40.0   \n",
       "\n",
       "                              field-of-degree    place-of-birth  stem-degree  \\\n",
       "1111658  Criminal Justice And Fire Protection     New Jersey/NJ           No   \n",
       "886313                            Social Work  Massachusetts/MA          Yes   \n",
       "1008057                               Unknown    Mississippi/MS      Unknown   \n",
       "1541966                               Unknown      Tennessee/TN      Unknown   \n",
       "158389                                Unknown       Arkansas/AR      Unknown   \n",
       "\n",
       "        full PUMA insured_rate uninsured_rate  income  \n",
       "1111658   3400904         -1.0           -1.0    >50K  \n",
       "886313    2500302         -1.0           -1.0   <=50K  \n",
       "1008057   2800400         -1.0           -1.0   <=50K  \n",
       "1541966   4700800         -1.0           -1.0   <=50K  \n",
       "158389     500900         94.0            6.0   <=50K  \n",
       "\n",
       "[5 rows x 23 columns]"
      ]
     },
     "execution_count": 7,
     "metadata": {},
     "output_type": "execute_result"
    }
   ],
   "source": [
    "df.loc[df['income'] <= 50000, 'income_adjusted'] = '<=50K'\n",
    "df.loc[df['income'] > 50000, 'income_adjusted'] = '>50K' \n",
    "\n",
    "df = df.drop(columns=['income']).rename(columns={'income_adjusted': 'income'})#.dropna()\n",
    "\n",
    "df['field-of-degree'] = df['field-of-degree'].fillna('Unknown')\n",
    "df['stem-degree'] = df['stem-degree'].fillna('Unknown')\n",
    "df['insured_rate'] = df['insured_rate'].fillna(-1.0)\n",
    "df['uninsured_rate'] = df['uninsured_rate'].fillna(-1.0)\n",
    "\n",
    "# df = df.dropna()\n",
    "\n",
    "df.head()"
   ]
  },
  {
   "cell_type": "code",
   "execution_count": 8,
   "metadata": {},
   "outputs": [
    {
     "data": {
      "text/plain": [
       "Geographic-division    0\n",
       "region                 0\n",
       "state                  0\n",
       "RT                     0\n",
       "person-weight          0\n",
       "age                    0\n",
       "citizenship-status     0\n",
       "class-worker           0\n",
       "education              0\n",
       "marital-status         0\n",
       "occupation             0\n",
       "relationship           0\n",
       "race                   0\n",
       "sex                    0\n",
       "extra-income           0\n",
       "hours-per-week         0\n",
       "field-of-degree        0\n",
       "place-of-birth         0\n",
       "stem-degree            0\n",
       "full PUMA              0\n",
       "insured_rate           0\n",
       "uninsured_rate         0\n",
       "income                 0\n",
       "dtype: int64"
      ]
     },
     "execution_count": 8,
     "metadata": {},
     "output_type": "execute_result"
    }
   ],
   "source": [
    "# df = df.dropna()\n",
    "\n",
    "df.isnull().sum()"
   ]
  },
  {
   "cell_type": "code",
   "execution_count": 9,
   "metadata": {},
   "outputs": [],
   "source": [
    "X = df.drop(columns=['income'], axis = 1)\n",
    "y = df[['income']].to_numpy()"
   ]
  },
  {
   "cell_type": "code",
   "execution_count": 10,
   "metadata": {},
   "outputs": [],
   "source": [
    "labels = np.unique(y)\n",
    "features = list(X.columns)"
   ]
  },
  {
   "cell_type": "markdown",
   "metadata": {},
   "source": [
    "### Pre-process categorical variables"
   ]
  },
  {
   "cell_type": "code",
   "execution_count": 11,
   "metadata": {},
   "outputs": [],
   "source": [
    "cat_var = ['Geographic-division', 'region', 'state', 'RT', 'citizenship-status', 'class-worker', 'education', 'marital-status', 'occupation', 'relationship', 'race', 'sex', 'field-of-degree', 'place-of-birth', 'stem-degree']\n",
    "for f in cat_var:\n",
    "    enc = preprocessing.LabelEncoder()\n",
    "    X[f] = enc.fit_transform(X[f])\n",
    "\n",
    "scaler = preprocessing.StandardScaler()\n",
    "X = pd.DataFrame(scaler.fit_transform(X), columns = X.columns)"
   ]
  },
  {
   "cell_type": "markdown",
   "metadata": {},
   "source": [
    "### Split data into test and training"
   ]
  },
  {
   "cell_type": "code",
   "execution_count": 12,
   "metadata": {},
   "outputs": [],
   "source": [
    "X_train, X_test, y_train, y_test = train_test_split(X, y, test_size=0.2)"
   ]
  },
  {
   "cell_type": "code",
   "execution_count": 13,
   "metadata": {},
   "outputs": [
    {
     "data": {
      "text/plain": [
       "367859"
      ]
     },
     "execution_count": 13,
     "metadata": {},
     "output_type": "execute_result"
    }
   ],
   "source": [
    "len(X_test)"
   ]
  },
  {
   "cell_type": "markdown",
   "metadata": {},
   "source": [
    "## Train Models and Establish Baseline Scores"
   ]
  },
  {
   "cell_type": "markdown",
   "metadata": {},
   "source": [
    "### Logistic Regression"
   ]
  },
  {
   "cell_type": "code",
   "execution_count": 14,
   "metadata": {},
   "outputs": [],
   "source": [
    "# Train model, get predictions\n",
    "model = LogisticRegression()\n",
    "model.fit(X, y)\n",
    "y_pred = model.predict(X_test)\n",
    "y_probas = model.predict_proba(X_test)\n",
    "importances = model.coef_\n",
    "indices = np.argsort(importances)[::-1]"
   ]
  },
  {
   "cell_type": "code",
   "execution_count": 15,
   "metadata": {},
   "outputs": [
    {
     "name": "stdout",
     "output_type": "stream",
     "text": [
      "<class 'pandas.core.frame.DataFrame'>\n",
      "Int64Index: 1471436 entries, 1810640 to 583695\n",
      "Data columns (total 22 columns):\n",
      " #   Column               Non-Null Count    Dtype  \n",
      "---  ------               --------------    -----  \n",
      " 0   Geographic-division  1471436 non-null  float64\n",
      " 1   region               1471436 non-null  float64\n",
      " 2   state                1471436 non-null  float64\n",
      " 3   RT                   1471436 non-null  float64\n",
      " 4   person-weight        1471436 non-null  float64\n",
      " 5   age                  1471436 non-null  float64\n",
      " 6   citizenship-status   1471436 non-null  float64\n",
      " 7   class-worker         1471436 non-null  float64\n",
      " 8   education            1471436 non-null  float64\n",
      " 9   marital-status       1471436 non-null  float64\n",
      " 10  occupation           1471436 non-null  float64\n",
      " 11  relationship         1471436 non-null  float64\n",
      " 12  race                 1471436 non-null  float64\n",
      " 13  sex                  1471436 non-null  float64\n",
      " 14  extra-income         1471436 non-null  float64\n",
      " 15  hours-per-week       1471436 non-null  float64\n",
      " 16  field-of-degree      1471436 non-null  float64\n",
      " 17  place-of-birth       1471436 non-null  float64\n",
      " 18  stem-degree          1471436 non-null  float64\n",
      " 19  full PUMA            1471436 non-null  float64\n",
      " 20  insured_rate         1471436 non-null  float64\n",
      " 21  uninsured_rate       1471436 non-null  float64\n",
      "dtypes: float64(22)\n",
      "memory usage: 258.2 MB\n",
      "None\n"
     ]
    }
   ],
   "source": [
    "print(X_train.info())"
   ]
  },
  {
   "cell_type": "code",
   "execution_count": 16,
   "metadata": {},
   "outputs": [
    {
     "name": "stderr",
     "output_type": "stream",
     "text": [
      "wandb: \n",
      "wandb: Plotting LogisticRegression.\n",
      "wandb: Logged feature importances.\n",
      "wandb: Logged learning curve.\n",
      "wandb: Logged confusion matrix.\n",
      "wandb: Logged summary metrics.\n",
      "wandb: Logged class proportions.\n",
      "wandb: Logged calibration curve.\n",
      "wandb: WARNING wandb uses only the first 10000 datapoints to create the plots.\n",
      "wandb: WARNING wandb uses only the first 10000 datapoints to create the plots.\n",
      "WARNING:root:Truncating wandb.Table object to 10000 rows.\n",
      "wandb: Logged roc curve.\n",
      "wandb: Logged precision recall curve.\n"
     ]
    }
   ],
   "source": [
    "# Visualize model performance\n",
    "wandb.sklearn.plot_classifier(\n",
    "    model, X_train, X_test, y_train, y_test, y_pred, y_probas, labels,\n",
    "    is_binary=True, model_name='LogisticRegression', feature_names=features)"
   ]
  },
  {
   "cell_type": "code",
   "execution_count": 17,
   "metadata": {},
   "outputs": [
    {
     "name": "stdout",
     "output_type": "stream",
     "text": [
      "              precision    recall  f1-score   support\n",
      "\n",
      "       <=50K       0.77      0.84      0.81    223606\n",
      "        >50K       0.72      0.62      0.66    144253\n",
      "\n",
      "    accuracy                           0.75    367859\n",
      "   macro avg       0.74      0.73      0.73    367859\n",
      "weighted avg       0.75      0.75      0.75    367859\n",
      "\n"
     ]
    }
   ],
   "source": [
    "print(classification_report(y_test, y_pred, target_names=labels))"
   ]
  },
  {
   "cell_type": "code",
   "execution_count": null,
   "metadata": {},
   "outputs": [],
   "source": []
  }
 ],
 "metadata": {
  "kernelspec": {
   "display_name": "Python 3",
   "language": "python",
   "name": "python3"
  },
  "language_info": {
   "codemirror_mode": {
    "name": "ipython",
    "version": 3
   },
   "file_extension": ".py",
   "mimetype": "text/x-python",
   "name": "python",
   "nbconvert_exporter": "python",
   "pygments_lexer": "ipython3",
   "version": "3.7.6"
  }
 },
 "nbformat": 4,
 "nbformat_minor": 4
}
