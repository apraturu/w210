{
 "cells": [
  {
   "cell_type": "markdown",
   "metadata": {},
   "source": [
    "# Run Models on 2019 Data Joined with Educational Attainment\n",
    "#### 10/30/2020\n",
    "---"
   ]
  },
  {
   "cell_type": "markdown",
   "metadata": {},
   "source": [
    "## Load and Process Dataset\n",
    "### Import Libraries"
   ]
  },
  {
   "cell_type": "code",
   "execution_count": 1,
   "metadata": {},
   "outputs": [],
   "source": [
    "import pandas as pd\n",
    "import numpy as np\n",
    "from sklearn.neighbors import KNeighborsClassifier\n",
    "from sklearn import preprocessing\n",
    "from sklearn.linear_model import LinearRegression, LogisticRegression\n",
    "from sklearn.model_selection import train_test_split\n",
    "from sklearn.ensemble import RandomForestClassifier\n",
    "from sklearn.metrics import classification_report\n",
    "import matplotlib.pyplot as plt\n",
    "import wandb\n",
    "import warnings\n",
    "warnings.filterwarnings('ignore')"
   ]
  },
  {
   "cell_type": "code",
   "execution_count": 2,
   "metadata": {},
   "outputs": [
    {
     "name": "stderr",
     "output_type": "stream",
     "text": [
      "wandb: Currently logged in as: apraturu (use `wandb login --relogin` to force relogin)\n"
     ]
    },
    {
     "data": {
      "text/html": [
       "\n",
       "                Tracking run with wandb version 0.10.8<br/>\n",
       "                Syncing run <strong style=\"color:#cdcd00\">twilight-wave-3</strong> to <a href=\"https://wandb.ai\" target=\"_blank\">Weights & Biases</a> <a href=\"https://docs.wandb.com/integrations/jupyter.html\" target=\"_blank\">(Documentation)</a>.<br/>\n",
       "                Project page: <a href=\"https://wandb.ai/apraturu/2019_newvar_educational-attainment\" target=\"_blank\">https://wandb.ai/apraturu/2019_newvar_educational-attainment</a><br/>\n",
       "                Run page: <a href=\"https://wandb.ai/apraturu/2019_newvar_educational-attainment/runs/cia2su1n\" target=\"_blank\">https://wandb.ai/apraturu/2019_newvar_educational-attainment/runs/cia2su1n</a><br/>\n",
       "                Run data is saved locally in <code>wandb/run-20201101_193906-cia2su1n</code><br/><br/>\n",
       "            "
      ],
      "text/plain": [
       "<IPython.core.display.HTML object>"
      ]
     },
     "metadata": {},
     "output_type": "display_data"
    },
    {
     "data": {
      "text/html": [
       "<h1>Run(cia2su1n)</h1><p></p><iframe src=\"https://wandb.ai/apraturu/2019_newvar_educational-attainment/runs/cia2su1n\" style=\"border:none;width:100%;height:400px\"></iframe>"
      ],
      "text/plain": [
       "<wandb.sdk.wandb_run.Run at 0x7fefb7447b50>"
      ]
     },
     "execution_count": 2,
     "metadata": {},
     "output_type": "execute_result"
    }
   ],
   "source": [
    "wandb.init(project=\"2019_newvar_educational-attainment\")"
   ]
  },
  {
   "cell_type": "markdown",
   "metadata": {},
   "source": [
    "### Read in `adult.csv` data"
   ]
  },
  {
   "cell_type": "code",
   "execution_count": 6,
   "metadata": {},
   "outputs": [
    {
     "data": {
      "text/html": [
       "<div>\n",
       "<style scoped>\n",
       "    .dataframe tbody tr th:only-of-type {\n",
       "        vertical-align: middle;\n",
       "    }\n",
       "\n",
       "    .dataframe tbody tr th {\n",
       "        vertical-align: top;\n",
       "    }\n",
       "\n",
       "    .dataframe thead th {\n",
       "        text-align: right;\n",
       "    }\n",
       "</style>\n",
       "<table border=\"1\" class=\"dataframe\">\n",
       "  <thead>\n",
       "    <tr style=\"text-align: right;\">\n",
       "      <th></th>\n",
       "      <th>Geographic-division</th>\n",
       "      <th>region</th>\n",
       "      <th>state</th>\n",
       "      <th>RT</th>\n",
       "      <th>person-weight</th>\n",
       "      <th>age</th>\n",
       "      <th>citizenship-status</th>\n",
       "      <th>class-worker</th>\n",
       "      <th>education</th>\n",
       "      <th>marital-status</th>\n",
       "      <th>...</th>\n",
       "      <th>full PUMA</th>\n",
       "      <th>less_than_9th</th>\n",
       "      <th>9th_to_12th</th>\n",
       "      <th>hs_grad</th>\n",
       "      <th>some_college</th>\n",
       "      <th>associates_degree</th>\n",
       "      <th>bach_degree</th>\n",
       "      <th>grad_or_prof_degree</th>\n",
       "      <th>hs_or_higher</th>\n",
       "      <th>bach_degree_or_higher</th>\n",
       "    </tr>\n",
       "  </thead>\n",
       "  <tbody>\n",
       "    <tr>\n",
       "      <th>1472652</th>\n",
       "      <td>West South Central</td>\n",
       "      <td>South</td>\n",
       "      <td>48</td>\n",
       "      <td>P</td>\n",
       "      <td>157</td>\n",
       "      <td>31</td>\n",
       "      <td>Born-US</td>\n",
       "      <td>Private-prof</td>\n",
       "      <td>HSgrad</td>\n",
       "      <td>Never-married</td>\n",
       "      <td>...</td>\n",
       "      <td>4802101</td>\n",
       "      <td>4.7</td>\n",
       "      <td>7.4</td>\n",
       "      <td>27.8</td>\n",
       "      <td>25.7</td>\n",
       "      <td>8.4</td>\n",
       "      <td>17.7</td>\n",
       "      <td>8.4</td>\n",
       "      <td>87.9</td>\n",
       "      <td>26.1</td>\n",
       "    </tr>\n",
       "    <tr>\n",
       "      <th>722689</th>\n",
       "      <td>New England</td>\n",
       "      <td>Northeast</td>\n",
       "      <td>25</td>\n",
       "      <td>P</td>\n",
       "      <td>56</td>\n",
       "      <td>47</td>\n",
       "      <td>Born-US</td>\n",
       "      <td>Self-emp-inc</td>\n",
       "      <td>bachelor</td>\n",
       "      <td>Married</td>\n",
       "      <td>...</td>\n",
       "      <td>2501400</td>\n",
       "      <td>1.3</td>\n",
       "      <td>2.3</td>\n",
       "      <td>11.5</td>\n",
       "      <td>10.0</td>\n",
       "      <td>5.8</td>\n",
       "      <td>32.5</td>\n",
       "      <td>36.5</td>\n",
       "      <td>96.4</td>\n",
       "      <td>69.1</td>\n",
       "    </tr>\n",
       "    <tr>\n",
       "      <th>902432</th>\n",
       "      <td>Mountain</td>\n",
       "      <td>West</td>\n",
       "      <td>32</td>\n",
       "      <td>P</td>\n",
       "      <td>46</td>\n",
       "      <td>18</td>\n",
       "      <td>Born-US</td>\n",
       "      <td>Private-nonprof</td>\n",
       "      <td>no-school</td>\n",
       "      <td>Never-married</td>\n",
       "      <td>...</td>\n",
       "      <td>3200404</td>\n",
       "      <td>10.7</td>\n",
       "      <td>13.3</td>\n",
       "      <td>31.4</td>\n",
       "      <td>23.7</td>\n",
       "      <td>7.8</td>\n",
       "      <td>7.9</td>\n",
       "      <td>5.1</td>\n",
       "      <td>76.0</td>\n",
       "      <td>13.0</td>\n",
       "    </tr>\n",
       "    <tr>\n",
       "      <th>1625028</th>\n",
       "      <td>Pacific</td>\n",
       "      <td>West</td>\n",
       "      <td>53</td>\n",
       "      <td>P</td>\n",
       "      <td>111</td>\n",
       "      <td>33</td>\n",
       "      <td>Born-US</td>\n",
       "      <td>Private-prof</td>\n",
       "      <td>master</td>\n",
       "      <td>Married</td>\n",
       "      <td>...</td>\n",
       "      <td>5311615</td>\n",
       "      <td>1.3</td>\n",
       "      <td>4.1</td>\n",
       "      <td>20.5</td>\n",
       "      <td>24.9</td>\n",
       "      <td>11.4</td>\n",
       "      <td>25.6</td>\n",
       "      <td>12.1</td>\n",
       "      <td>94.6</td>\n",
       "      <td>37.8</td>\n",
       "    </tr>\n",
       "    <tr>\n",
       "      <th>463770</th>\n",
       "      <td>South Atlantic</td>\n",
       "      <td>South</td>\n",
       "      <td>13</td>\n",
       "      <td>P</td>\n",
       "      <td>45</td>\n",
       "      <td>35</td>\n",
       "      <td>Born-US</td>\n",
       "      <td>Private-prof</td>\n",
       "      <td>bachelor</td>\n",
       "      <td>Married</td>\n",
       "      <td>...</td>\n",
       "      <td>1300800</td>\n",
       "      <td>7.5</td>\n",
       "      <td>11.1</td>\n",
       "      <td>33.7</td>\n",
       "      <td>19.5</td>\n",
       "      <td>9.5</td>\n",
       "      <td>11.4</td>\n",
       "      <td>7.3</td>\n",
       "      <td>81.4</td>\n",
       "      <td>18.6</td>\n",
       "    </tr>\n",
       "  </tbody>\n",
       "</table>\n",
       "<p>5 rows × 30 columns</p>\n",
       "</div>"
      ],
      "text/plain": [
       "        Geographic-division     region  state RT  person-weight  age  \\\n",
       "1472652  West South Central      South     48  P            157   31   \n",
       "722689          New England  Northeast     25  P             56   47   \n",
       "902432             Mountain       West     32  P             46   18   \n",
       "1625028             Pacific       West     53  P            111   33   \n",
       "463770       South Atlantic      South     13  P             45   35   \n",
       "\n",
       "        citizenship-status     class-worker  education marital-status  ...  \\\n",
       "1472652            Born-US     Private-prof     HSgrad  Never-married  ...   \n",
       "722689             Born-US     Self-emp-inc   bachelor        Married  ...   \n",
       "902432             Born-US  Private-nonprof  no-school  Never-married  ...   \n",
       "1625028            Born-US     Private-prof     master        Married  ...   \n",
       "463770             Born-US     Private-prof   bachelor        Married  ...   \n",
       "\n",
       "        full PUMA  less_than_9th 9th_to_12th hs_grad  some_college  \\\n",
       "1472652   4802101            4.7         7.4    27.8          25.7   \n",
       "722689    2501400            1.3         2.3    11.5          10.0   \n",
       "902432    3200404           10.7        13.3    31.4          23.7   \n",
       "1625028   5311615            1.3         4.1    20.5          24.9   \n",
       "463770    1300800            7.5        11.1    33.7          19.5   \n",
       "\n",
       "         associates_degree bach_degree grad_or_prof_degree  hs_or_higher  \\\n",
       "1472652                8.4        17.7                 8.4          87.9   \n",
       "722689                 5.8        32.5                36.5          96.4   \n",
       "902432                 7.8         7.9                 5.1          76.0   \n",
       "1625028               11.4        25.6                12.1          94.6   \n",
       "463770                 9.5        11.4                 7.3          81.4   \n",
       "\n",
       "        bach_degree_or_higher  \n",
       "1472652                  26.1  \n",
       "722689                   69.1  \n",
       "902432                   13.0  \n",
       "1625028                  37.8  \n",
       "463770                   18.6  \n",
       "\n",
       "[5 rows x 30 columns]"
      ]
     },
     "execution_count": 6,
     "metadata": {},
     "output_type": "execute_result"
    }
   ],
   "source": [
    "df = pd.read_csv('../final_data/2019_new-var_educational_attainment.csv').sample(frac=1)\n",
    "df.head()"
   ]
  },
  {
   "cell_type": "code",
   "execution_count": 7,
   "metadata": {},
   "outputs": [
    {
     "data": {
      "text/html": [
       "<div>\n",
       "<style scoped>\n",
       "    .dataframe tbody tr th:only-of-type {\n",
       "        vertical-align: middle;\n",
       "    }\n",
       "\n",
       "    .dataframe tbody tr th {\n",
       "        vertical-align: top;\n",
       "    }\n",
       "\n",
       "    .dataframe thead th {\n",
       "        text-align: right;\n",
       "    }\n",
       "</style>\n",
       "<table border=\"1\" class=\"dataframe\">\n",
       "  <thead>\n",
       "    <tr style=\"text-align: right;\">\n",
       "      <th></th>\n",
       "      <th>Geographic-division</th>\n",
       "      <th>region</th>\n",
       "      <th>state</th>\n",
       "      <th>RT</th>\n",
       "      <th>person-weight</th>\n",
       "      <th>age</th>\n",
       "      <th>citizenship-status</th>\n",
       "      <th>class-worker</th>\n",
       "      <th>education</th>\n",
       "      <th>marital-status</th>\n",
       "      <th>...</th>\n",
       "      <th>less_than_9th</th>\n",
       "      <th>9th_to_12th</th>\n",
       "      <th>hs_grad</th>\n",
       "      <th>some_college</th>\n",
       "      <th>associates_degree</th>\n",
       "      <th>bach_degree</th>\n",
       "      <th>grad_or_prof_degree</th>\n",
       "      <th>hs_or_higher</th>\n",
       "      <th>bach_degree_or_higher</th>\n",
       "      <th>income</th>\n",
       "    </tr>\n",
       "  </thead>\n",
       "  <tbody>\n",
       "    <tr>\n",
       "      <th>1472652</th>\n",
       "      <td>West South Central</td>\n",
       "      <td>South</td>\n",
       "      <td>48</td>\n",
       "      <td>P</td>\n",
       "      <td>157</td>\n",
       "      <td>31</td>\n",
       "      <td>Born-US</td>\n",
       "      <td>Private-prof</td>\n",
       "      <td>HSgrad</td>\n",
       "      <td>Never-married</td>\n",
       "      <td>...</td>\n",
       "      <td>4.7</td>\n",
       "      <td>7.4</td>\n",
       "      <td>27.8</td>\n",
       "      <td>25.7</td>\n",
       "      <td>8.4</td>\n",
       "      <td>17.7</td>\n",
       "      <td>8.4</td>\n",
       "      <td>87.9</td>\n",
       "      <td>26.1</td>\n",
       "      <td>&lt;=50K</td>\n",
       "    </tr>\n",
       "    <tr>\n",
       "      <th>722689</th>\n",
       "      <td>New England</td>\n",
       "      <td>Northeast</td>\n",
       "      <td>25</td>\n",
       "      <td>P</td>\n",
       "      <td>56</td>\n",
       "      <td>47</td>\n",
       "      <td>Born-US</td>\n",
       "      <td>Self-emp-inc</td>\n",
       "      <td>bachelor</td>\n",
       "      <td>Married</td>\n",
       "      <td>...</td>\n",
       "      <td>1.3</td>\n",
       "      <td>2.3</td>\n",
       "      <td>11.5</td>\n",
       "      <td>10.0</td>\n",
       "      <td>5.8</td>\n",
       "      <td>32.5</td>\n",
       "      <td>36.5</td>\n",
       "      <td>96.4</td>\n",
       "      <td>69.1</td>\n",
       "      <td>&gt;50K</td>\n",
       "    </tr>\n",
       "    <tr>\n",
       "      <th>902432</th>\n",
       "      <td>Mountain</td>\n",
       "      <td>West</td>\n",
       "      <td>32</td>\n",
       "      <td>P</td>\n",
       "      <td>46</td>\n",
       "      <td>18</td>\n",
       "      <td>Born-US</td>\n",
       "      <td>Private-nonprof</td>\n",
       "      <td>no-school</td>\n",
       "      <td>Never-married</td>\n",
       "      <td>...</td>\n",
       "      <td>10.7</td>\n",
       "      <td>13.3</td>\n",
       "      <td>31.4</td>\n",
       "      <td>23.7</td>\n",
       "      <td>7.8</td>\n",
       "      <td>7.9</td>\n",
       "      <td>5.1</td>\n",
       "      <td>76.0</td>\n",
       "      <td>13.0</td>\n",
       "      <td>&lt;=50K</td>\n",
       "    </tr>\n",
       "    <tr>\n",
       "      <th>1625028</th>\n",
       "      <td>Pacific</td>\n",
       "      <td>West</td>\n",
       "      <td>53</td>\n",
       "      <td>P</td>\n",
       "      <td>111</td>\n",
       "      <td>33</td>\n",
       "      <td>Born-US</td>\n",
       "      <td>Private-prof</td>\n",
       "      <td>master</td>\n",
       "      <td>Married</td>\n",
       "      <td>...</td>\n",
       "      <td>1.3</td>\n",
       "      <td>4.1</td>\n",
       "      <td>20.5</td>\n",
       "      <td>24.9</td>\n",
       "      <td>11.4</td>\n",
       "      <td>25.6</td>\n",
       "      <td>12.1</td>\n",
       "      <td>94.6</td>\n",
       "      <td>37.8</td>\n",
       "      <td>&gt;50K</td>\n",
       "    </tr>\n",
       "    <tr>\n",
       "      <th>463770</th>\n",
       "      <td>South Atlantic</td>\n",
       "      <td>South</td>\n",
       "      <td>13</td>\n",
       "      <td>P</td>\n",
       "      <td>45</td>\n",
       "      <td>35</td>\n",
       "      <td>Born-US</td>\n",
       "      <td>Private-prof</td>\n",
       "      <td>bachelor</td>\n",
       "      <td>Married</td>\n",
       "      <td>...</td>\n",
       "      <td>7.5</td>\n",
       "      <td>11.1</td>\n",
       "      <td>33.7</td>\n",
       "      <td>19.5</td>\n",
       "      <td>9.5</td>\n",
       "      <td>11.4</td>\n",
       "      <td>7.3</td>\n",
       "      <td>81.4</td>\n",
       "      <td>18.6</td>\n",
       "      <td>&lt;=50K</td>\n",
       "    </tr>\n",
       "  </tbody>\n",
       "</table>\n",
       "<p>5 rows × 30 columns</p>\n",
       "</div>"
      ],
      "text/plain": [
       "        Geographic-division     region  state RT  person-weight  age  \\\n",
       "1472652  West South Central      South     48  P            157   31   \n",
       "722689          New England  Northeast     25  P             56   47   \n",
       "902432             Mountain       West     32  P             46   18   \n",
       "1625028             Pacific       West     53  P            111   33   \n",
       "463770       South Atlantic      South     13  P             45   35   \n",
       "\n",
       "        citizenship-status     class-worker  education marital-status  ...  \\\n",
       "1472652            Born-US     Private-prof     HSgrad  Never-married  ...   \n",
       "722689             Born-US     Self-emp-inc   bachelor        Married  ...   \n",
       "902432             Born-US  Private-nonprof  no-school  Never-married  ...   \n",
       "1625028            Born-US     Private-prof     master        Married  ...   \n",
       "463770             Born-US     Private-prof   bachelor        Married  ...   \n",
       "\n",
       "        less_than_9th  9th_to_12th hs_grad some_college  associates_degree  \\\n",
       "1472652           4.7          7.4    27.8         25.7                8.4   \n",
       "722689            1.3          2.3    11.5         10.0                5.8   \n",
       "902432           10.7         13.3    31.4         23.7                7.8   \n",
       "1625028           1.3          4.1    20.5         24.9               11.4   \n",
       "463770            7.5         11.1    33.7         19.5                9.5   \n",
       "\n",
       "         bach_degree grad_or_prof_degree hs_or_higher bach_degree_or_higher  \\\n",
       "1472652         17.7                 8.4         87.9                  26.1   \n",
       "722689          32.5                36.5         96.4                  69.1   \n",
       "902432           7.9                 5.1         76.0                  13.0   \n",
       "1625028         25.6                12.1         94.6                  37.8   \n",
       "463770          11.4                 7.3         81.4                  18.6   \n",
       "\n",
       "         income  \n",
       "1472652   <=50K  \n",
       "722689     >50K  \n",
       "902432    <=50K  \n",
       "1625028    >50K  \n",
       "463770    <=50K  \n",
       "\n",
       "[5 rows x 30 columns]"
      ]
     },
     "execution_count": 7,
     "metadata": {},
     "output_type": "execute_result"
    }
   ],
   "source": [
    "df.loc[df['income'] <= 50000, 'income_adjusted'] = '<=50K'\n",
    "df.loc[df['income'] > 50000, 'income_adjusted'] = '>50K' \n",
    "\n",
    "df = df.drop(columns=['income']).rename(columns={'income_adjusted': 'income'})#.dropna()\n",
    "\n",
    "df['field-of-degree'] = df['field-of-degree'].fillna('Unknown')\n",
    "df['stem-degree'] = df['stem-degree'].fillna('Unknown')\n",
    "# df['less_than_9th'] = df['less_than_9th'].fillna(-1.0)\n",
    "# df['9th_to_12th'] = df['9th_to_12th'].fillna(-1.0)\n",
    "# df['hs_grad'] = df['hs_grad'].fillna(-1.0)\n",
    "# df['some_college'] = df['some_college'].fillna(-1.0)\n",
    "# df['associates_degree'] = df['associates_degree'].fillna(-1.0)\n",
    "# df['bach_degree'] = df['bach_degree'].fillna(-1.0)\n",
    "# df['grad_or_prof_degree'] = df['grad_or_prof_degree'].fillna(-1.0)\n",
    "# df['hs_or_higher'] = df['hs_or_higher'].fillna(-1.0)\n",
    "# df['bach_degree_or_higher'] = df['bach_degree_or_higher'].fillna(-1.0)\n",
    "\n",
    "# df = df.dropna()\n",
    "\n",
    "df.head()"
   ]
  },
  {
   "cell_type": "code",
   "execution_count": 8,
   "metadata": {},
   "outputs": [
    {
     "data": {
      "text/plain": [
       "Geographic-division      0\n",
       "region                   0\n",
       "state                    0\n",
       "RT                       0\n",
       "person-weight            0\n",
       "age                      0\n",
       "citizenship-status       0\n",
       "class-worker             0\n",
       "education                0\n",
       "marital-status           0\n",
       "occupation               0\n",
       "relationship             0\n",
       "race                     0\n",
       "sex                      0\n",
       "extra-income             0\n",
       "hours-per-week           0\n",
       "field-of-degree          0\n",
       "place-of-birth           0\n",
       "stem-degree              0\n",
       "full PUMA                0\n",
       "less_than_9th            0\n",
       "9th_to_12th              0\n",
       "hs_grad                  0\n",
       "some_college             0\n",
       "associates_degree        0\n",
       "bach_degree              0\n",
       "grad_or_prof_degree      0\n",
       "hs_or_higher             0\n",
       "bach_degree_or_higher    0\n",
       "income                   0\n",
       "dtype: int64"
      ]
     },
     "execution_count": 8,
     "metadata": {},
     "output_type": "execute_result"
    }
   ],
   "source": [
    "# df = df.dropna()\n",
    "# df.shape\n",
    "\n",
    "df.isnull().sum()"
   ]
  },
  {
   "cell_type": "code",
   "execution_count": 9,
   "metadata": {},
   "outputs": [],
   "source": [
    "X = df.drop(columns=['income'], axis = 1)\n",
    "y = df[['income']].to_numpy()"
   ]
  },
  {
   "cell_type": "code",
   "execution_count": 10,
   "metadata": {},
   "outputs": [],
   "source": [
    "labels = np.unique(y)\n",
    "features = list(X.columns)"
   ]
  },
  {
   "cell_type": "markdown",
   "metadata": {},
   "source": [
    "### Pre-process categorical variables"
   ]
  },
  {
   "cell_type": "code",
   "execution_count": 11,
   "metadata": {},
   "outputs": [],
   "source": [
    "cat_var = ['Geographic-division', 'region', 'state', 'RT', 'citizenship-status', 'class-worker', 'education', 'marital-status', 'occupation', 'relationship', 'race', 'sex', 'field-of-degree', 'place-of-birth', 'stem-degree']\n",
    "for f in cat_var:\n",
    "    enc = preprocessing.LabelEncoder()\n",
    "    X[f] = enc.fit_transform(X[f])\n",
    "\n",
    "scaler = preprocessing.StandardScaler()\n",
    "X = pd.DataFrame(scaler.fit_transform(X), columns = X.columns)"
   ]
  },
  {
   "cell_type": "markdown",
   "metadata": {},
   "source": [
    "### Split data into test and training"
   ]
  },
  {
   "cell_type": "code",
   "execution_count": 12,
   "metadata": {},
   "outputs": [],
   "source": [
    "X_train, X_test, y_train, y_test = train_test_split(X, y, test_size=0.2)"
   ]
  },
  {
   "cell_type": "code",
   "execution_count": 13,
   "metadata": {},
   "outputs": [
    {
     "data": {
      "text/plain": [
       "334460"
      ]
     },
     "execution_count": 13,
     "metadata": {},
     "output_type": "execute_result"
    }
   ],
   "source": [
    "len(X_test)"
   ]
  },
  {
   "cell_type": "markdown",
   "metadata": {},
   "source": [
    "## Train Models and Establish Baseline Scores"
   ]
  },
  {
   "cell_type": "markdown",
   "metadata": {},
   "source": [
    "### Logistic Regression"
   ]
  },
  {
   "cell_type": "code",
   "execution_count": 14,
   "metadata": {},
   "outputs": [],
   "source": [
    "# Train model, get predictions\n",
    "model = LogisticRegression()\n",
    "model.fit(X, y)\n",
    "y_pred = model.predict(X_test)\n",
    "y_probas = model.predict_proba(X_test)\n",
    "importances = model.coef_\n",
    "indices = np.argsort(importances)[::-1]"
   ]
  },
  {
   "cell_type": "code",
   "execution_count": 15,
   "metadata": {},
   "outputs": [
    {
     "name": "stdout",
     "output_type": "stream",
     "text": [
      "<class 'pandas.core.frame.DataFrame'>\n",
      "Int64Index: 1337840 entries, 698431 to 413666\n",
      "Data columns (total 29 columns):\n",
      " #   Column                 Non-Null Count    Dtype  \n",
      "---  ------                 --------------    -----  \n",
      " 0   Geographic-division    1337840 non-null  float64\n",
      " 1   region                 1337840 non-null  float64\n",
      " 2   state                  1337840 non-null  float64\n",
      " 3   RT                     1337840 non-null  float64\n",
      " 4   person-weight          1337840 non-null  float64\n",
      " 5   age                    1337840 non-null  float64\n",
      " 6   citizenship-status     1337840 non-null  float64\n",
      " 7   class-worker           1337840 non-null  float64\n",
      " 8   education              1337840 non-null  float64\n",
      " 9   marital-status         1337840 non-null  float64\n",
      " 10  occupation             1337840 non-null  float64\n",
      " 11  relationship           1337840 non-null  float64\n",
      " 12  race                   1337840 non-null  float64\n",
      " 13  sex                    1337840 non-null  float64\n",
      " 14  extra-income           1337840 non-null  float64\n",
      " 15  hours-per-week         1337840 non-null  float64\n",
      " 16  field-of-degree        1337840 non-null  float64\n",
      " 17  place-of-birth         1337840 non-null  float64\n",
      " 18  stem-degree            1337840 non-null  float64\n",
      " 19  full PUMA              1337840 non-null  float64\n",
      " 20  less_than_9th          1337840 non-null  float64\n",
      " 21  9th_to_12th            1337840 non-null  float64\n",
      " 22  hs_grad                1337840 non-null  float64\n",
      " 23  some_college           1337840 non-null  float64\n",
      " 24  associates_degree      1337840 non-null  float64\n",
      " 25  bach_degree            1337840 non-null  float64\n",
      " 26  grad_or_prof_degree    1337840 non-null  float64\n",
      " 27  hs_or_higher           1337840 non-null  float64\n",
      " 28  bach_degree_or_higher  1337840 non-null  float64\n",
      "dtypes: float64(29)\n",
      "memory usage: 306.2 MB\n",
      "None\n"
     ]
    }
   ],
   "source": [
    "print(X_train.info())"
   ]
  },
  {
   "cell_type": "code",
   "execution_count": 16,
   "metadata": {},
   "outputs": [
    {
     "name": "stderr",
     "output_type": "stream",
     "text": [
      "wandb: \n",
      "wandb: Plotting LogisticRegression.\n",
      "wandb: Logged feature importances.\n",
      "wandb: Logged learning curve.\n",
      "wandb: Logged confusion matrix.\n",
      "wandb: Logged summary metrics.\n",
      "wandb: Logged class proportions.\n",
      "wandb: Logged calibration curve.\n",
      "wandb: WARNING wandb uses only the first 10000 datapoints to create the plots.\n",
      "wandb: WARNING wandb uses only the first 10000 datapoints to create the plots.\n",
      "WARNING:root:Truncating wandb.Table object to 10000 rows.\n",
      "wandb: Logged roc curve.\n",
      "wandb: Logged precision recall curve.\n"
     ]
    }
   ],
   "source": [
    "# Visualize model performance\n",
    "wandb.sklearn.plot_classifier(\n",
    "    model, X_train, X_test, y_train, y_test, y_pred, y_probas, labels,\n",
    "    is_binary=True, model_name='LogisticRegression', feature_names=features)"
   ]
  },
  {
   "cell_type": "code",
   "execution_count": 17,
   "metadata": {},
   "outputs": [
    {
     "name": "stdout",
     "output_type": "stream",
     "text": [
      "              precision    recall  f1-score   support\n",
      "\n",
      "       <=50K       0.78      0.84      0.81    201905\n",
      "        >50K       0.73      0.64      0.68    132555\n",
      "\n",
      "    accuracy                           0.76    334460\n",
      "   macro avg       0.75      0.74      0.74    334460\n",
      "weighted avg       0.76      0.76      0.76    334460\n",
      "\n"
     ]
    }
   ],
   "source": [
    "print(classification_report(y_test, y_pred, target_names=labels))"
   ]
  },
  {
   "cell_type": "code",
   "execution_count": null,
   "metadata": {},
   "outputs": [],
   "source": []
  }
 ],
 "metadata": {
  "kernelspec": {
   "display_name": "Python 3",
   "language": "python",
   "name": "python3"
  },
  "language_info": {
   "codemirror_mode": {
    "name": "ipython",
    "version": 3
   },
   "file_extension": ".py",
   "mimetype": "text/x-python",
   "name": "python",
   "nbconvert_exporter": "python",
   "pygments_lexer": "ipython3",
   "version": "3.7.6"
  }
 },
 "nbformat": 4,
 "nbformat_minor": 4
}
