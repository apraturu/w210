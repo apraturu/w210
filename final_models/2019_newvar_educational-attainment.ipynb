{
 "cells": [
  {
   "cell_type": "markdown",
   "metadata": {},
   "source": [
    "# Run Models on 2019 Data Joined with Educational Attainment\n",
    "#### 10/30/2020\n",
    "---"
   ]
  },
  {
   "cell_type": "markdown",
   "metadata": {},
   "source": [
    "## Load and Process Dataset\n",
    "### Import Libraries"
   ]
  },
  {
   "cell_type": "code",
   "execution_count": 1,
   "metadata": {},
   "outputs": [],
   "source": [
    "import pandas as pd\n",
    "import numpy as np\n",
    "from sklearn.neighbors import KNeighborsClassifier\n",
    "from sklearn import preprocessing\n",
    "from sklearn.linear_model import LinearRegression, LogisticRegression\n",
    "from sklearn.model_selection import train_test_split\n",
    "from sklearn.ensemble import RandomForestClassifier\n",
    "from sklearn.metrics import classification_report\n",
    "import matplotlib.pyplot as plt\n",
    "import wandb\n",
    "import warnings\n",
    "warnings.filterwarnings('ignore')"
   ]
  },
  {
   "cell_type": "code",
   "execution_count": 2,
   "metadata": {},
   "outputs": [
    {
     "name": "stderr",
     "output_type": "stream",
     "text": [
      "wandb: Currently logged in as: apraturu (use `wandb login --relogin` to force relogin)\n"
     ]
    },
    {
     "data": {
      "text/html": [
       "\n",
       "                Tracking run with wandb version 0.10.8<br/>\n",
       "                Syncing run <strong style=\"color:#cdcd00\">dire-vampire-2</strong> to <a href=\"https://wandb.ai\" target=\"_blank\">Weights & Biases</a> <a href=\"https://docs.wandb.com/integrations/jupyter.html\" target=\"_blank\">(Documentation)</a>.<br/>\n",
       "                Project page: <a href=\"https://wandb.ai/apraturu/2019_newvar_educational-attainment\" target=\"_blank\">https://wandb.ai/apraturu/2019_newvar_educational-attainment</a><br/>\n",
       "                Run page: <a href=\"https://wandb.ai/apraturu/2019_newvar_educational-attainment/runs/chdyy9rr\" target=\"_blank\">https://wandb.ai/apraturu/2019_newvar_educational-attainment/runs/chdyy9rr</a><br/>\n",
       "                Run data is saved locally in <code>wandb/run-20201030_164333-chdyy9rr</code><br/><br/>\n",
       "            "
      ],
      "text/plain": [
       "<IPython.core.display.HTML object>"
      ]
     },
     "metadata": {},
     "output_type": "display_data"
    },
    {
     "data": {
      "text/html": [
       "<h1>Run(chdyy9rr)</h1><p></p><iframe src=\"https://wandb.ai/apraturu/2019_newvar_educational-attainment/runs/chdyy9rr\" style=\"border:none;width:100%;height:400px\"></iframe>"
      ],
      "text/plain": [
       "<wandb.sdk.wandb_run.Run at 0x7ff5a0440d50>"
      ]
     },
     "execution_count": 2,
     "metadata": {},
     "output_type": "execute_result"
    }
   ],
   "source": [
    "wandb.init(project=\"2019_newvar_educational-attainment\")"
   ]
  },
  {
   "cell_type": "markdown",
   "metadata": {},
   "source": [
    "### Read in `adult.csv` data"
   ]
  },
  {
   "cell_type": "code",
   "execution_count": 11,
   "metadata": {},
   "outputs": [
    {
     "data": {
      "text/html": [
       "<div>\n",
       "<style scoped>\n",
       "    .dataframe tbody tr th:only-of-type {\n",
       "        vertical-align: middle;\n",
       "    }\n",
       "\n",
       "    .dataframe tbody tr th {\n",
       "        vertical-align: top;\n",
       "    }\n",
       "\n",
       "    .dataframe thead th {\n",
       "        text-align: right;\n",
       "    }\n",
       "</style>\n",
       "<table border=\"1\" class=\"dataframe\">\n",
       "  <thead>\n",
       "    <tr style=\"text-align: right;\">\n",
       "      <th></th>\n",
       "      <th>Geographic-division</th>\n",
       "      <th>region</th>\n",
       "      <th>state</th>\n",
       "      <th>RT</th>\n",
       "      <th>person-weight</th>\n",
       "      <th>age</th>\n",
       "      <th>citizenship-status</th>\n",
       "      <th>class-worker</th>\n",
       "      <th>education</th>\n",
       "      <th>marital-status</th>\n",
       "      <th>...</th>\n",
       "      <th>full PUMA</th>\n",
       "      <th>less_than_9th</th>\n",
       "      <th>9th_to_12th</th>\n",
       "      <th>hs_grad</th>\n",
       "      <th>some_college</th>\n",
       "      <th>associates_degree</th>\n",
       "      <th>bach_degree</th>\n",
       "      <th>grad_or_prof_degree</th>\n",
       "      <th>hs_or_higher</th>\n",
       "      <th>bach_degree_or_higher</th>\n",
       "    </tr>\n",
       "  </thead>\n",
       "  <tbody>\n",
       "    <tr>\n",
       "      <th>976346</th>\n",
       "      <td>West North Central</td>\n",
       "      <td>Midwest</td>\n",
       "      <td>27</td>\n",
       "      <td>P</td>\n",
       "      <td>20</td>\n",
       "      <td>30</td>\n",
       "      <td>Born-US</td>\n",
       "      <td>Private-nonprof</td>\n",
       "      <td>some-college-great1</td>\n",
       "      <td>Never-married</td>\n",
       "      <td>...</td>\n",
       "      <td>2702000</td>\n",
       "      <td>NaN</td>\n",
       "      <td>NaN</td>\n",
       "      <td>NaN</td>\n",
       "      <td>NaN</td>\n",
       "      <td>NaN</td>\n",
       "      <td>NaN</td>\n",
       "      <td>NaN</td>\n",
       "      <td>NaN</td>\n",
       "      <td>NaN</td>\n",
       "    </tr>\n",
       "    <tr>\n",
       "      <th>903823</th>\n",
       "      <td>New England</td>\n",
       "      <td>Northeast</td>\n",
       "      <td>25</td>\n",
       "      <td>P</td>\n",
       "      <td>95</td>\n",
       "      <td>68</td>\n",
       "      <td>Born-US</td>\n",
       "      <td>Private-prof</td>\n",
       "      <td>prof-school</td>\n",
       "      <td>Widowed</td>\n",
       "      <td>...</td>\n",
       "      <td>2500501</td>\n",
       "      <td>NaN</td>\n",
       "      <td>NaN</td>\n",
       "      <td>NaN</td>\n",
       "      <td>NaN</td>\n",
       "      <td>NaN</td>\n",
       "      <td>NaN</td>\n",
       "      <td>NaN</td>\n",
       "      <td>NaN</td>\n",
       "      <td>NaN</td>\n",
       "    </tr>\n",
       "    <tr>\n",
       "      <th>972698</th>\n",
       "      <td>East North Central</td>\n",
       "      <td>Midwest</td>\n",
       "      <td>26</td>\n",
       "      <td>P</td>\n",
       "      <td>57</td>\n",
       "      <td>68</td>\n",
       "      <td>not-US-citizen</td>\n",
       "      <td>Local-gov</td>\n",
       "      <td>associate</td>\n",
       "      <td>Divorced</td>\n",
       "      <td>...</td>\n",
       "      <td>2601400</td>\n",
       "      <td>NaN</td>\n",
       "      <td>NaN</td>\n",
       "      <td>NaN</td>\n",
       "      <td>NaN</td>\n",
       "      <td>NaN</td>\n",
       "      <td>NaN</td>\n",
       "      <td>NaN</td>\n",
       "      <td>NaN</td>\n",
       "      <td>NaN</td>\n",
       "    </tr>\n",
       "    <tr>\n",
       "      <th>842259</th>\n",
       "      <td>West South Central</td>\n",
       "      <td>South</td>\n",
       "      <td>22</td>\n",
       "      <td>P</td>\n",
       "      <td>35</td>\n",
       "      <td>39</td>\n",
       "      <td>Born-US</td>\n",
       "      <td>Self-emp-not-inc</td>\n",
       "      <td>some-college-great1</td>\n",
       "      <td>Married</td>\n",
       "      <td>...</td>\n",
       "      <td>2202300</td>\n",
       "      <td>NaN</td>\n",
       "      <td>NaN</td>\n",
       "      <td>NaN</td>\n",
       "      <td>NaN</td>\n",
       "      <td>NaN</td>\n",
       "      <td>NaN</td>\n",
       "      <td>NaN</td>\n",
       "      <td>NaN</td>\n",
       "      <td>NaN</td>\n",
       "    </tr>\n",
       "    <tr>\n",
       "      <th>613007</th>\n",
       "      <td>South Atlantic</td>\n",
       "      <td>South</td>\n",
       "      <td>13</td>\n",
       "      <td>P</td>\n",
       "      <td>66</td>\n",
       "      <td>34</td>\n",
       "      <td>Born-US</td>\n",
       "      <td>Private-prof</td>\n",
       "      <td>bachelor</td>\n",
       "      <td>Married</td>\n",
       "      <td>...</td>\n",
       "      <td>1302800</td>\n",
       "      <td>NaN</td>\n",
       "      <td>NaN</td>\n",
       "      <td>NaN</td>\n",
       "      <td>NaN</td>\n",
       "      <td>NaN</td>\n",
       "      <td>NaN</td>\n",
       "      <td>NaN</td>\n",
       "      <td>NaN</td>\n",
       "      <td>NaN</td>\n",
       "    </tr>\n",
       "  </tbody>\n",
       "</table>\n",
       "<p>5 rows × 30 columns</p>\n",
       "</div>"
      ],
      "text/plain": [
       "       Geographic-division     region  state RT  person-weight  age  \\\n",
       "976346  West North Central    Midwest     27  P             20   30   \n",
       "903823         New England  Northeast     25  P             95   68   \n",
       "972698  East North Central    Midwest     26  P             57   68   \n",
       "842259  West South Central      South     22  P             35   39   \n",
       "613007      South Atlantic      South     13  P             66   34   \n",
       "\n",
       "       citizenship-status      class-worker            education  \\\n",
       "976346            Born-US   Private-nonprof  some-college-great1   \n",
       "903823            Born-US      Private-prof          prof-school   \n",
       "972698     not-US-citizen         Local-gov            associate   \n",
       "842259            Born-US  Self-emp-not-inc  some-college-great1   \n",
       "613007            Born-US      Private-prof             bachelor   \n",
       "\n",
       "       marital-status  ... full PUMA  less_than_9th 9th_to_12th hs_grad  \\\n",
       "976346  Never-married  ...   2702000            NaN         NaN     NaN   \n",
       "903823        Widowed  ...   2500501            NaN         NaN     NaN   \n",
       "972698       Divorced  ...   2601400            NaN         NaN     NaN   \n",
       "842259        Married  ...   2202300            NaN         NaN     NaN   \n",
       "613007        Married  ...   1302800            NaN         NaN     NaN   \n",
       "\n",
       "        some_college  associates_degree bach_degree grad_or_prof_degree  \\\n",
       "976346           NaN                NaN         NaN                 NaN   \n",
       "903823           NaN                NaN         NaN                 NaN   \n",
       "972698           NaN                NaN         NaN                 NaN   \n",
       "842259           NaN                NaN         NaN                 NaN   \n",
       "613007           NaN                NaN         NaN                 NaN   \n",
       "\n",
       "        hs_or_higher bach_degree_or_higher  \n",
       "976346           NaN                   NaN  \n",
       "903823           NaN                   NaN  \n",
       "972698           NaN                   NaN  \n",
       "842259           NaN                   NaN  \n",
       "613007           NaN                   NaN  \n",
       "\n",
       "[5 rows x 30 columns]"
      ]
     },
     "execution_count": 11,
     "metadata": {},
     "output_type": "execute_result"
    }
   ],
   "source": [
    "df = pd.read_csv('../final_data/2019_new-var_educational_attainment.csv').sample(frac=1)\n",
    "df.head()"
   ]
  },
  {
   "cell_type": "code",
   "execution_count": 12,
   "metadata": {},
   "outputs": [
    {
     "data": {
      "text/html": [
       "<div>\n",
       "<style scoped>\n",
       "    .dataframe tbody tr th:only-of-type {\n",
       "        vertical-align: middle;\n",
       "    }\n",
       "\n",
       "    .dataframe tbody tr th {\n",
       "        vertical-align: top;\n",
       "    }\n",
       "\n",
       "    .dataframe thead th {\n",
       "        text-align: right;\n",
       "    }\n",
       "</style>\n",
       "<table border=\"1\" class=\"dataframe\">\n",
       "  <thead>\n",
       "    <tr style=\"text-align: right;\">\n",
       "      <th></th>\n",
       "      <th>Geographic-division</th>\n",
       "      <th>region</th>\n",
       "      <th>state</th>\n",
       "      <th>RT</th>\n",
       "      <th>person-weight</th>\n",
       "      <th>age</th>\n",
       "      <th>citizenship-status</th>\n",
       "      <th>class-worker</th>\n",
       "      <th>education</th>\n",
       "      <th>marital-status</th>\n",
       "      <th>...</th>\n",
       "      <th>less_than_9th</th>\n",
       "      <th>9th_to_12th</th>\n",
       "      <th>hs_grad</th>\n",
       "      <th>some_college</th>\n",
       "      <th>associates_degree</th>\n",
       "      <th>bach_degree</th>\n",
       "      <th>grad_or_prof_degree</th>\n",
       "      <th>hs_or_higher</th>\n",
       "      <th>bach_degree_or_higher</th>\n",
       "      <th>income</th>\n",
       "    </tr>\n",
       "  </thead>\n",
       "  <tbody>\n",
       "    <tr>\n",
       "      <th>976346</th>\n",
       "      <td>West North Central</td>\n",
       "      <td>Midwest</td>\n",
       "      <td>27</td>\n",
       "      <td>P</td>\n",
       "      <td>20</td>\n",
       "      <td>30</td>\n",
       "      <td>Born-US</td>\n",
       "      <td>Private-nonprof</td>\n",
       "      <td>some-college-great1</td>\n",
       "      <td>Never-married</td>\n",
       "      <td>...</td>\n",
       "      <td>-1.0</td>\n",
       "      <td>-1.0</td>\n",
       "      <td>-1.0</td>\n",
       "      <td>-1.0</td>\n",
       "      <td>-1.0</td>\n",
       "      <td>-1.0</td>\n",
       "      <td>-1.0</td>\n",
       "      <td>-1.0</td>\n",
       "      <td>-1.0</td>\n",
       "      <td>&lt;=50K</td>\n",
       "    </tr>\n",
       "    <tr>\n",
       "      <th>903823</th>\n",
       "      <td>New England</td>\n",
       "      <td>Northeast</td>\n",
       "      <td>25</td>\n",
       "      <td>P</td>\n",
       "      <td>95</td>\n",
       "      <td>68</td>\n",
       "      <td>Born-US</td>\n",
       "      <td>Private-prof</td>\n",
       "      <td>prof-school</td>\n",
       "      <td>Widowed</td>\n",
       "      <td>...</td>\n",
       "      <td>-1.0</td>\n",
       "      <td>-1.0</td>\n",
       "      <td>-1.0</td>\n",
       "      <td>-1.0</td>\n",
       "      <td>-1.0</td>\n",
       "      <td>-1.0</td>\n",
       "      <td>-1.0</td>\n",
       "      <td>-1.0</td>\n",
       "      <td>-1.0</td>\n",
       "      <td>&gt;50K</td>\n",
       "    </tr>\n",
       "    <tr>\n",
       "      <th>972698</th>\n",
       "      <td>East North Central</td>\n",
       "      <td>Midwest</td>\n",
       "      <td>26</td>\n",
       "      <td>P</td>\n",
       "      <td>57</td>\n",
       "      <td>68</td>\n",
       "      <td>not-US-citizen</td>\n",
       "      <td>Local-gov</td>\n",
       "      <td>associate</td>\n",
       "      <td>Divorced</td>\n",
       "      <td>...</td>\n",
       "      <td>-1.0</td>\n",
       "      <td>-1.0</td>\n",
       "      <td>-1.0</td>\n",
       "      <td>-1.0</td>\n",
       "      <td>-1.0</td>\n",
       "      <td>-1.0</td>\n",
       "      <td>-1.0</td>\n",
       "      <td>-1.0</td>\n",
       "      <td>-1.0</td>\n",
       "      <td>&lt;=50K</td>\n",
       "    </tr>\n",
       "    <tr>\n",
       "      <th>842259</th>\n",
       "      <td>West South Central</td>\n",
       "      <td>South</td>\n",
       "      <td>22</td>\n",
       "      <td>P</td>\n",
       "      <td>35</td>\n",
       "      <td>39</td>\n",
       "      <td>Born-US</td>\n",
       "      <td>Self-emp-not-inc</td>\n",
       "      <td>some-college-great1</td>\n",
       "      <td>Married</td>\n",
       "      <td>...</td>\n",
       "      <td>-1.0</td>\n",
       "      <td>-1.0</td>\n",
       "      <td>-1.0</td>\n",
       "      <td>-1.0</td>\n",
       "      <td>-1.0</td>\n",
       "      <td>-1.0</td>\n",
       "      <td>-1.0</td>\n",
       "      <td>-1.0</td>\n",
       "      <td>-1.0</td>\n",
       "      <td>&gt;50K</td>\n",
       "    </tr>\n",
       "    <tr>\n",
       "      <th>613007</th>\n",
       "      <td>South Atlantic</td>\n",
       "      <td>South</td>\n",
       "      <td>13</td>\n",
       "      <td>P</td>\n",
       "      <td>66</td>\n",
       "      <td>34</td>\n",
       "      <td>Born-US</td>\n",
       "      <td>Private-prof</td>\n",
       "      <td>bachelor</td>\n",
       "      <td>Married</td>\n",
       "      <td>...</td>\n",
       "      <td>-1.0</td>\n",
       "      <td>-1.0</td>\n",
       "      <td>-1.0</td>\n",
       "      <td>-1.0</td>\n",
       "      <td>-1.0</td>\n",
       "      <td>-1.0</td>\n",
       "      <td>-1.0</td>\n",
       "      <td>-1.0</td>\n",
       "      <td>-1.0</td>\n",
       "      <td>&gt;50K</td>\n",
       "    </tr>\n",
       "  </tbody>\n",
       "</table>\n",
       "<p>5 rows × 30 columns</p>\n",
       "</div>"
      ],
      "text/plain": [
       "       Geographic-division     region  state RT  person-weight  age  \\\n",
       "976346  West North Central    Midwest     27  P             20   30   \n",
       "903823         New England  Northeast     25  P             95   68   \n",
       "972698  East North Central    Midwest     26  P             57   68   \n",
       "842259  West South Central      South     22  P             35   39   \n",
       "613007      South Atlantic      South     13  P             66   34   \n",
       "\n",
       "       citizenship-status      class-worker            education  \\\n",
       "976346            Born-US   Private-nonprof  some-college-great1   \n",
       "903823            Born-US      Private-prof          prof-school   \n",
       "972698     not-US-citizen         Local-gov            associate   \n",
       "842259            Born-US  Self-emp-not-inc  some-college-great1   \n",
       "613007            Born-US      Private-prof             bachelor   \n",
       "\n",
       "       marital-status  ... less_than_9th  9th_to_12th hs_grad some_college  \\\n",
       "976346  Never-married  ...          -1.0         -1.0    -1.0         -1.0   \n",
       "903823        Widowed  ...          -1.0         -1.0    -1.0         -1.0   \n",
       "972698       Divorced  ...          -1.0         -1.0    -1.0         -1.0   \n",
       "842259        Married  ...          -1.0         -1.0    -1.0         -1.0   \n",
       "613007        Married  ...          -1.0         -1.0    -1.0         -1.0   \n",
       "\n",
       "        associates_degree  bach_degree grad_or_prof_degree hs_or_higher  \\\n",
       "976346               -1.0         -1.0                -1.0         -1.0   \n",
       "903823               -1.0         -1.0                -1.0         -1.0   \n",
       "972698               -1.0         -1.0                -1.0         -1.0   \n",
       "842259               -1.0         -1.0                -1.0         -1.0   \n",
       "613007               -1.0         -1.0                -1.0         -1.0   \n",
       "\n",
       "       bach_degree_or_higher  income  \n",
       "976346                  -1.0   <=50K  \n",
       "903823                  -1.0    >50K  \n",
       "972698                  -1.0   <=50K  \n",
       "842259                  -1.0    >50K  \n",
       "613007                  -1.0    >50K  \n",
       "\n",
       "[5 rows x 30 columns]"
      ]
     },
     "execution_count": 12,
     "metadata": {},
     "output_type": "execute_result"
    }
   ],
   "source": [
    "df.loc[df['income'] <= 50000, 'income_adjusted'] = '<=50K'\n",
    "df.loc[df['income'] > 50000, 'income_adjusted'] = '>50K' \n",
    "\n",
    "df = df.drop(columns=['income']).rename(columns={'income_adjusted': 'income'})#.dropna()\n",
    "\n",
    "df['field-of-degree'] = df['field-of-degree'].fillna('Unknown')\n",
    "df['stem-degree'] = df['stem-degree'].fillna('Unknown')\n",
    "df['less_than_9th'] = df['less_than_9th'].fillna(-1.0)\n",
    "df['9th_to_12th'] = df['9th_to_12th'].fillna(-1.0)\n",
    "df['hs_grad'] = df['hs_grad'].fillna(-1.0)\n",
    "df['some_college'] = df['some_college'].fillna(-1.0)\n",
    "df['associates_degree'] = df['associates_degree'].fillna(-1.0)\n",
    "df['bach_degree'] = df['bach_degree'].fillna(-1.0)\n",
    "df['grad_or_prof_degree'] = df['grad_or_prof_degree'].fillna(-1.0)\n",
    "df['hs_or_higher'] = df['hs_or_higher'].fillna(-1.0)\n",
    "df['bach_degree_or_higher'] = df['bach_degree_or_higher'].fillna(-1.0)\n",
    "\n",
    "# df = df.dropna()\n",
    "\n",
    "df.head()"
   ]
  },
  {
   "cell_type": "code",
   "execution_count": 13,
   "metadata": {},
   "outputs": [
    {
     "data": {
      "text/plain": [
       "Geographic-division      0\n",
       "region                   0\n",
       "state                    0\n",
       "RT                       0\n",
       "person-weight            0\n",
       "age                      0\n",
       "citizenship-status       0\n",
       "class-worker             0\n",
       "education                0\n",
       "marital-status           0\n",
       "occupation               0\n",
       "relationship             0\n",
       "race                     0\n",
       "sex                      0\n",
       "extra-income             0\n",
       "hours-per-week           0\n",
       "field-of-degree          0\n",
       "place-of-birth           0\n",
       "stem-degree              0\n",
       "full PUMA                0\n",
       "less_than_9th            0\n",
       "9th_to_12th              0\n",
       "hs_grad                  0\n",
       "some_college             0\n",
       "associates_degree        0\n",
       "bach_degree              0\n",
       "grad_or_prof_degree      0\n",
       "hs_or_higher             0\n",
       "bach_degree_or_higher    0\n",
       "income                   0\n",
       "dtype: int64"
      ]
     },
     "execution_count": 13,
     "metadata": {},
     "output_type": "execute_result"
    }
   ],
   "source": [
    "# df = df.dropna()\n",
    "# df.shape\n",
    "\n",
    "df.isnull().sum()"
   ]
  },
  {
   "cell_type": "code",
   "execution_count": 14,
   "metadata": {},
   "outputs": [],
   "source": [
    "X = df.drop(columns=['income'], axis = 1)\n",
    "y = df[['income']].to_numpy()"
   ]
  },
  {
   "cell_type": "code",
   "execution_count": 15,
   "metadata": {},
   "outputs": [],
   "source": [
    "labels = np.unique(y)\n",
    "features = list(X.columns)"
   ]
  },
  {
   "cell_type": "markdown",
   "metadata": {},
   "source": [
    "### Pre-process categorical variables"
   ]
  },
  {
   "cell_type": "code",
   "execution_count": 16,
   "metadata": {},
   "outputs": [],
   "source": [
    "cat_var = ['Geographic-division', 'region', 'state', 'RT', 'citizenship-status', 'class-worker', 'education', 'marital-status', 'occupation', 'relationship', 'race', 'sex', 'field-of-degree', 'place-of-birth', 'stem-degree']\n",
    "for f in cat_var:\n",
    "    enc = preprocessing.LabelEncoder()\n",
    "    X[f] = enc.fit_transform(X[f])\n",
    "\n",
    "scaler = preprocessing.StandardScaler()\n",
    "X = pd.DataFrame(scaler.fit_transform(X), columns = X.columns)"
   ]
  },
  {
   "cell_type": "markdown",
   "metadata": {},
   "source": [
    "### Split data into test and training"
   ]
  },
  {
   "cell_type": "code",
   "execution_count": 17,
   "metadata": {},
   "outputs": [],
   "source": [
    "X_train, X_test, y_train, y_test = train_test_split(X, y, test_size=0.2)"
   ]
  },
  {
   "cell_type": "code",
   "execution_count": 18,
   "metadata": {},
   "outputs": [
    {
     "data": {
      "text/plain": [
       "367859"
      ]
     },
     "execution_count": 18,
     "metadata": {},
     "output_type": "execute_result"
    }
   ],
   "source": [
    "len(X_test)"
   ]
  },
  {
   "cell_type": "markdown",
   "metadata": {},
   "source": [
    "## Train Models and Establish Baseline Scores"
   ]
  },
  {
   "cell_type": "markdown",
   "metadata": {},
   "source": [
    "### Logistic Regression"
   ]
  },
  {
   "cell_type": "code",
   "execution_count": 19,
   "metadata": {},
   "outputs": [],
   "source": [
    "# Train model, get predictions\n",
    "model = LogisticRegression()\n",
    "model.fit(X, y)\n",
    "y_pred = model.predict(X_test)\n",
    "y_probas = model.predict_proba(X_test)\n",
    "importances = model.coef_\n",
    "indices = np.argsort(importances)[::-1]"
   ]
  },
  {
   "cell_type": "code",
   "execution_count": 20,
   "metadata": {},
   "outputs": [
    {
     "name": "stdout",
     "output_type": "stream",
     "text": [
      "<class 'pandas.core.frame.DataFrame'>\n",
      "Int64Index: 1471436 entries, 1087257 to 313042\n",
      "Data columns (total 29 columns):\n",
      " #   Column                 Non-Null Count    Dtype  \n",
      "---  ------                 --------------    -----  \n",
      " 0   Geographic-division    1471436 non-null  float64\n",
      " 1   region                 1471436 non-null  float64\n",
      " 2   state                  1471436 non-null  float64\n",
      " 3   RT                     1471436 non-null  float64\n",
      " 4   person-weight          1471436 non-null  float64\n",
      " 5   age                    1471436 non-null  float64\n",
      " 6   citizenship-status     1471436 non-null  float64\n",
      " 7   class-worker           1471436 non-null  float64\n",
      " 8   education              1471436 non-null  float64\n",
      " 9   marital-status         1471436 non-null  float64\n",
      " 10  occupation             1471436 non-null  float64\n",
      " 11  relationship           1471436 non-null  float64\n",
      " 12  race                   1471436 non-null  float64\n",
      " 13  sex                    1471436 non-null  float64\n",
      " 14  extra-income           1471436 non-null  float64\n",
      " 15  hours-per-week         1471436 non-null  float64\n",
      " 16  field-of-degree        1471436 non-null  float64\n",
      " 17  place-of-birth         1471436 non-null  float64\n",
      " 18  stem-degree            1471436 non-null  float64\n",
      " 19  full PUMA              1471436 non-null  float64\n",
      " 20  less_than_9th          1471436 non-null  float64\n",
      " 21  9th_to_12th            1471436 non-null  float64\n",
      " 22  hs_grad                1471436 non-null  float64\n",
      " 23  some_college           1471436 non-null  float64\n",
      " 24  associates_degree      1471436 non-null  float64\n",
      " 25  bach_degree            1471436 non-null  float64\n",
      " 26  grad_or_prof_degree    1471436 non-null  float64\n",
      " 27  hs_or_higher           1471436 non-null  float64\n",
      " 28  bach_degree_or_higher  1471436 non-null  float64\n",
      "dtypes: float64(29)\n",
      "memory usage: 336.8 MB\n",
      "None\n"
     ]
    }
   ],
   "source": [
    "print(X_train.info())"
   ]
  },
  {
   "cell_type": "code",
   "execution_count": 22,
   "metadata": {},
   "outputs": [
    {
     "name": "stderr",
     "output_type": "stream",
     "text": [
      "wandb: \n",
      "wandb: Plotting LogisticRegression.\n",
      "wandb: Logged feature importances.\n",
      "wandb: Logged learning curve.\n",
      "wandb: Logged confusion matrix.\n",
      "wandb: Logged summary metrics.\n",
      "wandb: Logged class proportions.\n",
      "wandb: Logged calibration curve.\n",
      "wandb: WARNING wandb uses only the first 10000 datapoints to create the plots.\n",
      "wandb: WARNING wandb uses only the first 10000 datapoints to create the plots.\n",
      "WARNING:root:Truncating wandb.Table object to 10000 rows.\n",
      "wandb: Logged roc curve.\n",
      "wandb: Logged precision recall curve.\n"
     ]
    }
   ],
   "source": [
    "# Visualize model performance\n",
    "wandb.sklearn.plot_classifier(\n",
    "    model, X_train, X_test, y_train, y_test, y_pred, y_probas, labels,\n",
    "    is_binary=True, model_name='LogisticRegression', feature_names=features)"
   ]
  },
  {
   "cell_type": "code",
   "execution_count": 21,
   "metadata": {},
   "outputs": [
    {
     "name": "stdout",
     "output_type": "stream",
     "text": [
      "              precision    recall  f1-score   support\n",
      "\n",
      "       <=50K       0.77      0.84      0.81    223383\n",
      "        >50K       0.72      0.62      0.66    144476\n",
      "\n",
      "    accuracy                           0.75    367859\n",
      "   macro avg       0.74      0.73      0.73    367859\n",
      "weighted avg       0.75      0.75      0.75    367859\n",
      "\n"
     ]
    }
   ],
   "source": [
    "print(classification_report(y_test, y_pred, target_names=labels))"
   ]
  },
  {
   "cell_type": "code",
   "execution_count": null,
   "metadata": {},
   "outputs": [],
   "source": []
  }
 ],
 "metadata": {
  "kernelspec": {
   "display_name": "Python 3",
   "language": "python",
   "name": "python3"
  },
  "language_info": {
   "codemirror_mode": {
    "name": "ipython",
    "version": 3
   },
   "file_extension": ".py",
   "mimetype": "text/x-python",
   "name": "python",
   "nbconvert_exporter": "python",
   "pygments_lexer": "ipython3",
   "version": "3.7.6"
  }
 },
 "nbformat": 4,
 "nbformat_minor": 4
}
