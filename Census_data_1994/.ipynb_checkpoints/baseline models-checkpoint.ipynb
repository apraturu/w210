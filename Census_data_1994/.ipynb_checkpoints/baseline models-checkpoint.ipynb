{
 "cells": [
  {
   "cell_type": "markdown",
   "metadata": {},
   "source": [
    "# Establish Baseline Model Scores\n",
    "#### 9/12/2020\n",
    "---"
   ]
  },
  {
   "cell_type": "markdown",
   "metadata": {},
   "source": [
    "## Load and Process Dataset\n",
    "### Import Libraries"
   ]
  },
  {
   "cell_type": "code",
   "execution_count": 3,
   "metadata": {},
   "outputs": [],
   "source": [
    "import pandas as pd\n",
    "import numpy as np\n",
    "from sklearn.neighbors import KNeighborsClassifier\n",
    "from sklearn import preprocessing\n",
    "from sklearn.naive_bayes import MultinomialNB, BernoulliNB\n",
    "from sklearn.linear_model import LinearRegression, LogisticRegression\n",
    "from sklearn.decomposition import PCA\n",
    "import warnings\n",
    "warnings.filterwarnings('ignore')"
   ]
  },
  {
   "cell_type": "markdown",
   "metadata": {},
   "source": [
    "### Read in `adult.csv` data"
   ]
  },
  {
   "cell_type": "code",
   "execution_count": 4,
   "metadata": {},
   "outputs": [
    {
     "data": {
      "text/html": [
       "<div>\n",
       "<style scoped>\n",
       "    .dataframe tbody tr th:only-of-type {\n",
       "        vertical-align: middle;\n",
       "    }\n",
       "\n",
       "    .dataframe tbody tr th {\n",
       "        vertical-align: top;\n",
       "    }\n",
       "\n",
       "    .dataframe thead th {\n",
       "        text-align: right;\n",
       "    }\n",
       "</style>\n",
       "<table border=\"1\" class=\"dataframe\">\n",
       "  <thead>\n",
       "    <tr style=\"text-align: right;\">\n",
       "      <th></th>\n",
       "      <th>age</th>\n",
       "      <th>workclass</th>\n",
       "      <th>fnlwgt</th>\n",
       "      <th>education</th>\n",
       "      <th>education.num</th>\n",
       "      <th>marital.status</th>\n",
       "      <th>occupation</th>\n",
       "      <th>relationship</th>\n",
       "      <th>race</th>\n",
       "      <th>sex</th>\n",
       "      <th>capital.gain</th>\n",
       "      <th>capital.loss</th>\n",
       "      <th>hours.per.week</th>\n",
       "      <th>native.country</th>\n",
       "      <th>income</th>\n",
       "    </tr>\n",
       "  </thead>\n",
       "  <tbody>\n",
       "    <tr>\n",
       "      <th>4736</th>\n",
       "      <td>58</td>\n",
       "      <td>Local-gov</td>\n",
       "      <td>283635</td>\n",
       "      <td>Bachelors</td>\n",
       "      <td>13</td>\n",
       "      <td>Never-married</td>\n",
       "      <td>Prof-specialty</td>\n",
       "      <td>Not-in-family</td>\n",
       "      <td>White</td>\n",
       "      <td>Female</td>\n",
       "      <td>0</td>\n",
       "      <td>0</td>\n",
       "      <td>40</td>\n",
       "      <td>United-States</td>\n",
       "      <td>&lt;=50K</td>\n",
       "    </tr>\n",
       "    <tr>\n",
       "      <th>26811</th>\n",
       "      <td>32</td>\n",
       "      <td>Private</td>\n",
       "      <td>27207</td>\n",
       "      <td>10th</td>\n",
       "      <td>6</td>\n",
       "      <td>Never-married</td>\n",
       "      <td>Craft-repair</td>\n",
       "      <td>Not-in-family</td>\n",
       "      <td>White</td>\n",
       "      <td>Male</td>\n",
       "      <td>0</td>\n",
       "      <td>0</td>\n",
       "      <td>50</td>\n",
       "      <td>United-States</td>\n",
       "      <td>&lt;=50K</td>\n",
       "    </tr>\n",
       "    <tr>\n",
       "      <th>11234</th>\n",
       "      <td>39</td>\n",
       "      <td>Private</td>\n",
       "      <td>191002</td>\n",
       "      <td>HS-grad</td>\n",
       "      <td>9</td>\n",
       "      <td>Never-married</td>\n",
       "      <td>Sales</td>\n",
       "      <td>Not-in-family</td>\n",
       "      <td>White</td>\n",
       "      <td>Female</td>\n",
       "      <td>0</td>\n",
       "      <td>0</td>\n",
       "      <td>40</td>\n",
       "      <td>Poland</td>\n",
       "      <td>&lt;=50K</td>\n",
       "    </tr>\n",
       "    <tr>\n",
       "      <th>24480</th>\n",
       "      <td>45</td>\n",
       "      <td>Private</td>\n",
       "      <td>184581</td>\n",
       "      <td>HS-grad</td>\n",
       "      <td>9</td>\n",
       "      <td>Married-civ-spouse</td>\n",
       "      <td>Machine-op-inspct</td>\n",
       "      <td>Husband</td>\n",
       "      <td>White</td>\n",
       "      <td>Male</td>\n",
       "      <td>0</td>\n",
       "      <td>0</td>\n",
       "      <td>40</td>\n",
       "      <td>United-States</td>\n",
       "      <td>&lt;=50K</td>\n",
       "    </tr>\n",
       "    <tr>\n",
       "      <th>10503</th>\n",
       "      <td>31</td>\n",
       "      <td>Private</td>\n",
       "      <td>197672</td>\n",
       "      <td>Bachelors</td>\n",
       "      <td>13</td>\n",
       "      <td>Married-civ-spouse</td>\n",
       "      <td>Prof-specialty</td>\n",
       "      <td>Husband</td>\n",
       "      <td>White</td>\n",
       "      <td>Male</td>\n",
       "      <td>0</td>\n",
       "      <td>0</td>\n",
       "      <td>40</td>\n",
       "      <td>United-States</td>\n",
       "      <td>&lt;=50K</td>\n",
       "    </tr>\n",
       "  </tbody>\n",
       "</table>\n",
       "</div>"
      ],
      "text/plain": [
       "       age  workclass  fnlwgt  education  education.num      marital.status  \\\n",
       "4736    58  Local-gov  283635  Bachelors             13       Never-married   \n",
       "26811   32    Private   27207       10th              6       Never-married   \n",
       "11234   39    Private  191002    HS-grad              9       Never-married   \n",
       "24480   45    Private  184581    HS-grad              9  Married-civ-spouse   \n",
       "10503   31    Private  197672  Bachelors             13  Married-civ-spouse   \n",
       "\n",
       "              occupation   relationship   race     sex  capital.gain  \\\n",
       "4736      Prof-specialty  Not-in-family  White  Female             0   \n",
       "26811       Craft-repair  Not-in-family  White    Male             0   \n",
       "11234              Sales  Not-in-family  White  Female             0   \n",
       "24480  Machine-op-inspct        Husband  White    Male             0   \n",
       "10503     Prof-specialty        Husband  White    Male             0   \n",
       "\n",
       "       capital.loss  hours.per.week native.country income  \n",
       "4736              0              40  United-States  <=50K  \n",
       "26811             0              50  United-States  <=50K  \n",
       "11234             0              40         Poland  <=50K  \n",
       "24480             0              40  United-States  <=50K  \n",
       "10503             0              40  United-States  <=50K  "
      ]
     },
     "execution_count": 4,
     "metadata": {},
     "output_type": "execute_result"
    }
   ],
   "source": [
    "df = pd.read_csv('../UCI dataset/adult.csv').sample(frac=1)\n",
    "df.head()"
   ]
  },
  {
   "cell_type": "code",
   "execution_count": 5,
   "metadata": {},
   "outputs": [
    {
     "data": {
      "text/plain": [
       "age               0\n",
       "workclass         0\n",
       "fnlwgt            0\n",
       "education         0\n",
       "education.num     0\n",
       "marital.status    0\n",
       "occupation        0\n",
       "relationship      0\n",
       "race              0\n",
       "sex               0\n",
       "capital.gain      0\n",
       "capital.loss      0\n",
       "hours.per.week    0\n",
       "native.country    0\n",
       "income            0\n",
       "dtype: int64"
      ]
     },
     "execution_count": 5,
     "metadata": {},
     "output_type": "execute_result"
    }
   ],
   "source": [
    "df.isnull().sum()"
   ]
  },
  {
   "cell_type": "markdown",
   "metadata": {},
   "source": [
    "### Split data into test and training"
   ]
  },
  {
   "cell_type": "code",
   "execution_count": 6,
   "metadata": {},
   "outputs": [
    {
     "data": {
      "text/plain": [
       "6512.200000000001"
      ]
     },
     "execution_count": 6,
     "metadata": {},
     "output_type": "execute_result"
    }
   ],
   "source": [
    "len(df)*.2"
   ]
  },
  {
   "cell_type": "code",
   "execution_count": 7,
   "metadata": {},
   "outputs": [],
   "source": [
    "#subset the data into test and training data and labels\n",
    "df_test_data = df.drop(columns=['income'])[:6500]\n",
    "df_test_labels = df[['income']][:6500]\n",
    "df_train_data = df.drop(columns=['income'])[6500:]\n",
    "df_train_labels = df[['income']][6500:]"
   ]
  },
  {
   "cell_type": "code",
   "execution_count": 8,
   "metadata": {},
   "outputs": [
    {
     "data": {
      "text/plain": [
       "6500"
      ]
     },
     "execution_count": 8,
     "metadata": {},
     "output_type": "execute_result"
    }
   ],
   "source": [
    "len(df_test_data)"
   ]
  },
  {
   "cell_type": "code",
   "execution_count": 9,
   "metadata": {},
   "outputs": [
    {
     "data": {
      "text/html": [
       "<div>\n",
       "<style scoped>\n",
       "    .dataframe tbody tr th:only-of-type {\n",
       "        vertical-align: middle;\n",
       "    }\n",
       "\n",
       "    .dataframe tbody tr th {\n",
       "        vertical-align: top;\n",
       "    }\n",
       "\n",
       "    .dataframe thead th {\n",
       "        text-align: right;\n",
       "    }\n",
       "</style>\n",
       "<table border=\"1\" class=\"dataframe\">\n",
       "  <thead>\n",
       "    <tr style=\"text-align: right;\">\n",
       "      <th></th>\n",
       "      <th>age</th>\n",
       "      <th>workclass</th>\n",
       "      <th>fnlwgt</th>\n",
       "      <th>education</th>\n",
       "      <th>education.num</th>\n",
       "      <th>marital.status</th>\n",
       "      <th>occupation</th>\n",
       "      <th>relationship</th>\n",
       "      <th>race</th>\n",
       "      <th>sex</th>\n",
       "      <th>capital.gain</th>\n",
       "      <th>capital.loss</th>\n",
       "      <th>hours.per.week</th>\n",
       "      <th>native.country</th>\n",
       "    </tr>\n",
       "  </thead>\n",
       "  <tbody>\n",
       "    <tr>\n",
       "      <th>4736</th>\n",
       "      <td>58</td>\n",
       "      <td>Local-gov</td>\n",
       "      <td>283635</td>\n",
       "      <td>Bachelors</td>\n",
       "      <td>13</td>\n",
       "      <td>Never-married</td>\n",
       "      <td>Prof-specialty</td>\n",
       "      <td>Not-in-family</td>\n",
       "      <td>White</td>\n",
       "      <td>Female</td>\n",
       "      <td>0</td>\n",
       "      <td>0</td>\n",
       "      <td>40</td>\n",
       "      <td>United-States</td>\n",
       "    </tr>\n",
       "    <tr>\n",
       "      <th>26811</th>\n",
       "      <td>32</td>\n",
       "      <td>Private</td>\n",
       "      <td>27207</td>\n",
       "      <td>10th</td>\n",
       "      <td>6</td>\n",
       "      <td>Never-married</td>\n",
       "      <td>Craft-repair</td>\n",
       "      <td>Not-in-family</td>\n",
       "      <td>White</td>\n",
       "      <td>Male</td>\n",
       "      <td>0</td>\n",
       "      <td>0</td>\n",
       "      <td>50</td>\n",
       "      <td>United-States</td>\n",
       "    </tr>\n",
       "    <tr>\n",
       "      <th>11234</th>\n",
       "      <td>39</td>\n",
       "      <td>Private</td>\n",
       "      <td>191002</td>\n",
       "      <td>HS-grad</td>\n",
       "      <td>9</td>\n",
       "      <td>Never-married</td>\n",
       "      <td>Sales</td>\n",
       "      <td>Not-in-family</td>\n",
       "      <td>White</td>\n",
       "      <td>Female</td>\n",
       "      <td>0</td>\n",
       "      <td>0</td>\n",
       "      <td>40</td>\n",
       "      <td>Poland</td>\n",
       "    </tr>\n",
       "    <tr>\n",
       "      <th>24480</th>\n",
       "      <td>45</td>\n",
       "      <td>Private</td>\n",
       "      <td>184581</td>\n",
       "      <td>HS-grad</td>\n",
       "      <td>9</td>\n",
       "      <td>Married-civ-spouse</td>\n",
       "      <td>Machine-op-inspct</td>\n",
       "      <td>Husband</td>\n",
       "      <td>White</td>\n",
       "      <td>Male</td>\n",
       "      <td>0</td>\n",
       "      <td>0</td>\n",
       "      <td>40</td>\n",
       "      <td>United-States</td>\n",
       "    </tr>\n",
       "    <tr>\n",
       "      <th>10503</th>\n",
       "      <td>31</td>\n",
       "      <td>Private</td>\n",
       "      <td>197672</td>\n",
       "      <td>Bachelors</td>\n",
       "      <td>13</td>\n",
       "      <td>Married-civ-spouse</td>\n",
       "      <td>Prof-specialty</td>\n",
       "      <td>Husband</td>\n",
       "      <td>White</td>\n",
       "      <td>Male</td>\n",
       "      <td>0</td>\n",
       "      <td>0</td>\n",
       "      <td>40</td>\n",
       "      <td>United-States</td>\n",
       "    </tr>\n",
       "  </tbody>\n",
       "</table>\n",
       "</div>"
      ],
      "text/plain": [
       "       age  workclass  fnlwgt  education  education.num      marital.status  \\\n",
       "4736    58  Local-gov  283635  Bachelors             13       Never-married   \n",
       "26811   32    Private   27207       10th              6       Never-married   \n",
       "11234   39    Private  191002    HS-grad              9       Never-married   \n",
       "24480   45    Private  184581    HS-grad              9  Married-civ-spouse   \n",
       "10503   31    Private  197672  Bachelors             13  Married-civ-spouse   \n",
       "\n",
       "              occupation   relationship   race     sex  capital.gain  \\\n",
       "4736      Prof-specialty  Not-in-family  White  Female             0   \n",
       "26811       Craft-repair  Not-in-family  White    Male             0   \n",
       "11234              Sales  Not-in-family  White  Female             0   \n",
       "24480  Machine-op-inspct        Husband  White    Male             0   \n",
       "10503     Prof-specialty        Husband  White    Male             0   \n",
       "\n",
       "       capital.loss  hours.per.week native.country  \n",
       "4736              0              40  United-States  \n",
       "26811             0              50  United-States  \n",
       "11234             0              40         Poland  \n",
       "24480             0              40  United-States  \n",
       "10503             0              40  United-States  "
      ]
     },
     "execution_count": 9,
     "metadata": {},
     "output_type": "execute_result"
    }
   ],
   "source": [
    "df_test_data.head()"
   ]
  },
  {
   "cell_type": "markdown",
   "metadata": {},
   "source": [
    "### Pre-process categorical variables"
   ]
  },
  {
   "cell_type": "code",
   "execution_count": 10,
   "metadata": {},
   "outputs": [],
   "source": [
    "cat_var = ['workclass', 'education', 'marital.status', 'occupation', 'relationship', 'race', 'sex', 'native.country']\n",
    "for f in cat_var:\n",
    "    enc = preprocessing.LabelEncoder()\n",
    "    df_train_data[f] = enc.fit_transform(df_train_data[f])\n",
    "    df_test_data[f] = enc.transform(df_test_data[f])"
   ]
  },
  {
   "cell_type": "code",
   "execution_count": 11,
   "metadata": {},
   "outputs": [],
   "source": [
    "scaler = preprocessing.StandardScaler()\n",
    "df_train_data = pd.DataFrame(scaler.fit_transform(df_train_data), columns = df_train_data.columns)\n",
    "df_test_data = pd.DataFrame(scaler.transform(df_test_data), columns = df_train_data.columns)"
   ]
  },
  {
   "cell_type": "markdown",
   "metadata": {},
   "source": [
    "## Train Models and Establish Baseline Scores"
   ]
  },
  {
   "cell_type": "markdown",
   "metadata": {},
   "source": [
    "### K-Nearest Neighbors"
   ]
  },
  {
   "cell_type": "code",
   "execution_count": 12,
   "metadata": {},
   "outputs": [],
   "source": [
    "results = []\n",
    "for k in [1, 2, 3, 4, 5, 6, 7, 8, 9]:\n",
    "    knn_model = KNeighborsClassifier(n_neighbors=k)\n",
    "    knn_model.fit(df_train_data, df_train_labels)\n",
    "    acc = knn_model.score(df_test_data, df_test_labels)\n",
    "    results.append([k, acc])"
   ]
  },
  {
   "cell_type": "code",
   "execution_count": 13,
   "metadata": {},
   "outputs": [
    {
     "data": {
      "text/plain": [
       "[[1, 0.7984615384615384],\n",
       " [2, 0.812923076923077],\n",
       " [3, 0.8155384615384615],\n",
       " [4, 0.8203076923076923],\n",
       " [5, 0.8176923076923077],\n",
       " [6, 0.8243076923076923],\n",
       " [7, 0.8215384615384616],\n",
       " [8, 0.8244615384615385],\n",
       " [9, 0.8243076923076923]]"
      ]
     },
     "execution_count": 13,
     "metadata": {},
     "output_type": "execute_result"
    }
   ],
   "source": [
    "results"
   ]
  },
  {
   "cell_type": "markdown",
   "metadata": {},
   "source": [
    "### Multinomial NB"
   ]
  },
  {
   "cell_type": "code",
   "execution_count": 87,
   "metadata": {},
   "outputs": [],
   "source": [
    "# results = []\n",
    "# for a in [0.0, 0.0001, 0.001, 0.01, 0.1, 0.5, 1.0, 2.0, 10.0, 100.0]:\n",
    "#   mnb_model = MultinomialNB(alpha=a)\n",
    "#   mnb_model.fit(df_train_data, df_train_labels)\n",
    "#   acc = mnb_model.score(df_test_data, df_test_labels)\n",
    "#   results.append([a, acc])"
   ]
  },
  {
   "cell_type": "code",
   "execution_count": 50,
   "metadata": {},
   "outputs": [
    {
     "data": {
      "text/plain": [
       "[[0.0, 0.7806153846153846],\n",
       " [0.0001, 0.7806153846153846],\n",
       " [0.001, 0.7806153846153846],\n",
       " [0.01, 0.7806153846153846],\n",
       " [0.1, 0.7806153846153846],\n",
       " [0.5, 0.7806153846153846],\n",
       " [1.0, 0.7806153846153846],\n",
       " [2.0, 0.7806153846153846],\n",
       " [10.0, 0.7806153846153846],\n",
       " [100.0, 0.7806153846153846]]"
      ]
     },
     "execution_count": 50,
     "metadata": {},
     "output_type": "execute_result"
    }
   ],
   "source": [
    "results"
   ]
  },
  {
   "cell_type": "markdown",
   "metadata": {},
   "source": [
    "### Bernoulli NB"
   ]
  },
  {
   "cell_type": "code",
   "execution_count": 77,
   "metadata": {},
   "outputs": [],
   "source": [
    "results = []\n",
    "for a in [0.0, 0.0001, 0.001, 0.01, 0.1, 0.5, 1.0, 2.0, 10.0, 100.0]:\n",
    "  bnb_model = BernoulliNB(alpha=a)\n",
    "  bnb_model.fit(df_train_data, df_train_labels)\n",
    "  acc = bnb_model.score(df_test_data, df_test_labels)\n",
    "  results.append([a, acc])"
   ]
  },
  {
   "cell_type": "code",
   "execution_count": 78,
   "metadata": {},
   "outputs": [
    {
     "data": {
      "text/plain": [
       "[[0.0, 0.8096923076923077],\n",
       " [0.0001, 0.8096923076923077],\n",
       " [0.001, 0.8096923076923077],\n",
       " [0.01, 0.8096923076923077],\n",
       " [0.1, 0.8096923076923077],\n",
       " [0.5, 0.8096923076923077],\n",
       " [1.0, 0.8096923076923077],\n",
       " [2.0, 0.8096923076923077],\n",
       " [10.0, 0.8095384615384615],\n",
       " [100.0, 0.8084615384615385]]"
      ]
     },
     "execution_count": 78,
     "metadata": {},
     "output_type": "execute_result"
    }
   ],
   "source": [
    "results"
   ]
  },
  {
   "cell_type": "markdown",
   "metadata": {},
   "source": [
    "### Linear Regression"
   ]
  },
  {
   "cell_type": "code",
   "execution_count": 79,
   "metadata": {},
   "outputs": [],
   "source": [
    "df_train_label_dummy = pd.get_dummies(df_train_labels['income'], prefix='income')\n",
    "df_test_label_dummy = pd.get_dummies(df_test_labels['income'], prefix='income')"
   ]
  },
  {
   "cell_type": "code",
   "execution_count": 80,
   "metadata": {},
   "outputs": [
    {
     "data": {
      "text/plain": [
       "LinearRegression(copy_X=True, fit_intercept=True, n_jobs=None, normalize=False)"
      ]
     },
     "execution_count": 80,
     "metadata": {},
     "output_type": "execute_result"
    }
   ],
   "source": [
    "linear_model = LinearRegression()\n",
    "linear_model.fit(df_train_data, df_train_label_dummy)"
   ]
  },
  {
   "cell_type": "code",
   "execution_count": 81,
   "metadata": {},
   "outputs": [
    {
     "data": {
      "text/plain": [
       "0.25121586191717027"
      ]
     },
     "execution_count": 81,
     "metadata": {},
     "output_type": "execute_result"
    }
   ],
   "source": [
    "lm_predicted = linear_model.predict(df_test_data)\n",
    "r2 = linear_model.score(df_test_data, df_test_label_dummy)\n",
    "r2"
   ]
  },
  {
   "cell_type": "code",
   "execution_count": 82,
   "metadata": {},
   "outputs": [],
   "source": [
    "def get_linear_model_accuracy(predicted, actual):\n",
    "    df_predicted = pd.DataFrame(columns = actual.columns)\n",
    "    results = []\n",
    "    for i in range(len(predicted)):\n",
    "        it = predicted[i]\n",
    "        add = [0, 0]\n",
    "        add[it.argmax()] = 1\n",
    "        df_predicted.loc[i] = add\n",
    "  \n",
    "    for r in range(len(df_predicted)):\n",
    "        results.append(np.array_equal(df_predicted.iloc[r].values, actual.iloc[r].values))\n",
    "  \n",
    "    return(results.count(True) / len(results))"
   ]
  },
  {
   "cell_type": "code",
   "execution_count": 83,
   "metadata": {},
   "outputs": [
    {
     "data": {
      "text/plain": [
       "0.804923076923077"
      ]
     },
     "execution_count": 83,
     "metadata": {},
     "output_type": "execute_result"
    }
   ],
   "source": [
    "get_linear_model_accuracy(lm_predicted, df_test_label_dummy)"
   ]
  },
  {
   "cell_type": "markdown",
   "metadata": {},
   "source": [
    "### Logistic Regression"
   ]
  },
  {
   "cell_type": "code",
   "execution_count": 84,
   "metadata": {},
   "outputs": [],
   "source": [
    "results = []\n",
    "for c in [0.0001, 0.001, 0.01, 0.1, 0.5, 1.0, 2.0, 10.0, 100.0]:\n",
    "    log_model = LogisticRegression(C=c)\n",
    "    log_model.fit(df_train_data, df_train_labels)\n",
    "    acc = log_model.score(df_test_data, df_test_labels)\n",
    "    results.append([c, acc])"
   ]
  },
  {
   "cell_type": "code",
   "execution_count": 85,
   "metadata": {},
   "outputs": [
    {
     "data": {
      "text/plain": [
       "[[0.0001, 0.7698461538461538],\n",
       " [0.001, 0.8084615384615385],\n",
       " [0.01, 0.8207692307692308],\n",
       " [0.1, 0.8221538461538461],\n",
       " [0.5, 0.8223076923076923],\n",
       " [1.0, 0.8223076923076923],\n",
       " [2.0, 0.8221538461538461],\n",
       " [10.0, 0.8221538461538461],\n",
       " [100.0, 0.8221538461538461]]"
      ]
     },
     "execution_count": 85,
     "metadata": {},
     "output_type": "execute_result"
    }
   ],
   "source": [
    "results"
   ]
  },
  {
   "cell_type": "markdown",
   "metadata": {},
   "source": [
    "## Feature Reduction"
   ]
  },
  {
   "cell_type": "markdown",
   "metadata": {},
   "source": [
    "### PCA"
   ]
  },
  {
   "cell_type": "code",
   "execution_count": 86,
   "metadata": {},
   "outputs": [
    {
     "data": {
      "text/plain": [
       "array([0.1507991 , 0.1006954 , 0.09013516, 0.08067175, 0.07735078,\n",
       "       0.07343012, 0.06785188, 0.06629245, 0.06139593, 0.06026377,\n",
       "       0.05345741, 0.04849914, 0.04191859, 0.02723853])"
      ]
     },
     "execution_count": 86,
     "metadata": {},
     "output_type": "execute_result"
    }
   ],
   "source": [
    "pca = PCA()\n",
    "x = pca.fit_transform(df_train_data)\n",
    "pca.explained_variance_ratio_"
   ]
  },
  {
   "cell_type": "markdown",
   "metadata": {},
   "source": [
    "### Try KNN after dropping last column"
   ]
  },
  {
   "cell_type": "code",
   "execution_count": 90,
   "metadata": {},
   "outputs": [],
   "source": [
    "df_train_data_red = df_train_data.drop(columns=['native.country'])\n",
    "df_test_data_red = df_test_data.drop(columns=['native.country'])"
   ]
  },
  {
   "cell_type": "code",
   "execution_count": 91,
   "metadata": {},
   "outputs": [],
   "source": [
    "results = []\n",
    "for k in [1, 2, 3, 4, 5, 6, 7, 8, 9]:\n",
    "    knn_model = KNeighborsClassifier(n_neighbors=k)\n",
    "    knn_model.fit(df_train_data_red, df_train_labels)\n",
    "    acc = knn_model.score(df_test_data_red, df_test_labels)\n",
    "    results.append([k, acc])"
   ]
  },
  {
   "cell_type": "code",
   "execution_count": 92,
   "metadata": {},
   "outputs": [
    {
     "data": {
      "text/plain": [
       "[[1, 0.7967692307692308],\n",
       " [2, 0.8124615384615385],\n",
       " [3, 0.822],\n",
       " [4, 0.825076923076923],\n",
       " [5, 0.8272307692307692],\n",
       " [6, 0.8312307692307692],\n",
       " [7, 0.8318461538461538],\n",
       " [8, 0.8292307692307692],\n",
       " [9, 0.8324615384615385]]"
      ]
     },
     "execution_count": 92,
     "metadata": {},
     "output_type": "execute_result"
    }
   ],
   "source": [
    "results"
   ]
  },
  {
   "cell_type": "markdown",
   "metadata": {},
   "source": [
    "### Drop last two columns"
   ]
  },
  {
   "cell_type": "code",
   "execution_count": 93,
   "metadata": {},
   "outputs": [],
   "source": [
    "df_train_data_red = df_train_data.drop(columns=['native.country', 'hours.per.week'])\n",
    "df_test_data_red = df_test_data.drop(columns=['native.country', 'hours.per.week'])"
   ]
  },
  {
   "cell_type": "code",
   "execution_count": 94,
   "metadata": {},
   "outputs": [],
   "source": [
    "results = []\n",
    "for k in [1, 2, 3, 4, 5, 6, 7, 8, 9]:\n",
    "    knn_model = KNeighborsClassifier(n_neighbors=k)\n",
    "    knn_model.fit(df_train_data_red, df_train_labels)\n",
    "    acc = knn_model.score(df_test_data_red, df_test_labels)\n",
    "    results.append([k, acc])"
   ]
  },
  {
   "cell_type": "code",
   "execution_count": 95,
   "metadata": {},
   "outputs": [
    {
     "data": {
      "text/plain": [
       "[[1, 0.7984615384615384],\n",
       " [2, 0.8187692307692308],\n",
       " [3, 0.8236923076923077],\n",
       " [4, 0.8264615384615385],\n",
       " [5, 0.8304615384615385],\n",
       " [6, 0.8306153846153846],\n",
       " [7, 0.8296923076923077],\n",
       " [8, 0.8301538461538461],\n",
       " [9, 0.8303076923076923]]"
      ]
     },
     "execution_count": 95,
     "metadata": {},
     "output_type": "execute_result"
    }
   ],
   "source": [
    "results"
   ]
  },
  {
   "cell_type": "code",
   "execution_count": null,
   "metadata": {},
   "outputs": [],
   "source": []
  }
 ],
 "metadata": {
  "kernelspec": {
   "display_name": "Python 3",
   "language": "python",
   "name": "python3"
  },
  "language_info": {
   "codemirror_mode": {
    "name": "ipython",
    "version": 3
   },
   "file_extension": ".py",
   "mimetype": "text/x-python",
   "name": "python",
   "nbconvert_exporter": "python",
   "pygments_lexer": "ipython3",
   "version": "3.7.6"
  }
 },
 "nbformat": 4,
 "nbformat_minor": 4
}
