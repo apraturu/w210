{
 "cells": [
  {
   "cell_type": "markdown",
   "metadata": {},
   "source": [
    "# Run Baseline Models on 2018 Data with Deciles\n",
    "#### 9/26/2020\n",
    "---"
   ]
  },
  {
   "cell_type": "markdown",
   "metadata": {},
   "source": [
    "## Load and Process Dataset\n",
    "### Import Libraries"
   ]
  },
  {
   "cell_type": "code",
   "execution_count": 1,
   "metadata": {},
   "outputs": [
    {
     "data": {
      "text/html": [
       "<style>.container { width:75% !important; }</style>"
      ],
      "text/plain": [
       "<IPython.core.display.HTML object>"
      ]
     },
     "metadata": {},
     "output_type": "display_data"
    }
   ],
   "source": [
    "import pandas as pd\n",
    "import numpy as np\n",
    "from sklearn.neighbors import KNeighborsClassifier\n",
    "from sklearn import preprocessing\n",
    "from sklearn.naive_bayes import MultinomialNB, BernoulliNB\n",
    "from sklearn.linear_model import LinearRegression, LogisticRegression\n",
    "from sklearn.decomposition import PCA\n",
    "import warnings\n",
    "import matplotlib.pyplot as plt\n",
    "import seaborn as sns\n",
    "from IPython.core.display import display, HTML\n",
    "display(HTML(\"<style>.container { width:75% !important; }</style>\"))\n",
    "warnings.filterwarnings('ignore')"
   ]
  },
  {
   "cell_type": "markdown",
   "metadata": {},
   "source": [
    "### Read in data"
   ]
  },
  {
   "cell_type": "code",
   "execution_count": 6,
   "metadata": {},
   "outputs": [
    {
     "data": {
      "text/html": [
       "<div>\n",
       "<style scoped>\n",
       "    .dataframe tbody tr th:only-of-type {\n",
       "        vertical-align: middle;\n",
       "    }\n",
       "\n",
       "    .dataframe tbody tr th {\n",
       "        vertical-align: top;\n",
       "    }\n",
       "\n",
       "    .dataframe thead th {\n",
       "        text-align: right;\n",
       "    }\n",
       "</style>\n",
       "<table border=\"1\" class=\"dataframe\">\n",
       "  <thead>\n",
       "    <tr style=\"text-align: right;\">\n",
       "      <th></th>\n",
       "      <th>Age</th>\n",
       "      <th>class-worker</th>\n",
       "      <th>education</th>\n",
       "      <th>marital-status</th>\n",
       "      <th>occupation</th>\n",
       "      <th>relationship</th>\n",
       "      <th>race</th>\n",
       "      <th>sex</th>\n",
       "      <th>extra-income</th>\n",
       "      <th>hours-per-week</th>\n",
       "      <th>place-of-birth</th>\n",
       "      <th>income</th>\n",
       "    </tr>\n",
       "  </thead>\n",
       "  <tbody>\n",
       "    <tr>\n",
       "      <th>262768</th>\n",
       "      <td>40</td>\n",
       "      <td>Private-prof</td>\n",
       "      <td>associate</td>\n",
       "      <td>Never-married</td>\n",
       "      <td>TRN-Driver/Sales Workers And Truck Drivers</td>\n",
       "      <td>ref</td>\n",
       "      <td>black-aa-alone</td>\n",
       "      <td>male</td>\n",
       "      <td>0.0</td>\n",
       "      <td>40.0</td>\n",
       "      <td>Georgia/GA</td>\n",
       "      <td>5</td>\n",
       "    </tr>\n",
       "    <tr>\n",
       "      <th>187098</th>\n",
       "      <td>31</td>\n",
       "      <td>Private-prof</td>\n",
       "      <td>bachelor</td>\n",
       "      <td>Married</td>\n",
       "      <td>LGL-Paralegals And Legal Assistants</td>\n",
       "      <td>ref</td>\n",
       "      <td>american-indian-alone</td>\n",
       "      <td>female</td>\n",
       "      <td>0.0</td>\n",
       "      <td>40.0</td>\n",
       "      <td>California/CA</td>\n",
       "      <td>6</td>\n",
       "    </tr>\n",
       "    <tr>\n",
       "      <th>220547</th>\n",
       "      <td>33</td>\n",
       "      <td>Private-prof</td>\n",
       "      <td>grade11</td>\n",
       "      <td>Married</td>\n",
       "      <td>PRD-Machinists</td>\n",
       "      <td>ref</td>\n",
       "      <td>white-alone</td>\n",
       "      <td>male</td>\n",
       "      <td>0.0</td>\n",
       "      <td>45.0</td>\n",
       "      <td>Illinois/IL</td>\n",
       "      <td>7</td>\n",
       "    </tr>\n",
       "    <tr>\n",
       "      <th>415343</th>\n",
       "      <td>30</td>\n",
       "      <td>Local-gov</td>\n",
       "      <td>bachelor</td>\n",
       "      <td>Married</td>\n",
       "      <td>EDU-Elementary And Middle School Teachers</td>\n",
       "      <td>spouse</td>\n",
       "      <td>white-alone</td>\n",
       "      <td>female</td>\n",
       "      <td>0.0</td>\n",
       "      <td>40.0</td>\n",
       "      <td>Florida/FL</td>\n",
       "      <td>4</td>\n",
       "    </tr>\n",
       "    <tr>\n",
       "      <th>616162</th>\n",
       "      <td>21</td>\n",
       "      <td>Private-prof</td>\n",
       "      <td>HSgrad</td>\n",
       "      <td>Never-married</td>\n",
       "      <td>SAL-Cashiers</td>\n",
       "      <td>sibling</td>\n",
       "      <td>other-race-alone</td>\n",
       "      <td>male</td>\n",
       "      <td>0.0</td>\n",
       "      <td>27.0</td>\n",
       "      <td>California/CA</td>\n",
       "      <td>0</td>\n",
       "    </tr>\n",
       "  </tbody>\n",
       "</table>\n",
       "</div>"
      ],
      "text/plain": [
       "        Age  class-worker  education marital-status  \\\n",
       "262768   40  Private-prof  associate  Never-married   \n",
       "187098   31  Private-prof   bachelor        Married   \n",
       "220547   33  Private-prof    grade11        Married   \n",
       "415343   30     Local-gov   bachelor        Married   \n",
       "616162   21  Private-prof     HSgrad  Never-married   \n",
       "\n",
       "                                        occupation relationship  \\\n",
       "262768  TRN-Driver/Sales Workers And Truck Drivers          ref   \n",
       "187098         LGL-Paralegals And Legal Assistants          ref   \n",
       "220547                              PRD-Machinists          ref   \n",
       "415343   EDU-Elementary And Middle School Teachers       spouse   \n",
       "616162                                SAL-Cashiers      sibling   \n",
       "\n",
       "                         race     sex  extra-income  hours-per-week  \\\n",
       "262768         black-aa-alone    male           0.0            40.0   \n",
       "187098  american-indian-alone  female           0.0            40.0   \n",
       "220547            white-alone    male           0.0            45.0   \n",
       "415343            white-alone  female           0.0            40.0   \n",
       "616162       other-race-alone    male           0.0            27.0   \n",
       "\n",
       "       place-of-birth  income  \n",
       "262768     Georgia/GA       5  \n",
       "187098  California/CA       6  \n",
       "220547    Illinois/IL       7  \n",
       "415343     Florida/FL       4  \n",
       "616162  California/CA       0  "
      ]
     },
     "execution_count": 6,
     "metadata": {},
     "output_type": "execute_result"
    }
   ],
   "source": [
    "df = pd.read_csv('2018_mapped_processed_decile.csv').sample(frac=0.25)\n",
    "df.head()"
   ]
  },
  {
   "cell_type": "code",
   "execution_count": 7,
   "metadata": {},
   "outputs": [
    {
     "data": {
      "text/plain": [
       "Age               0\n",
       "class-worker      0\n",
       "education         0\n",
       "marital-status    0\n",
       "occupation        0\n",
       "relationship      0\n",
       "race              0\n",
       "sex               0\n",
       "extra-income      0\n",
       "hours-per-week    0\n",
       "place-of-birth    0\n",
       "income            0\n",
       "dtype: int64"
      ]
     },
     "execution_count": 7,
     "metadata": {},
     "output_type": "execute_result"
    }
   ],
   "source": [
    "df.isnull().sum()"
   ]
  },
  {
   "cell_type": "code",
   "execution_count": 8,
   "metadata": {},
   "outputs": [
    {
     "data": {
      "text/plain": [
       "<seaborn.axisgrid.FacetGrid at 0x7fee8eb1e690>"
      ]
     },
     "execution_count": 8,
     "metadata": {},
     "output_type": "execute_result"
    },
    {
     "data": {
      "image/png": "[encoded data removed]",
      "text/plain": [
       "<Figure size 360x360 with 1 Axes>"
      ]
     },
     "metadata": {
      "needs_background": "light"
     },
     "output_type": "display_data"
    }
   ],
   "source": [
    "chart = sns.catplot(x=\"income\", kind=\"count\", data=df)\n",
    "chart.set_xticklabels(rotation=90)\n",
    "\n"
   ]
  },
  {
   "cell_type": "code",
   "execution_count": 9,
   "metadata": {},
   "outputs": [
    {
     "data": {
      "text/plain": [
       "42357.600000000006"
      ]
     },
     "execution_count": 9,
     "metadata": {},
     "output_type": "execute_result"
    }
   ],
   "source": [
    "len(df)*.2"
   ]
  },
  {
   "cell_type": "code",
   "execution_count": 10,
   "metadata": {},
   "outputs": [],
   "source": [
    "#subset the data into test and training data and labels\n",
    "df_test_data = df.drop(columns=['income'])[:50000]\n",
    "df_test_labels = df[['income']][:50000]\n",
    "df_train_data = df.drop(columns=['income'])[50000:]\n",
    "df_train_labels = df[['income']][50000:]"
   ]
  },
  {
   "cell_type": "code",
   "execution_count": 11,
   "metadata": {},
   "outputs": [
    {
     "data": {
      "text/plain": [
       "50000"
      ]
     },
     "execution_count": 11,
     "metadata": {},
     "output_type": "execute_result"
    }
   ],
   "source": [
    "len(df_test_data)"
   ]
  },
  {
   "cell_type": "code",
   "execution_count": 12,
   "metadata": {},
   "outputs": [
    {
     "data": {
      "text/html": [
       "<div>\n",
       "<style scoped>\n",
       "    .dataframe tbody tr th:only-of-type {\n",
       "        vertical-align: middle;\n",
       "    }\n",
       "\n",
       "    .dataframe tbody tr th {\n",
       "        vertical-align: top;\n",
       "    }\n",
       "\n",
       "    .dataframe thead th {\n",
       "        text-align: right;\n",
       "    }\n",
       "</style>\n",
       "<table border=\"1\" class=\"dataframe\">\n",
       "  <thead>\n",
       "    <tr style=\"text-align: right;\">\n",
       "      <th></th>\n",
       "      <th>Age</th>\n",
       "      <th>class-worker</th>\n",
       "      <th>education</th>\n",
       "      <th>marital-status</th>\n",
       "      <th>occupation</th>\n",
       "      <th>relationship</th>\n",
       "      <th>race</th>\n",
       "      <th>sex</th>\n",
       "      <th>extra-income</th>\n",
       "      <th>hours-per-week</th>\n",
       "      <th>place-of-birth</th>\n",
       "    </tr>\n",
       "  </thead>\n",
       "  <tbody>\n",
       "    <tr>\n",
       "      <th>262768</th>\n",
       "      <td>40</td>\n",
       "      <td>Private-prof</td>\n",
       "      <td>associate</td>\n",
       "      <td>Never-married</td>\n",
       "      <td>TRN-Driver/Sales Workers And Truck Drivers</td>\n",
       "      <td>ref</td>\n",
       "      <td>black-aa-alone</td>\n",
       "      <td>male</td>\n",
       "      <td>0.0</td>\n",
       "      <td>40.0</td>\n",
       "      <td>Georgia/GA</td>\n",
       "    </tr>\n",
       "    <tr>\n",
       "      <th>187098</th>\n",
       "      <td>31</td>\n",
       "      <td>Private-prof</td>\n",
       "      <td>bachelor</td>\n",
       "      <td>Married</td>\n",
       "      <td>LGL-Paralegals And Legal Assistants</td>\n",
       "      <td>ref</td>\n",
       "      <td>american-indian-alone</td>\n",
       "      <td>female</td>\n",
       "      <td>0.0</td>\n",
       "      <td>40.0</td>\n",
       "      <td>California/CA</td>\n",
       "    </tr>\n",
       "    <tr>\n",
       "      <th>220547</th>\n",
       "      <td>33</td>\n",
       "      <td>Private-prof</td>\n",
       "      <td>grade11</td>\n",
       "      <td>Married</td>\n",
       "      <td>PRD-Machinists</td>\n",
       "      <td>ref</td>\n",
       "      <td>white-alone</td>\n",
       "      <td>male</td>\n",
       "      <td>0.0</td>\n",
       "      <td>45.0</td>\n",
       "      <td>Illinois/IL</td>\n",
       "    </tr>\n",
       "    <tr>\n",
       "      <th>415343</th>\n",
       "      <td>30</td>\n",
       "      <td>Local-gov</td>\n",
       "      <td>bachelor</td>\n",
       "      <td>Married</td>\n",
       "      <td>EDU-Elementary And Middle School Teachers</td>\n",
       "      <td>spouse</td>\n",
       "      <td>white-alone</td>\n",
       "      <td>female</td>\n",
       "      <td>0.0</td>\n",
       "      <td>40.0</td>\n",
       "      <td>Florida/FL</td>\n",
       "    </tr>\n",
       "    <tr>\n",
       "      <th>616162</th>\n",
       "      <td>21</td>\n",
       "      <td>Private-prof</td>\n",
       "      <td>HSgrad</td>\n",
       "      <td>Never-married</td>\n",
       "      <td>SAL-Cashiers</td>\n",
       "      <td>sibling</td>\n",
       "      <td>other-race-alone</td>\n",
       "      <td>male</td>\n",
       "      <td>0.0</td>\n",
       "      <td>27.0</td>\n",
       "      <td>California/CA</td>\n",
       "    </tr>\n",
       "  </tbody>\n",
       "</table>\n",
       "</div>"
      ],
      "text/plain": [
       "        Age  class-worker  education marital-status  \\\n",
       "262768   40  Private-prof  associate  Never-married   \n",
       "187098   31  Private-prof   bachelor        Married   \n",
       "220547   33  Private-prof    grade11        Married   \n",
       "415343   30     Local-gov   bachelor        Married   \n",
       "616162   21  Private-prof     HSgrad  Never-married   \n",
       "\n",
       "                                        occupation relationship  \\\n",
       "262768  TRN-Driver/Sales Workers And Truck Drivers          ref   \n",
       "187098         LGL-Paralegals And Legal Assistants          ref   \n",
       "220547                              PRD-Machinists          ref   \n",
       "415343   EDU-Elementary And Middle School Teachers       spouse   \n",
       "616162                                SAL-Cashiers      sibling   \n",
       "\n",
       "                         race     sex  extra-income  hours-per-week  \\\n",
       "262768         black-aa-alone    male           0.0            40.0   \n",
       "187098  american-indian-alone  female           0.0            40.0   \n",
       "220547            white-alone    male           0.0            45.0   \n",
       "415343            white-alone  female           0.0            40.0   \n",
       "616162       other-race-alone    male           0.0            27.0   \n",
       "\n",
       "       place-of-birth  \n",
       "262768     Georgia/GA  \n",
       "187098  California/CA  \n",
       "220547    Illinois/IL  \n",
       "415343     Florida/FL  \n",
       "616162  California/CA  "
      ]
     },
     "execution_count": 12,
     "metadata": {},
     "output_type": "execute_result"
    }
   ],
   "source": [
    "df_test_data.head()"
   ]
  },
  {
   "cell_type": "markdown",
   "metadata": {},
   "source": [
    "### Pre-process categorical variables"
   ]
  },
  {
   "cell_type": "code",
   "execution_count": 13,
   "metadata": {},
   "outputs": [],
   "source": [
    "cat_var = ['class-worker', 'education', 'marital-status', 'occupation', 'relationship', 'race', 'sex', 'place-of-birth']\n",
    "for f in cat_var:\n",
    "    enc = preprocessing.LabelEncoder()\n",
    "    df_train_data[f] = enc.fit_transform(df_train_data[f])\n",
    "    df_test_data[f] = enc.transform(df_test_data[f])"
   ]
  },
  {
   "cell_type": "code",
   "execution_count": 73,
   "metadata": {},
   "outputs": [],
   "source": [
    "scaler = preprocessing.StandardScaler()\n",
    "df_train_data = pd.DataFrame(scaler.fit_transform(df_train_data), columns = df_train_data.columns)\n",
    "df_test_data = pd.DataFrame(scaler.transform(df_test_data), columns = df_train_data.columns)"
   ]
  },
  {
   "cell_type": "markdown",
   "metadata": {},
   "source": [
    "## Train Models"
   ]
  },
  {
   "cell_type": "markdown",
   "metadata": {},
   "source": [
    "### K-Nearest Neighbors"
   ]
  },
  {
   "cell_type": "code",
   "execution_count": 74,
   "metadata": {},
   "outputs": [],
   "source": [
    "results = []\n",
    "for k in [1, 2, 3, 4, 5, 6, 7, 8, 9]:\n",
    "    knn_model = KNeighborsClassifier(n_neighbors=k)\n",
    "    knn_model.fit(df_train_data, df_train_labels)\n",
    "    acc = knn_model.score(df_test_data, df_test_labels)\n",
    "    knn_predicted = knn_model.predict(df_test_data)\n",
    "    df_predicted = pd.DataFrame(data = knn_predicted) \n",
    "    diff = []\n",
    "    for i in range(len(df_predicted)):\n",
    "        p = df_predicted[0].iloc[i]\n",
    "        t = df_test_labels['income'].iloc[i]\n",
    "        diff.append(abs(p-t))\n",
    "\n",
    "    df_diff = pd.DataFrame(data = diff) \n",
    "    error = df_diff.mean()\n",
    "    results.append([k, acc, error])"
   ]
  },
  {
   "cell_type": "code",
   "execution_count": 75,
   "metadata": {},
   "outputs": [
    {
     "data": {
      "text/plain": [
       "[[1,\n",
       "  0.22218,\n",
       "  0    1.96052\n",
       "  dtype: float64],\n",
       " [2,\n",
       "  0.21842,\n",
       "  0    1.98028\n",
       "  dtype: float64],\n",
       " [3,\n",
       "  0.22184,\n",
       "  0    2.068\n",
       "  dtype: float64],\n",
       " [4,\n",
       "  0.22664,\n",
       "  0    2.04918\n",
       "  dtype: float64],\n",
       " [5,\n",
       "  0.23438,\n",
       "  0    1.95798\n",
       "  dtype: float64],\n",
       " [6,\n",
       "  0.24002,\n",
       "  0    1.88258\n",
       "  dtype: float64],\n",
       " [7,\n",
       "  0.24234,\n",
       "  0    1.85278\n",
       "  dtype: float64],\n",
       " [8,\n",
       "  0.24372,\n",
       "  0    1.83678\n",
       "  dtype: float64],\n",
       " [9,\n",
       "  0.24494,\n",
       "  0    1.83364\n",
       "  dtype: float64]]"
      ]
     },
     "execution_count": 75,
     "metadata": {},
     "output_type": "execute_result"
    }
   ],
   "source": [
    "results"
   ]
  },
  {
   "cell_type": "markdown",
   "metadata": {},
   "source": [
    "### Bernoulli NB"
   ]
  },
  {
   "cell_type": "code",
   "execution_count": 76,
   "metadata": {},
   "outputs": [],
   "source": [
    "results = []\n",
    "for a in [0.0, 0.0001, 0.001, 0.01, 0.1, 0.5, 1.0, 2.0, 10.0, 100.0]:\n",
    "    bnb_model = BernoulliNB(alpha=a)\n",
    "    bnb_model.fit(df_train_data, df_train_labels)\n",
    "    acc = bnb_model.score(df_test_data, df_test_labels)\n",
    "    bnb_predicted = bnb_model.predict(df_test_data)\n",
    "    df_predicted = pd.DataFrame(data = bnb_predicted) \n",
    "    diff = []\n",
    "    for i in range(len(df_predicted)):\n",
    "        p = df_predicted[0].iloc[i]\n",
    "        t = df_test_labels['income'].iloc[i]\n",
    "        diff.append(abs(p-t))\n",
    "\n",
    "    df_diff = pd.DataFrame(data = diff) \n",
    "    error = df_diff.mean()\n",
    "    results.append([a, acc, error])"
   ]
  },
  {
   "cell_type": "code",
   "execution_count": 77,
   "metadata": {},
   "outputs": [
    {
     "data": {
      "text/plain": [
       "[[0.0,\n",
       "  0.21778,\n",
       "  0    2.19182\n",
       "  dtype: float64],\n",
       " [0.0001,\n",
       "  0.21778,\n",
       "  0    2.19182\n",
       "  dtype: float64],\n",
       " [0.001,\n",
       "  0.21778,\n",
       "  0    2.19182\n",
       "  dtype: float64],\n",
       " [0.01,\n",
       "  0.21778,\n",
       "  0    2.19182\n",
       "  dtype: float64],\n",
       " [0.1,\n",
       "  0.21778,\n",
       "  0    2.19182\n",
       "  dtype: float64],\n",
       " [0.5,\n",
       "  0.21778,\n",
       "  0    2.19182\n",
       "  dtype: float64],\n",
       " [1.0,\n",
       "  0.21776,\n",
       "  0    2.19186\n",
       "  dtype: float64],\n",
       " [2.0,\n",
       "  0.21776,\n",
       "  0    2.19186\n",
       "  dtype: float64],\n",
       " [10.0,\n",
       "  0.21778,\n",
       "  0    2.19182\n",
       "  dtype: float64],\n",
       " [100.0,\n",
       "  0.21782,\n",
       "  0    2.19014\n",
       "  dtype: float64]]"
      ]
     },
     "execution_count": 77,
     "metadata": {},
     "output_type": "execute_result"
    }
   ],
   "source": [
    "results"
   ]
  },
  {
   "cell_type": "markdown",
   "metadata": {},
   "source": [
    "### Linear Regression"
   ]
  },
  {
   "cell_type": "code",
   "execution_count": 78,
   "metadata": {},
   "outputs": [],
   "source": [
    "df_train_label_dummy = pd.get_dummies(df_train_labels['income'], prefix='income')\n",
    "df_test_label_dummy = pd.get_dummies(df_test_labels['income'], prefix='income')"
   ]
  },
  {
   "cell_type": "code",
   "execution_count": 67,
   "metadata": {},
   "outputs": [
    {
     "data": {
      "text/plain": [
       "LinearRegression(copy_X=True, fit_intercept=True, n_jobs=None, normalize=False)"
      ]
     },
     "execution_count": 67,
     "metadata": {},
     "output_type": "execute_result"
    }
   ],
   "source": [
    "linear_model = LinearRegression()\n",
    "linear_model.fit(df_train_data, df_train_label_dummy)"
   ]
  },
  {
   "cell_type": "code",
   "execution_count": 68,
   "metadata": {},
   "outputs": [
    {
     "data": {
      "text/plain": [
       "0.05411620102385897"
      ]
     },
     "execution_count": 68,
     "metadata": {},
     "output_type": "execute_result"
    }
   ],
   "source": [
    "lm_predicted = linear_model.predict(df_test_data)\n",
    "r2 = linear_model.score(df_test_data, df_test_label_dummy)\n",
    "r2"
   ]
  },
  {
   "cell_type": "code",
   "execution_count": 69,
   "metadata": {},
   "outputs": [],
   "source": [
    "def get_linear_model_accuracy(predicted, actual):\n",
    "    df_predicted = pd.DataFrame(columns = actual.columns)\n",
    "    results = []\n",
    "    for i in range(len(predicted)):\n",
    "        it = predicted[i]\n",
    "        add = [0, 0]\n",
    "        add[it.argmax()] = 1\n",
    "        df_predicted.loc[i] = add\n",
    "  \n",
    "    for r in range(len(df_predicted)):\n",
    "        results.append(np.array_equal(df_predicted.iloc[r].values, actual.iloc[r].values))\n",
    "  \n",
    "    return(results.count(True) / len(results))"
   ]
  },
  {
   "cell_type": "code",
   "execution_count": 70,
   "metadata": {},
   "outputs": [
    {
     "ename": "IndexError",
     "evalue": "list assignment index out of range",
     "output_type": "error",
     "traceback": [
      "\u001b[0;31m---------------------------------------------------------------------------\u001b[0m",
      "\u001b[0;31mIndexError\u001b[0m                                Traceback (most recent call last)",
      "\u001b[0;32m<ipython-input-70-e6bbd4f3b612>\u001b[0m in \u001b[0;36m<module>\u001b[0;34m\u001b[0m\n\u001b[0;32m----> 1\u001b[0;31m \u001b[0mget_linear_model_accuracy\u001b[0m\u001b[0;34m(\u001b[0m\u001b[0mlm_predicted\u001b[0m\u001b[0;34m,\u001b[0m \u001b[0mdf_test_label_dummy\u001b[0m\u001b[0;34m)\u001b[0m\u001b[0;34m\u001b[0m\u001b[0;34m\u001b[0m\u001b[0m\n\u001b[0m",
      "\u001b[0;32m<ipython-input-69-b670f592ae4e>\u001b[0m in \u001b[0;36mget_linear_model_accuracy\u001b[0;34m(predicted, actual)\u001b[0m\n\u001b[1;32m      5\u001b[0m         \u001b[0mit\u001b[0m \u001b[0;34m=\u001b[0m \u001b[0mpredicted\u001b[0m\u001b[0;34m[\u001b[0m\u001b[0mi\u001b[0m\u001b[0;34m]\u001b[0m\u001b[0;34m\u001b[0m\u001b[0;34m\u001b[0m\u001b[0m\n\u001b[1;32m      6\u001b[0m         \u001b[0madd\u001b[0m \u001b[0;34m=\u001b[0m \u001b[0;34m[\u001b[0m\u001b[0;36m0\u001b[0m\u001b[0;34m,\u001b[0m \u001b[0;36m0\u001b[0m\u001b[0;34m]\u001b[0m\u001b[0;34m\u001b[0m\u001b[0;34m\u001b[0m\u001b[0m\n\u001b[0;32m----> 7\u001b[0;31m         \u001b[0madd\u001b[0m\u001b[0;34m[\u001b[0m\u001b[0mit\u001b[0m\u001b[0;34m.\u001b[0m\u001b[0margmax\u001b[0m\u001b[0;34m(\u001b[0m\u001b[0;34m)\u001b[0m\u001b[0;34m]\u001b[0m \u001b[0;34m=\u001b[0m \u001b[0;36m1\u001b[0m\u001b[0;34m\u001b[0m\u001b[0;34m\u001b[0m\u001b[0m\n\u001b[0m\u001b[1;32m      8\u001b[0m         \u001b[0mdf_predicted\u001b[0m\u001b[0;34m.\u001b[0m\u001b[0mloc\u001b[0m\u001b[0;34m[\u001b[0m\u001b[0mi\u001b[0m\u001b[0;34m]\u001b[0m \u001b[0;34m=\u001b[0m \u001b[0madd\u001b[0m\u001b[0;34m\u001b[0m\u001b[0;34m\u001b[0m\u001b[0m\n\u001b[1;32m      9\u001b[0m \u001b[0;34m\u001b[0m\u001b[0m\n",
      "\u001b[0;31mIndexError\u001b[0m: list assignment index out of range"
     ]
    }
   ],
   "source": [
    "get_linear_model_accuracy(lm_predicted, df_test_label_dummy)"
   ]
  },
  {
   "cell_type": "markdown",
   "metadata": {},
   "source": [
    "### Logistic Regression"
   ]
  },
  {
   "cell_type": "code",
   "execution_count": 79,
   "metadata": {},
   "outputs": [],
   "source": [
    "results = []\n",
    "for c in [0.0001, 0.001, 0.01, 0.1, 0.5, 1.0, 2.0, 10.0, 100.0]:\n",
    "    log_model = LogisticRegression(C=c)\n",
    "    log_model.fit(df_train_data, df_train_labels)\n",
    "    acc = log_model.score(df_test_data, df_test_labels)\n",
    "    log_predicted = log_model.predict(df_test_data)\n",
    "    df_predicted = pd.DataFrame(data = log_predicted) \n",
    "    diff = []\n",
    "    for i in range(len(df_predicted)):\n",
    "        p = df_predicted[0].iloc[i]\n",
    "        t = df_test_labels['income'].iloc[i]\n",
    "        diff.append(abs(p-t))\n",
    "\n",
    "    df_diff = pd.DataFrame(data = diff) \n",
    "    error = df_diff.mean()\n",
    "    results.append([a, acc, error])"
   ]
  },
  {
   "cell_type": "code",
   "execution_count": 80,
   "metadata": {},
   "outputs": [
    {
     "data": {
      "text/plain": [
       "[[100.0,\n",
       "  0.22592,\n",
       "  0    2.20732\n",
       "  dtype: float64],\n",
       " [100.0,\n",
       "  0.234,\n",
       "  0    2.04218\n",
       "  dtype: float64],\n",
       " [100.0,\n",
       "  0.23536,\n",
       "  0    1.99644\n",
       "  dtype: float64],\n",
       " [100.0,\n",
       "  0.23612,\n",
       "  0    1.9882\n",
       "  dtype: float64],\n",
       " [100.0,\n",
       "  0.23608,\n",
       "  0    1.98718\n",
       "  dtype: float64],\n",
       " [100.0,\n",
       "  0.23618,\n",
       "  0    1.98774\n",
       "  dtype: float64],\n",
       " [100.0,\n",
       "  0.2363,\n",
       "  0    1.98682\n",
       "  dtype: float64],\n",
       " [100.0,\n",
       "  0.23642,\n",
       "  0    1.987\n",
       "  dtype: float64],\n",
       " [100.0,\n",
       "  0.23632,\n",
       "  0    1.98678\n",
       "  dtype: float64]]"
      ]
     },
     "execution_count": 80,
     "metadata": {},
     "output_type": "execute_result"
    }
   ],
   "source": [
    "results"
   ]
  },
  {
   "cell_type": "code",
   "execution_count": null,
   "metadata": {},
   "outputs": [],
   "source": []
  }
 ],
 "metadata": {
  "kernelspec": {
   "display_name": "Python 3",
   "language": "python",
   "name": "python3"
  },
  "language_info": {
   "codemirror_mode": {
    "name": "ipython",
    "version": 3
   },
   "file_extension": ".py",
   "mimetype": "text/x-python",
   "name": "python",
   "nbconvert_exporter": "python",
   "pygments_lexer": "ipython3",
   "version": "3.7.6"
  }
 },
 "nbformat": 4,
 "nbformat_minor": 4
}
