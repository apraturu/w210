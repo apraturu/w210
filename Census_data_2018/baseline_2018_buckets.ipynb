{
 "cells": [
  {
   "cell_type": "markdown",
   "metadata": {},
   "source": [
    "# Run Baseline Models on 2018 Data\n",
    "#### 9/26/2020\n",
    "---"
   ]
  },
  {
   "cell_type": "markdown",
   "metadata": {},
   "source": [
    "## Load and Process Dataset\n",
    "### Import Libraries"
   ]
  },
  {
   "cell_type": "code",
   "execution_count": 1,
   "metadata": {},
   "outputs": [
    {
     "data": {
      "text/html": [
       "<style>.container { width:75% !important; }</style>"
      ],
      "text/plain": [
       "<IPython.core.display.HTML object>"
      ]
     },
     "metadata": {},
     "output_type": "display_data"
    }
   ],
   "source": [
    "import pandas as pd\n",
    "import numpy as np\n",
    "from sklearn.neighbors import KNeighborsClassifier\n",
    "from sklearn import preprocessing\n",
    "from sklearn.naive_bayes import MultinomialNB, BernoulliNB\n",
    "from sklearn.linear_model import LinearRegression, LogisticRegression\n",
    "from sklearn.decomposition import PCA\n",
    "import warnings\n",
    "import matplotlib.pyplot as plt\n",
    "import seaborn as sns\n",
    "from IPython.core.display import display, HTML\n",
    "display(HTML(\"<style>.container { width:75% !important; }</style>\"))\n",
    "warnings.filterwarnings('ignore')"
   ]
  },
  {
   "cell_type": "markdown",
   "metadata": {},
   "source": [
    "### Read in data"
   ]
  },
  {
   "cell_type": "code",
   "execution_count": 2,
   "metadata": {},
   "outputs": [
    {
     "data": {
      "text/html": [
       "<div>\n",
       "<style scoped>\n",
       "    .dataframe tbody tr th:only-of-type {\n",
       "        vertical-align: middle;\n",
       "    }\n",
       "\n",
       "    .dataframe tbody tr th {\n",
       "        vertical-align: top;\n",
       "    }\n",
       "\n",
       "    .dataframe thead th {\n",
       "        text-align: right;\n",
       "    }\n",
       "</style>\n",
       "<table border=\"1\" class=\"dataframe\">\n",
       "  <thead>\n",
       "    <tr style=\"text-align: right;\">\n",
       "      <th></th>\n",
       "      <th>Age</th>\n",
       "      <th>class-worker</th>\n",
       "      <th>education</th>\n",
       "      <th>marital-status</th>\n",
       "      <th>occupation</th>\n",
       "      <th>relationship</th>\n",
       "      <th>race</th>\n",
       "      <th>sex</th>\n",
       "      <th>extra-income</th>\n",
       "      <th>hours-per-week</th>\n",
       "      <th>place-of-birth</th>\n",
       "      <th>income</th>\n",
       "    </tr>\n",
       "  </thead>\n",
       "  <tbody>\n",
       "    <tr>\n",
       "      <th>411402</th>\n",
       "      <td>69</td>\n",
       "      <td>Private-prof</td>\n",
       "      <td>bachelor</td>\n",
       "      <td>Married</td>\n",
       "      <td>SAL-Retail Salespersons</td>\n",
       "      <td>spouse</td>\n",
       "      <td>white-alone</td>\n",
       "      <td>female</td>\n",
       "      <td>0.0</td>\n",
       "      <td>38.0</td>\n",
       "      <td>Kansas/KS</td>\n",
       "      <td>\\$25,000-$49,999</td>\n",
       "    </tr>\n",
       "    <tr>\n",
       "      <th>747521</th>\n",
       "      <td>44</td>\n",
       "      <td>Private-prof</td>\n",
       "      <td>master</td>\n",
       "      <td>Married</td>\n",
       "      <td>CMM-Computer Programmers</td>\n",
       "      <td>ref</td>\n",
       "      <td>asian-alone</td>\n",
       "      <td>male</td>\n",
       "      <td>0.0</td>\n",
       "      <td>40.0</td>\n",
       "      <td>Laos</td>\n",
       "      <td>\\$125,000-$149,999</td>\n",
       "    </tr>\n",
       "    <tr>\n",
       "      <th>498761</th>\n",
       "      <td>47</td>\n",
       "      <td>Private-prof</td>\n",
       "      <td>some-college-great1</td>\n",
       "      <td>Separated</td>\n",
       "      <td>PRS-Hairdressers, Hairstylists, And Cosmetolog...</td>\n",
       "      <td>ref</td>\n",
       "      <td>white-alone</td>\n",
       "      <td>female</td>\n",
       "      <td>0.0</td>\n",
       "      <td>20.0</td>\n",
       "      <td>Cuba</td>\n",
       "      <td>\\$1,000-$24,999</td>\n",
       "    </tr>\n",
       "    <tr>\n",
       "      <th>682483</th>\n",
       "      <td>19</td>\n",
       "      <td>Private-prof</td>\n",
       "      <td>HSgrad</td>\n",
       "      <td>Never-married</td>\n",
       "      <td>TRN-Driver/Sales Workers And Truck Drivers</td>\n",
       "      <td>child</td>\n",
       "      <td>white-alone</td>\n",
       "      <td>male</td>\n",
       "      <td>0.0</td>\n",
       "      <td>10.0</td>\n",
       "      <td>Connecticut/CT</td>\n",
       "      <td>\\$1,000-$24,999</td>\n",
       "    </tr>\n",
       "    <tr>\n",
       "      <th>522201</th>\n",
       "      <td>48</td>\n",
       "      <td>Private-nonprof</td>\n",
       "      <td>HSgrad</td>\n",
       "      <td>Married</td>\n",
       "      <td>TRN-Driver/Sales Workers And Truck Drivers</td>\n",
       "      <td>spouse</td>\n",
       "      <td>white-alone</td>\n",
       "      <td>male</td>\n",
       "      <td>0.0</td>\n",
       "      <td>55.0</td>\n",
       "      <td>Kentucky/KY</td>\n",
       "      <td>\\$50,000-$74,999</td>\n",
       "    </tr>\n",
       "  </tbody>\n",
       "</table>\n",
       "</div>"
      ],
      "text/plain": [
       "        Age     class-worker            education marital-status  \\\n",
       "411402   69     Private-prof             bachelor        Married   \n",
       "747521   44     Private-prof               master        Married   \n",
       "498761   47     Private-prof  some-college-great1      Separated   \n",
       "682483   19     Private-prof               HSgrad  Never-married   \n",
       "522201   48  Private-nonprof               HSgrad        Married   \n",
       "\n",
       "                                               occupation relationship  \\\n",
       "411402                            SAL-Retail Salespersons       spouse   \n",
       "747521                           CMM-Computer Programmers          ref   \n",
       "498761  PRS-Hairdressers, Hairstylists, And Cosmetolog...          ref   \n",
       "682483         TRN-Driver/Sales Workers And Truck Drivers        child   \n",
       "522201         TRN-Driver/Sales Workers And Truck Drivers       spouse   \n",
       "\n",
       "               race     sex  extra-income  hours-per-week  place-of-birth  \\\n",
       "411402  white-alone  female           0.0            38.0       Kansas/KS   \n",
       "747521  asian-alone    male           0.0            40.0            Laos   \n",
       "498761  white-alone  female           0.0            20.0            Cuba   \n",
       "682483  white-alone    male           0.0            10.0  Connecticut/CT   \n",
       "522201  white-alone    male           0.0            55.0     Kentucky/KY   \n",
       "\n",
       "                    income  \n",
       "411402    \\$25,000-$49,999  \n",
       "747521  \\$125,000-$149,999  \n",
       "498761     \\$1,000-$24,999  \n",
       "682483     \\$1,000-$24,999  \n",
       "522201    \\$50,000-$74,999  "
      ]
     },
     "execution_count": 2,
     "metadata": {},
     "output_type": "execute_result"
    }
   ],
   "source": [
    "df = pd.read_csv('2018_mapped_processed_buckets.csv').sample(frac=1)\n",
    "df.head()"
   ]
  },
  {
   "cell_type": "code",
   "execution_count": 3,
   "metadata": {},
   "outputs": [
    {
     "data": {
      "text/plain": [
       "Age               0\n",
       "class-worker      0\n",
       "education         0\n",
       "marital-status    0\n",
       "occupation        0\n",
       "relationship      0\n",
       "race              0\n",
       "sex               0\n",
       "extra-income      0\n",
       "hours-per-week    0\n",
       "place-of-birth    0\n",
       "income            0\n",
       "dtype: int64"
      ]
     },
     "execution_count": 3,
     "metadata": {},
     "output_type": "execute_result"
    }
   ],
   "source": [
    "df.isnull().sum()"
   ]
  },
  {
   "cell_type": "code",
   "execution_count": 6,
   "metadata": {},
   "outputs": [
    {
     "data": {
      "text/plain": [
       "<seaborn.axisgrid.FacetGrid at 0x7f9ce54cca10>"
      ]
     },
     "execution_count": 6,
     "metadata": {},
     "output_type": "execute_result"
    },
    {
     "data": {
      "image/png": "[encoded data removed]",
      "text/plain": [
       "<Figure size 360x360 with 1 Axes>"
      ]
     },
     "metadata": {
      "needs_background": "light"
     },
     "output_type": "display_data"
    }
   ],
   "source": [
    "chart = sns.catplot(x=\"income\", kind=\"count\", data=df, order = ['< $1,000', '\\$1,000-$24,999', '\\$25,000-$49,999', '\\$50,000-$74,999', '\\$75,000-$99,999', '\\$100,000-$124,999', '\\$125,000-$149,999', '\\$150,000-$174,999', '\\$175,000-$199,999', '\\$200,000-$249,999', '$250,000+'])\n",
    "chart.set_xticklabels(rotation=90)\n",
    "\n"
   ]
  },
  {
   "cell_type": "code",
   "execution_count": 7,
   "metadata": {},
   "outputs": [
    {
     "data": {
      "text/plain": [
       "169430.2"
      ]
     },
     "execution_count": 7,
     "metadata": {},
     "output_type": "execute_result"
    }
   ],
   "source": [
    "len(df)*.2"
   ]
  },
  {
   "cell_type": "code",
   "execution_count": 8,
   "metadata": {},
   "outputs": [],
   "source": [
    "#subset the data into test and training data and labels\n",
    "df_test_data = df.drop(columns=['income'])[:200000]\n",
    "df_test_labels = df[['income']][:200000]\n",
    "df_train_data = df.drop(columns=['income'])[200000:]\n",
    "df_train_labels = df[['income']][200000:]"
   ]
  },
  {
   "cell_type": "code",
   "execution_count": 9,
   "metadata": {},
   "outputs": [
    {
     "data": {
      "text/plain": [
       "200000"
      ]
     },
     "execution_count": 9,
     "metadata": {},
     "output_type": "execute_result"
    }
   ],
   "source": [
    "len(df_test_data)"
   ]
  },
  {
   "cell_type": "code",
   "execution_count": 10,
   "metadata": {},
   "outputs": [
    {
     "data": {
      "text/html": [
       "<div>\n",
       "<style scoped>\n",
       "    .dataframe tbody tr th:only-of-type {\n",
       "        vertical-align: middle;\n",
       "    }\n",
       "\n",
       "    .dataframe tbody tr th {\n",
       "        vertical-align: top;\n",
       "    }\n",
       "\n",
       "    .dataframe thead th {\n",
       "        text-align: right;\n",
       "    }\n",
       "</style>\n",
       "<table border=\"1\" class=\"dataframe\">\n",
       "  <thead>\n",
       "    <tr style=\"text-align: right;\">\n",
       "      <th></th>\n",
       "      <th>Age</th>\n",
       "      <th>class-worker</th>\n",
       "      <th>education</th>\n",
       "      <th>marital-status</th>\n",
       "      <th>occupation</th>\n",
       "      <th>relationship</th>\n",
       "      <th>race</th>\n",
       "      <th>sex</th>\n",
       "      <th>extra-income</th>\n",
       "      <th>hours-per-week</th>\n",
       "      <th>place-of-birth</th>\n",
       "    </tr>\n",
       "  </thead>\n",
       "  <tbody>\n",
       "    <tr>\n",
       "      <th>411402</th>\n",
       "      <td>69</td>\n",
       "      <td>Private-prof</td>\n",
       "      <td>bachelor</td>\n",
       "      <td>Married</td>\n",
       "      <td>SAL-Retail Salespersons</td>\n",
       "      <td>spouse</td>\n",
       "      <td>white-alone</td>\n",
       "      <td>female</td>\n",
       "      <td>0.0</td>\n",
       "      <td>38.0</td>\n",
       "      <td>Kansas/KS</td>\n",
       "    </tr>\n",
       "    <tr>\n",
       "      <th>747521</th>\n",
       "      <td>44</td>\n",
       "      <td>Private-prof</td>\n",
       "      <td>master</td>\n",
       "      <td>Married</td>\n",
       "      <td>CMM-Computer Programmers</td>\n",
       "      <td>ref</td>\n",
       "      <td>asian-alone</td>\n",
       "      <td>male</td>\n",
       "      <td>0.0</td>\n",
       "      <td>40.0</td>\n",
       "      <td>Laos</td>\n",
       "    </tr>\n",
       "    <tr>\n",
       "      <th>498761</th>\n",
       "      <td>47</td>\n",
       "      <td>Private-prof</td>\n",
       "      <td>some-college-great1</td>\n",
       "      <td>Separated</td>\n",
       "      <td>PRS-Hairdressers, Hairstylists, And Cosmetolog...</td>\n",
       "      <td>ref</td>\n",
       "      <td>white-alone</td>\n",
       "      <td>female</td>\n",
       "      <td>0.0</td>\n",
       "      <td>20.0</td>\n",
       "      <td>Cuba</td>\n",
       "    </tr>\n",
       "    <tr>\n",
       "      <th>682483</th>\n",
       "      <td>19</td>\n",
       "      <td>Private-prof</td>\n",
       "      <td>HSgrad</td>\n",
       "      <td>Never-married</td>\n",
       "      <td>TRN-Driver/Sales Workers And Truck Drivers</td>\n",
       "      <td>child</td>\n",
       "      <td>white-alone</td>\n",
       "      <td>male</td>\n",
       "      <td>0.0</td>\n",
       "      <td>10.0</td>\n",
       "      <td>Connecticut/CT</td>\n",
       "    </tr>\n",
       "    <tr>\n",
       "      <th>522201</th>\n",
       "      <td>48</td>\n",
       "      <td>Private-nonprof</td>\n",
       "      <td>HSgrad</td>\n",
       "      <td>Married</td>\n",
       "      <td>TRN-Driver/Sales Workers And Truck Drivers</td>\n",
       "      <td>spouse</td>\n",
       "      <td>white-alone</td>\n",
       "      <td>male</td>\n",
       "      <td>0.0</td>\n",
       "      <td>55.0</td>\n",
       "      <td>Kentucky/KY</td>\n",
       "    </tr>\n",
       "  </tbody>\n",
       "</table>\n",
       "</div>"
      ],
      "text/plain": [
       "        Age     class-worker            education marital-status  \\\n",
       "411402   69     Private-prof             bachelor        Married   \n",
       "747521   44     Private-prof               master        Married   \n",
       "498761   47     Private-prof  some-college-great1      Separated   \n",
       "682483   19     Private-prof               HSgrad  Never-married   \n",
       "522201   48  Private-nonprof               HSgrad        Married   \n",
       "\n",
       "                                               occupation relationship  \\\n",
       "411402                            SAL-Retail Salespersons       spouse   \n",
       "747521                           CMM-Computer Programmers          ref   \n",
       "498761  PRS-Hairdressers, Hairstylists, And Cosmetolog...          ref   \n",
       "682483         TRN-Driver/Sales Workers And Truck Drivers        child   \n",
       "522201         TRN-Driver/Sales Workers And Truck Drivers       spouse   \n",
       "\n",
       "               race     sex  extra-income  hours-per-week  place-of-birth  \n",
       "411402  white-alone  female           0.0            38.0       Kansas/KS  \n",
       "747521  asian-alone    male           0.0            40.0            Laos  \n",
       "498761  white-alone  female           0.0            20.0            Cuba  \n",
       "682483  white-alone    male           0.0            10.0  Connecticut/CT  \n",
       "522201  white-alone    male           0.0            55.0     Kentucky/KY  "
      ]
     },
     "execution_count": 10,
     "metadata": {},
     "output_type": "execute_result"
    }
   ],
   "source": [
    "df_test_data.head()"
   ]
  },
  {
   "cell_type": "markdown",
   "metadata": {},
   "source": [
    "### Pre-process categorical variables"
   ]
  },
  {
   "cell_type": "code",
   "execution_count": 11,
   "metadata": {},
   "outputs": [],
   "source": [
    "cat_var = ['class-worker', 'education', 'marital-status', 'occupation', 'relationship', 'race', 'sex', 'place-of-birth']\n",
    "for f in cat_var:\n",
    "    enc = preprocessing.LabelEncoder()\n",
    "    df_train_data[f] = enc.fit_transform(df_train_data[f])\n",
    "    df_test_data[f] = enc.transform(df_test_data[f])"
   ]
  },
  {
   "cell_type": "code",
   "execution_count": 12,
   "metadata": {},
   "outputs": [],
   "source": [
    "scaler = preprocessing.StandardScaler()\n",
    "df_train_data = pd.DataFrame(scaler.fit_transform(df_train_data), columns = df_train_data.columns)\n",
    "df_test_data = pd.DataFrame(scaler.transform(df_test_data), columns = df_train_data.columns)"
   ]
  },
  {
   "cell_type": "markdown",
   "metadata": {},
   "source": [
    "## Train Models"
   ]
  },
  {
   "cell_type": "markdown",
   "metadata": {},
   "source": [
    "### K-Nearest Neighbors"
   ]
  },
  {
   "cell_type": "code",
   "execution_count": 13,
   "metadata": {},
   "outputs": [],
   "source": [
    "results = []\n",
    "for k in [1, 2, 3, 4, 5, 6, 7, 8, 9]:\n",
    "    knn_model = KNeighborsClassifier(n_neighbors=k)\n",
    "    knn_model.fit(df_train_data, df_train_labels)\n",
    "    acc = knn_model.score(df_test_data, df_test_labels)\n",
    "    results.append([k, acc])"
   ]
  },
  {
   "cell_type": "code",
   "execution_count": 14,
   "metadata": {},
   "outputs": [
    {
     "data": {
      "text/plain": [
       "[[1, 0.38007],\n",
       " [2, 0.38059],\n",
       " [3, 0.387585],\n",
       " [4, 0.40621],\n",
       " [5, 0.417785],\n",
       " [6, 0.42092],\n",
       " [7, 0.424195],\n",
       " [8, 0.42925],\n",
       " [9, 0.431265]]"
      ]
     },
     "execution_count": 14,
     "metadata": {},
     "output_type": "execute_result"
    }
   ],
   "source": [
    "results"
   ]
  },
  {
   "cell_type": "markdown",
   "metadata": {},
   "source": [
    "### Bernoulli NB"
   ]
  },
  {
   "cell_type": "code",
   "execution_count": 15,
   "metadata": {},
   "outputs": [],
   "source": [
    "results = []\n",
    "for a in [0.0, 0.0001, 0.001, 0.01, 0.1, 0.5, 1.0, 2.0, 10.0, 100.0]:\n",
    "  bnb_model = BernoulliNB(alpha=a)\n",
    "  bnb_model.fit(df_train_data, df_train_labels)\n",
    "  acc = bnb_model.score(df_test_data, df_test_labels)\n",
    "  results.append([a, acc])"
   ]
  },
  {
   "cell_type": "code",
   "execution_count": 16,
   "metadata": {},
   "outputs": [
    {
     "data": {
      "text/plain": [
       "[[0.0, 0.41467],\n",
       " [0.0001, 0.41467],\n",
       " [0.001, 0.41467],\n",
       " [0.01, 0.41467],\n",
       " [0.1, 0.41467],\n",
       " [0.5, 0.414675],\n",
       " [1.0, 0.414675],\n",
       " [2.0, 0.414675],\n",
       " [10.0, 0.414675],\n",
       " [100.0, 0.414565]]"
      ]
     },
     "execution_count": 16,
     "metadata": {},
     "output_type": "execute_result"
    }
   ],
   "source": [
    "results"
   ]
  },
  {
   "cell_type": "markdown",
   "metadata": {},
   "source": [
    "### Linear Regression"
   ]
  },
  {
   "cell_type": "code",
   "execution_count": 17,
   "metadata": {},
   "outputs": [],
   "source": [
    "df_train_label_dummy = pd.get_dummies(df_train_labels['income'], prefix='income')\n",
    "df_test_label_dummy = pd.get_dummies(df_test_labels['income'], prefix='income')"
   ]
  },
  {
   "cell_type": "code",
   "execution_count": 18,
   "metadata": {},
   "outputs": [
    {
     "data": {
      "text/plain": [
       "LinearRegression(copy_X=True, fit_intercept=True, n_jobs=None, normalize=False)"
      ]
     },
     "execution_count": 18,
     "metadata": {},
     "output_type": "execute_result"
    }
   ],
   "source": [
    "linear_model = LinearRegression()\n",
    "linear_model.fit(df_train_data, df_train_label_dummy)"
   ]
  },
  {
   "cell_type": "code",
   "execution_count": 19,
   "metadata": {},
   "outputs": [
    {
     "data": {
      "text/plain": [
       "0.08784054583827278"
      ]
     },
     "execution_count": 19,
     "metadata": {},
     "output_type": "execute_result"
    }
   ],
   "source": [
    "lm_predicted = linear_model.predict(df_test_data)\n",
    "r2 = linear_model.score(df_test_data, df_test_label_dummy)\n",
    "r2"
   ]
  },
  {
   "cell_type": "code",
   "execution_count": 20,
   "metadata": {},
   "outputs": [],
   "source": [
    "def get_linear_model_accuracy(predicted, actual):\n",
    "    df_predicted = pd.DataFrame(columns = actual.columns)\n",
    "    results = []\n",
    "    for i in range(len(predicted)):\n",
    "        it = predicted[i]\n",
    "        add = [0, 0]\n",
    "        add[it.argmax()] = 1\n",
    "        df_predicted.loc[i] = add\n",
    "  \n",
    "    for r in range(len(df_predicted)):\n",
    "        results.append(np.array_equal(df_predicted.iloc[r].values, actual.iloc[r].values))\n",
    "  \n",
    "    return(results.count(True) / len(results))"
   ]
  },
  {
   "cell_type": "code",
   "execution_count": 21,
   "metadata": {},
   "outputs": [
    {
     "ename": "IndexError",
     "evalue": "list assignment index out of range",
     "output_type": "error",
     "traceback": [
      "\u001b[0;31m---------------------------------------------------------------------------\u001b[0m",
      "\u001b[0;31mIndexError\u001b[0m                                Traceback (most recent call last)",
      "\u001b[0;32m<ipython-input-21-e6bbd4f3b612>\u001b[0m in \u001b[0;36m<module>\u001b[0;34m\u001b[0m\n\u001b[0;32m----> 1\u001b[0;31m \u001b[0mget_linear_model_accuracy\u001b[0m\u001b[0;34m(\u001b[0m\u001b[0mlm_predicted\u001b[0m\u001b[0;34m,\u001b[0m \u001b[0mdf_test_label_dummy\u001b[0m\u001b[0;34m)\u001b[0m\u001b[0;34m\u001b[0m\u001b[0;34m\u001b[0m\u001b[0m\n\u001b[0m",
      "\u001b[0;32m<ipython-input-20-b670f592ae4e>\u001b[0m in \u001b[0;36mget_linear_model_accuracy\u001b[0;34m(predicted, actual)\u001b[0m\n\u001b[1;32m      5\u001b[0m         \u001b[0mit\u001b[0m \u001b[0;34m=\u001b[0m \u001b[0mpredicted\u001b[0m\u001b[0;34m[\u001b[0m\u001b[0mi\u001b[0m\u001b[0;34m]\u001b[0m\u001b[0;34m\u001b[0m\u001b[0;34m\u001b[0m\u001b[0m\n\u001b[1;32m      6\u001b[0m         \u001b[0madd\u001b[0m \u001b[0;34m=\u001b[0m \u001b[0;34m[\u001b[0m\u001b[0;36m0\u001b[0m\u001b[0;34m,\u001b[0m \u001b[0;36m0\u001b[0m\u001b[0;34m]\u001b[0m\u001b[0;34m\u001b[0m\u001b[0;34m\u001b[0m\u001b[0m\n\u001b[0;32m----> 7\u001b[0;31m         \u001b[0madd\u001b[0m\u001b[0;34m[\u001b[0m\u001b[0mit\u001b[0m\u001b[0;34m.\u001b[0m\u001b[0margmax\u001b[0m\u001b[0;34m(\u001b[0m\u001b[0;34m)\u001b[0m\u001b[0;34m]\u001b[0m \u001b[0;34m=\u001b[0m \u001b[0;36m1\u001b[0m\u001b[0;34m\u001b[0m\u001b[0;34m\u001b[0m\u001b[0m\n\u001b[0m\u001b[1;32m      8\u001b[0m         \u001b[0mdf_predicted\u001b[0m\u001b[0;34m.\u001b[0m\u001b[0mloc\u001b[0m\u001b[0;34m[\u001b[0m\u001b[0mi\u001b[0m\u001b[0;34m]\u001b[0m \u001b[0;34m=\u001b[0m \u001b[0madd\u001b[0m\u001b[0;34m\u001b[0m\u001b[0;34m\u001b[0m\u001b[0m\n\u001b[1;32m      9\u001b[0m \u001b[0;34m\u001b[0m\u001b[0m\n",
      "\u001b[0;31mIndexError\u001b[0m: list assignment index out of range"
     ]
    }
   ],
   "source": [
    "get_linear_model_accuracy(lm_predicted, df_test_label_dummy)"
   ]
  },
  {
   "cell_type": "markdown",
   "metadata": {},
   "source": [
    "### Logistic Regression"
   ]
  },
  {
   "cell_type": "code",
   "execution_count": 22,
   "metadata": {},
   "outputs": [],
   "source": [
    "results = []\n",
    "for c in [0.0001, 0.001, 0.01, 0.1, 0.5, 1.0, 2.0, 10.0, 100.0]:\n",
    "    log_model = LogisticRegression(C=c)\n",
    "    log_model.fit(df_train_data, df_train_labels)\n",
    "    acc = log_model.score(df_test_data, df_test_labels)\n",
    "    results.append([c, acc])"
   ]
  },
  {
   "cell_type": "code",
   "execution_count": 23,
   "metadata": {},
   "outputs": [
    {
     "data": {
      "text/plain": [
       "[[0.0001, 0.41538],\n",
       " [0.001, 0.420405],\n",
       " [0.01, 0.4218],\n",
       " [0.1, 0.421895],\n",
       " [0.5, 0.421845],\n",
       " [1.0, 0.421935],\n",
       " [2.0, 0.422015],\n",
       " [10.0, 0.421795],\n",
       " [100.0, 0.421855]]"
      ]
     },
     "execution_count": 23,
     "metadata": {},
     "output_type": "execute_result"
    }
   ],
   "source": [
    "results"
   ]
  },
  {
   "cell_type": "code",
   "execution_count": null,
   "metadata": {},
   "outputs": [],
   "source": []
  }
 ],
 "metadata": {
  "kernelspec": {
   "display_name": "Python 3",
   "language": "python",
   "name": "python3"
  },
  "language_info": {
   "codemirror_mode": {
    "name": "ipython",
    "version": 3
   },
   "file_extension": ".py",
   "mimetype": "text/x-python",
   "name": "python",
   "nbconvert_exporter": "python",
   "pygments_lexer": "ipython3",
   "version": "3.7.6"
  }
 },
 "nbformat": 4,
 "nbformat_minor": 4
}
