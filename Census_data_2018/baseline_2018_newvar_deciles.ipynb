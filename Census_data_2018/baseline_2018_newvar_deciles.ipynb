{
 "cells": [
  {
   "cell_type": "markdown",
   "metadata": {},
   "source": [
    "# Run Baseline Models on 2018 Data with Deciles\n",
    "#### 10/10/2020\n",
    "---"
   ]
  },
  {
   "cell_type": "markdown",
   "metadata": {},
   "source": [
    "## Load and Process Dataset\n",
    "### Import Libraries"
   ]
  },
  {
   "cell_type": "code",
   "execution_count": 1,
   "metadata": {},
   "outputs": [
    {
     "data": {
      "text/html": [
       "<style>.container { width:75% !important; }</style>"
      ],
      "text/plain": [
       "<IPython.core.display.HTML object>"
      ]
     },
     "metadata": {},
     "output_type": "display_data"
    }
   ],
   "source": [
    "import pandas as pd\n",
    "import numpy as np\n",
    "from sklearn.neighbors import KNeighborsClassifier\n",
    "from sklearn import preprocessing\n",
    "from sklearn.naive_bayes import MultinomialNB, BernoulliNB\n",
    "from sklearn.linear_model import LinearRegression, LogisticRegression\n",
    "from sklearn.decomposition import PCA\n",
    "import warnings\n",
    "import matplotlib.pyplot as plt\n",
    "import seaborn as sns\n",
    "from IPython.core.display import display, HTML\n",
    "display(HTML(\"<style>.container { width:75% !important; }</style>\"))\n",
    "warnings.filterwarnings('ignore')"
   ]
  },
  {
   "cell_type": "markdown",
   "metadata": {},
   "source": [
    "### Read in data"
   ]
  },
  {
   "cell_type": "code",
   "execution_count": 18,
   "metadata": {},
   "outputs": [
    {
     "data": {
      "text/html": [
       "<div>\n",
       "<style scoped>\n",
       "    .dataframe tbody tr th:only-of-type {\n",
       "        vertical-align: middle;\n",
       "    }\n",
       "\n",
       "    .dataframe tbody tr th {\n",
       "        vertical-align: top;\n",
       "    }\n",
       "\n",
       "    .dataframe thead th {\n",
       "        text-align: right;\n",
       "    }\n",
       "</style>\n",
       "<table border=\"1\" class=\"dataframe\">\n",
       "  <thead>\n",
       "    <tr style=\"text-align: right;\">\n",
       "      <th></th>\n",
       "      <th>Geographic-division</th>\n",
       "      <th>area-code</th>\n",
       "      <th>region</th>\n",
       "      <th>state</th>\n",
       "      <th>RT</th>\n",
       "      <th>person-weight</th>\n",
       "      <th>age</th>\n",
       "      <th>citizenship-status</th>\n",
       "      <th>class-worker</th>\n",
       "      <th>education</th>\n",
       "      <th>...</th>\n",
       "      <th>occupation</th>\n",
       "      <th>relationship</th>\n",
       "      <th>race</th>\n",
       "      <th>sex</th>\n",
       "      <th>extra-income</th>\n",
       "      <th>hours-per-week</th>\n",
       "      <th>field-of-degree</th>\n",
       "      <th>place-of-birth</th>\n",
       "      <th>stem-degree</th>\n",
       "      <th>income</th>\n",
       "    </tr>\n",
       "  </thead>\n",
       "  <tbody>\n",
       "    <tr>\n",
       "      <th>322366</th>\n",
       "      <td>South Atlantic</td>\n",
       "      <td>507</td>\n",
       "      <td>South</td>\n",
       "      <td>MD</td>\n",
       "      <td>P</td>\n",
       "      <td>126</td>\n",
       "      <td>60</td>\n",
       "      <td>Born-US</td>\n",
       "      <td>Private-prof</td>\n",
       "      <td>bachelor</td>\n",
       "      <td>...</td>\n",
       "      <td>CMM-Computer Occupations, All Other</td>\n",
       "      <td>ref</td>\n",
       "      <td>white-alone</td>\n",
       "      <td>male</td>\n",
       "      <td>0.0</td>\n",
       "      <td>40.0</td>\n",
       "      <td>Computer And Information Systems</td>\n",
       "      <td>Maryland/MD</td>\n",
       "      <td>Yes</td>\n",
       "      <td>9</td>\n",
       "    </tr>\n",
       "    <tr>\n",
       "      <th>201896</th>\n",
       "      <td>South Atlantic</td>\n",
       "      <td>1103</td>\n",
       "      <td>South</td>\n",
       "      <td>FL</td>\n",
       "      <td>P</td>\n",
       "      <td>49</td>\n",
       "      <td>51</td>\n",
       "      <td>Born-US</td>\n",
       "      <td>Self-emp-inc</td>\n",
       "      <td>bachelor</td>\n",
       "      <td>...</td>\n",
       "      <td>CON-First-Line Supervisors Of Construction Tra...</td>\n",
       "      <td>spouse</td>\n",
       "      <td>white-alone</td>\n",
       "      <td>male</td>\n",
       "      <td>0.0</td>\n",
       "      <td>50.0</td>\n",
       "      <td>General Business</td>\n",
       "      <td>New York/NY</td>\n",
       "      <td>No</td>\n",
       "      <td>1</td>\n",
       "    </tr>\n",
       "    <tr>\n",
       "      <th>781667</th>\n",
       "      <td>West South Central</td>\n",
       "      <td>2200</td>\n",
       "      <td>South</td>\n",
       "      <td>LA</td>\n",
       "      <td>P</td>\n",
       "      <td>118</td>\n",
       "      <td>64</td>\n",
       "      <td>Born-US</td>\n",
       "      <td>Private-prof</td>\n",
       "      <td>bachelor</td>\n",
       "      <td>...</td>\n",
       "      <td>SAL-Sales Representatives Of Services, Except ...</td>\n",
       "      <td>ref</td>\n",
       "      <td>white-alone</td>\n",
       "      <td>male</td>\n",
       "      <td>40.0</td>\n",
       "      <td>40.0</td>\n",
       "      <td>Computer Science</td>\n",
       "      <td>Louisiana/LA</td>\n",
       "      <td>Yes</td>\n",
       "      <td>7</td>\n",
       "    </tr>\n",
       "    <tr>\n",
       "      <th>34693</th>\n",
       "      <td>South Atlantic</td>\n",
       "      <td>1400</td>\n",
       "      <td>South</td>\n",
       "      <td>GA</td>\n",
       "      <td>P</td>\n",
       "      <td>387</td>\n",
       "      <td>55</td>\n",
       "      <td>Born-US</td>\n",
       "      <td>Fed-gov</td>\n",
       "      <td>bachelor</td>\n",
       "      <td>...</td>\n",
       "      <td>SCI-Chemical Technicians</td>\n",
       "      <td>unmarried-partner</td>\n",
       "      <td>black-aa-alone</td>\n",
       "      <td>male</td>\n",
       "      <td>0.0</td>\n",
       "      <td>60.0</td>\n",
       "      <td>Multi-Disciplinary Or General Science</td>\n",
       "      <td>Georgia/GA</td>\n",
       "      <td>Yes</td>\n",
       "      <td>8</td>\n",
       "    </tr>\n",
       "    <tr>\n",
       "      <th>674930</th>\n",
       "      <td>Pacific</td>\n",
       "      <td>7310</td>\n",
       "      <td>West</td>\n",
       "      <td>CA</td>\n",
       "      <td>P</td>\n",
       "      <td>45</td>\n",
       "      <td>41</td>\n",
       "      <td>Born-US</td>\n",
       "      <td>Private-prof</td>\n",
       "      <td>bachelor</td>\n",
       "      <td>...</td>\n",
       "      <td>SAL-Sales Representatives Of Services, Except ...</td>\n",
       "      <td>spouse</td>\n",
       "      <td>asian-alone</td>\n",
       "      <td>male</td>\n",
       "      <td>0.0</td>\n",
       "      <td>40.0</td>\n",
       "      <td>Marketing And Marketing Research</td>\n",
       "      <td>California/CA</td>\n",
       "      <td>No</td>\n",
       "      <td>7</td>\n",
       "    </tr>\n",
       "  </tbody>\n",
       "</table>\n",
       "<p>5 rows × 21 columns</p>\n",
       "</div>"
      ],
      "text/plain": [
       "       Geographic-division  area-code region state RT  person-weight  age  \\\n",
       "322366      South Atlantic        507  South    MD  P            126   60   \n",
       "201896      South Atlantic       1103  South    FL  P             49   51   \n",
       "781667  West South Central       2200  South    LA  P            118   64   \n",
       "34693       South Atlantic       1400  South    GA  P            387   55   \n",
       "674930             Pacific       7310   West    CA  P             45   41   \n",
       "\n",
       "       citizenship-status  class-worker education  ...  \\\n",
       "322366            Born-US  Private-prof  bachelor  ...   \n",
       "201896            Born-US  Self-emp-inc  bachelor  ...   \n",
       "781667            Born-US  Private-prof  bachelor  ...   \n",
       "34693             Born-US       Fed-gov  bachelor  ...   \n",
       "674930            Born-US  Private-prof  bachelor  ...   \n",
       "\n",
       "                                               occupation       relationship  \\\n",
       "322366                CMM-Computer Occupations, All Other                ref   \n",
       "201896  CON-First-Line Supervisors Of Construction Tra...             spouse   \n",
       "781667  SAL-Sales Representatives Of Services, Except ...                ref   \n",
       "34693                            SCI-Chemical Technicians  unmarried-partner   \n",
       "674930  SAL-Sales Representatives Of Services, Except ...             spouse   \n",
       "\n",
       "                  race   sex extra-income  hours-per-week  \\\n",
       "322366     white-alone  male          0.0            40.0   \n",
       "201896     white-alone  male          0.0            50.0   \n",
       "781667     white-alone  male         40.0            40.0   \n",
       "34693   black-aa-alone  male          0.0            60.0   \n",
       "674930     asian-alone  male          0.0            40.0   \n",
       "\n",
       "                              field-of-degree place-of-birth stem-degree  \\\n",
       "322366       Computer And Information Systems    Maryland/MD         Yes   \n",
       "201896                       General Business    New York/NY          No   \n",
       "781667                       Computer Science   Louisiana/LA         Yes   \n",
       "34693   Multi-Disciplinary Or General Science     Georgia/GA         Yes   \n",
       "674930       Marketing And Marketing Research  California/CA          No   \n",
       "\n",
       "       income  \n",
       "322366      9  \n",
       "201896      1  \n",
       "781667      7  \n",
       "34693       8  \n",
       "674930      7  \n",
       "\n",
       "[5 rows x 21 columns]"
      ]
     },
     "execution_count": 18,
     "metadata": {},
     "output_type": "execute_result"
    }
   ],
   "source": [
    "df = pd.read_csv('2018_newvar_decile.csv').dropna().sample(frac=0.5)\n",
    "df.head()"
   ]
  },
  {
   "cell_type": "code",
   "execution_count": 11,
   "metadata": {},
   "outputs": [
    {
     "data": {
      "text/plain": [
       "Geographic-division    0\n",
       "area-code              0\n",
       "region                 0\n",
       "state                  0\n",
       "RT                     0\n",
       "person-weight          0\n",
       "age                    0\n",
       "citizenship-status     0\n",
       "class-worker           0\n",
       "education              0\n",
       "marital-status         0\n",
       "occupation             0\n",
       "relationship           0\n",
       "race                   0\n",
       "sex                    0\n",
       "extra-income           0\n",
       "hours-per-week         0\n",
       "field-of-degree        0\n",
       "place-of-birth         0\n",
       "stem-degree            0\n",
       "income                 0\n",
       "dtype: int64"
      ]
     },
     "execution_count": 11,
     "metadata": {},
     "output_type": "execute_result"
    }
   ],
   "source": [
    "df.isnull().sum()"
   ]
  },
  {
   "cell_type": "code",
   "execution_count": 12,
   "metadata": {},
   "outputs": [
    {
     "data": {
      "text/plain": [
       "<seaborn.axisgrid.FacetGrid at 0x7fd909874c10>"
      ]
     },
     "execution_count": 12,
     "metadata": {},
     "output_type": "execute_result"
    },
    {
     "data": {
      "image/png": "[encoded data removed]",
      "text/plain": [
       "<Figure size 360x360 with 1 Axes>"
      ]
     },
     "metadata": {
      "needs_background": "light"
     },
     "output_type": "display_data"
    }
   ],
   "source": [
    "chart = sns.catplot(x=\"income\", kind=\"count\", data=df)\n",
    "chart.set_xticklabels(rotation=90)\n",
    "\n"
   ]
  },
  {
   "cell_type": "code",
   "execution_count": 19,
   "metadata": {},
   "outputs": [
    {
     "data": {
      "text/plain": [
       "30785.4"
      ]
     },
     "execution_count": 19,
     "metadata": {},
     "output_type": "execute_result"
    }
   ],
   "source": [
    "len(df)*.2"
   ]
  },
  {
   "cell_type": "code",
   "execution_count": 20,
   "metadata": {},
   "outputs": [],
   "source": [
    "#subset the data into test and training data and labels\n",
    "df_test_data = df.drop(columns=['income'])[:30000]\n",
    "df_test_labels = df[['income']][:30000]\n",
    "df_train_data = df.drop(columns=['income'])[30000:]\n",
    "df_train_labels = df[['income']][30000:]"
   ]
  },
  {
   "cell_type": "code",
   "execution_count": 21,
   "metadata": {},
   "outputs": [
    {
     "data": {
      "text/plain": [
       "30000"
      ]
     },
     "execution_count": 21,
     "metadata": {},
     "output_type": "execute_result"
    }
   ],
   "source": [
    "len(df_test_data)"
   ]
  },
  {
   "cell_type": "code",
   "execution_count": 22,
   "metadata": {},
   "outputs": [
    {
     "data": {
      "text/html": [
       "<div>\n",
       "<style scoped>\n",
       "    .dataframe tbody tr th:only-of-type {\n",
       "        vertical-align: middle;\n",
       "    }\n",
       "\n",
       "    .dataframe tbody tr th {\n",
       "        vertical-align: top;\n",
       "    }\n",
       "\n",
       "    .dataframe thead th {\n",
       "        text-align: right;\n",
       "    }\n",
       "</style>\n",
       "<table border=\"1\" class=\"dataframe\">\n",
       "  <thead>\n",
       "    <tr style=\"text-align: right;\">\n",
       "      <th></th>\n",
       "      <th>Geographic-division</th>\n",
       "      <th>area-code</th>\n",
       "      <th>region</th>\n",
       "      <th>state</th>\n",
       "      <th>RT</th>\n",
       "      <th>person-weight</th>\n",
       "      <th>age</th>\n",
       "      <th>citizenship-status</th>\n",
       "      <th>class-worker</th>\n",
       "      <th>education</th>\n",
       "      <th>marital-status</th>\n",
       "      <th>occupation</th>\n",
       "      <th>relationship</th>\n",
       "      <th>race</th>\n",
       "      <th>sex</th>\n",
       "      <th>extra-income</th>\n",
       "      <th>hours-per-week</th>\n",
       "      <th>field-of-degree</th>\n",
       "      <th>place-of-birth</th>\n",
       "      <th>stem-degree</th>\n",
       "    </tr>\n",
       "  </thead>\n",
       "  <tbody>\n",
       "    <tr>\n",
       "      <th>322366</th>\n",
       "      <td>South Atlantic</td>\n",
       "      <td>507</td>\n",
       "      <td>South</td>\n",
       "      <td>MD</td>\n",
       "      <td>P</td>\n",
       "      <td>126</td>\n",
       "      <td>60</td>\n",
       "      <td>Born-US</td>\n",
       "      <td>Private-prof</td>\n",
       "      <td>bachelor</td>\n",
       "      <td>Divorced</td>\n",
       "      <td>CMM-Computer Occupations, All Other</td>\n",
       "      <td>ref</td>\n",
       "      <td>white-alone</td>\n",
       "      <td>male</td>\n",
       "      <td>0.0</td>\n",
       "      <td>40.0</td>\n",
       "      <td>Computer And Information Systems</td>\n",
       "      <td>Maryland/MD</td>\n",
       "      <td>Yes</td>\n",
       "    </tr>\n",
       "    <tr>\n",
       "      <th>201896</th>\n",
       "      <td>South Atlantic</td>\n",
       "      <td>1103</td>\n",
       "      <td>South</td>\n",
       "      <td>FL</td>\n",
       "      <td>P</td>\n",
       "      <td>49</td>\n",
       "      <td>51</td>\n",
       "      <td>Born-US</td>\n",
       "      <td>Self-emp-inc</td>\n",
       "      <td>bachelor</td>\n",
       "      <td>Married</td>\n",
       "      <td>CON-First-Line Supervisors Of Construction Tra...</td>\n",
       "      <td>spouse</td>\n",
       "      <td>white-alone</td>\n",
       "      <td>male</td>\n",
       "      <td>0.0</td>\n",
       "      <td>50.0</td>\n",
       "      <td>General Business</td>\n",
       "      <td>New York/NY</td>\n",
       "      <td>No</td>\n",
       "    </tr>\n",
       "    <tr>\n",
       "      <th>781667</th>\n",
       "      <td>West South Central</td>\n",
       "      <td>2200</td>\n",
       "      <td>South</td>\n",
       "      <td>LA</td>\n",
       "      <td>P</td>\n",
       "      <td>118</td>\n",
       "      <td>64</td>\n",
       "      <td>Born-US</td>\n",
       "      <td>Private-prof</td>\n",
       "      <td>bachelor</td>\n",
       "      <td>Married</td>\n",
       "      <td>SAL-Sales Representatives Of Services, Except ...</td>\n",
       "      <td>ref</td>\n",
       "      <td>white-alone</td>\n",
       "      <td>male</td>\n",
       "      <td>40.0</td>\n",
       "      <td>40.0</td>\n",
       "      <td>Computer Science</td>\n",
       "      <td>Louisiana/LA</td>\n",
       "      <td>Yes</td>\n",
       "    </tr>\n",
       "    <tr>\n",
       "      <th>34693</th>\n",
       "      <td>South Atlantic</td>\n",
       "      <td>1400</td>\n",
       "      <td>South</td>\n",
       "      <td>GA</td>\n",
       "      <td>P</td>\n",
       "      <td>387</td>\n",
       "      <td>55</td>\n",
       "      <td>Born-US</td>\n",
       "      <td>Fed-gov</td>\n",
       "      <td>bachelor</td>\n",
       "      <td>Divorced</td>\n",
       "      <td>SCI-Chemical Technicians</td>\n",
       "      <td>unmarried-partner</td>\n",
       "      <td>black-aa-alone</td>\n",
       "      <td>male</td>\n",
       "      <td>0.0</td>\n",
       "      <td>60.0</td>\n",
       "      <td>Multi-Disciplinary Or General Science</td>\n",
       "      <td>Georgia/GA</td>\n",
       "      <td>Yes</td>\n",
       "    </tr>\n",
       "    <tr>\n",
       "      <th>674930</th>\n",
       "      <td>Pacific</td>\n",
       "      <td>7310</td>\n",
       "      <td>West</td>\n",
       "      <td>CA</td>\n",
       "      <td>P</td>\n",
       "      <td>45</td>\n",
       "      <td>41</td>\n",
       "      <td>Born-US</td>\n",
       "      <td>Private-prof</td>\n",
       "      <td>bachelor</td>\n",
       "      <td>Married</td>\n",
       "      <td>SAL-Sales Representatives Of Services, Except ...</td>\n",
       "      <td>spouse</td>\n",
       "      <td>asian-alone</td>\n",
       "      <td>male</td>\n",
       "      <td>0.0</td>\n",
       "      <td>40.0</td>\n",
       "      <td>Marketing And Marketing Research</td>\n",
       "      <td>California/CA</td>\n",
       "      <td>No</td>\n",
       "    </tr>\n",
       "  </tbody>\n",
       "</table>\n",
       "</div>"
      ],
      "text/plain": [
       "       Geographic-division  area-code region state RT  person-weight  age  \\\n",
       "322366      South Atlantic        507  South    MD  P            126   60   \n",
       "201896      South Atlantic       1103  South    FL  P             49   51   \n",
       "781667  West South Central       2200  South    LA  P            118   64   \n",
       "34693       South Atlantic       1400  South    GA  P            387   55   \n",
       "674930             Pacific       7310   West    CA  P             45   41   \n",
       "\n",
       "       citizenship-status  class-worker education marital-status  \\\n",
       "322366            Born-US  Private-prof  bachelor       Divorced   \n",
       "201896            Born-US  Self-emp-inc  bachelor        Married   \n",
       "781667            Born-US  Private-prof  bachelor        Married   \n",
       "34693             Born-US       Fed-gov  bachelor       Divorced   \n",
       "674930            Born-US  Private-prof  bachelor        Married   \n",
       "\n",
       "                                               occupation       relationship  \\\n",
       "322366                CMM-Computer Occupations, All Other                ref   \n",
       "201896  CON-First-Line Supervisors Of Construction Tra...             spouse   \n",
       "781667  SAL-Sales Representatives Of Services, Except ...                ref   \n",
       "34693                            SCI-Chemical Technicians  unmarried-partner   \n",
       "674930  SAL-Sales Representatives Of Services, Except ...             spouse   \n",
       "\n",
       "                  race   sex  extra-income  hours-per-week  \\\n",
       "322366     white-alone  male           0.0            40.0   \n",
       "201896     white-alone  male           0.0            50.0   \n",
       "781667     white-alone  male          40.0            40.0   \n",
       "34693   black-aa-alone  male           0.0            60.0   \n",
       "674930     asian-alone  male           0.0            40.0   \n",
       "\n",
       "                              field-of-degree place-of-birth stem-degree  \n",
       "322366       Computer And Information Systems    Maryland/MD         Yes  \n",
       "201896                       General Business    New York/NY          No  \n",
       "781667                       Computer Science   Louisiana/LA         Yes  \n",
       "34693   Multi-Disciplinary Or General Science     Georgia/GA         Yes  \n",
       "674930       Marketing And Marketing Research  California/CA          No  "
      ]
     },
     "execution_count": 22,
     "metadata": {},
     "output_type": "execute_result"
    }
   ],
   "source": [
    "df_test_data.head()"
   ]
  },
  {
   "cell_type": "markdown",
   "metadata": {},
   "source": [
    "### Pre-process categorical variables"
   ]
  },
  {
   "cell_type": "code",
   "execution_count": 23,
   "metadata": {},
   "outputs": [],
   "source": [
    "cat_var = ['Geographic-division', 'area-code', 'region', 'state', 'RT', 'citizenship-status', 'class-worker', 'education', 'marital-status', 'occupation', 'relationship', 'race', 'sex', 'field-of-degree', 'place-of-birth', 'stem-degree']\n",
    "for f in cat_var:\n",
    "    enc = preprocessing.LabelEncoder()\n",
    "    df_train_data[f] = enc.fit_transform(df_train_data[f])\n",
    "    df_test_data[f] = enc.transform(df_test_data[f])"
   ]
  },
  {
   "cell_type": "code",
   "execution_count": 24,
   "metadata": {},
   "outputs": [],
   "source": [
    "scaler = preprocessing.StandardScaler()\n",
    "df_train_data = pd.DataFrame(scaler.fit_transform(df_train_data), columns = df_train_data.columns)\n",
    "df_test_data = pd.DataFrame(scaler.transform(df_test_data), columns = df_train_data.columns)"
   ]
  },
  {
   "cell_type": "markdown",
   "metadata": {},
   "source": [
    "## Train Models"
   ]
  },
  {
   "cell_type": "markdown",
   "metadata": {},
   "source": [
    "### K-Nearest Neighbors"
   ]
  },
  {
   "cell_type": "code",
   "execution_count": 25,
   "metadata": {},
   "outputs": [],
   "source": [
    "results = []\n",
    "for k in [1, 2, 3, 4, 5, 6, 7, 8, 9]:\n",
    "    knn_model = KNeighborsClassifier(n_neighbors=k)\n",
    "    knn_model.fit(df_train_data, df_train_labels)\n",
    "    acc = knn_model.score(df_test_data, df_test_labels)\n",
    "    knn_predicted = knn_model.predict(df_test_data)\n",
    "    df_predicted = pd.DataFrame(data = knn_predicted) \n",
    "    diff = []\n",
    "    for i in range(len(df_predicted)):\n",
    "        p = df_predicted[0].iloc[i]\n",
    "        t = df_test_labels['income'].iloc[i]\n",
    "        diff.append(abs(p-t))\n",
    "\n",
    "    df_diff = pd.DataFrame(data = diff) \n",
    "    error = df_diff.mean()\n",
    "    results.append([k, acc, error])"
   ]
  },
  {
   "cell_type": "code",
   "execution_count": 26,
   "metadata": {},
   "outputs": [
    {
     "data": {
      "text/plain": [
       "[[1,\n",
       "  0.23333333333333334,\n",
       "  0    2.014633\n",
       "  dtype: float64],\n",
       " [2,\n",
       "  0.1983,\n",
       "  0    2.172867\n",
       "  dtype: float64],\n",
       " [3,\n",
       "  0.21723333333333333,\n",
       "  0    2.240733\n",
       "  dtype: float64],\n",
       " [4,\n",
       "  0.2317,\n",
       "  0    2.136567\n",
       "  dtype: float64],\n",
       " [5,\n",
       "  0.2448,\n",
       "  0    1.995667\n",
       "  dtype: float64],\n",
       " [6,\n",
       "  0.2522333333333333,\n",
       "  0    1.907967\n",
       "  dtype: float64],\n",
       " [7,\n",
       "  0.2575,\n",
       "  0    1.8585\n",
       "  dtype: float64],\n",
       " [8,\n",
       "  0.26106666666666667,\n",
       "  0    1.8402\n",
       "  dtype: float64],\n",
       " [9,\n",
       "  0.2624,\n",
       "  0    1.8353\n",
       "  dtype: float64]]"
      ]
     },
     "execution_count": 26,
     "metadata": {},
     "output_type": "execute_result"
    }
   ],
   "source": [
    "results"
   ]
  },
  {
   "cell_type": "markdown",
   "metadata": {},
   "source": [
    "### Bernoulli NB"
   ]
  },
  {
   "cell_type": "code",
   "execution_count": 27,
   "metadata": {},
   "outputs": [],
   "source": [
    "results = []\n",
    "for a in [0.0, 0.0001, 0.001, 0.01, 0.1, 0.5, 1.0, 2.0, 10.0, 100.0]:\n",
    "    bnb_model = BernoulliNB(alpha=a)\n",
    "    bnb_model.fit(df_train_data, df_train_labels)\n",
    "    acc = bnb_model.score(df_test_data, df_test_labels)\n",
    "    bnb_predicted = bnb_model.predict(df_test_data)\n",
    "    df_predicted = pd.DataFrame(data = bnb_predicted) \n",
    "    diff = []\n",
    "    for i in range(len(df_predicted)):\n",
    "        p = df_predicted[0].iloc[i]\n",
    "        t = df_test_labels['income'].iloc[i]\n",
    "        diff.append(abs(p-t))\n",
    "\n",
    "    df_diff = pd.DataFrame(data = diff) \n",
    "    error = df_diff.mean()\n",
    "    results.append([a, acc, error])"
   ]
  },
  {
   "cell_type": "code",
   "execution_count": 28,
   "metadata": {},
   "outputs": [
    {
     "data": {
      "text/plain": [
       "[[0.0,\n",
       "  0.26763333333333333,\n",
       "  0    2.1243\n",
       "  dtype: float64],\n",
       " [0.0001,\n",
       "  0.26763333333333333,\n",
       "  0    2.1243\n",
       "  dtype: float64],\n",
       " [0.001,\n",
       "  0.26763333333333333,\n",
       "  0    2.1243\n",
       "  dtype: float64],\n",
       " [0.01,\n",
       "  0.26763333333333333,\n",
       "  0    2.1243\n",
       "  dtype: float64],\n",
       " [0.1,\n",
       "  0.26763333333333333,\n",
       "  0    2.1243\n",
       "  dtype: float64],\n",
       " [0.5,\n",
       "  0.2677333333333333,\n",
       "  0    2.124233\n",
       "  dtype: float64],\n",
       " [1.0,\n",
       "  0.26776666666666665,\n",
       "  0    2.124233\n",
       "  dtype: float64],\n",
       " [2.0,\n",
       "  0.2677333333333333,\n",
       "  0    2.124467\n",
       "  dtype: float64],\n",
       " [10.0,\n",
       "  0.26776666666666665,\n",
       "  0    2.124867\n",
       "  dtype: float64],\n",
       " [100.0,\n",
       "  0.26743333333333336,\n",
       "  0    2.124367\n",
       "  dtype: float64]]"
      ]
     },
     "execution_count": 28,
     "metadata": {},
     "output_type": "execute_result"
    }
   ],
   "source": [
    "results"
   ]
  },
  {
   "cell_type": "markdown",
   "metadata": {},
   "source": [
    "### Linear Regression"
   ]
  },
  {
   "cell_type": "code",
   "execution_count": 29,
   "metadata": {},
   "outputs": [],
   "source": [
    "df_train_label_dummy = pd.get_dummies(df_train_labels['income'], prefix='income')\n",
    "df_test_label_dummy = pd.get_dummies(df_test_labels['income'], prefix='income')"
   ]
  },
  {
   "cell_type": "code",
   "execution_count": 30,
   "metadata": {},
   "outputs": [
    {
     "data": {
      "text/plain": [
       "LinearRegression(copy_X=True, fit_intercept=True, n_jobs=None, normalize=False)"
      ]
     },
     "execution_count": 30,
     "metadata": {},
     "output_type": "execute_result"
    }
   ],
   "source": [
    "linear_model = LinearRegression()\n",
    "linear_model.fit(df_train_data, df_train_label_dummy)"
   ]
  },
  {
   "cell_type": "code",
   "execution_count": 31,
   "metadata": {},
   "outputs": [
    {
     "data": {
      "text/plain": [
       "0.0581217518496201"
      ]
     },
     "execution_count": 31,
     "metadata": {},
     "output_type": "execute_result"
    }
   ],
   "source": [
    "lm_predicted = linear_model.predict(df_test_data)\n",
    "r2 = linear_model.score(df_test_data, df_test_label_dummy)\n",
    "r2"
   ]
  },
  {
   "cell_type": "code",
   "execution_count": 32,
   "metadata": {},
   "outputs": [],
   "source": [
    "def get_linear_model_accuracy(predicted, actual):\n",
    "    df_predicted = pd.DataFrame(columns = actual.columns)\n",
    "    results = []\n",
    "    for i in range(len(predicted)):\n",
    "        it = predicted[i]\n",
    "        add = [0, 0]\n",
    "        add[it.argmax()] = 1\n",
    "        df_predicted.loc[i] = add\n",
    "  \n",
    "    for r in range(len(df_predicted)):\n",
    "        results.append(np.array_equal(df_predicted.iloc[r].values, actual.iloc[r].values))\n",
    "  \n",
    "    return(results.count(True) / len(results))"
   ]
  },
  {
   "cell_type": "code",
   "execution_count": 33,
   "metadata": {},
   "outputs": [
    {
     "ename": "IndexError",
     "evalue": "list assignment index out of range",
     "output_type": "error",
     "traceback": [
      "\u001b[0;31m---------------------------------------------------------------------------\u001b[0m",
      "\u001b[0;31mIndexError\u001b[0m                                Traceback (most recent call last)",
      "\u001b[0;32m<ipython-input-33-e6bbd4f3b612>\u001b[0m in \u001b[0;36m<module>\u001b[0;34m\u001b[0m\n\u001b[0;32m----> 1\u001b[0;31m \u001b[0mget_linear_model_accuracy\u001b[0m\u001b[0;34m(\u001b[0m\u001b[0mlm_predicted\u001b[0m\u001b[0;34m,\u001b[0m \u001b[0mdf_test_label_dummy\u001b[0m\u001b[0;34m)\u001b[0m\u001b[0;34m\u001b[0m\u001b[0;34m\u001b[0m\u001b[0m\n\u001b[0m",
      "\u001b[0;32m<ipython-input-32-b670f592ae4e>\u001b[0m in \u001b[0;36mget_linear_model_accuracy\u001b[0;34m(predicted, actual)\u001b[0m\n\u001b[1;32m      5\u001b[0m         \u001b[0mit\u001b[0m \u001b[0;34m=\u001b[0m \u001b[0mpredicted\u001b[0m\u001b[0;34m[\u001b[0m\u001b[0mi\u001b[0m\u001b[0;34m]\u001b[0m\u001b[0;34m\u001b[0m\u001b[0;34m\u001b[0m\u001b[0m\n\u001b[1;32m      6\u001b[0m         \u001b[0madd\u001b[0m \u001b[0;34m=\u001b[0m \u001b[0;34m[\u001b[0m\u001b[0;36m0\u001b[0m\u001b[0;34m,\u001b[0m \u001b[0;36m0\u001b[0m\u001b[0;34m]\u001b[0m\u001b[0;34m\u001b[0m\u001b[0;34m\u001b[0m\u001b[0m\n\u001b[0;32m----> 7\u001b[0;31m         \u001b[0madd\u001b[0m\u001b[0;34m[\u001b[0m\u001b[0mit\u001b[0m\u001b[0;34m.\u001b[0m\u001b[0margmax\u001b[0m\u001b[0;34m(\u001b[0m\u001b[0;34m)\u001b[0m\u001b[0;34m]\u001b[0m \u001b[0;34m=\u001b[0m \u001b[0;36m1\u001b[0m\u001b[0;34m\u001b[0m\u001b[0;34m\u001b[0m\u001b[0m\n\u001b[0m\u001b[1;32m      8\u001b[0m         \u001b[0mdf_predicted\u001b[0m\u001b[0;34m.\u001b[0m\u001b[0mloc\u001b[0m\u001b[0;34m[\u001b[0m\u001b[0mi\u001b[0m\u001b[0;34m]\u001b[0m \u001b[0;34m=\u001b[0m \u001b[0madd\u001b[0m\u001b[0;34m\u001b[0m\u001b[0;34m\u001b[0m\u001b[0m\n\u001b[1;32m      9\u001b[0m \u001b[0;34m\u001b[0m\u001b[0m\n",
      "\u001b[0;31mIndexError\u001b[0m: list assignment index out of range"
     ]
    }
   ],
   "source": [
    "get_linear_model_accuracy(lm_predicted, df_test_label_dummy)"
   ]
  },
  {
   "cell_type": "markdown",
   "metadata": {},
   "source": [
    "### Logistic Regression"
   ]
  },
  {
   "cell_type": "code",
   "execution_count": 34,
   "metadata": {},
   "outputs": [],
   "source": [
    "results = []\n",
    "for c in [0.0001, 0.001, 0.01, 0.1, 0.5, 1.0, 2.0, 10.0, 100.0]:\n",
    "    log_model = LogisticRegression(C=c)\n",
    "    log_model.fit(df_train_data, df_train_labels)\n",
    "    acc = log_model.score(df_test_data, df_test_labels)\n",
    "    log_predicted = log_model.predict(df_test_data)\n",
    "    df_predicted = pd.DataFrame(data = log_predicted) \n",
    "    diff = []\n",
    "    for i in range(len(df_predicted)):\n",
    "        p = df_predicted[0].iloc[i]\n",
    "        t = df_test_labels['income'].iloc[i]\n",
    "        diff.append(abs(p-t))\n",
    "\n",
    "    df_diff = pd.DataFrame(data = diff) \n",
    "    error = df_diff.mean()\n",
    "    results.append([a, acc, error])"
   ]
  },
  {
   "cell_type": "code",
   "execution_count": 35,
   "metadata": {},
   "outputs": [
    {
     "data": {
      "text/plain": [
       "[[100.0,\n",
       "  0.26763333333333333,\n",
       "  0    2.171267\n",
       "  dtype: float64],\n",
       " [100.0,\n",
       "  0.28696666666666665,\n",
       "  0    1.879867\n",
       "  dtype: float64],\n",
       " [100.0,\n",
       "  0.2906,\n",
       "  0    1.827867\n",
       "  dtype: float64],\n",
       " [100.0,\n",
       "  0.2907666666666667,\n",
       "  0    1.817933\n",
       "  dtype: float64],\n",
       " [100.0,\n",
       "  0.2905,\n",
       "  0    1.818733\n",
       "  dtype: float64],\n",
       " [100.0,\n",
       "  0.29046666666666665,\n",
       "  0    1.818067\n",
       "  dtype: float64],\n",
       " [100.0,\n",
       "  0.29036666666666666,\n",
       "  0    1.818\n",
       "  dtype: float64],\n",
       " [100.0,\n",
       "  0.29023333333333334,\n",
       "  0    1.8186\n",
       "  dtype: float64],\n",
       " [100.0,\n",
       "  0.29023333333333334,\n",
       "  0    1.8189\n",
       "  dtype: float64]]"
      ]
     },
     "execution_count": 35,
     "metadata": {},
     "output_type": "execute_result"
    }
   ],
   "source": [
    "results"
   ]
  },
  {
   "cell_type": "code",
   "execution_count": null,
   "metadata": {},
   "outputs": [],
   "source": []
  }
 ],
 "metadata": {
  "kernelspec": {
   "display_name": "Python 3",
   "language": "python",
   "name": "python3"
  },
  "language_info": {
   "codemirror_mode": {
    "name": "ipython",
    "version": 3
   },
   "file_extension": ".py",
   "mimetype": "text/x-python",
   "name": "python",
   "nbconvert_exporter": "python",
   "pygments_lexer": "ipython3",
   "version": "3.7.6"
  }
 },
 "nbformat": 4,
 "nbformat_minor": 4
}
