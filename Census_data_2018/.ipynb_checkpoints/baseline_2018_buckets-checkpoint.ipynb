{
 "cells": [
  {
   "cell_type": "markdown",
   "metadata": {},
   "source": [
    "# Run Baseline Models on 2018 Data\n",
    "#### 9/26/2020\n",
    "---"
   ]
  },
  {
   "cell_type": "markdown",
   "metadata": {},
   "source": [
    "## Load and Process Dataset\n",
    "### Import Libraries"
   ]
  },
  {
   "cell_type": "code",
   "execution_count": 37,
   "metadata": {},
   "outputs": [
    {
     "data": {
      "text/html": [
       "<style>.container { width:75% !important; }</style>"
      ],
      "text/plain": [
       "<IPython.core.display.HTML object>"
      ]
     },
     "metadata": {},
     "output_type": "display_data"
    }
   ],
   "source": [
    "import pandas as pd\n",
    "import numpy as np\n",
    "from sklearn.neighbors import KNeighborsClassifier\n",
    "from sklearn import preprocessing\n",
    "from sklearn.naive_bayes import MultinomialNB, BernoulliNB\n",
    "from sklearn.linear_model import LinearRegression, LogisticRegression\n",
    "from sklearn.decomposition import PCA\n",
    "import warnings\n",
    "import matplotlib.pyplot as plt\n",
    "import seaborn as sns\n",
    "from IPython.core.display import display, HTML\n",
    "display(HTML(\"<style>.container { width:75% !important; }</style>\"))\n",
    "warnings.filterwarnings('ignore')"
   ]
  },
  {
   "cell_type": "markdown",
   "metadata": {},
   "source": [
    "### Read in data"
   ]
  },
  {
   "cell_type": "code",
   "execution_count": 40,
   "metadata": {},
   "outputs": [
    {
     "data": {
      "text/html": [
       "<div>\n",
       "<style scoped>\n",
       "    .dataframe tbody tr th:only-of-type {\n",
       "        vertical-align: middle;\n",
       "    }\n",
       "\n",
       "    .dataframe tbody tr th {\n",
       "        vertical-align: top;\n",
       "    }\n",
       "\n",
       "    .dataframe thead th {\n",
       "        text-align: right;\n",
       "    }\n",
       "</style>\n",
       "<table border=\"1\" class=\"dataframe\">\n",
       "  <thead>\n",
       "    <tr style=\"text-align: right;\">\n",
       "      <th></th>\n",
       "      <th>Age</th>\n",
       "      <th>class-worker</th>\n",
       "      <th>education</th>\n",
       "      <th>marital-status</th>\n",
       "      <th>occupation</th>\n",
       "      <th>relationship</th>\n",
       "      <th>race</th>\n",
       "      <th>sex</th>\n",
       "      <th>extra-income</th>\n",
       "      <th>hours-per-week</th>\n",
       "      <th>place-of-birth</th>\n",
       "      <th>income</th>\n",
       "    </tr>\n",
       "  </thead>\n",
       "  <tbody>\n",
       "    <tr>\n",
       "      <th>539364</th>\n",
       "      <td>41</td>\n",
       "      <td>Private-prof</td>\n",
       "      <td>prof-school</td>\n",
       "      <td>Married</td>\n",
       "      <td>SAL-Real Estate Brokers And Sales Agents</td>\n",
       "      <td>spouse</td>\n",
       "      <td>white-alone</td>\n",
       "      <td>female</td>\n",
       "      <td>0.0</td>\n",
       "      <td>35.0</td>\n",
       "      <td>Louisiana/LA</td>\n",
       "      <td>&lt;=50K</td>\n",
       "    </tr>\n",
       "    <tr>\n",
       "      <th>796088</th>\n",
       "      <td>23</td>\n",
       "      <td>Private-prof</td>\n",
       "      <td>HSgrad</td>\n",
       "      <td>Never-married</td>\n",
       "      <td>CLN-Janitors And Building Cleaners</td>\n",
       "      <td>ref</td>\n",
       "      <td>white-alone</td>\n",
       "      <td>male</td>\n",
       "      <td>0.0</td>\n",
       "      <td>40.0</td>\n",
       "      <td>Michigan/MI</td>\n",
       "      <td>&lt;=50K</td>\n",
       "    </tr>\n",
       "    <tr>\n",
       "      <th>359014</th>\n",
       "      <td>37</td>\n",
       "      <td>Private-prof</td>\n",
       "      <td>some-college-less1</td>\n",
       "      <td>Never-married</td>\n",
       "      <td>PRD-Other Assemblers And Fabricators</td>\n",
       "      <td>ref</td>\n",
       "      <td>white-alone</td>\n",
       "      <td>male</td>\n",
       "      <td>0.0</td>\n",
       "      <td>50.0</td>\n",
       "      <td>Iowa/IA</td>\n",
       "      <td>&lt;=50K</td>\n",
       "    </tr>\n",
       "    <tr>\n",
       "      <th>316784</th>\n",
       "      <td>36</td>\n",
       "      <td>Private-prof</td>\n",
       "      <td>some-college-great1</td>\n",
       "      <td>Married</td>\n",
       "      <td>OFF-Receptionists And Information Clerks</td>\n",
       "      <td>spouse</td>\n",
       "      <td>white-alone</td>\n",
       "      <td>female</td>\n",
       "      <td>0.0</td>\n",
       "      <td>36.0</td>\n",
       "      <td>Pennsylvania/PA</td>\n",
       "      <td>&lt;=50K</td>\n",
       "    </tr>\n",
       "    <tr>\n",
       "      <th>505998</th>\n",
       "      <td>29</td>\n",
       "      <td>Private-prof</td>\n",
       "      <td>GED</td>\n",
       "      <td>Married</td>\n",
       "      <td>TRN-Driver/Sales Workers And Truck Drivers</td>\n",
       "      <td>ref</td>\n",
       "      <td>white-alone</td>\n",
       "      <td>male</td>\n",
       "      <td>0.0</td>\n",
       "      <td>40.0</td>\n",
       "      <td>Illinois/IL</td>\n",
       "      <td>&lt;=50K</td>\n",
       "    </tr>\n",
       "  </tbody>\n",
       "</table>\n",
       "</div>"
      ],
      "text/plain": [
       "        Age  class-worker            education marital-status  \\\n",
       "539364   41  Private-prof          prof-school        Married   \n",
       "796088   23  Private-prof               HSgrad  Never-married   \n",
       "359014   37  Private-prof   some-college-less1  Never-married   \n",
       "316784   36  Private-prof  some-college-great1        Married   \n",
       "505998   29  Private-prof                  GED        Married   \n",
       "\n",
       "                                        occupation relationship         race  \\\n",
       "539364    SAL-Real Estate Brokers And Sales Agents       spouse  white-alone   \n",
       "796088          CLN-Janitors And Building Cleaners          ref  white-alone   \n",
       "359014        PRD-Other Assemblers And Fabricators          ref  white-alone   \n",
       "316784    OFF-Receptionists And Information Clerks       spouse  white-alone   \n",
       "505998  TRN-Driver/Sales Workers And Truck Drivers          ref  white-alone   \n",
       "\n",
       "           sex  extra-income  hours-per-week   place-of-birth income  \n",
       "539364  female           0.0            35.0     Louisiana/LA  <=50K  \n",
       "796088    male           0.0            40.0      Michigan/MI  <=50K  \n",
       "359014    male           0.0            50.0          Iowa/IA  <=50K  \n",
       "316784  female           0.0            36.0  Pennsylvania/PA  <=50K  \n",
       "505998    male           0.0            40.0      Illinois/IL  <=50K  "
      ]
     },
     "execution_count": 40,
     "metadata": {},
     "output_type": "execute_result"
    }
   ],
   "source": [
    "df = pd.read_csv('2018_mapped_processed.csv').sample(frac=1)\n",
    "df.head()"
   ]
  },
  {
   "cell_type": "code",
   "execution_count": 41,
   "metadata": {},
   "outputs": [
    {
     "data": {
      "text/plain": [
       "Age               0\n",
       "class-worker      0\n",
       "education         0\n",
       "marital-status    0\n",
       "occupation        0\n",
       "relationship      0\n",
       "race              0\n",
       "sex               0\n",
       "extra-income      0\n",
       "hours-per-week    0\n",
       "place-of-birth    0\n",
       "income            0\n",
       "dtype: int64"
      ]
     },
     "execution_count": 41,
     "metadata": {},
     "output_type": "execute_result"
    }
   ],
   "source": [
    "df.isnull().sum()"
   ]
  },
  {
   "cell_type": "code",
   "execution_count": 42,
   "metadata": {},
   "outputs": [
    {
     "data": {
      "text/plain": [
       "<seaborn.axisgrid.FacetGrid at 0x7feba46d6410>"
      ]
     },
     "execution_count": 42,
     "metadata": {},
     "output_type": "execute_result"
    },
    {
     "data": {
      "image/png": "[encoded data removed]",
      "text/plain": [
       "<Figure size 360x360 with 1 Axes>"
      ]
     },
     "metadata": {
      "needs_background": "light"
     },
     "output_type": "display_data"
    }
   ],
   "source": [
    "sns.catplot(x=\"income\", kind=\"count\", data=df)"
   ]
  },
  {
   "cell_type": "code",
   "execution_count": 19,
   "metadata": {},
   "outputs": [
    {
     "data": {
      "text/plain": [
       "169430.2"
      ]
     },
     "execution_count": 19,
     "metadata": {},
     "output_type": "execute_result"
    }
   ],
   "source": [
    "len(df)*.2"
   ]
  },
  {
   "cell_type": "code",
   "execution_count": 20,
   "metadata": {},
   "outputs": [],
   "source": [
    "#subset the data into test and training data and labels\n",
    "df_test_data = df.drop(columns=['income'])[:200000]\n",
    "df_test_labels = df[['income']][:200000]\n",
    "df_train_data = df.drop(columns=['income'])[200000:]\n",
    "df_train_labels = df[['income']][200000:]"
   ]
  },
  {
   "cell_type": "code",
   "execution_count": 21,
   "metadata": {},
   "outputs": [
    {
     "data": {
      "text/plain": [
       "200000"
      ]
     },
     "execution_count": 21,
     "metadata": {},
     "output_type": "execute_result"
    }
   ],
   "source": [
    "len(df_test_data)"
   ]
  },
  {
   "cell_type": "code",
   "execution_count": 22,
   "metadata": {},
   "outputs": [
    {
     "data": {
      "text/html": [
       "<div>\n",
       "<style scoped>\n",
       "    .dataframe tbody tr th:only-of-type {\n",
       "        vertical-align: middle;\n",
       "    }\n",
       "\n",
       "    .dataframe tbody tr th {\n",
       "        vertical-align: top;\n",
       "    }\n",
       "\n",
       "    .dataframe thead th {\n",
       "        text-align: right;\n",
       "    }\n",
       "</style>\n",
       "<table border=\"1\" class=\"dataframe\">\n",
       "  <thead>\n",
       "    <tr style=\"text-align: right;\">\n",
       "      <th></th>\n",
       "      <th>Age</th>\n",
       "      <th>class-worker</th>\n",
       "      <th>education</th>\n",
       "      <th>marital-status</th>\n",
       "      <th>occupation</th>\n",
       "      <th>relationship</th>\n",
       "      <th>race</th>\n",
       "      <th>sex</th>\n",
       "      <th>extra-income</th>\n",
       "      <th>hours-per-week</th>\n",
       "      <th>place-of-birth</th>\n",
       "    </tr>\n",
       "  </thead>\n",
       "  <tbody>\n",
       "    <tr>\n",
       "      <th>551482</th>\n",
       "      <td>46</td>\n",
       "      <td>Private-prof</td>\n",
       "      <td>bachelor</td>\n",
       "      <td>Married</td>\n",
       "      <td>SAL-Sales And Related Workers, All Other</td>\n",
       "      <td>ref</td>\n",
       "      <td>white-alone</td>\n",
       "      <td>male</td>\n",
       "      <td>27000.0</td>\n",
       "      <td>40.0</td>\n",
       "      <td>California/CA</td>\n",
       "    </tr>\n",
       "    <tr>\n",
       "      <th>822324</th>\n",
       "      <td>29</td>\n",
       "      <td>Private-prof</td>\n",
       "      <td>HSgrad</td>\n",
       "      <td>Never-married</td>\n",
       "      <td>MGR-Transportation, Storage, And Distribution ...</td>\n",
       "      <td>unmarried-partner</td>\n",
       "      <td>white-alone</td>\n",
       "      <td>male</td>\n",
       "      <td>0.0</td>\n",
       "      <td>45.0</td>\n",
       "      <td>Michigan/MI</td>\n",
       "    </tr>\n",
       "    <tr>\n",
       "      <th>759901</th>\n",
       "      <td>55</td>\n",
       "      <td>Private-nonprof</td>\n",
       "      <td>associate</td>\n",
       "      <td>Married</td>\n",
       "      <td>MED-Respiratory Therapists</td>\n",
       "      <td>ref</td>\n",
       "      <td>white-alone</td>\n",
       "      <td>male</td>\n",
       "      <td>0.0</td>\n",
       "      <td>40.0</td>\n",
       "      <td>Indiana/IN</td>\n",
       "    </tr>\n",
       "    <tr>\n",
       "      <th>550813</th>\n",
       "      <td>22</td>\n",
       "      <td>Private-prof</td>\n",
       "      <td>HSgrad</td>\n",
       "      <td>Never-married</td>\n",
       "      <td>RPR-Bus And Truck Mechanics And Diesel Engine ...</td>\n",
       "      <td>ref</td>\n",
       "      <td>white-alone</td>\n",
       "      <td>male</td>\n",
       "      <td>0.0</td>\n",
       "      <td>40.0</td>\n",
       "      <td>West Virginia/WV</td>\n",
       "    </tr>\n",
       "    <tr>\n",
       "      <th>526832</th>\n",
       "      <td>24</td>\n",
       "      <td>Private-prof</td>\n",
       "      <td>bachelor</td>\n",
       "      <td>Never-married</td>\n",
       "      <td>SCI-Physical Scientists, All Other</td>\n",
       "      <td>noninstitutional-group</td>\n",
       "      <td>black-aa-alone</td>\n",
       "      <td>male</td>\n",
       "      <td>0.0</td>\n",
       "      <td>15.0</td>\n",
       "      <td>Uganda</td>\n",
       "    </tr>\n",
       "  </tbody>\n",
       "</table>\n",
       "</div>"
      ],
      "text/plain": [
       "        Age     class-worker  education marital-status  \\\n",
       "551482   46     Private-prof   bachelor        Married   \n",
       "822324   29     Private-prof     HSgrad  Never-married   \n",
       "759901   55  Private-nonprof  associate        Married   \n",
       "550813   22     Private-prof     HSgrad  Never-married   \n",
       "526832   24     Private-prof   bachelor  Never-married   \n",
       "\n",
       "                                               occupation  \\\n",
       "551482           SAL-Sales And Related Workers, All Other   \n",
       "822324  MGR-Transportation, Storage, And Distribution ...   \n",
       "759901                         MED-Respiratory Therapists   \n",
       "550813  RPR-Bus And Truck Mechanics And Diesel Engine ...   \n",
       "526832                 SCI-Physical Scientists, All Other   \n",
       "\n",
       "                  relationship            race   sex  extra-income  \\\n",
       "551482                     ref     white-alone  male       27000.0   \n",
       "822324       unmarried-partner     white-alone  male           0.0   \n",
       "759901                     ref     white-alone  male           0.0   \n",
       "550813                     ref     white-alone  male           0.0   \n",
       "526832  noninstitutional-group  black-aa-alone  male           0.0   \n",
       "\n",
       "        hours-per-week    place-of-birth  \n",
       "551482            40.0     California/CA  \n",
       "822324            45.0       Michigan/MI  \n",
       "759901            40.0        Indiana/IN  \n",
       "550813            40.0  West Virginia/WV  \n",
       "526832            15.0            Uganda  "
      ]
     },
     "execution_count": 22,
     "metadata": {},
     "output_type": "execute_result"
    }
   ],
   "source": [
    "df_test_data.head()"
   ]
  },
  {
   "cell_type": "markdown",
   "metadata": {},
   "source": [
    "### Pre-process categorical variables"
   ]
  },
  {
   "cell_type": "code",
   "execution_count": 23,
   "metadata": {},
   "outputs": [],
   "source": [
    "cat_var = ['class-worker', 'education', 'marital-status', 'occupation', 'relationship', 'race', 'sex', 'place-of-birth']\n",
    "for f in cat_var:\n",
    "    enc = preprocessing.LabelEncoder()\n",
    "    df_train_data[f] = enc.fit_transform(df_train_data[f])\n",
    "    df_test_data[f] = enc.transform(df_test_data[f])"
   ]
  },
  {
   "cell_type": "code",
   "execution_count": 24,
   "metadata": {},
   "outputs": [],
   "source": [
    "scaler = preprocessing.StandardScaler()\n",
    "df_train_data = pd.DataFrame(scaler.fit_transform(df_train_data), columns = df_train_data.columns)\n",
    "df_test_data = pd.DataFrame(scaler.transform(df_test_data), columns = df_train_data.columns)"
   ]
  },
  {
   "cell_type": "markdown",
   "metadata": {},
   "source": [
    "## Train Models"
   ]
  },
  {
   "cell_type": "markdown",
   "metadata": {},
   "source": [
    "### K-Nearest Neighbors"
   ]
  },
  {
   "cell_type": "code",
   "execution_count": 25,
   "metadata": {},
   "outputs": [],
   "source": [
    "results = []\n",
    "for k in [1, 2, 3, 4, 5, 6, 7, 8, 9]:\n",
    "    knn_model = KNeighborsClassifier(n_neighbors=k)\n",
    "    knn_model.fit(df_train_data, df_train_labels)\n",
    "    acc = knn_model.score(df_test_data, df_test_labels)\n",
    "    results.append([k, acc])"
   ]
  },
  {
   "cell_type": "code",
   "execution_count": 26,
   "metadata": {},
   "outputs": [
    {
     "data": {
      "text/plain": [
       "[[1, 0.72543],\n",
       " [2, 0.70565],\n",
       " [3, 0.74859],\n",
       " [4, 0.74088],\n",
       " [5, 0.758475],\n",
       " [6, 0.752005],\n",
       " [7, 0.762785],\n",
       " [8, 0.758965],\n",
       " [9, 0.765175]]"
      ]
     },
     "execution_count": 26,
     "metadata": {},
     "output_type": "execute_result"
    }
   ],
   "source": [
    "results"
   ]
  },
  {
   "cell_type": "markdown",
   "metadata": {},
   "source": [
    "### Bernoulli NB"
   ]
  },
  {
   "cell_type": "code",
   "execution_count": 27,
   "metadata": {},
   "outputs": [],
   "source": [
    "results = []\n",
    "for a in [0.0, 0.0001, 0.001, 0.01, 0.1, 0.5, 1.0, 2.0, 10.0, 100.0]:\n",
    "  bnb_model = BernoulliNB(alpha=a)\n",
    "  bnb_model.fit(df_train_data, df_train_labels)\n",
    "  acc = bnb_model.score(df_test_data, df_test_labels)\n",
    "  results.append([a, acc])"
   ]
  },
  {
   "cell_type": "code",
   "execution_count": 28,
   "metadata": {},
   "outputs": [
    {
     "data": {
      "text/plain": [
       "[[0.0, 0.70936],\n",
       " [0.0001, 0.70936],\n",
       " [0.001, 0.70936],\n",
       " [0.01, 0.70936],\n",
       " [0.1, 0.70936],\n",
       " [0.5, 0.70936],\n",
       " [1.0, 0.70936],\n",
       " [2.0, 0.70936],\n",
       " [10.0, 0.70936],\n",
       " [100.0, 0.709275]]"
      ]
     },
     "execution_count": 28,
     "metadata": {},
     "output_type": "execute_result"
    }
   ],
   "source": [
    "results"
   ]
  },
  {
   "cell_type": "markdown",
   "metadata": {},
   "source": [
    "### Linear Regression"
   ]
  },
  {
   "cell_type": "code",
   "execution_count": 29,
   "metadata": {},
   "outputs": [],
   "source": [
    "df_train_label_dummy = pd.get_dummies(df_train_labels['income'], prefix='income')\n",
    "df_test_label_dummy = pd.get_dummies(df_test_labels['income'], prefix='income')"
   ]
  },
  {
   "cell_type": "code",
   "execution_count": 30,
   "metadata": {},
   "outputs": [
    {
     "data": {
      "text/plain": [
       "LinearRegression(copy_X=True, fit_intercept=True, n_jobs=None, normalize=False)"
      ]
     },
     "execution_count": 30,
     "metadata": {},
     "output_type": "execute_result"
    }
   ],
   "source": [
    "linear_model = LinearRegression()\n",
    "linear_model.fit(df_train_data, df_train_label_dummy)"
   ]
  },
  {
   "cell_type": "code",
   "execution_count": 31,
   "metadata": {},
   "outputs": [
    {
     "data": {
      "text/plain": [
       "0.207547285869451"
      ]
     },
     "execution_count": 31,
     "metadata": {},
     "output_type": "execute_result"
    }
   ],
   "source": [
    "lm_predicted = linear_model.predict(df_test_data)\n",
    "r2 = linear_model.score(df_test_data, df_test_label_dummy)\n",
    "r2"
   ]
  },
  {
   "cell_type": "code",
   "execution_count": 32,
   "metadata": {},
   "outputs": [],
   "source": [
    "def get_linear_model_accuracy(predicted, actual):\n",
    "    df_predicted = pd.DataFrame(columns = actual.columns)\n",
    "    results = []\n",
    "    for i in range(len(predicted)):\n",
    "        it = predicted[i]\n",
    "        add = [0, 0]\n",
    "        add[it.argmax()] = 1\n",
    "        df_predicted.loc[i] = add\n",
    "  \n",
    "    for r in range(len(df_predicted)):\n",
    "        results.append(np.array_equal(df_predicted.iloc[r].values, actual.iloc[r].values))\n",
    "  \n",
    "    return(results.count(True) / len(results))"
   ]
  },
  {
   "cell_type": "code",
   "execution_count": 33,
   "metadata": {},
   "outputs": [
    {
     "data": {
      "text/plain": [
       "0.714205"
      ]
     },
     "execution_count": 33,
     "metadata": {},
     "output_type": "execute_result"
    }
   ],
   "source": [
    "get_linear_model_accuracy(lm_predicted, df_test_label_dummy)"
   ]
  },
  {
   "cell_type": "markdown",
   "metadata": {},
   "source": [
    "### Logistic Regression"
   ]
  },
  {
   "cell_type": "code",
   "execution_count": 34,
   "metadata": {},
   "outputs": [],
   "source": [
    "results = []\n",
    "for c in [0.0001, 0.001, 0.01, 0.1, 0.5, 1.0, 2.0, 10.0, 100.0]:\n",
    "    log_model = LogisticRegression(C=c)\n",
    "    log_model.fit(df_train_data, df_train_labels)\n",
    "    acc = log_model.score(df_test_data, df_test_labels)\n",
    "    results.append([c, acc])"
   ]
  },
  {
   "cell_type": "code",
   "execution_count": 35,
   "metadata": {},
   "outputs": [
    {
     "data": {
      "text/plain": [
       "[[0.0001, 0.718095],\n",
       " [0.001, 0.721995],\n",
       " [0.01, 0.722795],\n",
       " [0.1, 0.722865],\n",
       " [0.5, 0.72287],\n",
       " [1.0, 0.72287],\n",
       " [2.0, 0.722865],\n",
       " [10.0, 0.722865],\n",
       " [100.0, 0.722865]]"
      ]
     },
     "execution_count": 35,
     "metadata": {},
     "output_type": "execute_result"
    }
   ],
   "source": [
    "results"
   ]
  },
  {
   "cell_type": "code",
   "execution_count": null,
   "metadata": {},
   "outputs": [],
   "source": []
  }
 ],
 "metadata": {
  "kernelspec": {
   "display_name": "Python 3",
   "language": "python",
   "name": "python3"
  },
  "language_info": {
   "codemirror_mode": {
    "name": "ipython",
    "version": 3
   },
   "file_extension": ".py",
   "mimetype": "text/x-python",
   "name": "python",
   "nbconvert_exporter": "python",
   "pygments_lexer": "ipython3",
   "version": "3.7.6"
  }
 },
 "nbformat": 4,
 "nbformat_minor": 4
}
