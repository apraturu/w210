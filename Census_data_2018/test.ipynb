{
 "cells": [
  {
   "cell_type": "code",
   "execution_count": 21,
   "metadata": {},
   "outputs": [
    {
     "name": "stderr",
     "output_type": "stream",
     "text": [
      "wandb: WARNING Calling wandb.login() after wandb.init() has no effect.\n"
     ]
    },
    {
     "data": {
      "text/html": [
       "<br/>Waiting for W&B process to finish, PID 25406<br/>Program ended successfully."
      ],
      "text/plain": [
       "<IPython.core.display.HTML object>"
      ]
     },
     "metadata": {},
     "output_type": "display_data"
    },
    {
     "data": {
      "application/vnd.jupyter.widget-view+json": {
       "model_id": "",
       "version_major": 2,
       "version_minor": 0
      },
      "text/plain": [
       "VBox(children=(Label(value=' 0.07MB of 0.07MB uploaded (0.00MB deduped)\\r'), FloatProgress(value=1.0, max=1.0)…"
      ]
     },
     "metadata": {},
     "output_type": "display_data"
    },
    {
     "data": {
      "text/html": [
       "Find user logs for this run at: <code>wandb/run-20201024_183321-1c5i9tr5/logs/debug.log</code>"
      ],
      "text/plain": [
       "<IPython.core.display.HTML object>"
      ]
     },
     "metadata": {},
     "output_type": "display_data"
    },
    {
     "data": {
      "text/html": [
       "Find internal logs for this run at: <code>wandb/run-20201024_183321-1c5i9tr5/logs/debug-internal.log</code>"
      ],
      "text/plain": [
       "<IPython.core.display.HTML object>"
      ]
     },
     "metadata": {},
     "output_type": "display_data"
    },
    {
     "data": {
      "text/html": [
       "<h3>Run summary:</h3><br/><style>\n",
       "    table.wandb td:nth-child(1) { padding: 0 10px; text-align: right }\n",
       "    </style><table class=\"wandb\">\n",
       "<tr><td>_step</td><td>4</td></tr><tr><td>_runtime</td><td>352</td></tr><tr><td>_timestamp</td><td>1603579153</td></tr></table>"
      ],
      "text/plain": [
       "<IPython.core.display.HTML object>"
      ]
     },
     "metadata": {},
     "output_type": "display_data"
    },
    {
     "data": {
      "text/html": [
       "<h3>Run history:</h3><br/><style>\n",
       "    table.wandb td:nth-child(1) { padding: 0 10px; text-align: right }\n",
       "    </style><table class=\"wandb\">\n",
       "<tr><td>_step</td><td>▁▃▅▆█</td></tr><tr><td>_runtime</td><td>▁▁▁▁█</td></tr><tr><td>_timestamp</td><td>▁▁▁▁█</td></tr></table><br/>"
      ],
      "text/plain": [
       "<IPython.core.display.HTML object>"
      ]
     },
     "metadata": {},
     "output_type": "display_data"
    },
    {
     "data": {
      "text/html": [
       "Synced 5 W&B file(s), 5 media file(s), 0 artifact file(s) and 0 other file(s)"
      ],
      "text/plain": [
       "<IPython.core.display.HTML object>"
      ]
     },
     "metadata": {},
     "output_type": "display_data"
    },
    {
     "data": {
      "text/html": [
       "\n",
       "                    <br/>Synced <strong style=\"color:#cdcd00\">silvery-puddle-1</strong>: <a href=\"https://wandb.ai/apraturu/sklearn/runs/1c5i9tr5\" target=\"_blank\">https://wandb.ai/apraturu/sklearn/runs/1c5i9tr5</a><br/>\n",
       "                "
      ],
      "text/plain": [
       "<IPython.core.display.HTML object>"
      ]
     },
     "metadata": {},
     "output_type": "display_data"
    },
    {
     "data": {
      "text/html": [
       "\n",
       "                Tracking run with wandb version 0.10.8<br/>\n",
       "                Syncing run <strong style=\"color:#cdcd00\">apricot-wildflower-2</strong> to <a href=\"https://wandb.ai\" target=\"_blank\">Weights & Biases</a> <a href=\"https://docs.wandb.com/integrations/jupyter.html\" target=\"_blank\">(Documentation)</a>.<br/>\n",
       "                Project page: <a href=\"https://wandb.ai/apraturu/sklearn\" target=\"_blank\">https://wandb.ai/apraturu/sklearn</a><br/>\n",
       "                Run page: <a href=\"https://wandb.ai/apraturu/sklearn/runs/qtcrvzm8\" target=\"_blank\">https://wandb.ai/apraturu/sklearn/runs/qtcrvzm8</a><br/>\n",
       "                Run data is saved locally in <code>wandb/run-20201024_184547-qtcrvzm8</code><br/><br/>\n",
       "            "
      ],
      "text/plain": [
       "<IPython.core.display.HTML object>"
      ]
     },
     "metadata": {},
     "output_type": "display_data"
    },
    {
     "data": {
      "text/html": [
       "<h1>Run(qtcrvzm8)</h1><p></p><iframe src=\"https://wandb.ai/apraturu/sklearn/runs/qtcrvzm8\" style=\"border:none;width:100%;height:400px\"></iframe>"
      ],
      "text/plain": [
       "<wandb.sdk.wandb_run.Run at 0x7ff9a2e1bd50>"
      ]
     },
     "execution_count": 21,
     "metadata": {},
     "output_type": "execute_result"
    }
   ],
   "source": [
    "# !pip install wandb -qq\n",
    "from sklearn.datasets import load_boston\n",
    "from sklearn.model_selection import train_test_split\n",
    "from sklearn.ensemble import RandomForestClassifier\n",
    "from sklearn.svm import SVC\n",
    "from sklearn.linear_model import LinearRegression\n",
    "from sklearn.linear_model import Ridge\n",
    "from sklearn.tree import DecisionTreeClassifier\n",
    "import matplotlib.pyplot as plt\n",
    "import pandas as pd\n",
    "import wandb\n",
    "from sklearn.datasets import load_iris\n",
    "wandb.init(project=\"sklearn\")\n"
   ]
  },
  {
   "cell_type": "code",
   "execution_count": 22,
   "metadata": {},
   "outputs": [],
   "source": [
    "# Load data\n",
    "iris = load_iris()\n",
    "X = iris.data\n",
    "y = iris.target\n",
    "labels = iris.target_names\n",
    "features = iris.feature_names"
   ]
  },
  {
   "cell_type": "code",
   "execution_count": 29,
   "metadata": {},
   "outputs": [
    {
     "data": {
      "text/plain": [
       "list"
      ]
     },
     "execution_count": 29,
     "metadata": {},
     "output_type": "execute_result"
    }
   ],
   "source": [
    "type(features)"
   ]
  },
  {
   "cell_type": "code",
   "execution_count": 15,
   "metadata": {},
   "outputs": [],
   "source": [
    "X_train, X_test, y_train, y_test = train_test_split(X, y, test_size=0.2)"
   ]
  },
  {
   "cell_type": "code",
   "execution_count": 16,
   "metadata": {},
   "outputs": [],
   "source": [
    "# Train model, get predictions\n",
    "reg = Ridge()\n",
    "reg.fit(X, y)\n",
    "y_pred = reg.predict(X_test)"
   ]
  },
  {
   "cell_type": "code",
   "execution_count": 19,
   "metadata": {},
   "outputs": [
    {
     "data": {
      "text/plain": [
       "array([25.64526212, 32.94788467, 28.34921822, 28.13303501, 12.29258533,\n",
       "       35.85691003, 32.61775495, 14.08563895, 34.78426292,  9.06743846,\n",
       "       27.36972148, 25.46642115, 35.33431489, 28.24553988, 30.46881837,\n",
       "       25.2080971 , 40.745516  ,  6.42332067, 41.81114966, 34.37272783,\n",
       "       24.66526613, 28.69604563, 20.08205861, 17.5483317 , 36.89209418,\n",
       "       16.74054381, 24.90805019,  5.6772214 , 22.27154189, 27.92757   ,\n",
       "       24.10242763, 34.404105  ,  9.85363597, 41.45680553,  2.9864527 ,\n",
       "       14.12916481,  6.58001565, 17.37193075, 18.92453713,  0.8138044 ,\n",
       "       25.33449757, 27.01627565, 19.7779414 , 24.80547336, 31.84815122,\n",
       "       31.27284372,  0.40594821, 35.65184875, 23.58456381, 22.16670316,\n",
       "       20.91411263, 28.91100981, 23.02087979, 22.76179825, 17.89389942,\n",
       "       31.7596205 , 24.393251  , 24.56019734, 19.89571627, 10.98863632,\n",
       "       22.88063513, 30.19359472, 33.12483431, 22.57347501, 28.04625701,\n",
       "       24.43993099, 29.49113764, 18.60660466, 11.53723803, 13.25742201,\n",
       "       33.42417844, 38.16890048, 16.73759076, 23.62325842, 34.44042267,\n",
       "       28.19595613, 20.7935798 , 17.60436025, 33.13255864, 23.86035931,\n",
       "       32.08719489, 15.8318979 , 20.02619643, 23.55324461, 22.19401005,\n",
       "       22.23722091, 20.34915937, 29.26117901, 16.58559074, 23.15802921,\n",
       "       35.03322494, 19.58357147, 20.12926592, 10.95979707,  9.40343956,\n",
       "       26.81272788, 19.58856476, 25.49486313, 15.76906728, 31.54167324,\n",
       "       13.46871729, 15.86586401])"
      ]
     },
     "execution_count": 19,
     "metadata": {},
     "output_type": "execute_result"
    }
   ],
   "source": [
    "y_pred"
   ]
  },
  {
   "cell_type": "code",
   "execution_count": 17,
   "metadata": {},
   "outputs": [
    {
     "name": "stderr",
     "output_type": "stream",
     "text": [
      "wandb: \n",
      "wandb: Plotting Ridge.\n",
      "wandb: Logged summary metrics.\n",
      "wandb: Logged learning curve.\n",
      "wandb: Logged outlier candidates.\n",
      "wandb: WARNING wandb uses only the first 10000 datapoints to create the plots.\n",
      "wandb: Logged residuals.\n"
     ]
    }
   ],
   "source": [
    "\n",
    "# Visualize all regression plots\n",
    "wandb.sklearn.plot_regressor(reg, X_train, X_test, y_train, y_test, 'Ridge')\n"
   ]
  },
  {
   "cell_type": "code",
   "execution_count": 18,
   "metadata": {},
   "outputs": [],
   "source": [
    "\n",
    "# Make individual plots\n",
    "wandb.sklearn.plot_outlier_candidates(reg, X, y)"
   ]
  },
  {
   "cell_type": "code",
   "execution_count": null,
   "metadata": {},
   "outputs": [],
   "source": []
  }
 ],
 "metadata": {
  "kernelspec": {
   "display_name": "Python 3",
   "language": "python",
   "name": "python3"
  },
  "language_info": {
   "codemirror_mode": {
    "name": "ipython",
    "version": 3
   },
   "file_extension": ".py",
   "mimetype": "text/x-python",
   "name": "python",
   "nbconvert_exporter": "python",
   "pygments_lexer": "ipython3",
   "version": "3.7.6"
  }
 },
 "nbformat": 4,
 "nbformat_minor": 4
}
